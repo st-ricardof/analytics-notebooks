{
 "cells": [
  {
   "cell_type": "code",
   "execution_count": 1,
   "id": "71c25975",
   "metadata": {},
   "outputs": [
    {
     "name": "stdout",
     "output_type": "stream",
     "text": [
      "Defaulting to user installation because normal site-packages is not writeable\n",
      "Requirement already satisfied: python-docx in /home/ricardo/.local/lib/python3.8/site-packages (0.8.11)\n",
      "Requirement already satisfied: lxml>=2.3.2 in /usr/lib/python3/dist-packages (from python-docx) (4.5.0)\n",
      "--- Logging error ---\n",
      "Traceback (most recent call last):\n",
      "  File \"/usr/local/lib/python3.8/dist-packages/pip/_internal/utils/logging.py\", line 177, in emit\n",
      "    self.console.print(renderable, overflow=\"ignore\", crop=False, style=style)\n",
      "  File \"/usr/local/lib/python3.8/dist-packages/pip/_vendor/rich/console.py\", line 1752, in print\n",
      "    extend(render(renderable, render_options))\n",
      "  File \"/usr/local/lib/python3.8/dist-packages/pip/_vendor/rich/console.py\", line 1390, in render\n",
      "    for render_output in iter_render:\n",
      "  File \"/usr/local/lib/python3.8/dist-packages/pip/_internal/utils/logging.py\", line 134, in __rich_console__\n",
      "    for line in lines:\n",
      "  File \"/usr/local/lib/python3.8/dist-packages/pip/_vendor/rich/segment.py\", line 245, in split_lines\n",
      "    for segment in segments:\n",
      "  File \"/usr/local/lib/python3.8/dist-packages/pip/_vendor/rich/console.py\", line 1368, in render\n",
      "    renderable = rich_cast(renderable)\n",
      "  File \"/usr/local/lib/python3.8/dist-packages/pip/_vendor/rich/protocol.py\", line 36, in rich_cast\n",
      "    renderable = cast_method()\n",
      "  File \"/usr/local/lib/python3.8/dist-packages/pip/_internal/self_outdated_check.py\", line 130, in __rich__\n",
      "    pip_cmd = get_best_invocation_for_this_pip()\n",
      "  File \"/usr/local/lib/python3.8/dist-packages/pip/_internal/utils/entrypoints.py\", line 58, in get_best_invocation_for_this_pip\n",
      "    if found_executable and os.path.samefile(\n",
      "  File \"/usr/lib/python3.8/genericpath.py\", line 101, in samefile\n",
      "    s2 = os.stat(f2)\n",
      "FileNotFoundError: [Errno 2] No such file or directory: '/usr/bin/pip3.8'\n",
      "Call stack:\n",
      "  File \"/usr/lib/python3.8/runpy.py\", line 194, in _run_module_as_main\n",
      "    return _run_code(code, main_globals, None,\n",
      "  File \"/usr/lib/python3.8/runpy.py\", line 87, in _run_code\n",
      "    exec(code, run_globals)\n",
      "  File \"/usr/local/lib/python3.8/dist-packages/pip/__main__.py\", line 31, in <module>\n",
      "    sys.exit(_main())\n",
      "  File \"/usr/local/lib/python3.8/dist-packages/pip/_internal/cli/main.py\", line 70, in main\n",
      "    return command.main(cmd_args)\n",
      "  File \"/usr/local/lib/python3.8/dist-packages/pip/_internal/cli/base_command.py\", line 101, in main\n",
      "    return self._main(args)\n",
      "  File \"/usr/local/lib/python3.8/dist-packages/pip/_internal/cli/base_command.py\", line 223, in _main\n",
      "    self.handle_pip_version_check(options)\n",
      "  File \"/usr/local/lib/python3.8/dist-packages/pip/_internal/cli/req_command.py\", line 148, in handle_pip_version_check\n",
      "    pip_self_version_check(session, options)\n",
      "  File \"/usr/local/lib/python3.8/dist-packages/pip/_internal/self_outdated_check.py\", line 237, in pip_self_version_check\n",
      "    logger.info(\"[present-rich] %s\", upgrade_prompt)\n",
      "  File \"/usr/lib/python3.8/logging/__init__.py\", line 1446, in info\n",
      "    self._log(INFO, msg, args, **kwargs)\n",
      "  File \"/usr/lib/python3.8/logging/__init__.py\", line 1589, in _log\n",
      "    self.handle(record)\n",
      "  File \"/usr/lib/python3.8/logging/__init__.py\", line 1599, in handle\n",
      "    self.callHandlers(record)\n",
      "  File \"/usr/lib/python3.8/logging/__init__.py\", line 1661, in callHandlers\n",
      "    hdlr.handle(record)\n",
      "  File \"/usr/lib/python3.8/logging/__init__.py\", line 954, in handle\n",
      "    self.emit(record)\n",
      "  File \"/usr/local/lib/python3.8/dist-packages/pip/_internal/utils/logging.py\", line 179, in emit\n",
      "    self.handleError(record)\n",
      "Message: '[present-rich] %s'\n",
      "Arguments: (UpgradePrompt(old='22.1.2', new='22.2.2'),)\n",
      "Note: you may need to restart the kernel to use updated packages.\n"
     ]
    }
   ],
   "source": [
    "pip install python-docx"
   ]
  },
  {
   "cell_type": "code",
   "execution_count": 2,
   "id": "22af3f43",
   "metadata": {},
   "outputs": [],
   "source": [
    "import docx\n",
    "from docx.shared import RGBColor"
   ]
  },
  {
   "cell_type": "code",
   "execution_count": 3,
   "id": "cdd0f419",
   "metadata": {},
   "outputs": [],
   "source": [
    "doc = docx.Document('../files/LinPesq_todas.docx')"
   ]
  },
  {
   "cell_type": "code",
   "execution_count": 4,
   "id": "35d1730e",
   "metadata": {},
   "outputs": [
    {
     "data": {
      "text/plain": [
       "2251"
      ]
     },
     "execution_count": 4,
     "metadata": {},
     "output_type": "execute_result"
    }
   ],
   "source": [
    "len(doc.paragraphs)"
   ]
  },
  {
   "cell_type": "code",
   "execution_count": 5,
   "id": "11cbba4f",
   "metadata": {},
   "outputs": [
    {
     "data": {
      "text/plain": [
       "'DEPARTAMENTO DE ANTROPOLOGIA SOCIAL'"
      ]
     },
     "execution_count": 5,
     "metadata": {},
     "output_type": "execute_result"
    }
   ],
   "source": [
    "doc.paragraphs[0].text"
   ]
  },
  {
   "cell_type": "code",
   "execution_count": 7,
   "id": "b28b27c0",
   "metadata": {},
   "outputs": [
    {
     "data": {
      "text/plain": [
       "1"
      ]
     },
     "execution_count": 7,
     "metadata": {},
     "output_type": "execute_result"
    }
   ],
   "source": [
    "len(doc.paragraphs[0].runs)"
   ]
  },
  {
   "cell_type": "code",
   "execution_count": 24,
   "id": "b9815fb2",
   "metadata": {},
   "outputs": [
    {
     "data": {
      "text/plain": [
       "True"
      ]
     },
     "execution_count": 24,
     "metadata": {},
     "output_type": "execute_result"
    }
   ],
   "source": [
    "doc.paragraphs[0].runs[0].font.color.rgb == RGBColor(0x00, 0x00, 0xff) #Blue"
   ]
  },
  {
   "cell_type": "code",
   "execution_count": 42,
   "id": "fcace643",
   "metadata": {},
   "outputs": [
    {
     "data": {
      "text/plain": [
       "True"
      ]
     },
     "execution_count": 42,
     "metadata": {},
     "output_type": "execute_result"
    }
   ],
   "source": [
    "doc.paragraphs[2].runs[0].font.bold"
   ]
  },
  {
   "cell_type": "code",
   "execution_count": 51,
   "id": "bcfb88d3",
   "metadata": {},
   "outputs": [
    {
     "data": {
      "text/plain": [
       "0"
      ]
     },
     "execution_count": 51,
     "metadata": {},
     "output_type": "execute_result"
    }
   ],
   "source": [
    "len(doc.paragraphs[1].text)"
   ]
  },
  {
   "cell_type": "code",
   "execution_count": 4,
   "id": "b7db6a64",
   "metadata": {
    "scrolled": true
   },
   "outputs": [],
   "source": [
    "items = {}\n",
    "area = ''\n",
    "docente = ''\n",
    "for p in doc.paragraphs:\n",
    "    if not len(p.text):\n",
    "        continue\n",
    "    #print('TESTE',p.text )\n",
    "    if(p.runs[0].font.color.rgb == RGBColor(0x00, 0x00, 0xff)): #Blue\n",
    "        area = p.text\n",
    "        items[area] = {}\n",
    "    elif(p.runs[0].font.bold):\n",
    "        docente = p.text.replace(\":\", \"\")\n",
    "        items[area][docente] = []\n",
    "    else:\n",
    "        items[area][docente].append(p.text.replace(\";\", \"\").replace(\"'\", \"\").replace(\",\", \"\"))\n",
    "        "
   ]
  },
  {
   "cell_type": "code",
   "execution_count": 5,
   "id": "cd8353c1",
   "metadata": {},
   "outputs": [],
   "source": [
    "tabelas = {}\n",
    "for i in items:\n",
    "    tabelas[i] = []\n",
    "    for docente in items[i]:\n",
    "        tabela = \"\"\"\n",
    "        <table>\n",
    "            <thead>\n",
    "                <tr>\n",
    "                    <th scope=\"col\">\"\"\"+docente+\"\"\"</th>\n",
    "                </tr>\n",
    "            </thead>\n",
    "            <tbody>\n",
    "        \"\"\"\n",
    "        for lp in items[i][docente]:\n",
    "            tabela += \"\"\"\n",
    "                <tr>\n",
    "                    <td>\"\"\"+lp+\"\"\"</td>\n",
    "                </tr>\n",
    "               \"\"\"\n",
    "\n",
    "        tabela += \"\"\"\n",
    "            </tbody>\n",
    "        </table>\n",
    "        \"\"\"\n",
    "        tabelas[i].append(tabela)\n",
    "\n"
   ]
  },
  {
   "cell_type": "code",
   "execution_count": 6,
   "id": "18bcbb88",
   "metadata": {},
   "outputs": [
    {
     "data": {
      "text/plain": [
       "dict_keys(['DEPARTAMENTO DE ANTROPOLOGIA SOCIAL', 'DEPARTAMENTO DE CIÊNCIA POLÍTICA', 'DEPARTAMENTO DE FILOSOFIA', 'DEPARTAMENTO DE HISTÓRIA', 'DEPARTAMENTO DE LETRAS CLÁSSICAS E VERNÁCULAS', 'Áreas:', 'FILOLOGIA E LÍNGUA PORTUGUESA:', 'FILOLOGIA ROMÂNICA:', 'LETRAS CLÁSSICAS:', 'Língua e literatura grega:', 'Língua e literatura latina:', 'LÍNGUA E LITERATURA SÂNSCRITA:', 'LÍNGUAS INDÍGENAS (Toponímia e tupi):', 'LITERATURA BRASILEIRA:', 'LITERATURA COMPARADA EM LÍNGUA PORTUGUESA:', 'LITERATURA INFANTIL E JUVENIL:', 'LITERATURAS AFRICANAS DE LÍNGUA PORTUGUESA:', 'ESTUDOS COMPARADOS DE LITERATURAS DE LÍNGUA PORTUGUESA:', 'LITERATURA PORTUGUESA:', 'DEPARTAMENTO DE LETRAS MODERNAS ', 'LÍNGUA E LITERATURA ALEMÃ:', 'LÍNGUA ESPANHOLA E LITERATURAS ESPANHOLA E HISPANO-AMERICANA:', 'ESTUDOS LINGUÍSTICOS, LITERÁRIOS E TRADUTOLÓGICOS EM FRANCÊS:', 'ESTUDOS LINGUÍSTICOS E LITERÁRIOS EM INGLÊS:', 'LÍNGUA E LITERATURA ITALIANA:', 'DEPARTAMENTO DE LETRAS ORIENTAIS', 'LÍNGUA E LITERATURA ÁRABE:', 'LÍNGUA E LITERATURA ARMÊNIA:', 'LÍNGUA E LITERATURA CHINESA:', 'LÍNGUA E LITERATURA COREANA:', 'LÍNGUA E LITERATURA HEBRAICA:', 'LÍNGUA E LITERATURA JAPONESA:', 'LÍNGUA E LITERATURA RUSSA:', 'DEPARTAMENTO DE LINGUÍSTICA', 'DEPARTAMENTO DE SOCIOLOGIA', 'DEPARTAMENTO DE TEORIA LITERÁRIA E LITERATURA COMPARADA', 'DEPARTAMENTO DE GEOGRAFIA'])"
      ]
     },
     "execution_count": 6,
     "metadata": {},
     "output_type": "execute_result"
    }
   ],
   "source": [
    "tabelas.keys()"
   ]
  },
  {
   "cell_type": "code",
   "execution_count": 14,
   "id": "6830931c",
   "metadata": {},
   "outputs": [],
   "source": [
    "\n",
    "\n",
    "Text to copy\n"
   ]
  },
  {
   "cell_type": "code",
   "execution_count": 48,
   "id": "1928db5a",
   "metadata": {},
   "outputs": [
    {
     "ename": "PyperclipException",
     "evalue": "\n    Pyperclip could not find a copy/paste mechanism for your system.\n    For more information, please visit https://pyperclip.readthedocs.io/en/latest/index.html#not-implemented-error ",
     "output_type": "error",
     "traceback": [
      "\u001b[0;31m---------------------------------------------------------------------------\u001b[0m",
      "\u001b[0;31mPyperclipException\u001b[0m                        Traceback (most recent call last)",
      "Input \u001b[0;32mIn [48]\u001b[0m, in \u001b[0;36m<cell line: 1>\u001b[0;34m()\u001b[0m\n\u001b[0;32m----> 1\u001b[0m \u001b[43mpyperclip\u001b[49m\u001b[38;5;241;43m.\u001b[39;49m\u001b[43mcopy\u001b[49m\u001b[43m(\u001b[49m\u001b[38;5;124;43m'\u001b[39;49m\u001b[38;5;124;43mThe text to be copied to the clipboard.\u001b[39;49m\u001b[38;5;124;43m'\u001b[39;49m\u001b[43m)\u001b[49m\n",
      "File \u001b[0;32m~/.local/lib/python3.8/site-packages/pyperclip/__init__.py:336\u001b[0m, in \u001b[0;36minit_no_clipboard.<locals>.ClipboardUnavailable.__call__\u001b[0;34m(self, *args, **kwargs)\u001b[0m\n\u001b[1;32m    335\u001b[0m \u001b[38;5;28;01mdef\u001b[39;00m \u001b[38;5;21m__call__\u001b[39m(\u001b[38;5;28mself\u001b[39m, \u001b[38;5;241m*\u001b[39margs, \u001b[38;5;241m*\u001b[39m\u001b[38;5;241m*\u001b[39mkwargs):\n\u001b[0;32m--> 336\u001b[0m     \u001b[38;5;28;01mraise\u001b[39;00m PyperclipException(EXCEPT_MSG)\n",
      "\u001b[0;31mPyperclipException\u001b[0m: \n    Pyperclip could not find a copy/paste mechanism for your system.\n    For more information, please visit https://pyperclip.readthedocs.io/en/latest/index.html#not-implemented-error "
     ]
    }
   ],
   "source": [
    "pyperclip.copy('The text to be copied to the clipboard.')"
   ]
  },
  {
   "cell_type": "code",
   "execution_count": 18,
   "id": "7ff55323",
   "metadata": {
    "scrolled": true
   },
   "outputs": [
    {
     "name": "stdout",
     "output_type": "stream",
     "text": [
      "\n",
      "        <table>\n",
      "            <thead>\n",
      "                <tr>\n",
      "                    <th scope=\"col\">Adriana Zavaglia </th>\n",
      "                </tr>\n",
      "            </thead>\n",
      "            <tbody>\n",
      "        \n",
      "                <tr>\n",
      "                    <td>Lexicologia e Lexicografia</td>\n",
      "                </tr>\n",
      "               \n",
      "                <tr>\n",
      "                    <td>Terminologia</td>\n",
      "                </tr>\n",
      "               \n",
      "                <tr>\n",
      "                    <td>Teoria das Operações Enunciativas</td>\n",
      "                </tr>\n",
      "               \n",
      "                <tr>\n",
      "                    <td>Tradução e condicionantes culturais</td>\n",
      "                </tr>\n",
      "               \n",
      "            </tbody>\n",
      "        </table>\n",
      "         \n",
      "\n",
      "\n",
      "\n",
      "\n",
      "        <table>\n",
      "            <thead>\n",
      "                <tr>\n",
      "                    <th scope=\"col\">Alexandre Bebiano de Almeida </th>\n",
      "                </tr>\n",
      "            </thead>\n",
      "            <tbody>\n",
      "        \n",
      "                <tr>\n",
      "                    <td>Brépols franco-brasileiro - Projeto temático financiado pela FAPESP</td>\n",
      "                </tr>\n",
      "               \n",
      "                <tr>\n",
      "                    <td>Laboratório do Manuscrito Literário - grupo de pesquisa</td>\n",
      "                </tr>\n",
      "               \n",
      "                <tr>\n",
      "                    <td>Relações França-Brasil</td>\n",
      "                </tr>\n",
      "               \n",
      "            </tbody>\n",
      "        </table>\n",
      "         \n",
      "\n",
      "\n",
      "\n",
      "\n",
      "        <table>\n",
      "            <thead>\n",
      "                <tr>\n",
      "                    <th scope=\"col\">Álvaro Silveira Faleiros </th>\n",
      "                </tr>\n",
      "            </thead>\n",
      "            <tbody>\n",
      "        \n",
      "                <tr>\n",
      "                    <td>Tradução: produtos e processos em contexto</td>\n",
      "                </tr>\n",
      "               \n",
      "                <tr>\n",
      "                    <td>Tradução e poética</td>\n",
      "                </tr>\n",
      "               \n",
      "            </tbody>\n",
      "        </table>\n",
      "         \n",
      "\n",
      "\n",
      "\n",
      "\n",
      "        <table>\n",
      "            <thead>\n",
      "                <tr>\n",
      "                    <th scope=\"col\">Caio Leal Messias</th>\n",
      "                </tr>\n",
      "            </thead>\n",
      "            <tbody>\n",
      "        \n",
      "                <tr>\n",
      "                    <td>Literatura francesa</td>\n",
      "                </tr>\n",
      "               \n",
      "            </tbody>\n",
      "        </table>\n",
      "         \n",
      "\n",
      "\n",
      "\n",
      "\n",
      "        <table>\n",
      "            <thead>\n",
      "                <tr>\n",
      "                    <th scope=\"col\">Claudia Consuelo Amigo Pino </th>\n",
      "                </tr>\n",
      "            </thead>\n",
      "            <tbody>\n",
      "        \n",
      "                <tr>\n",
      "                    <td>Estudos literários</td>\n",
      "                </tr>\n",
      "               \n",
      "            </tbody>\n",
      "        </table>\n",
      "         \n",
      "\n",
      "\n",
      "\n",
      "\n",
      "        <table>\n",
      "            <thead>\n",
      "                <tr>\n",
      "                    <th scope=\"col\">Cristina Moerbeck Casadei Pietraroia </th>\n",
      "                </tr>\n",
      "            </thead>\n",
      "            <tbody>\n",
      "        \n",
      "                <tr>\n",
      "                    <td>Aquisição e didática do Francês Língua Estrangeira</td>\n",
      "                </tr>\n",
      "               \n",
      "            </tbody>\n",
      "        </table>\n",
      "         \n",
      "\n",
      "\n",
      "\n",
      "\n",
      "        <table>\n",
      "            <thead>\n",
      "                <tr>\n",
      "                    <th scope=\"col\">Eliane Gouvêa Lousada </th>\n",
      "                </tr>\n",
      "            </thead>\n",
      "            <tbody>\n",
      "        \n",
      "                <tr>\n",
      "                    <td>Formação contínua de professores / Formação de novos professores</td>\n",
      "                </tr>\n",
      "               \n",
      "                <tr>\n",
      "                    <td>Formação de novos professores</td>\n",
      "                </tr>\n",
      "               \n",
      "                <tr>\n",
      "                    <td>Estudos Linguísticos e Didáticos</td>\n",
      "                </tr>\n",
      "               \n",
      "                <tr>\n",
      "                    <td>Linguagem e trabalho</td>\n",
      "                </tr>\n",
      "               \n",
      "            </tbody>\n",
      "        </table>\n",
      "         \n",
      "\n",
      "\n",
      "\n",
      "\n",
      "        <table>\n",
      "            <thead>\n",
      "                <tr>\n",
      "                    <th scope=\"col\">Heloisa Brito de Albuquerque Costa </th>\n",
      "                </tr>\n",
      "            </thead>\n",
      "            <tbody>\n",
      "        \n",
      "                <tr>\n",
      "                    <td>Tecnologias da Informação e da Comunicação e o ensino de línguas (TIC)</td>\n",
      "                </tr>\n",
      "               \n",
      "                <tr>\n",
      "                    <td>Línguas estrangeiras culturas e interculturalidade</td>\n",
      "                </tr>\n",
      "               \n",
      "                <tr>\n",
      "                    <td>Ensino da língua francesa para Objetivo Específico (FOS) e Universitário (FOU)</td>\n",
      "                </tr>\n",
      "               \n",
      "            </tbody>\n",
      "        </table>\n",
      "         \n",
      "\n",
      "\n",
      "\n",
      "\n",
      "        <table>\n",
      "            <thead>\n",
      "                <tr>\n",
      "                    <th scope=\"col\">Lívia Miranda de Paulo</th>\n",
      "                </tr>\n",
      "            </thead>\n",
      "            <tbody>\n",
      "        \n",
      "                <tr>\n",
      "                    <td>Ensino-aprendizagem de línguas aparentadas por meio da abordagem plural da Intercompreensão em contexto universitário</td>\n",
      "                </tr>\n",
      "               \n",
      "            </tbody>\n",
      "        </table>\n",
      "         \n",
      "\n",
      "\n",
      "\n",
      "\n",
      "        <table>\n",
      "            <thead>\n",
      "                <tr>\n",
      "                    <th scope=\"col\">Paulo Roberto Massaro </th>\n",
      "                </tr>\n",
      "            </thead>\n",
      "            <tbody>\n",
      "        \n",
      "                <tr>\n",
      "                    <td>Estudos linguísticos e didáticos</td>\n",
      "                </tr>\n",
      "               \n",
      "            </tbody>\n",
      "        </table>\n",
      "         \n",
      "\n",
      "\n",
      "\n",
      "\n",
      "        <table>\n",
      "            <thead>\n",
      "                <tr>\n",
      "                    <th scope=\"col\">Véronique Marie Braun Dahlet</th>\n",
      "                </tr>\n",
      "            </thead>\n",
      "            <tbody>\n",
      "        \n",
      "                <tr>\n",
      "                    <td>Identidade e subjetividade </td>\n",
      "                </tr>\n",
      "               \n",
      "                <tr>\n",
      "                    <td>Línguas e percursos de vida</td>\n",
      "                </tr>\n",
      "               \n",
      "                <tr>\n",
      "                    <td>Enunciação e subjetividade nos discursos universitários</td>\n",
      "                </tr>\n",
      "               \n",
      "            </tbody>\n",
      "        </table>\n",
      "         \n",
      "\n",
      "\n",
      "\n"
     ]
    }
   ],
   "source": [
    "import pandas as pd\n",
    "text = ''\n",
    "for tabela in tabelas['ESTUDOS LINGUÍSTICOS, LITERÁRIOS E TRADUTOLÓGICOS EM FRANCÊS:']:\n",
    "    text += tabela + '\\n\\n\\n'\n",
    "    print(tabela, '\\n\\n\\n')\n",
    "    \n",
    "df=pd.DataFrame([text])\n",
    "df.to_clipboard(index=False,header=False)"
   ]
  },
  {
   "cell_type": "code",
   "execution_count": 117,
   "id": "d9994ba1",
   "metadata": {},
   "outputs": [
    {
     "data": {
      "text/html": [
       "\n",
       "        <table>\n",
       "            <thead>\n",
       "                <tr>\n",
       "                    <th scope=\"col\">Ana Claudia Duarte Rocha Marques</th>\n",
       "                </tr>\n",
       "            </thead>\n",
       "            <tbody>\n",
       "        \n",
       "                <tr>\n",
       "                    <td>'Poder e Diferença'</td>\n",
       "                </tr>\n",
       "               \n",
       "                <tr>\n",
       "                    <td>'Antropologia da Política'</td>\n",
       "                </tr>\n",
       "               \n",
       "            </tbody>\n",
       "        </table>\n",
       "        "
      ],
      "text/plain": [
       "<IPython.core.display.HTML object>"
      ]
     },
     "metadata": {},
     "output_type": "display_data"
    },
    {
     "data": {
      "text/html": [
       "\n",
       "        <table>\n",
       "            <thead>\n",
       "                <tr>\n",
       "                    <th scope=\"col\">Ana Lúcia Pastore Schritzmeyer </th>\n",
       "                </tr>\n",
       "            </thead>\n",
       "            <tbody>\n",
       "        \n",
       "                <tr>\n",
       "                    <td>'Direitos Humanos criminalidade urbana',</td>\n",
       "                </tr>\n",
       "               \n",
       "                <tr>\n",
       "                    <td>'Pesquisadora associada do GSIADI - Grupo Salamanca de Investigación de Antropología del Derecho de Iberoamerica',</td>\n",
       "                </tr>\n",
       "               \n",
       "            </tbody>\n",
       "        </table>\n",
       "        "
      ],
      "text/plain": [
       "<IPython.core.display.HTML object>"
      ]
     },
     "metadata": {},
     "output_type": "display_data"
    },
    {
     "data": {
      "text/html": [
       "\n",
       "        <table>\n",
       "            <thead>\n",
       "                <tr>\n",
       "                    <th scope=\"col\">Beatriz Perrone Moisés</th>\n",
       "                </tr>\n",
       "            </thead>\n",
       "            <tbody>\n",
       "        \n",
       "                <tr>\n",
       "                    <td>'Etnologia Indígena'</td>\n",
       "                </tr>\n",
       "               \n",
       "            </tbody>\n",
       "        </table>\n",
       "        "
      ],
      "text/plain": [
       "<IPython.core.display.HTML object>"
      ]
     },
     "metadata": {},
     "output_type": "display_data"
    },
    {
     "data": {
      "text/html": [
       "\n",
       "        <table>\n",
       "            <thead>\n",
       "                <tr>\n",
       "                    <th scope=\"col\">Fernanda Arêas Peixoto </th>\n",
       "                </tr>\n",
       "            </thead>\n",
       "            <tbody>\n",
       "        \n",
       "                <tr>\n",
       "                    <td>'História das ciências sociais no Brasil',</td>\n",
       "                </tr>\n",
       "               \n",
       "                <tr>\n",
       "                    <td>'Cultura e política',</td>\n",
       "                </tr>\n",
       "               \n",
       "                <tr>\n",
       "                    <td>'História intelectual',</td>\n",
       "                </tr>\n",
       "               \n",
       "                <tr>\n",
       "                    <td>'Cultura e imaginário urbanos',</td>\n",
       "                </tr>\n",
       "               \n",
       "                <tr>\n",
       "                    <td>'Antropologia das Formas Expressivas',</td>\n",
       "                </tr>\n",
       "               \n",
       "                <tr>\n",
       "                    <td>'Teoria, história e método da Antropologia'</td>\n",
       "                </tr>\n",
       "               \n",
       "            </tbody>\n",
       "        </table>\n",
       "        "
      ],
      "text/plain": [
       "<IPython.core.display.HTML object>"
      ]
     },
     "metadata": {},
     "output_type": "display_data"
    },
    {
     "data": {
      "text/html": [
       "\n",
       "        <table>\n",
       "            <thead>\n",
       "                <tr>\n",
       "                    <th scope=\"col\">Heitor Frúgoli Júnior</th>\n",
       "                </tr>\n",
       "            </thead>\n",
       "            <tbody>\n",
       "        \n",
       "                <tr>\n",
       "                    <td>'Estudos da realidade brasileira',</td>\n",
       "                </tr>\n",
       "               \n",
       "                <tr>\n",
       "                    <td>'Antropologia urbana'</td>\n",
       "                </tr>\n",
       "               \n",
       "            </tbody>\n",
       "        </table>\n",
       "        "
      ],
      "text/plain": [
       "<IPython.core.display.HTML object>"
      ]
     },
     "metadata": {},
     "output_type": "display_data"
    },
    {
     "data": {
      "text/html": [
       "\n",
       "        <table>\n",
       "            <thead>\n",
       "                <tr>\n",
       "                    <th scope=\"col\">Heloisa Buarque de Almeida' </th>\n",
       "                </tr>\n",
       "            </thead>\n",
       "            <tbody>\n",
       "        \n",
       "                <tr>\n",
       "                    <td>'Mídia',</td>\n",
       "                </tr>\n",
       "               \n",
       "                <tr>\n",
       "                    <td>'Marcadores sociais da diferença',</td>\n",
       "                </tr>\n",
       "               \n",
       "                <tr>\n",
       "                    <td>'Gênero',</td>\n",
       "                </tr>\n",
       "               \n",
       "                <tr>\n",
       "                    <td>'Cultura e Política</td>\n",
       "                </tr>\n",
       "               \n",
       "            </tbody>\n",
       "        </table>\n",
       "        "
      ],
      "text/plain": [
       "<IPython.core.display.HTML object>"
      ]
     },
     "metadata": {},
     "output_type": "display_data"
    },
    {
     "data": {
      "text/html": [
       "\n",
       "        <table>\n",
       "            <thead>\n",
       "                <tr>\n",
       "                    <th scope=\"col\">João Felipe Ferreira Gonçalves</th>\n",
       "                </tr>\n",
       "            </thead>\n",
       "            <tbody>\n",
       "        \n",
       "                <tr>\n",
       "                    <td>'Antropologia política'</td>\n",
       "                </tr>\n",
       "               \n",
       "                <tr>\n",
       "                    <td>'Antropologia urbana'</td>\n",
       "                </tr>\n",
       "               \n",
       "                <tr>\n",
       "                    <td>'Antropologias da história'</td>\n",
       "                </tr>\n",
       "               \n",
       "                <tr>\n",
       "                    <td>'Antropologia do espaço'</td>\n",
       "                </tr>\n",
       "               \n",
       "                <tr>\n",
       "                    <td>'Estudos pós-socialistas'</td>\n",
       "                </tr>\n",
       "               \n",
       "                <tr>\n",
       "                    <td>'Mundo afro-atlântico'</td>\n",
       "                </tr>\n",
       "               \n",
       "                <tr>\n",
       "                    <td>'América Hispânica e Caribe'</td>\n",
       "                </tr>\n",
       "               \n",
       "            </tbody>\n",
       "        </table>\n",
       "        "
      ],
      "text/plain": [
       "<IPython.core.display.HTML object>"
      ]
     },
     "metadata": {},
     "output_type": "display_data"
    },
    {
     "data": {
      "text/html": [
       "\n",
       "        <table>\n",
       "            <thead>\n",
       "                <tr>\n",
       "                    <th scope=\"col\">Júlio Assis Simões </th>\n",
       "                </tr>\n",
       "            </thead>\n",
       "            <tbody>\n",
       "        \n",
       "                <tr>\n",
       "                    <td>'Marcadores sociais da diferença'</td>\n",
       "                </tr>\n",
       "               \n",
       "                <tr>\n",
       "                    <td>'Política, direitos, violência e homossexualidade'</td>\n",
       "                </tr>\n",
       "               \n",
       "                <tr>\n",
       "                    <td>'NUMAS - Núcleo de Estudo dos Marcadores Sociais da Diferença'</td>\n",
       "                </tr>\n",
       "               \n",
       "                <tr>\n",
       "                    <td>'Relações entre raça, sexualidade e gênero em diferentes contextos locais e nacionais'</td>\n",
       "                </tr>\n",
       "               \n",
       "                <tr>\n",
       "                    <td>'Agências públicas e seus usuários'</td>\n",
       "                </tr>\n",
       "               \n",
       "                <tr>\n",
       "                    <td>'Perspectivas disciplinares e teoria feminista'</td>\n",
       "                </tr>\n",
       "               \n",
       "                <tr>\n",
       "                    <td>'Sexualidade'</td>\n",
       "                </tr>\n",
       "               \n",
       "                <tr>\n",
       "                    <td>'Gênero e Envelhecimento'</td>\n",
       "                </tr>\n",
       "               \n",
       "            </tbody>\n",
       "        </table>\n",
       "        "
      ],
      "text/plain": [
       "<IPython.core.display.HTML object>"
      ]
     },
     "metadata": {},
     "output_type": "display_data"
    },
    {
     "data": {
      "text/html": [
       "\n",
       "        <table>\n",
       "            <thead>\n",
       "                <tr>\n",
       "                    <th scope=\"col\">Laura Moutinho da Silva </th>\n",
       "                </tr>\n",
       "            </thead>\n",
       "            <tbody>\n",
       "        \n",
       "                <tr>\n",
       "                    <td>'Gênero, Sexualidade e Saúde'</td>\n",
       "                </tr>\n",
       "               \n",
       "                <tr>\n",
       "                    <td>'Populações Afro-Brasileiras e Africanas'</td>\n",
       "                </tr>\n",
       "               \n",
       "                <tr>\n",
       "                    <td>'Marcadores sociais da diferença'</td>\n",
       "                </tr>\n",
       "               \n",
       "                <tr>\n",
       "                    <td>'Antropologia das emoções e modos de diferenciação políticos e sociais'</td>\n",
       "                </tr>\n",
       "               \n",
       "                <tr>\n",
       "                    <td>'Antropologia da política e do direito'</td>\n",
       "                </tr>\n",
       "               \n",
       "                <tr>\n",
       "                    <td>'Poder e diferença'</td>\n",
       "                </tr>\n",
       "               \n",
       "            </tbody>\n",
       "        </table>\n",
       "        "
      ],
      "text/plain": [
       "<IPython.core.display.HTML object>"
      ]
     },
     "metadata": {},
     "output_type": "display_data"
    },
    {
     "data": {
      "text/html": [
       "\n",
       "        <table>\n",
       "            <thead>\n",
       "                <tr>\n",
       "                    <th scope=\"col\">Marcio Ferreira da Silva</th>\n",
       "                </tr>\n",
       "            </thead>\n",
       "            <tbody>\n",
       "        \n",
       "                <tr>\n",
       "                    <td> 'Estudos ameríndios'</td>\n",
       "                </tr>\n",
       "               \n",
       "            </tbody>\n",
       "        </table>\n",
       "        "
      ],
      "text/plain": [
       "<IPython.core.display.HTML object>"
      ]
     },
     "metadata": {},
     "output_type": "display_data"
    },
    {
     "data": {
      "text/html": [
       "\n",
       "        <table>\n",
       "            <thead>\n",
       "                <tr>\n",
       "                    <th scope=\"col\">Marina Vanzolini Figueiredo </th>\n",
       "                </tr>\n",
       "            </thead>\n",
       "            <tbody>\n",
       "        \n",
       "                <tr>\n",
       "                    <td>'Etnologia indígena e teoria antropológica'</td>\n",
       "                </tr>\n",
       "               \n",
       "            </tbody>\n",
       "        </table>\n",
       "        "
      ],
      "text/plain": [
       "<IPython.core.display.HTML object>"
      ]
     },
     "metadata": {},
     "output_type": "display_data"
    },
    {
     "data": {
      "text/html": [
       "\n",
       "        <table>\n",
       "            <thead>\n",
       "                <tr>\n",
       "                    <th scope=\"col\">Marta Rosa Amoroso </th>\n",
       "                </tr>\n",
       "            </thead>\n",
       "            <tbody>\n",
       "        \n",
       "                <tr>\n",
       "                    <td>'Missões Cristãs em Áreas Indígenas'</td>\n",
       "                </tr>\n",
       "               \n",
       "                <tr>\n",
       "                    <td>'Natureza e sociedade. Estética da produção dos conhecimentos e circuitos de troca dos povos indígenas e tradicionais'</td>\n",
       "                </tr>\n",
       "               \n",
       "                <tr>\n",
       "                    <td>'Territorialidades Ameríndias e Tradicionais. Estética da Construção dos Lugares'</td>\n",
       "                </tr>\n",
       "               \n",
       "                <tr>\n",
       "                    <td>'Estudos ameríndios, africanos e afro-diaspóricos'</td>\n",
       "                </tr>\n",
       "               \n",
       "                <tr>\n",
       "                    <td>'Paisagens Ameríndias. Habilidades, Mobilidade e Socialidade nos Rios e Cidades da Amazônia'</td>\n",
       "                </tr>\n",
       "               \n",
       "            </tbody>\n",
       "        </table>\n",
       "        "
      ],
      "text/plain": [
       "<IPython.core.display.HTML object>"
      ]
     },
     "metadata": {},
     "output_type": "display_data"
    },
    {
     "data": {
      "text/html": [
       "\n",
       "        <table>\n",
       "            <thead>\n",
       "                <tr>\n",
       "                    <th scope=\"col\">Pedro de Niemeyer Cesarino </th>\n",
       "                </tr>\n",
       "            </thead>\n",
       "            <tbody>\n",
       "        \n",
       "                <tr>\n",
       "                    <td>'Conexões entre antropologia e arte'</td>\n",
       "                </tr>\n",
       "               \n",
       "                <tr>\n",
       "                    <td>'Estudo e tradução de poéticas verbais ameríndias'</td>\n",
       "                </tr>\n",
       "               \n",
       "            </tbody>\n",
       "        </table>\n",
       "        "
      ],
      "text/plain": [
       "<IPython.core.display.HTML object>"
      ]
     },
     "metadata": {},
     "output_type": "display_data"
    },
    {
     "data": {
      "text/html": [
       "\n",
       "        <table>\n",
       "            <thead>\n",
       "                <tr>\n",
       "                    <th scope=\"col\">Renato Sztutman </th>\n",
       "                </tr>\n",
       "            </thead>\n",
       "            <tbody>\n",
       "        \n",
       "                <tr>\n",
       "                    <td>'Etnologia e história indígena'</td>\n",
       "                </tr>\n",
       "               \n",
       "                <tr>\n",
       "                    <td>'Ritual, xamanismo e política nas terras baixas da América do Sul'</td>\n",
       "                </tr>\n",
       "               \n",
       "                <tr>\n",
       "                    <td>'Teoria antropológica'</td>\n",
       "                </tr>\n",
       "               \n",
       "                <tr>\n",
       "                    <td>'Etnologia indígena'</td>\n",
       "                </tr>\n",
       "               \n",
       "                <tr>\n",
       "                    <td>'Formas Expressivas e Regimes de Conhecimento'</td>\n",
       "                </tr>\n",
       "               \n",
       "                <tr>\n",
       "                    <td>'Poder e diferença'</td>\n",
       "                </tr>\n",
       "               \n",
       "                <tr>\n",
       "                    <td>'Estudos ameríndios, africanos e afro-diaspóricos'</td>\n",
       "                </tr>\n",
       "               \n",
       "            </tbody>\n",
       "        </table>\n",
       "        "
      ],
      "text/plain": [
       "<IPython.core.display.HTML object>"
      ]
     },
     "metadata": {},
     "output_type": "display_data"
    },
    {
     "data": {
      "text/html": [
       "\n",
       "        <table>\n",
       "            <thead>\n",
       "                <tr>\n",
       "                    <th scope=\"col\">Rose Satiko Gitirana Hikiji </th>\n",
       "                </tr>\n",
       "            </thead>\n",
       "            <tbody>\n",
       "        \n",
       "                <tr>\n",
       "                    <td>'Antropologia visual'</td>\n",
       "                </tr>\n",
       "               \n",
       "                <tr>\n",
       "                    <td>'Antropologia da performance'</td>\n",
       "                </tr>\n",
       "               \n",
       "                <tr>\n",
       "                    <td>'Etnomusicologia'</td>\n",
       "                </tr>\n",
       "               \n",
       "            </tbody>\n",
       "        </table>\n",
       "        "
      ],
      "text/plain": [
       "<IPython.core.display.HTML object>"
      ]
     },
     "metadata": {},
     "output_type": "display_data"
    },
    {
     "data": {
      "text/html": [
       "\n",
       "        <table>\n",
       "            <thead>\n",
       "                <tr>\n",
       "                    <th scope=\"col\">Silvana de Souza Nascimento </th>\n",
       "                </tr>\n",
       "            </thead>\n",
       "            <tbody>\n",
       "        \n",
       "                <tr>\n",
       "                    <td>'Antropologia urbana'</td>\n",
       "                </tr>\n",
       "               \n",
       "                <tr>\n",
       "                    <td>'Corpo, cidade, fronteira'</td>\n",
       "                </tr>\n",
       "               \n",
       "                <tr>\n",
       "                    <td>'Marcadores sociais da diferença'</td>\n",
       "                </tr>\n",
       "               \n",
       "            </tbody>\n",
       "        </table>\n",
       "        "
      ],
      "text/plain": [
       "<IPython.core.display.HTML object>"
      ]
     },
     "metadata": {},
     "output_type": "display_data"
    },
    {
     "data": {
      "text/html": [
       "\n",
       "        <table>\n",
       "            <thead>\n",
       "                <tr>\n",
       "                    <th scope=\"col\">Sylvia Maria Caiuby Novaes </th>\n",
       "                </tr>\n",
       "            </thead>\n",
       "            <tbody>\n",
       "        \n",
       "                <tr>\n",
       "                    <td>'Etnologia Indígena'</td>\n",
       "                </tr>\n",
       "               \n",
       "                <tr>\n",
       "                    <td>'Antropologia da Imagem'</td>\n",
       "                </tr>\n",
       "               \n",
       "                <tr>\n",
       "                    <td>'Projeto temático Imagem em Foco nas Ciências Sociais - Coordenadora Principal'</td>\n",
       "                </tr>\n",
       "               \n",
       "                <tr>\n",
       "                    <td>'Projeto temático: Alteridade, expressões culturais do mundo sensível, construções da realidade: velhas questões, novas inquietações. Coordenadora principal do projeto temático'</td>\n",
       "                </tr>\n",
       "               \n",
       "            </tbody>\n",
       "        </table>\n",
       "        "
      ],
      "text/plain": [
       "<IPython.core.display.HTML object>"
      ]
     },
     "metadata": {},
     "output_type": "display_data"
    },
    {
     "data": {
      "text/html": [
       "\n",
       "        <table>\n",
       "            <thead>\n",
       "                <tr>\n",
       "                    <th scope=\"col\">Vagner Goncalves da Silva </th>\n",
       "                </tr>\n",
       "            </thead>\n",
       "            <tbody>\n",
       "        \n",
       "                <tr>\n",
       "                    <td>'Antropologia das populações afro-brasileiras'</td>\n",
       "                </tr>\n",
       "               \n",
       "                <tr>\n",
       "                    <td>'Teoria antropológica (trabalho de campo e representação etnográfica)'</td>\n",
       "                </tr>\n",
       "               \n",
       "            </tbody>\n",
       "        </table>\n",
       "        "
      ],
      "text/plain": [
       "<IPython.core.display.HTML object>"
      ]
     },
     "metadata": {},
     "output_type": "display_data"
    },
    {
     "data": {
      "text/html": [
       "\n",
       "        <table>\n",
       "            <thead>\n",
       "                <tr>\n",
       "                    <th scope=\"col\">Adrian Gurza Lavalle </th>\n",
       "                </tr>\n",
       "            </thead>\n",
       "            <tbody>\n",
       "        \n",
       "                <tr>\n",
       "                    <td>'Sociabilidade e Vida Urbana (INCT/CEM)'</td>\n",
       "                </tr>\n",
       "               \n",
       "            </tbody>\n",
       "        </table>\n",
       "        "
      ],
      "text/plain": [
       "<IPython.core.display.HTML object>"
      ]
     },
     "metadata": {},
     "output_type": "display_data"
    },
    {
     "data": {
      "text/html": [
       "\n",
       "        <table>\n",
       "            <thead>\n",
       "                <tr>\n",
       "                    <th scope=\"col\">André Vitor Singer </th>\n",
       "                </tr>\n",
       "            </thead>\n",
       "            <tbody>\n",
       "        \n",
       "                <tr>\n",
       "                    <td>'Teoria Política Moderna'</td>\n",
       "                </tr>\n",
       "               \n",
       "                <tr>\n",
       "                    <td>'Comportamento Eleitoral no Brasil'</td>\n",
       "                </tr>\n",
       "               \n",
       "            </tbody>\n",
       "        </table>\n",
       "        "
      ],
      "text/plain": [
       "<IPython.core.display.HTML object>"
      ]
     },
     "metadata": {},
     "output_type": "display_data"
    },
    {
     "data": {
      "text/html": [
       "\n",
       "        <table>\n",
       "            <thead>\n",
       "                <tr>\n",
       "                    <th scope=\"col\">Bernardo Ricupero </th>\n",
       "                </tr>\n",
       "            </thead>\n",
       "            <tbody>\n",
       "        \n",
       "                <tr>\n",
       "                    <td>'Relações Internacionais'</td>\n",
       "                </tr>\n",
       "               \n",
       "                <tr>\n",
       "                    <td>'História do Pensamento Político Latino-americano'</td>\n",
       "                </tr>\n",
       "               \n",
       "                <tr>\n",
       "                    <td>'História Institucional'</td>\n",
       "                </tr>\n",
       "               \n",
       "                <tr>\n",
       "                    <td>'Pensamento Político Brasileiro'</td>\n",
       "                </tr>\n",
       "               \n",
       "            </tbody>\n",
       "        </table>\n",
       "        "
      ],
      "text/plain": [
       "<IPython.core.display.HTML object>"
      ]
     },
     "metadata": {},
     "output_type": "display_data"
    },
    {
     "data": {
      "text/html": [
       "\n",
       "        <table>\n",
       "            <thead>\n",
       "                <tr>\n",
       "                    <th scope=\"col\">Bruno Wilhelm Speck </th>\n",
       "                </tr>\n",
       "            </thead>\n",
       "            <tbody>\n",
       "        \n",
       "                <tr>\n",
       "                    <td>'Accountability e Controle em Sistemas Políticos Modernos'</td>\n",
       "                </tr>\n",
       "               \n",
       "                <tr>\n",
       "                    <td>'Fraude e Corrupção em Sistemas Políticos Modernos'</td>\n",
       "                </tr>\n",
       "               \n",
       "                <tr>\n",
       "                    <td>'Pensamento Político Brasileiro'</td>\n",
       "                </tr>\n",
       "               \n",
       "                <tr>\n",
       "                    <td>'Formação e Mudança de Identidades Nacionais'</td>\n",
       "                </tr>\n",
       "               \n",
       "                <tr>\n",
       "                    <td>'Representação e Delegação em Sistemas Políticos Modernos'</td>\n",
       "                </tr>\n",
       "               \n",
       "                <tr>\n",
       "                    <td>'Pesquisas Eleitorais'</td>\n",
       "                </tr>\n",
       "               \n",
       "                <tr>\n",
       "                    <td>'Corrupção e Combate à Corrupção no Brasil'</td>\n",
       "                </tr>\n",
       "               \n",
       "                <tr>\n",
       "                    <td>'Diagnóstico de Corrupção'</td>\n",
       "                </tr>\n",
       "               \n",
       "                <tr>\n",
       "                    <td>'Análise de Riscos Institucionais'</td>\n",
       "                </tr>\n",
       "               \n",
       "                <tr>\n",
       "                    <td>'Sistemas de Integridade'</td>\n",
       "                </tr>\n",
       "               \n",
       "            </tbody>\n",
       "        </table>\n",
       "        "
      ],
      "text/plain": [
       "<IPython.core.display.HTML object>"
      ]
     },
     "metadata": {},
     "output_type": "display_data"
    },
    {
     "data": {
      "text/html": [
       "\n",
       "        <table>\n",
       "            <thead>\n",
       "                <tr>\n",
       "                    <th scope=\"col\">Eduardo Cesar Leão Marques </th>\n",
       "                </tr>\n",
       "            </thead>\n",
       "            <tbody>\n",
       "        \n",
       "                <tr>\n",
       "                    <td>'Pesquisas realizadas no Centro de Estudos da Metrópole/Cebrap'</td>\n",
       "                </tr>\n",
       "               \n",
       "                <tr>\n",
       "                    <td>'Políticas de Habitação e Condições Sociais em Assentamentos Precários'</td>\n",
       "                </tr>\n",
       "               \n",
       "                <tr>\n",
       "                    <td>'Redes sociais e Políticas Públicas'</td>\n",
       "                </tr>\n",
       "               \n",
       "                <tr>\n",
       "                    <td>'Segregação, Pobreza e Desigualdades Sociais'</td>\n",
       "                </tr>\n",
       "               \n",
       "                <tr>\n",
       "                    <td>'Redes sociais, Pobreza e Desigualdades Sociais (INCT/CEM)'</td>\n",
       "                </tr>\n",
       "               \n",
       "                <tr>\n",
       "                    <td>'Governo e Governança em Grandes Metrópoles (INCT/CEM)'</td>\n",
       "                </tr>\n",
       "               \n",
       "                <tr>\n",
       "                    <td>'Estrutura Fundiária Urbana da Região Metropolitana do Rio de Janeiro'</td>\n",
       "                </tr>\n",
       "               \n",
       "                <tr>\n",
       "                    <td>'Produção Imobiliária no Município do Rio de Janeiro'</td>\n",
       "                </tr>\n",
       "               \n",
       "                <tr>\n",
       "                    <td>'Participou de Pesquisa  sobre  o  Impacto  do  Instrumento do Solo Criado Sobre o Mercado Imobiliário do Município do Rio de Janeiro'</td>\n",
       "                </tr>\n",
       "               \n",
       "                <tr>\n",
       "                    <td>\"Elaboração de Capítulo do Projeto 'Um projeto de ciência para o Brasil' relativo a temas urbanos\"</td>\n",
       "                </tr>\n",
       "               \n",
       "            </tbody>\n",
       "        </table>\n",
       "        "
      ],
      "text/plain": [
       "<IPython.core.display.HTML object>"
      ]
     },
     "metadata": {},
     "output_type": "display_data"
    },
    {
     "data": {
      "text/html": [
       "\n",
       "        <table>\n",
       "            <thead>\n",
       "                <tr>\n",
       "                    <th scope=\"col\">Elizabeth Balbachevsky </th>\n",
       "                </tr>\n",
       "            </thead>\n",
       "            <tbody>\n",
       "        \n",
       "                <tr>\n",
       "                    <td>'Profissão Acadêmica no Brasil: Evolução Recente e Perspectivas Futuras',</td>\n",
       "                </tr>\n",
       "               \n",
       "                <tr>\n",
       "                    <td>'Políticas de Recursos Humanos para Ciência e Tecnologia'</td>\n",
       "                </tr>\n",
       "               \n",
       "                <tr>\n",
       "                    <td>'Relações Internacionais - Integração Regional - Atores Domésticos'</td>\n",
       "                </tr>\n",
       "               \n",
       "                <tr>\n",
       "                    <td>'Política Externa Brasileira - Cooperação Internacional: Ciência e Tecnologia'</td>\n",
       "                </tr>\n",
       "               \n",
       "                <tr>\n",
       "                    <td>'Comportamento Eleitoral'</td>\n",
       "                </tr>\n",
       "               \n",
       "                <tr>\n",
       "                    <td>'Eleições e Poder Local'</td>\n",
       "                </tr>\n",
       "               \n",
       "                <tr>\n",
       "                    <td>'Políticas Públicas - Avaliação de Políticas Públicas'</td>\n",
       "                </tr>\n",
       "               \n",
       "                <tr>\n",
       "                    <td>'Políticas de Ensino Superior'</td>\n",
       "                </tr>\n",
       "               \n",
       "                <tr>\n",
       "                    <td>'Governança Universitária'</td>\n",
       "                </tr>\n",
       "               \n",
       "            </tbody>\n",
       "        </table>\n",
       "        "
      ],
      "text/plain": [
       "<IPython.core.display.HTML object>"
      ]
     },
     "metadata": {},
     "output_type": "display_data"
    },
    {
     "data": {
      "text/html": [
       "\n",
       "        <table>\n",
       "            <thead>\n",
       "                <tr>\n",
       "                    <th scope=\"col\">Eunice Ostrensky </th>\n",
       "                </tr>\n",
       "            </thead>\n",
       "            <tbody>\n",
       "        \n",
       "                <tr>\n",
       "                    <td>'Teoria Política Moderna'</td>\n",
       "                </tr>\n",
       "               \n",
       "            </tbody>\n",
       "        </table>\n",
       "        "
      ],
      "text/plain": [
       "<IPython.core.display.HTML object>"
      ]
     },
     "metadata": {},
     "output_type": "display_data"
    },
    {
     "data": {
      "text/html": [
       "\n",
       "        <table>\n",
       "            <thead>\n",
       "                <tr>\n",
       "                    <th scope=\"col\">Fernando Haddad</th>\n",
       "                </tr>\n",
       "            </thead>\n",
       "            <tbody>\n",
       "        \n",
       "            </tbody>\n",
       "        </table>\n",
       "        "
      ],
      "text/plain": [
       "<IPython.core.display.HTML object>"
      ]
     },
     "metadata": {},
     "output_type": "display_data"
    },
    {
     "data": {
      "text/html": [
       "\n",
       "        <table>\n",
       "            <thead>\n",
       "                <tr>\n",
       "                    <th scope=\"col\">Glauco Peres da Silva </th>\n",
       "                </tr>\n",
       "            </thead>\n",
       "            <tbody>\n",
       "        \n",
       "                <tr>\n",
       "                    <td>'Geografia Eleitoral' </td>\n",
       "                </tr>\n",
       "               \n",
       "                <tr>\n",
       "                    <td>'Eleições'</td>\n",
       "                </tr>\n",
       "               \n",
       "                <tr>\n",
       "                    <td>'Partidos</td>\n",
       "                </tr>\n",
       "               \n",
       "                <tr>\n",
       "                    <td>'Institucionalismo'</td>\n",
       "                </tr>\n",
       "               \n",
       "                <tr>\n",
       "                    <td>'Metodologia da Ciência Política'</td>\n",
       "                </tr>\n",
       "               \n",
       "            </tbody>\n",
       "        </table>\n",
       "        "
      ],
      "text/plain": [
       "<IPython.core.display.HTML object>"
      ]
     },
     "metadata": {},
     "output_type": "display_data"
    },
    {
     "data": {
      "text/html": [
       "\n",
       "        <table>\n",
       "            <thead>\n",
       "                <tr>\n",
       "                    <th scope=\"col\">Janina Onuki </th>\n",
       "                </tr>\n",
       "            </thead>\n",
       "            <tbody>\n",
       "        \n",
       "                <tr>\n",
       "                    <td>'Organizações Internacionais'</td>\n",
       "                </tr>\n",
       "               \n",
       "                <tr>\n",
       "                    <td>'Integração Regional'</td>\n",
       "                </tr>\n",
       "               \n",
       "                <tr>\n",
       "                    <td>'Análise de Política Externa'</td>\n",
       "                </tr>\n",
       "               \n",
       "                <tr>\n",
       "                    <td>'Opinião Pública'</td>\n",
       "                </tr>\n",
       "               \n",
       "                <tr>\n",
       "                    <td>'Gênero e Relações Internacionais'</td>\n",
       "                </tr>\n",
       "               \n",
       "                <tr>\n",
       "                    <td>'Organizações e Regimes Internacionais'</td>\n",
       "                </tr>\n",
       "               \n",
       "            </tbody>\n",
       "        </table>\n",
       "        "
      ],
      "text/plain": [
       "<IPython.core.display.HTML object>"
      ]
     },
     "metadata": {},
     "output_type": "display_data"
    },
    {
     "data": {
      "text/html": [
       "\n",
       "        <table>\n",
       "            <thead>\n",
       "                <tr>\n",
       "                    <th scope=\"col\">Jean François Germain Tible </th>\n",
       "                </tr>\n",
       "            </thead>\n",
       "            <tbody>\n",
       "        \n",
       "                <tr>\n",
       "                    <td>'Marx e Pensamentos Selvagens' </td>\n",
       "                </tr>\n",
       "               \n",
       "                <tr>\n",
       "                    <td>'Revoltas' </td>\n",
       "                </tr>\n",
       "               \n",
       "                <tr>\n",
       "                    <td>'Revoluções e Movimentos Políticos'</td>\n",
       "                </tr>\n",
       "               \n",
       "                <tr>\n",
       "                    <td>'Relações internacionais'</td>\n",
       "                </tr>\n",
       "               \n",
       "            </tbody>\n",
       "        </table>\n",
       "        "
      ],
      "text/plain": [
       "<IPython.core.display.HTML object>"
      ]
     },
     "metadata": {},
     "output_type": "display_data"
    },
    {
     "data": {
      "text/html": [
       "\n",
       "        <table>\n",
       "            <thead>\n",
       "                <tr>\n",
       "                    <th scope=\"col\">Jonathan Peter Phillips </th>\n",
       "                </tr>\n",
       "            </thead>\n",
       "            <tbody>\n",
       "        \n",
       "                <tr>\n",
       "                    <td>'Economia Política' </td>\n",
       "                </tr>\n",
       "               \n",
       "                <tr>\n",
       "                    <td>'Política Comparada dos Países em Desenvolvimento, Sobretudo nas Raízes Políticas da Governança Efetiva'</td>\n",
       "                </tr>\n",
       "               \n",
       "            </tbody>\n",
       "        </table>\n",
       "        "
      ],
      "text/plain": [
       "<IPython.core.display.HTML object>"
      ]
     },
     "metadata": {},
     "output_type": "display_data"
    },
    {
     "data": {
      "text/html": [
       "\n",
       "        <table>\n",
       "            <thead>\n",
       "                <tr>\n",
       "                    <th scope=\"col\">João Paulo Candia Veiga </th>\n",
       "                </tr>\n",
       "            </thead>\n",
       "            <tbody>\n",
       "        \n",
       "                <tr>\n",
       "                    <td>'Teoria das Relações Internacionais'</td>\n",
       "                </tr>\n",
       "               \n",
       "                <tr>\n",
       "                    <td>'Mercosul e Integração Regional'</td>\n",
       "                </tr>\n",
       "               \n",
       "                <tr>\n",
       "                    <td>'Economia Política Internacional'</td>\n",
       "                </tr>\n",
       "               \n",
       "                <tr>\n",
       "                    <td>'Relações Internacionais'</td>\n",
       "                </tr>\n",
       "               \n",
       "                <tr>\n",
       "                    <td>'Relações de Trabalho e Responsabilidade Social Empresarial'</td>\n",
       "                </tr>\n",
       "               \n",
       "            </tbody>\n",
       "        </table>\n",
       "        "
      ],
      "text/plain": [
       "<IPython.core.display.HTML object>"
      ]
     },
     "metadata": {},
     "output_type": "display_data"
    },
    {
     "data": {
      "text/html": [
       "\n",
       "        <table>\n",
       "            <thead>\n",
       "                <tr>\n",
       "                    <th scope=\"col\">Lorena Guadalupe Barberia</th>\n",
       "                </tr>\n",
       "            </thead>\n",
       "            <tbody>\n",
       "        \n",
       "            </tbody>\n",
       "        </table>\n",
       "        "
      ],
      "text/plain": [
       "<IPython.core.display.HTML object>"
      ]
     },
     "metadata": {},
     "output_type": "display_data"
    },
    {
     "data": {
      "text/html": [
       "\n",
       "        <table>\n",
       "            <thead>\n",
       "                <tr>\n",
       "                    <th scope=\"col\">Marta Teresa da Silva Arretche </th>\n",
       "                </tr>\n",
       "            </thead>\n",
       "            <tbody>\n",
       "        \n",
       "                <tr>\n",
       "                    <td>'Políticas Públicas'</td>\n",
       "                </tr>\n",
       "               \n",
       "                <tr>\n",
       "                    <td>'Análise Comparada das Formas de Estado'</td>\n",
       "                </tr>\n",
       "               \n",
       "                <tr>\n",
       "                    <td>'Condições de Vida, Estado e Políticas Públicas (INCT/CEM)'</td>\n",
       "                </tr>\n",
       "               \n",
       "            </tbody>\n",
       "        </table>\n",
       "        "
      ],
      "text/plain": [
       "<IPython.core.display.HTML object>"
      ]
     },
     "metadata": {},
     "output_type": "display_data"
    },
    {
     "data": {
      "text/html": [
       "\n",
       "        <table>\n",
       "            <thead>\n",
       "                <tr>\n",
       "                    <th scope=\"col\">Paolo Ricci </th>\n",
       "                </tr>\n",
       "            </thead>\n",
       "            <tbody>\n",
       "        \n",
       "                <tr>\n",
       "                    <td>'A Organização dos Parlamentos do Século XIX aos Dias de Hoje'</td>\n",
       "                </tr>\n",
       "               \n",
       "                <tr>\n",
       "                    <td>'Partidos e Eleições na Primeira República (1889-1930) e na Era Vargas (1930-1937)'</td>\n",
       "                </tr>\n",
       "               \n",
       "                <tr>\n",
       "                    <td>'O Poder de Agenda em Perspectiva Comparada'</td>\n",
       "                </tr>\n",
       "               \n",
       "                <tr>\n",
       "                    <td>'Dados Eleitorais para o Período Anterior a 1945'</td>\n",
       "                </tr>\n",
       "               \n",
       "                <tr>\n",
       "                    <td>'Relações Executivo-legislativo'</td>\n",
       "                </tr>\n",
       "               \n",
       "                <tr>\n",
       "                    <td>'A Evolução do Sistema Partidário Brasileiro'</td>\n",
       "                </tr>\n",
       "               \n",
       "                <tr>\n",
       "                    <td>'Instituições Políticas Estaduais'</td>\n",
       "                </tr>\n",
       "               \n",
       "            </tbody>\n",
       "        </table>\n",
       "        "
      ],
      "text/plain": [
       "<IPython.core.display.HTML object>"
      ]
     },
     "metadata": {},
     "output_type": "display_data"
    },
    {
     "data": {
      "text/html": [
       "\n",
       "        <table>\n",
       "            <thead>\n",
       "                <tr>\n",
       "                    <th scope=\"col\">Rafael Antonio Duarte Villa </th>\n",
       "                </tr>\n",
       "            </thead>\n",
       "            <tbody>\n",
       "        \n",
       "                <tr>\n",
       "                    <td>'Segurança Internacional'</td>\n",
       "                </tr>\n",
       "               \n",
       "                <tr>\n",
       "                    <td>'Política Externa'</td>\n",
       "                </tr>\n",
       "               \n",
       "                <tr>\n",
       "                    <td>'Relações Internacionais da América Latina'</td>\n",
       "                </tr>\n",
       "               \n",
       "            </tbody>\n",
       "        </table>\n",
       "        "
      ],
      "text/plain": [
       "<IPython.core.display.HTML object>"
      ]
     },
     "metadata": {},
     "output_type": "display_data"
    },
    {
     "data": {
      "text/html": [
       "\n",
       "        <table>\n",
       "            <thead>\n",
       "                <tr>\n",
       "                    <th scope=\"col\">Rogério Bastos Arantes </th>\n",
       "                </tr>\n",
       "            </thead>\n",
       "            <tbody>\n",
       "        \n",
       "                <tr>\n",
       "                    <td>'Instituições de Justiça - Surveys'</td>\n",
       "                </tr>\n",
       "               \n",
       "                <tr>\n",
       "                    <td>'Custos econômicos do Judiciário'</td>\n",
       "                </tr>\n",
       "               \n",
       "                <tr>\n",
       "                    <td>'Instituições de Justiça'</td>\n",
       "                </tr>\n",
       "               \n",
       "                <tr>\n",
       "                    <td>'Elites - surveys'</td>\n",
       "                </tr>\n",
       "               \n",
       "                <tr>\n",
       "                    <td>'Cidadania e Acesso à Justiça'</td>\n",
       "                </tr>\n",
       "               \n",
       "                <tr>\n",
       "                    <td>'Reforma do Judiciário'</td>\n",
       "                </tr>\n",
       "               \n",
       "                <tr>\n",
       "                    <td>'Pesquisa Interdisciplinar. América Latina em 3 D (Política, Economia e Relações Internacionais)'</td>\n",
       "                </tr>\n",
       "               \n",
       "                <tr>\n",
       "                    <td>'Estudos Políticos do Judiciário e do Ministério Público'</td>\n",
       "                </tr>\n",
       "               \n",
       "                <tr>\n",
       "                    <td>'Constitucionalismo e Democracia no Brasil e em Perspectiva Comparada'</td>\n",
       "                </tr>\n",
       "               \n",
       "                <tr>\n",
       "                    <td>'Corrupção Política e Crime Organizado no Brasil'</td>\n",
       "                </tr>\n",
       "               \n",
       "                <tr>\n",
       "                    <td>'Estudos Políticos do Judiciário, Ministério Público e Polícia Federal'</td>\n",
       "                </tr>\n",
       "               \n",
       "                <tr>\n",
       "                    <td>'Constitucionalismo e Democracia em Perspectiva Comparada'</td>\n",
       "                </tr>\n",
       "               \n",
       "                <tr>\n",
       "                    <td>'JUDE - Grupo de Pesquisa Judiciário e Democracia (com alunos de graduação, pós-graduação e pós-doc)'</td>\n",
       "                </tr>\n",
       "               \n",
       "                <tr>\n",
       "                    <td>'Mare Incognitum: Desafios da Pesquisa sobre o Supremo Tribunal Federal'</td>\n",
       "                </tr>\n",
       "               \n",
       "            </tbody>\n",
       "        </table>\n",
       "        "
      ],
      "text/plain": [
       "<IPython.core.display.HTML object>"
      ]
     },
     "metadata": {},
     "output_type": "display_data"
    },
    {
     "data": {
      "text/html": [
       "\n",
       "        <table>\n",
       "            <thead>\n",
       "                <tr>\n",
       "                    <th scope=\"col\">Rúrion Soares Melo </th>\n",
       "                </tr>\n",
       "            </thead>\n",
       "            <tbody>\n",
       "        \n",
       "                <tr>\n",
       "                    <td>'Pesquisador do Núcleo Direito e Democracia'</td>\n",
       "                </tr>\n",
       "               \n",
       "                <tr>\n",
       "                    <td>'Coordenador do Subgrupo Democracia Deliberativa'</td>\n",
       "                </tr>\n",
       "               \n",
       "                <tr>\n",
       "                    <td>'Coordenador do Subgrupo Autonomia e Teoria Crítica'</td>\n",
       "                </tr>\n",
       "               \n",
       "                <tr>\n",
       "                    <td>'Pesquisador da Área de Filosofia, Direito e Democracia'</td>\n",
       "                </tr>\n",
       "               \n",
       "                <tr>\n",
       "                    <td>'Coordenador do Grupo de Estudos de Política e Teoria Crítica'</td>\n",
       "                </tr>\n",
       "               \n",
       "                <tr>\n",
       "                    <td>'Política e Teoria Crítica: Autonomia, reconhecimento e democracia'</td>\n",
       "                </tr>\n",
       "               \n",
       "                <tr>\n",
       "                    <td>'Grupo de Estudos de Política e Teoria Crítica'</td>\n",
       "                </tr>\n",
       "               \n",
       "            </tbody>\n",
       "        </table>\n",
       "        "
      ],
      "text/plain": [
       "<IPython.core.display.HTML object>"
      ]
     },
     "metadata": {},
     "output_type": "display_data"
    },
    {
     "data": {
      "text/html": [
       "\n",
       "        <table>\n",
       "            <thead>\n",
       "                <tr>\n",
       "                    <th scope=\"col\">Alberto Ribeiro Gonçalves de Barros </th>\n",
       "                </tr>\n",
       "            </thead>\n",
       "            <tbody>\n",
       "        \n",
       "                <tr>\n",
       "                    <td>'Epistemologia da Política e do Direito'</td>\n",
       "                </tr>\n",
       "               \n",
       "                <tr>\n",
       "                    <td>'Ética e Filosofia Política'</td>\n",
       "                </tr>\n",
       "               \n",
       "                <tr>\n",
       "                    <td>'Matrizes do Republicanismo'</td>\n",
       "                </tr>\n",
       "               \n",
       "            </tbody>\n",
       "        </table>\n",
       "        "
      ],
      "text/plain": [
       "<IPython.core.display.HTML object>"
      ]
     },
     "metadata": {},
     "output_type": "display_data"
    },
    {
     "data": {
      "text/html": [
       "\n",
       "        <table>\n",
       "            <thead>\n",
       "                <tr>\n",
       "                    <th scope=\"col\">Alex de Campos Moura </th>\n",
       "                </tr>\n",
       "            </thead>\n",
       "            <tbody>\n",
       "        \n",
       "                <tr>\n",
       "                    <td>'Ontologia'</td>\n",
       "                </tr>\n",
       "               \n",
       "                <tr>\n",
       "                    <td>'Temporalidade'</td>\n",
       "                </tr>\n",
       "               \n",
       "            </tbody>\n",
       "        </table>\n",
       "        "
      ],
      "text/plain": [
       "<IPython.core.display.HTML object>"
      ]
     },
     "metadata": {},
     "output_type": "display_data"
    },
    {
     "data": {
      "text/html": [
       "\n",
       "        <table>\n",
       "            <thead>\n",
       "                <tr>\n",
       "                    <th scope=\"col\">Caetano Ernesto Plastino </th>\n",
       "                </tr>\n",
       "            </thead>\n",
       "            <tbody>\n",
       "        \n",
       "                <tr>\n",
       "                    <td>'A concepção deflacionista da verdade e suas implicações'</td>\n",
       "                </tr>\n",
       "               \n",
       "                <tr>\n",
       "                    <td>'A dimensão social do conhecimento científico'</td>\n",
       "                </tr>\n",
       "               \n",
       "            </tbody>\n",
       "        </table>\n",
       "        "
      ],
      "text/plain": [
       "<IPython.core.display.HTML object>"
      ]
     },
     "metadata": {},
     "output_type": "display_data"
    },
    {
     "data": {
      "text/html": [
       "\n",
       "        <table>\n",
       "            <thead>\n",
       "                <tr>\n",
       "                    <th scope=\"col\">Carlos Eduardo de Oliveira </th>\n",
       "                </tr>\n",
       "            </thead>\n",
       "            <tbody>\n",
       "        \n",
       "                <tr>\n",
       "                    <td>'Nominalismo Medieval'</td>\n",
       "                </tr>\n",
       "               \n",
       "                <tr>\n",
       "                    <td>'Recepção Medieval de Aristóteles'</td>\n",
       "                </tr>\n",
       "               \n",
       "                <tr>\n",
       "                    <td>'Lógica e Metafísica Medieval'</td>\n",
       "                </tr>\n",
       "               \n",
       "            </tbody>\n",
       "        </table>\n",
       "        "
      ],
      "text/plain": [
       "<IPython.core.display.HTML object>"
      ]
     },
     "metadata": {},
     "output_type": "display_data"
    },
    {
     "data": {
      "text/html": [
       "\n",
       "        <table>\n",
       "            <thead>\n",
       "                <tr>\n",
       "                    <th scope=\"col\">Cicero Romao Resende de Araujo </th>\n",
       "                </tr>\n",
       "            </thead>\n",
       "            <tbody>\n",
       "        \n",
       "                <tr>\n",
       "                    <td>'Política Brasileira: processos constituintes'</td>\n",
       "                </tr>\n",
       "               \n",
       "                <tr>\n",
       "                    <td>'Representação Política'</td>\n",
       "                </tr>\n",
       "               \n",
       "                <tr>\n",
       "                    <td>'Moralidade política'</td>\n",
       "                </tr>\n",
       "               \n",
       "            </tbody>\n",
       "        </table>\n",
       "        "
      ],
      "text/plain": [
       "<IPython.core.display.HTML object>"
      ]
     },
     "metadata": {},
     "output_type": "display_data"
    },
    {
     "data": {
      "text/html": [
       "\n",
       "        <table>\n",
       "            <thead>\n",
       "                <tr>\n",
       "                    <th scope=\"col\">Edelcio Gonçalves de Souza </th>\n",
       "                </tr>\n",
       "            </thead>\n",
       "            <tbody>\n",
       "        \n",
       "                <tr>\n",
       "                    <td>'Teoria do Conhecimento'</td>\n",
       "                </tr>\n",
       "               \n",
       "            </tbody>\n",
       "        </table>\n",
       "        "
      ],
      "text/plain": [
       "<IPython.core.display.HTML object>"
      ]
     },
     "metadata": {},
     "output_type": "display_data"
    },
    {
     "data": {
      "text/html": [
       "\n",
       "        <table>\n",
       "            <thead>\n",
       "                <tr>\n",
       "                    <th scope=\"col\">Eduardo Brandão </th>\n",
       "                </tr>\n",
       "            </thead>\n",
       "            <tbody>\n",
       "        \n",
       "                <tr>\n",
       "                    <td>'Idealismo Alemão' </td>\n",
       "                </tr>\n",
       "               \n",
       "                <tr>\n",
       "                    <td>'História da Filosofia Contemporânea'</td>\n",
       "                </tr>\n",
       "               \n",
       "            </tbody>\n",
       "        </table>\n",
       "        "
      ],
      "text/plain": [
       "<IPython.core.display.HTML object>"
      ]
     },
     "metadata": {},
     "output_type": "display_data"
    },
    {
     "data": {
      "text/html": [
       "\n",
       "        <table>\n",
       "            <thead>\n",
       "                <tr>\n",
       "                    <th scope=\"col\">Evan Robert Keeling</th>\n",
       "                </tr>\n",
       "            </thead>\n",
       "            <tbody>\n",
       "        \n",
       "                <tr>\n",
       "                    <td>'História da Filosofia Antiga'</td>\n",
       "                </tr>\n",
       "               \n",
       "                <tr>\n",
       "                    <td>'Epistemologia'</td>\n",
       "                </tr>\n",
       "               \n",
       "                <tr>\n",
       "                    <td>'Psicologia'</td>\n",
       "                </tr>\n",
       "               \n",
       "                <tr>\n",
       "                    <td>'Metafísica'</td>\n",
       "                </tr>\n",
       "               \n",
       "            </tbody>\n",
       "        </table>\n",
       "        "
      ],
      "text/plain": [
       "<IPython.core.display.HTML object>"
      ]
     },
     "metadata": {},
     "output_type": "display_data"
    },
    {
     "data": {
      "text/html": [
       "\n",
       "        <table>\n",
       "            <thead>\n",
       "                <tr>\n",
       "                    <th scope=\"col\">Homero Silveira Santiago </th>\n",
       "                </tr>\n",
       "            </thead>\n",
       "            <tbody>\n",
       "        \n",
       "                <tr>\n",
       "                    <td>'História da Filosofia'</td>\n",
       "                </tr>\n",
       "               \n",
       "                <tr>\n",
       "                    <td>'Servidão'</td>\n",
       "                </tr>\n",
       "               \n",
       "                <tr>\n",
       "                    <td>'Liberdade'</td>\n",
       "                </tr>\n",
       "               \n",
       "                <tr>\n",
       "                    <td>'Possível'</td>\n",
       "                </tr>\n",
       "               \n",
       "                <tr>\n",
       "                    <td>'Determinação'</td>\n",
       "                </tr>\n",
       "               \n",
       "            </tbody>\n",
       "        </table>\n",
       "        "
      ],
      "text/plain": [
       "<IPython.core.display.HTML object>"
      ]
     },
     "metadata": {},
     "output_type": "display_data"
    },
    {
     "data": {
      "text/html": [
       "\n",
       "        <table>\n",
       "            <thead>\n",
       "                <tr>\n",
       "                    <th scope=\"col\">Joao Vergilio Gallerani Cuter </th>\n",
       "                </tr>\n",
       "            </thead>\n",
       "            <tbody>\n",
       "        \n",
       "                <tr>\n",
       "                    <td>'Wittgenstein em Transição'</td>\n",
       "                </tr>\n",
       "               \n",
       "            </tbody>\n",
       "        </table>\n",
       "        "
      ],
      "text/plain": [
       "<IPython.core.display.HTML object>"
      ]
     },
     "metadata": {},
     "output_type": "display_data"
    },
    {
     "data": {
      "text/html": [
       "\n",
       "        <table>\n",
       "            <thead>\n",
       "                <tr>\n",
       "                    <th scope=\"col\">Jose Carlos Estevao </th>\n",
       "                </tr>\n",
       "            </thead>\n",
       "            <tbody>\n",
       "        \n",
       "                <tr>\n",
       "                    <td>'Nominalismo Medieval'</td>\n",
       "                </tr>\n",
       "               \n",
       "                <tr>\n",
       "                    <td>'Ética e Política Medieval'</td>\n",
       "                </tr>\n",
       "               \n",
       "                <tr>\n",
       "                    <td>'Recepção Medieval de Aristóteles'</td>\n",
       "                </tr>\n",
       "               \n",
       "                <tr>\n",
       "                    <td>'Recepção Medieval de Agostinho'</td>\n",
       "                </tr>\n",
       "               \n",
       "            </tbody>\n",
       "        </table>\n",
       "        "
      ],
      "text/plain": [
       "<IPython.core.display.HTML object>"
      ]
     },
     "metadata": {},
     "output_type": "display_data"
    },
    {
     "data": {
      "text/html": [
       "\n",
       "        <table>\n",
       "            <thead>\n",
       "                <tr>\n",
       "                    <th scope=\"col\">Lorenzo Mammi</th>\n",
       "                </tr>\n",
       "            </thead>\n",
       "            <tbody>\n",
       "        \n",
       "                <tr>\n",
       "                    <td>'Música'</td>\n",
       "                </tr>\n",
       "               \n",
       "                <tr>\n",
       "                    <td>'Arte Contemporânea'</td>\n",
       "                </tr>\n",
       "               \n",
       "                <tr>\n",
       "                    <td>'Filosofia Patrística' </td>\n",
       "                </tr>\n",
       "               \n",
       "            </tbody>\n",
       "        </table>\n",
       "        "
      ],
      "text/plain": [
       "<IPython.core.display.HTML object>"
      ]
     },
     "metadata": {},
     "output_type": "display_data"
    },
    {
     "data": {
      "text/html": [
       "\n",
       "        <table>\n",
       "            <thead>\n",
       "                <tr>\n",
       "                    <th scope=\"col\">Luiz Sergio Repa </th>\n",
       "                </tr>\n",
       "            </thead>\n",
       "            <tbody>\n",
       "        \n",
       "                <tr>\n",
       "                    <td>'Teoria Crítica'</td>\n",
       "                </tr>\n",
       "               \n",
       "            </tbody>\n",
       "        </table>\n",
       "        "
      ],
      "text/plain": [
       "<IPython.core.display.HTML object>"
      ]
     },
     "metadata": {},
     "output_type": "display_data"
    },
    {
     "data": {
      "text/html": [
       "\n",
       "        <table>\n",
       "            <thead>\n",
       "                <tr>\n",
       "                    <th scope=\"col\">Luís César Guimarães Oliva </th>\n",
       "                </tr>\n",
       "            </thead>\n",
       "            <tbody>\n",
       "        \n",
       "                <tr>\n",
       "                    <td>'HIstória da Filosofia Moderna'</td>\n",
       "                </tr>\n",
       "               \n",
       "            </tbody>\n",
       "        </table>\n",
       "        "
      ],
      "text/plain": [
       "<IPython.core.display.HTML object>"
      ]
     },
     "metadata": {},
     "output_type": "display_data"
    },
    {
     "data": {
      "text/html": [
       "\n",
       "        <table>\n",
       "            <thead>\n",
       "                <tr>\n",
       "                    <th scope=\"col\">Marcio Suzuki </th>\n",
       "                </tr>\n",
       "            </thead>\n",
       "            <tbody>\n",
       "        \n",
       "                <tr>\n",
       "                    <td>'Estética do Idealismo e Romantismo Alemão'</td>\n",
       "                </tr>\n",
       "               \n",
       "            </tbody>\n",
       "        </table>\n",
       "        "
      ],
      "text/plain": [
       "<IPython.core.display.HTML object>"
      ]
     },
     "metadata": {},
     "output_type": "display_data"
    },
    {
     "data": {
      "text/html": [
       "\n",
       "        <table>\n",
       "            <thead>\n",
       "                <tr>\n",
       "                    <th scope=\"col\">Marco Antonio de Avila Zingano </th>\n",
       "                </tr>\n",
       "            </thead>\n",
       "            <tbody>\n",
       "        \n",
       "                <tr>\n",
       "                    <td>'Razão e política em Kant'</td>\n",
       "                </tr>\n",
       "               \n",
       "                <tr>\n",
       "                    <td>'A filosofia de Aristóteles'</td>\n",
       "                </tr>\n",
       "               \n",
       "                <tr>\n",
       "                    <td>'Filosofia grega antiga'</td>\n",
       "                </tr>\n",
       "               \n",
       "            </tbody>\n",
       "        </table>\n",
       "        "
      ],
      "text/plain": [
       "<IPython.core.display.HTML object>"
      ]
     },
     "metadata": {},
     "output_type": "display_data"
    },
    {
     "data": {
      "text/html": [
       "\n",
       "        <table>\n",
       "            <thead>\n",
       "                <tr>\n",
       "                    <th scope=\"col\">Marco Aurélio Werle </th>\n",
       "                </tr>\n",
       "            </thead>\n",
       "            <tbody>\n",
       "        \n",
       "                <tr>\n",
       "                    <td>'História da arte'</td>\n",
       "                </tr>\n",
       "               \n",
       "                <tr>\n",
       "                    <td>'Estética'</td>\n",
       "                </tr>\n",
       "               \n",
       "                <tr>\n",
       "                    <td>'Estética e filosofia da arte'</td>\n",
       "                </tr>\n",
       "               \n",
       "            </tbody>\n",
       "        </table>\n",
       "        "
      ],
      "text/plain": [
       "<IPython.core.display.HTML object>"
      ]
     },
     "metadata": {},
     "output_type": "display_data"
    },
    {
     "data": {
      "text/html": [
       "\n",
       "        <table>\n",
       "            <thead>\n",
       "                <tr>\n",
       "                    <th scope=\"col\">Marcus Sacrini Ayres Ferraz </th>\n",
       "                </tr>\n",
       "            </thead>\n",
       "            <tbody>\n",
       "        \n",
       "                <tr>\n",
       "                    <td>'Fenomenologia'</td>\n",
       "                </tr>\n",
       "               \n",
       "                <tr>\n",
       "                    <td>'Teoria argumentativa e sua aplicação no ensino'</td>\n",
       "                </tr>\n",
       "               \n",
       "            </tbody>\n",
       "        </table>\n",
       "        "
      ],
      "text/plain": [
       "<IPython.core.display.HTML object>"
      ]
     },
     "metadata": {},
     "output_type": "display_data"
    },
    {
     "data": {
      "text/html": [
       "\n",
       "        <table>\n",
       "            <thead>\n",
       "                <tr>\n",
       "                    <th scope=\"col\">Mauricio de Carvalho Ramos </th>\n",
       "                </tr>\n",
       "            </thead>\n",
       "            <tbody>\n",
       "        \n",
       "                <tr>\n",
       "                    <td>'Filosofia e História da Ciência'</td>\n",
       "                </tr>\n",
       "               \n",
       "                <tr>\n",
       "                    <td>'Filosofia e História das Ciências da Vida no Período Moderno'</td>\n",
       "                </tr>\n",
       "               \n",
       "                <tr>\n",
       "                    <td>'Ética e Biociências Contemporâneas'</td>\n",
       "                </tr>\n",
       "               \n",
       "            </tbody>\n",
       "        </table>\n",
       "        "
      ],
      "text/plain": [
       "<IPython.core.display.HTML object>"
      ]
     },
     "metadata": {},
     "output_type": "display_data"
    },
    {
     "data": {
      "text/html": [
       "\n",
       "        <table>\n",
       "            <thead>\n",
       "                <tr>\n",
       "                    <th scope=\"col\">Maurício Cardoso Keinert </th>\n",
       "                </tr>\n",
       "            </thead>\n",
       "            <tbody>\n",
       "        \n",
       "                <tr>\n",
       "                    <td>'História da Filosofia Moderna'</td>\n",
       "                </tr>\n",
       "               \n",
       "                <tr>\n",
       "                    <td>'Kant'</td>\n",
       "                </tr>\n",
       "               \n",
       "                <tr>\n",
       "                    <td>'Liberdade'</td>\n",
       "                </tr>\n",
       "               \n",
       "                <tr>\n",
       "                    <td>'Direito'</td>\n",
       "                </tr>\n",
       "               \n",
       "                <tr>\n",
       "                    <td>'Moral'</td>\n",
       "                </tr>\n",
       "               \n",
       "                <tr>\n",
       "                    <td>'Conhecimento'</td>\n",
       "                </tr>\n",
       "               \n",
       "                <tr>\n",
       "                    <td>'Crítica'</td>\n",
       "                </tr>\n",
       "               \n",
       "            </tbody>\n",
       "        </table>\n",
       "        "
      ],
      "text/plain": [
       "<IPython.core.display.HTML object>"
      ]
     },
     "metadata": {},
     "output_type": "display_data"
    },
    {
     "data": {
      "text/html": [
       "\n",
       "        <table>\n",
       "            <thead>\n",
       "                <tr>\n",
       "                    <th scope=\"col\">Moacyr Ayres Novaes Filho </th>\n",
       "                </tr>\n",
       "            </thead>\n",
       "            <tbody>\n",
       "        \n",
       "                <tr>\n",
       "                    <td>'As duas significações da linguagem'</td>\n",
       "                </tr>\n",
       "               \n",
       "                <tr>\n",
       "                    <td>'Metafísica e moral nas Confissões de Agostinho'</td>\n",
       "                </tr>\n",
       "               \n",
       "                <tr>\n",
       "                    <td>'Interioridade e inspeção do espírito na filosofia agostiniana'</td>\n",
       "                </tr>\n",
       "               \n",
       "                <tr>\n",
       "                    <td>'Lógica e ontologia'</td>\n",
       "                </tr>\n",
       "               \n",
       "            </tbody>\n",
       "        </table>\n",
       "        "
      ],
      "text/plain": [
       "<IPython.core.display.HTML object>"
      ]
     },
     "metadata": {},
     "output_type": "display_data"
    },
    {
     "data": {
      "text/html": [
       "\n",
       "        <table>\n",
       "            <thead>\n",
       "                <tr>\n",
       "                    <th scope=\"col\">Oliver Tolle </th>\n",
       "                </tr>\n",
       "            </thead>\n",
       "            <tbody>\n",
       "        \n",
       "                <tr>\n",
       "                    <td>'A faculdade de compor na psicologia empírica alemã'</td>\n",
       "                </tr>\n",
       "               \n",
       "            </tbody>\n",
       "        </table>\n",
       "        "
      ],
      "text/plain": [
       "<IPython.core.display.HTML object>"
      ]
     },
     "metadata": {},
     "output_type": "display_data"
    },
    {
     "data": {
      "text/html": [
       "\n",
       "        <table>\n",
       "            <thead>\n",
       "                <tr>\n",
       "                    <th scope=\"col\">Osvaldo Frota Pessoa Junior </th>\n",
       "                </tr>\n",
       "            </thead>\n",
       "            <tbody>\n",
       "        \n",
       "                <tr>\n",
       "                    <td>'História e Filosofia da Física'</td>\n",
       "                </tr>\n",
       "               \n",
       "                <tr>\n",
       "                    <td>'História e Filosofia da Ciência'</td>\n",
       "                </tr>\n",
       "               \n",
       "            </tbody>\n",
       "        </table>\n",
       "        "
      ],
      "text/plain": [
       "<IPython.core.display.HTML object>"
      ]
     },
     "metadata": {},
     "output_type": "display_data"
    },
    {
     "data": {
      "text/html": [
       "\n",
       "        <table>\n",
       "            <thead>\n",
       "                <tr>\n",
       "                    <th scope=\"col\">Patricio Tierno </th>\n",
       "                </tr>\n",
       "            </thead>\n",
       "            <tbody>\n",
       "        \n",
       "                <tr>\n",
       "                    <td>'As noções de esfera pública e esfera privada'</td>\n",
       "                </tr>\n",
       "               \n",
       "                <tr>\n",
       "                    <td>'Relações entre economia e política'</td>\n",
       "                </tr>\n",
       "               \n",
       "                <tr>\n",
       "                    <td>'O sujeito antigo'</td>\n",
       "                </tr>\n",
       "               \n",
       "                <tr>\n",
       "                    <td>'Pensamento Político Antigo'</td>\n",
       "                </tr>\n",
       "               \n",
       "                <tr>\n",
       "                    <td>'História da Filosofia Antiga e do Pensamento Político'</td>\n",
       "                </tr>\n",
       "               \n",
       "                <tr>\n",
       "                    <td>'Teoria política clássica e moderna'</td>\n",
       "                </tr>\n",
       "               \n",
       "                <tr>\n",
       "                    <td>'A teoria política de Aristóteles'</td>\n",
       "                </tr>\n",
       "               \n",
       "                <tr>\n",
       "                    <td>'Linhagens do pensamento político-social latino-americano'</td>\n",
       "                </tr>\n",
       "               \n",
       "            </tbody>\n",
       "        </table>\n",
       "        "
      ],
      "text/plain": [
       "<IPython.core.display.HTML object>"
      ]
     },
     "metadata": {},
     "output_type": "display_data"
    },
    {
     "data": {
      "text/html": [
       "\n",
       "        <table>\n",
       "            <thead>\n",
       "                <tr>\n",
       "                    <th scope=\"col\">Pedro Paulo Garrido Pimenta </th>\n",
       "                </tr>\n",
       "            </thead>\n",
       "            <tbody>\n",
       "        \n",
       "                <tr>\n",
       "                    <td>'Filosofia Moderna'</td>\n",
       "                </tr>\n",
       "               \n",
       "                <tr>\n",
       "                    <td>'Autores do século XVIII'</td>\n",
       "                </tr>\n",
       "               \n",
       "            </tbody>\n",
       "        </table>\n",
       "        "
      ],
      "text/plain": [
       "<IPython.core.display.HTML object>"
      ]
     },
     "metadata": {},
     "output_type": "display_data"
    },
    {
     "data": {
      "text/html": [
       "\n",
       "        <table>\n",
       "            <thead>\n",
       "                <tr>\n",
       "                    <th scope=\"col\">Ricardo Nascimento Fabbrini </th>\n",
       "                </tr>\n",
       "            </thead>\n",
       "            <tbody>\n",
       "        \n",
       "                <tr>\n",
       "                    <td>'Filosofia das Ciências Humanas'</td>\n",
       "                </tr>\n",
       "               \n",
       "                <tr>\n",
       "                    <td>'Estética e Filosofia da Arte'</td>\n",
       "                </tr>\n",
       "               \n",
       "            </tbody>\n",
       "        </table>\n",
       "        "
      ],
      "text/plain": [
       "<IPython.core.display.HTML object>"
      ]
     },
     "metadata": {},
     "output_type": "display_data"
    },
    {
     "data": {
      "text/html": [
       "\n",
       "        <table>\n",
       "            <thead>\n",
       "                <tr>\n",
       "                    <th scope=\"col\">Roberto Bolzani Filho </th>\n",
       "                </tr>\n",
       "            </thead>\n",
       "            <tbody>\n",
       "        \n",
       "                <tr>\n",
       "                    <td>'O Ceticismo Acadêmico e a idéia de subjetividade'</td>\n",
       "                </tr>\n",
       "               \n",
       "            </tbody>\n",
       "        </table>\n",
       "        "
      ],
      "text/plain": [
       "<IPython.core.display.HTML object>"
      ]
     },
     "metadata": {},
     "output_type": "display_data"
    },
    {
     "data": {
      "text/html": [
       "\n",
       "        <table>\n",
       "            <thead>\n",
       "                <tr>\n",
       "                    <th scope=\"col\">Rodrigo Bacellar da Costa e Silva </th>\n",
       "                </tr>\n",
       "            </thead>\n",
       "            <tbody>\n",
       "        \n",
       "                <tr>\n",
       "                    <td>'Lógica'</td>\n",
       "                </tr>\n",
       "               \n",
       "                <tr>\n",
       "                    <td>'Ontologia'</td>\n",
       "                </tr>\n",
       "               \n",
       "            </tbody>\n",
       "        </table>\n",
       "        "
      ],
      "text/plain": [
       "<IPython.core.display.HTML object>"
      ]
     },
     "metadata": {},
     "output_type": "display_data"
    },
    {
     "data": {
      "text/html": [
       "\n",
       "        <table>\n",
       "            <thead>\n",
       "                <tr>\n",
       "                    <th scope=\"col\">Silvana de Souza Ramos </th>\n",
       "                </tr>\n",
       "            </thead>\n",
       "            <tbody>\n",
       "        \n",
       "                <tr>\n",
       "                    <td>'Ética e Filosofia Política'</td>\n",
       "                </tr>\n",
       "               \n",
       "                <tr>\n",
       "                    <td>'Filosofia Francesa Contemporânea'</td>\n",
       "                </tr>\n",
       "               \n",
       "                <tr>\n",
       "                    <td>'Intersecções entre filosofia e imagem'</td>\n",
       "                </tr>\n",
       "               \n",
       "            </tbody>\n",
       "        </table>\n",
       "        "
      ],
      "text/plain": [
       "<IPython.core.display.HTML object>"
      ]
     },
     "metadata": {},
     "output_type": "display_data"
    },
    {
     "data": {
      "text/html": [
       "\n",
       "        <table>\n",
       "            <thead>\n",
       "                <tr>\n",
       "                    <th scope=\"col\">Tessa Moura Lacerda </th>\n",
       "                </tr>\n",
       "            </thead>\n",
       "            <tbody>\n",
       "        \n",
       "                <tr>\n",
       "                    <td>'História da Filosofia do Século XVII'</td>\n",
       "                </tr>\n",
       "               \n",
       "            </tbody>\n",
       "        </table>\n",
       "        "
      ],
      "text/plain": [
       "<IPython.core.display.HTML object>"
      ]
     },
     "metadata": {},
     "output_type": "display_data"
    },
    {
     "data": {
      "text/html": [
       "\n",
       "        <table>\n",
       "            <thead>\n",
       "                <tr>\n",
       "                    <th scope=\"col\">Valter Alnis Bezerra </th>\n",
       "                </tr>\n",
       "            </thead>\n",
       "            <tbody>\n",
       "        \n",
       "                <tr>\n",
       "                    <td>'Teoria da racionalidade'</td>\n",
       "                </tr>\n",
       "               \n",
       "                <tr>\n",
       "                    <td>'Teoria da justificação epistêmica'</td>\n",
       "                </tr>\n",
       "               \n",
       "                <tr>\n",
       "                    <td>'Metateoria estruturalista'</td>\n",
       "                </tr>\n",
       "               \n",
       "                <tr>\n",
       "                    <td>'Estilos de raciocínio científico'</td>\n",
       "                </tr>\n",
       "               \n",
       "                <tr>\n",
       "                    <td>'História da metodologia científica'</td>\n",
       "                </tr>\n",
       "               \n",
       "                <tr>\n",
       "                    <td>'Mecanicismo'</td>\n",
       "                </tr>\n",
       "               \n",
       "                <tr>\n",
       "                    <td>'História da teoria do campo'</td>\n",
       "                </tr>\n",
       "               \n",
       "                <tr>\n",
       "                    <td>'Fundamentos da mecânica quântica'</td>\n",
       "                </tr>\n",
       "               \n",
       "            </tbody>\n",
       "        </table>\n",
       "        "
      ],
      "text/plain": [
       "<IPython.core.display.HTML object>"
      ]
     },
     "metadata": {},
     "output_type": "display_data"
    },
    {
     "data": {
      "text/html": [
       "\n",
       "        <table>\n",
       "            <thead>\n",
       "                <tr>\n",
       "                    <th scope=\"col\">Vladimir Pinheiro Safatle </th>\n",
       "                </tr>\n",
       "            </thead>\n",
       "            <tbody>\n",
       "        \n",
       "                <tr>\n",
       "                    <td>'Teoria do reconhecimento'</td>\n",
       "                </tr>\n",
       "               \n",
       "                <tr>\n",
       "                    <td>'Teoria do sujeito'</td>\n",
       "                </tr>\n",
       "               \n",
       "                <tr>\n",
       "                    <td>'Experiência estética musical e a reconstrução dos modelos de crítica'</td>\n",
       "                </tr>\n",
       "               \n",
       "            </tbody>\n",
       "        </table>\n",
       "        "
      ],
      "text/plain": [
       "<IPython.core.display.HTML object>"
      ]
     },
     "metadata": {},
     "output_type": "display_data"
    },
    {
     "data": {
      "text/html": [
       "\n",
       "        <table>\n",
       "            <thead>\n",
       "                <tr>\n",
       "                    <th scope=\"col\">Adone Agnolin </th>\n",
       "                </tr>\n",
       "            </thead>\n",
       "            <tbody>\n",
       "        \n",
       "                <tr>\n",
       "                    <td>'Os Tabus Alimentares na Perspectiva dos Estudos Histórico-Religiosos'</td>\n",
       "                </tr>\n",
       "               \n",
       "                <tr>\n",
       "                    <td>'História das Religiões'</td>\n",
       "                </tr>\n",
       "               \n",
       "                <tr>\n",
       "                    <td>'História Moderna'</td>\n",
       "                </tr>\n",
       "               \n",
       "                <tr>\n",
       "                    <td>'Coordenador do Núcleo Temático Religião e Evangelização'</td>\n",
       "                </tr>\n",
       "               \n",
       "                <tr>\n",
       "                    <td>'Projeto Temático Dimensões do Império Português'</td>\n",
       "                </tr>\n",
       "               \n",
       "                <tr>\n",
       "                    <td>'Pesquisa Individual junto ao Departamento'</td>\n",
       "                </tr>\n",
       "               \n",
       "                <tr>\n",
       "                    <td>'Jesuítas, Humanismo e Evangelização no Oriente - Séculos XVI-XVII'</td>\n",
       "                </tr>\n",
       "               \n",
       "                <tr>\n",
       "                    <td>'Projeto Temático: Missionários, Índios e Mediação Cultural'</td>\n",
       "                </tr>\n",
       "               \n",
       "            </tbody>\n",
       "        </table>\n",
       "        "
      ],
      "text/plain": [
       "<IPython.core.display.HTML object>"
      ]
     },
     "metadata": {},
     "output_type": "display_data"
    },
    {
     "data": {
      "text/html": [
       "\n",
       "        <table>\n",
       "            <thead>\n",
       "                <tr>\n",
       "                    <th scope=\"col\">Ana Paula Tavares Magalhães Tacconi </th>\n",
       "                </tr>\n",
       "            </thead>\n",
       "            <tbody>\n",
       "        \n",
       "                <tr>\n",
       "                    <td>'A questão da Plenitudo Potestatis em Guilherme de Ockham: um exame de seus escritos políticos'</td>\n",
       "                </tr>\n",
       "               \n",
       "            </tbody>\n",
       "        </table>\n",
       "        "
      ],
      "text/plain": [
       "<IPython.core.display.HTML object>"
      ]
     },
     "metadata": {},
     "output_type": "display_data"
    },
    {
     "data": {
      "text/html": [
       "\n",
       "        <table>\n",
       "            <thead>\n",
       "                <tr>\n",
       "                    <th scope=\"col\">Ana Paula Torres Megiani </th>\n",
       "                </tr>\n",
       "            </thead>\n",
       "            <tbody>\n",
       "        \n",
       "                <tr>\n",
       "                    <td>'História da Cultura'</td>\n",
       "                </tr>\n",
       "               \n",
       "            </tbody>\n",
       "        </table>\n",
       "        "
      ],
      "text/plain": [
       "<IPython.core.display.HTML object>"
      ]
     },
     "metadata": {},
     "output_type": "display_data"
    },
    {
     "data": {
      "text/html": [
       "\n",
       "        <table>\n",
       "            <thead>\n",
       "                <tr>\n",
       "                    <th scope=\"col\">Angelo de Oliveira Segrillo </th>\n",
       "                </tr>\n",
       "            </thead>\n",
       "            <tbody>\n",
       "        \n",
       "                <tr>\n",
       "                    <td>'História da Rússia/URSS'</td>\n",
       "                </tr>\n",
       "               \n",
       "                <tr>\n",
       "                    <td>'História Política Comparada da Rússia e do Brasil'</td>\n",
       "                </tr>\n",
       "               \n",
       "                <tr>\n",
       "                    <td>'Relações Internacionais dos Países Socialistas e Ex-socialistas'</td>\n",
       "                </tr>\n",
       "               \n",
       "            </tbody>\n",
       "        </table>\n",
       "        "
      ],
      "text/plain": [
       "<IPython.core.display.HTML object>"
      ]
     },
     "metadata": {},
     "output_type": "display_data"
    },
    {
     "data": {
      "text/html": [
       "\n",
       "        <table>\n",
       "            <thead>\n",
       "                <tr>\n",
       "                    <th scope=\"col\">Antonia Terra de Calazans Fernandes </th>\n",
       "                </tr>\n",
       "            </thead>\n",
       "            <tbody>\n",
       "        \n",
       "                <tr>\n",
       "                    <td>'Memória do Livro Didático'</td>\n",
       "                </tr>\n",
       "               \n",
       "                <tr>\n",
       "                    <td>'Ensino de História Indígena'</td>\n",
       "                </tr>\n",
       "               \n",
       "                <tr>\n",
       "                    <td>'Educação Escolar Indígena'</td>\n",
       "                </tr>\n",
       "               \n",
       "                <tr>\n",
       "                    <td>'História dos Estudos Sociais'</td>\n",
       "                </tr>\n",
       "               \n",
       "                <tr>\n",
       "                    <td>'História dos Livros Didáticos'</td>\n",
       "                </tr>\n",
       "               \n",
       "            </tbody>\n",
       "        </table>\n",
       "        "
      ],
      "text/plain": [
       "<IPython.core.display.HTML object>"
      ]
     },
     "metadata": {},
     "output_type": "display_data"
    },
    {
     "data": {
      "text/html": [
       "\n",
       "        <table>\n",
       "            <thead>\n",
       "                <tr>\n",
       "                    <th scope=\"col\">Breno Ferraz Leal Ferreira </th>\n",
       "                </tr>\n",
       "            </thead>\n",
       "            <tbody>\n",
       "        \n",
       "                <tr>\n",
       "                    <td>'História da Ciência e da Cultura Científica'</td>\n",
       "                </tr>\n",
       "               \n",
       "                <tr>\n",
       "                    <td>'História Intelectual'</td>\n",
       "                </tr>\n",
       "               \n",
       "                <tr>\n",
       "                    <td>'História Ambiental'</td>\n",
       "                </tr>\n",
       "               \n",
       "                <tr>\n",
       "                    <td>'Historiografia'</td>\n",
       "                </tr>\n",
       "               \n",
       "            </tbody>\n",
       "        </table>\n",
       "        "
      ],
      "text/plain": [
       "<IPython.core.display.HTML object>"
      ]
     },
     "metadata": {},
     "output_type": "display_data"
    },
    {
     "data": {
      "text/html": [
       "\n",
       "        <table>\n",
       "            <thead>\n",
       "                <tr>\n",
       "                    <th scope=\"col\">Carlos Alberto de Moura Ribeiro Zeron </th>\n",
       "                </tr>\n",
       "            </thead>\n",
       "            <tbody>\n",
       "        \n",
       "                <tr>\n",
       "                    <td>'Missions religieuses ibériques modernes'</td>\n",
       "                </tr>\n",
       "               \n",
       "                <tr>\n",
       "                    <td>'Maîtrise de la nature en Amérique et dans la péninsule ibérique'</td>\n",
       "                </tr>\n",
       "               \n",
       "                <tr>\n",
       "                    <td>'Empires, sociétés, nations: Amérique latine et Méditerranée occidentale (XVe-XXIe siècle)'</td>\n",
       "                </tr>\n",
       "               \n",
       "                <tr>\n",
       "                    <td>'Restauration de la Compagnie de Jésus'</td>\n",
       "                </tr>\n",
       "               \n",
       "                <tr>\n",
       "                    <td>'Américanisation et américanité: dynamiques spatio-temporelles et enjeux multiculturels'</td>\n",
       "                </tr>\n",
       "               \n",
       "                <tr>\n",
       "                    <td>\"Antijésuitismes à l'époque moderne\"</td>\n",
       "                </tr>\n",
       "               \n",
       "                <tr>\n",
       "                    <td>'Escravidão e História Atlântica - Programa de Pós-Graduação em História Social'</td>\n",
       "                </tr>\n",
       "               \n",
       "                <tr>\n",
       "                    <td>'História Política - Programa de Pós-Graduação em História Social'</td>\n",
       "                </tr>\n",
       "               \n",
       "                <tr>\n",
       "                    <td>'Dicionário Musical de Mário de Andrade'</td>\n",
       "                </tr>\n",
       "               \n",
       "                <tr>\n",
       "                    <td>'Dimensões do império português: estruturas e dinâmicas do antigo sistema colonial'</td>\n",
       "                </tr>\n",
       "               \n",
       "                <tr>\n",
       "                    <td>'Quinto Império e beetrias: sobre a conveniência entre as dimensões temporais e a espiritual do Império Português em Antônio Vieira'</td>\n",
       "                </tr>\n",
       "               \n",
       "                <tr>\n",
       "                    <td>'LABORÍNDIO - Grupo de Pesquisa sobre o Trabalho Indígena nas Américas'</td>\n",
       "                </tr>\n",
       "               \n",
       "                <tr>\n",
       "                    <td>'3 vezes 22: Independência, Modernismo e Projetos do Futuro'</td>\n",
       "                </tr>\n",
       "               \n",
       "                <tr>\n",
       "                    <td>'Antônio Vieira Rastela o Direito Natural'</td>\n",
       "                </tr>\n",
       "               \n",
       "                <tr>\n",
       "                    <td>'Seminários Teóricos e Práticos de Metodologia da Pesquisa Histórica',</td>\n",
       "                </tr>\n",
       "               \n",
       "                <tr>\n",
       "                    <td>'Tempo, Memória e Pertencimento'</td>\n",
       "                </tr>\n",
       "               \n",
       "                <tr>\n",
       "                    <td>'Banco de Dados Ernani Silva Bruno: Equipamentos, usos e costumes da Casa Brasileira'</td>\n",
       "                </tr>\n",
       "               \n",
       "                <tr>\n",
       "                    <td>'Briga de Padres: natureza e sociedade nas disputas da Companhia de Jesus no Brasil (século XVII) (PQ-II)'</td>\n",
       "                </tr>\n",
       "               \n",
       "                <tr>\n",
       "                    <td>'Bem comum e utilidade pública: o bom governo dos índios nas Américas de colonização portuguesa e espanhola (PQ-II)'</td>\n",
       "                </tr>\n",
       "               \n",
       "                <tr>\n",
       "                    <td>'Jesuítas nas Américas'</td>\n",
       "                </tr>\n",
       "               \n",
       "                <tr>\n",
       "                    <td>'Rasteira, Encruzilhada e Corta-capim: usos contraditórios da autoridade de Juan de Solórzano Pereira por Antônio Vieira, Paulo da Silva Nunes e Francisco Xavier de Mendonça Furtado (PQ-II)'</td>\n",
       "                </tr>\n",
       "               \n",
       "                <tr>\n",
       "                    <td>'Quinto Império e pertencimento nacional (PQ-II)',</td>\n",
       "                </tr>\n",
       "               \n",
       "                <tr>\n",
       "                    <td>'Fronteras, Misiones e Imperios Coloniales. Red temática de investigación sobre las fronteras de las monarquías ibéricas.'</td>\n",
       "                </tr>\n",
       "               \n",
       "                <tr>\n",
       "                    <td>\"La Traite Négrière Vue par l'École de Salamanque : droit, liberté et commerce\"</td>\n",
       "                </tr>\n",
       "               \n",
       "                <tr>\n",
       "                    <td>'Jesuítas na América'</td>\n",
       "                </tr>\n",
       "               \n",
       "            </tbody>\n",
       "        </table>\n",
       "        "
      ],
      "text/plain": [
       "<IPython.core.display.HTML object>"
      ]
     },
     "metadata": {},
     "output_type": "display_data"
    },
    {
     "data": {
      "text/html": [
       "\n",
       "        <table>\n",
       "            <thead>\n",
       "                <tr>\n",
       "                    <th scope=\"col\">Carlos de Almeida Prado Bacellar </th>\n",
       "                </tr>\n",
       "            </thead>\n",
       "            <tbody>\n",
       "        \n",
       "                <tr>\n",
       "                    <td>'História da População'</td>\n",
       "                </tr>\n",
       "               \n",
       "                <tr>\n",
       "                    <td>'Demografia Histórica'</td>\n",
       "                </tr>\n",
       "               \n",
       "                <tr>\n",
       "                    <td>'História do Brasil Colônia'</td>\n",
       "                </tr>\n",
       "               \n",
       "                <tr>\n",
       "                    <td>'História da Família'</td>\n",
       "                </tr>\n",
       "               \n",
       "            </tbody>\n",
       "        </table>\n",
       "        "
      ],
      "text/plain": [
       "<IPython.core.display.HTML object>"
      ]
     },
     "metadata": {},
     "output_type": "display_data"
    },
    {
     "data": {
      "text/html": [
       "\n",
       "        <table>\n",
       "            <thead>\n",
       "                <tr>\n",
       "                    <th scope=\"col\">Daniel Strum </th>\n",
       "                </tr>\n",
       "            </thead>\n",
       "            <tbody>\n",
       "        \n",
       "                <tr>\n",
       "                    <td>'Estratégias e Mecanismos Oficiais e Informais que Promoviam a Integração e Expansão dos Mercados no Comércio Transatlântico no Período Colonial e os Condicionamentos Tecnológicos, Políticos, Sociais, Legais e Religiosos a que Estava Sujeito'</td>\n",
       "                </tr>\n",
       "               \n",
       "            </tbody>\n",
       "        </table>\n",
       "        "
      ],
      "text/plain": [
       "<IPython.core.display.HTML object>"
      ]
     },
     "metadata": {},
     "output_type": "display_data"
    },
    {
     "data": {
      "text/html": [
       "\n",
       "        <table>\n",
       "            <thead>\n",
       "                <tr>\n",
       "                    <th scope=\"col\">Dario Horácio Gutierrez Gallardo </th>\n",
       "                </tr>\n",
       "            </thead>\n",
       "            <tbody>\n",
       "        \n",
       "                <tr>\n",
       "                    <td>'Identidades americanas'</td>\n",
       "                </tr>\n",
       "               \n",
       "                <tr>\n",
       "                    <td>'História e literatura'</td>\n",
       "                </tr>\n",
       "               \n",
       "                <tr>\n",
       "                    <td>'História da escravidão'</td>\n",
       "                </tr>\n",
       "               \n",
       "            </tbody>\n",
       "        </table>\n",
       "        "
      ],
      "text/plain": [
       "<IPython.core.display.HTML object>"
      ]
     },
     "metadata": {},
     "output_type": "display_data"
    },
    {
     "data": {
      "text/html": [
       "\n",
       "        <table>\n",
       "            <thead>\n",
       "                <tr>\n",
       "                    <th scope=\"col\">Eduardo Holderle Peruzzo </th>\n",
       "                </tr>\n",
       "            </thead>\n",
       "            <tbody>\n",
       "        \n",
       "                <tr>\n",
       "                    <td>'Historiografias Atlânticas'</td>\n",
       "                </tr>\n",
       "               \n",
       "                <tr>\n",
       "                    <td>'Laboratório de Pesquisa em História Moderna'</td>\n",
       "                </tr>\n",
       "               \n",
       "            </tbody>\n",
       "        </table>\n",
       "        "
      ],
      "text/plain": [
       "<IPython.core.display.HTML object>"
      ]
     },
     "metadata": {},
     "output_type": "display_data"
    },
    {
     "data": {
      "text/html": [
       "\n",
       "        <table>\n",
       "            <thead>\n",
       "                <tr>\n",
       "                    <th scope=\"col\">Eduardo Natalino dos Santos </th>\n",
       "                </tr>\n",
       "            </thead>\n",
       "            <tbody>\n",
       "        \n",
       "                <tr>\n",
       "                    <td>'História indígena: as tradições de pensamento ameríndias e suas transformações na passagem do período pré-hispânico ao colonial',</td>\n",
       "                </tr>\n",
       "               \n",
       "                <tr>\n",
       "                    <td>'História indígena e interdisciplinaridade (Centro de Estudos Ameríndios da USP)'</td>\n",
       "                </tr>\n",
       "               \n",
       "                <tr>\n",
       "                    <td>'História, Arqueologia e Antropologia da Mesoamérica e Andes Centrais (Centro de Estudos Mesoamericanos e Andinos da USP)'</td>\n",
       "                </tr>\n",
       "               \n",
       "            </tbody>\n",
       "        </table>\n",
       "        "
      ],
      "text/plain": [
       "<IPython.core.display.HTML object>"
      ]
     },
     "metadata": {},
     "output_type": "display_data"
    },
    {
     "data": {
      "text/html": [
       "\n",
       "        <table>\n",
       "            <thead>\n",
       "                <tr>\n",
       "                    <th scope=\"col\">Elias Thomé Saliba </th>\n",
       "                </tr>\n",
       "            </thead>\n",
       "            <tbody>\n",
       "        \n",
       "                <tr>\n",
       "                    <td>'História da Cultura'</td>\n",
       "                </tr>\n",
       "               \n",
       "                <tr>\n",
       "                    <td>'História da Cultura no Brasil'</td>\n",
       "                </tr>\n",
       "               \n",
       "                <tr>\n",
       "                    <td>'História da Produção Humorística no Brasil'</td>\n",
       "                </tr>\n",
       "               \n",
       "            </tbody>\n",
       "        </table>\n",
       "        "
      ],
      "text/plain": [
       "<IPython.core.display.HTML object>"
      ]
     },
     "metadata": {},
     "output_type": "display_data"
    },
    {
     "data": {
      "text/html": [
       "\n",
       "        <table>\n",
       "            <thead>\n",
       "                <tr>\n",
       "                    <th scope=\"col\">Elizabeth Cancelli </th>\n",
       "                </tr>\n",
       "            </thead>\n",
       "            <tbody>\n",
       "        \n",
       "                <tr>\n",
       "                    <td>'Novas dinâmicas nas Américas: cultura, política e desenvolvimento'</td>\n",
       "                </tr>\n",
       "               \n",
       "                <tr>\n",
       "                    <td>'Cidadania e violência nas Américas'</td>\n",
       "                </tr>\n",
       "               \n",
       "                <tr>\n",
       "                    <td>'Cultura e produção político-cultural'</td>\n",
       "                </tr>\n",
       "               \n",
       "                <tr>\n",
       "                    <td>'História social e das idéias. Nesta linha foram desenvolvidas as seguintes pesquisas: O mundo da violência: o Estado Policial na Era Vargas A Intentona em Nova Iorque Criminosos e não criminosos na História  A (des)humanização das penas: Histórias de c'</td>\n",
       "                </tr>\n",
       "               \n",
       "                <tr>\n",
       "                    <td>'Criminosos e não criminosos na História.'</td>\n",
       "                </tr>\n",
       "               \n",
       "                <tr>\n",
       "                    <td>'Pesquisa sobre conflitos de terra existentes no Brasil e estrutura fundiária'</td>\n",
       "                </tr>\n",
       "               \n",
       "                <tr>\n",
       "                    <td>'Estrutura Sindical Brasileira'</td>\n",
       "                </tr>\n",
       "               \n",
       "                <tr>\n",
       "                    <td>'Pesquisa CEDEC /ILDES sobre estrutura sindical brasileira, relativa ao Rio Grande do Sul'</td>\n",
       "                </tr>\n",
       "               \n",
       "                <tr>\n",
       "                    <td>'Marcha para o Oeste'</td>\n",
       "                </tr>\n",
       "               \n",
       "                <tr>\n",
       "                    <td>'Projeto Pólo Noroeste - BIRD'</td>\n",
       "                </tr>\n",
       "               \n",
       "                <tr>\n",
       "                    <td>'PROIN (Laboratório de Estudos Sobre Memória Política Brasileira - USP), financiamento FAPESP, pesquisadora principal'</td>\n",
       "                </tr>\n",
       "               \n",
       "                <tr>\n",
       "                    <td>'O poder das idéias: a corrente dos inocentes'</td>\n",
       "                </tr>\n",
       "               \n",
       "                <tr>\n",
       "                    <td>'Diário: a viagem de Alfred Knopf ao Brasil'</td>\n",
       "                </tr>\n",
       "               \n",
       "                <tr>\n",
       "                    <td>'História e Testemunho'</td>\n",
       "                </tr>\n",
       "               \n",
       "                <tr>\n",
       "                    <td>'A Questão da Democracia Racial'</td>\n",
       "                </tr>\n",
       "               \n",
       "            </tbody>\n",
       "        </table>\n",
       "        "
      ],
      "text/plain": [
       "<IPython.core.display.HTML object>"
      ]
     },
     "metadata": {},
     "output_type": "display_data"
    },
    {
     "data": {
      "text/html": [
       "\n",
       "        <table>\n",
       "            <thead>\n",
       "                <tr>\n",
       "                    <th scope=\"col\">Everaldo de Oliveira Andrade' </th>\n",
       "                </tr>\n",
       "            </thead>\n",
       "            <tbody>\n",
       "        \n",
       "                <tr>\n",
       "                    <td>'História Econômica e Política da América Latina Contemporânea'</td>\n",
       "                </tr>\n",
       "               \n",
       "                <tr>\n",
       "                    <td>'História e Debates Teóricos Acerca das Economias Planificadas de Propriedade Social no Século XX'</td>\n",
       "                </tr>\n",
       "               \n",
       "            </tbody>\n",
       "        </table>\n",
       "        "
      ],
      "text/plain": [
       "<IPython.core.display.HTML object>"
      ]
     },
     "metadata": {},
     "output_type": "display_data"
    },
    {
     "data": {
      "text/html": [
       "\n",
       "        <table>\n",
       "            <thead>\n",
       "                <tr>\n",
       "                    <th scope=\"col\">Flavio de Campos' </th>\n",
       "                </tr>\n",
       "            </thead>\n",
       "            <tbody>\n",
       "        \n",
       "                <tr>\n",
       "                    <td>'História da Cultura'</td>\n",
       "                </tr>\n",
       "               \n",
       "                <tr>\n",
       "                    <td>'Coordenador Científico do Núcleo LUDENS - Núcleo Interdisciplinar de Pesquisas sobre Futebol e Modalidades Lúdicas'</td>\n",
       "                </tr>\n",
       "               \n",
       "            </tbody>\n",
       "        </table>\n",
       "        "
      ],
      "text/plain": [
       "<IPython.core.display.HTML object>"
      ]
     },
     "metadata": {},
     "output_type": "display_data"
    },
    {
     "data": {
      "text/html": [
       "\n",
       "        <table>\n",
       "            <thead>\n",
       "                <tr>\n",
       "                    <th scope=\"col\">Francisco Assis de Queiroz </th>\n",
       "                </tr>\n",
       "            </thead>\n",
       "            <tbody>\n",
       "        \n",
       "                <tr>\n",
       "                    <td>'História Econômica e Financeira'</td>\n",
       "                </tr>\n",
       "               \n",
       "                <tr>\n",
       "                    <td>'Economia Monetária'</td>\n",
       "                </tr>\n",
       "               \n",
       "                <tr>\n",
       "                    <td>'Desenvolvimento Econômico'</td>\n",
       "                </tr>\n",
       "               \n",
       "                <tr>\n",
       "                    <td>'História e Economia Chinesa'</td>\n",
       "                </tr>\n",
       "               \n",
       "            </tbody>\n",
       "        </table>\n",
       "        "
      ],
      "text/plain": [
       "<IPython.core.display.HTML object>"
      ]
     },
     "metadata": {},
     "output_type": "display_data"
    },
    {
     "data": {
      "text/html": [
       "\n",
       "        <table>\n",
       "            <thead>\n",
       "                <tr>\n",
       "                    <th scope=\"col\">Francisco Cabral Alambert Junior </th>\n",
       "                </tr>\n",
       "            </thead>\n",
       "            <tbody>\n",
       "        \n",
       "                <tr>\n",
       "                    <td>'História Contemporânea'</td>\n",
       "                </tr>\n",
       "               \n",
       "                <tr>\n",
       "                    <td>'História da Arte'</td>\n",
       "                </tr>\n",
       "               \n",
       "                <tr>\n",
       "                    <td>'História da Cultura'</td>\n",
       "                </tr>\n",
       "               \n",
       "            </tbody>\n",
       "        </table>\n",
       "        "
      ],
      "text/plain": [
       "<IPython.core.display.HTML object>"
      ]
     },
     "metadata": {},
     "output_type": "display_data"
    },
    {
     "data": {
      "text/html": [
       "\n",
       "        <table>\n",
       "            <thead>\n",
       "                <tr>\n",
       "                    <th scope=\"col\">Francisco Carlos Palomanes Martinho </th>\n",
       "                </tr>\n",
       "            </thead>\n",
       "            <tbody>\n",
       "        \n",
       "                <tr>\n",
       "                    <td>'História Política'</td>\n",
       "                </tr>\n",
       "               \n",
       "                <tr>\n",
       "                    <td>'História Contemporânea Portuguesa'</td>\n",
       "                </tr>\n",
       "               \n",
       "            </tbody>\n",
       "        </table>\n",
       "        "
      ],
      "text/plain": [
       "<IPython.core.display.HTML object>"
      ]
     },
     "metadata": {},
     "output_type": "display_data"
    },
    {
     "data": {
      "text/html": [
       "\n",
       "        <table>\n",
       "            <thead>\n",
       "                <tr>\n",
       "                    <th scope=\"col\">Gabriela Pellegrino Soares </th>\n",
       "                </tr>\n",
       "            </thead>\n",
       "            <tbody>\n",
       "        \n",
       "                <tr>\n",
       "                    <td>'Pesquisadora Associada da BBM - Coleções editoriais brasilianas nos anos 1930 aos 1960'</td>\n",
       "                </tr>\n",
       "               \n",
       "                <tr>\n",
       "                    <td>'História, Cultura e Poder'</td>\n",
       "                </tr>\n",
       "               \n",
       "                <tr>\n",
       "                    <td>'História Política'</td>\n",
       "                </tr>\n",
       "               \n",
       "            </tbody>\n",
       "        </table>\n",
       "        "
      ],
      "text/plain": [
       "<IPython.core.display.HTML object>"
      ]
     },
     "metadata": {},
     "output_type": "display_data"
    },
    {
     "data": {
      "text/html": [
       "\n",
       "        <table>\n",
       "            <thead>\n",
       "                <tr>\n",
       "                    <th scope=\"col\">Gildo Magalhães dos Santos Filho </th>\n",
       "                </tr>\n",
       "            </thead>\n",
       "            <tbody>\n",
       "        \n",
       "                <tr>\n",
       "                    <td>'História da eletrificação'</td>\n",
       "                </tr>\n",
       "               \n",
       "            </tbody>\n",
       "        </table>\n",
       "        "
      ],
      "text/plain": [
       "<IPython.core.display.HTML object>"
      ]
     },
     "metadata": {},
     "output_type": "display_data"
    },
    {
     "data": {
      "text/html": [
       "\n",
       "        <table>\n",
       "            <thead>\n",
       "                <tr>\n",
       "                    <th scope=\"col\">Henrique Soares Carneiro </th>\n",
       "                </tr>\n",
       "            </thead>\n",
       "            <tbody>\n",
       "        \n",
       "                <tr>\n",
       "                    <td>'História da Ciência'</td>\n",
       "                </tr>\n",
       "               \n",
       "                <tr>\n",
       "                    <td>'História Moderna e Contemporânea'</td>\n",
       "                </tr>\n",
       "               \n",
       "                <tr>\n",
       "                    <td>'História da Alimentação, das Bebidas e das Drogas'</td>\n",
       "                </tr>\n",
       "               \n",
       "            </tbody>\n",
       "        </table>\n",
       "        "
      ],
      "text/plain": [
       "<IPython.core.display.HTML object>"
      ]
     },
     "metadata": {},
     "output_type": "display_data"
    },
    {
     "data": {
      "text/html": [
       "\n",
       "        <table>\n",
       "            <thead>\n",
       "                <tr>\n",
       "                    <th scope=\"col\">Iris Kantor </th>\n",
       "                </tr>\n",
       "            </thead>\n",
       "            <tbody>\n",
       "        \n",
       "                <tr>\n",
       "                    <td>'Laboratório de Estudos de Cartografia Histórica'</td>\n",
       "                </tr>\n",
       "               \n",
       "            </tbody>\n",
       "        </table>\n",
       "        "
      ],
      "text/plain": [
       "<IPython.core.display.HTML object>"
      ]
     },
     "metadata": {},
     "output_type": "display_data"
    },
    {
     "data": {
      "text/html": [
       "\n",
       "        <table>\n",
       "            <thead>\n",
       "                <tr>\n",
       "                    <th scope=\"col\">Jorge Luis da Silva Grespan </th>\n",
       "                </tr>\n",
       "            </thead>\n",
       "            <tbody>\n",
       "        \n",
       "                <tr>\n",
       "                    <td>'O conceito de crise econômica em Marx'</td>\n",
       "                </tr>\n",
       "               \n",
       "            </tbody>\n",
       "        </table>\n",
       "        "
      ],
      "text/plain": [
       "<IPython.core.display.HTML object>"
      ]
     },
     "metadata": {},
     "output_type": "display_data"
    },
    {
     "data": {
      "text/html": [
       "\n",
       "        <table>\n",
       "            <thead>\n",
       "                <tr>\n",
       "                    <th scope=\"col\">José Antonio Vasconcelos </th>\n",
       "                </tr>\n",
       "            </thead>\n",
       "            <tbody>\n",
       "        \n",
       "                <tr>\n",
       "                    <td>'Saberes e Identidades'</td>\n",
       "                </tr>\n",
       "               \n",
       "                <tr>\n",
       "                    <td>'Poéticas do Contemporâneo'</td>\n",
       "                </tr>\n",
       "               \n",
       "                <tr>\n",
       "                    <td>'Políticas da Subjetividade'</td>\n",
       "                </tr>\n",
       "               \n",
       "                <tr>\n",
       "                    <td>'História da Educação'</td>\n",
       "                </tr>\n",
       "               \n",
       "            </tbody>\n",
       "        </table>\n",
       "        "
      ],
      "text/plain": [
       "<IPython.core.display.HTML object>"
      ]
     },
     "metadata": {},
     "output_type": "display_data"
    },
    {
     "data": {
      "text/html": [
       "\n",
       "        <table>\n",
       "            <thead>\n",
       "                <tr>\n",
       "                    <th scope=\"col\">José Geraldo Vinci de Moraes </th>\n",
       "                </tr>\n",
       "            </thead>\n",
       "            <tbody>\n",
       "        \n",
       "                <tr>\n",
       "                    <td>'Entre a Memória e a História da Música'</td>\n",
       "                </tr>\n",
       "               \n",
       "                <tr>\n",
       "                    <td>'Esportes, atividades lúdicas e futebol em São Paulo na primeira metade do século XX'</td>\n",
       "                </tr>\n",
       "               \n",
       "                <tr>\n",
       "                    <td>'A cultura musical na cidade de São Paulo (primeira metade do século XX)'</td>\n",
       "                </tr>\n",
       "               \n",
       "                <tr>\n",
       "                    <td>'Escrita e historiografia da música popular brasileira (financiamento CNPq)'</td>\n",
       "                </tr>\n",
       "               \n",
       "                <tr>\n",
       "                    <td>'Escrituras da memória e da história  da música popular no Brasil (financiamento CNPq)'</td>\n",
       "                </tr>\n",
       "               \n",
       "                <tr>\n",
       "                    <td>'Dilemas culturais na formação de um  novo território historiográfico: os sons, as sonoridades, as escutas e a música (Financiamento Fapesp)'</td>\n",
       "                </tr>\n",
       "               \n",
       "                <tr>\n",
       "                    <td>'Os sons, as escutas e a música em São Paulo no início do século XX. Dilemas culturais na formação de um novo território historiográfico.  (Financiamento  Chamada MCTIC/CNPq Nº 28/2018 - Universal)',</td>\n",
       "                </tr>\n",
       "               \n",
       "                <tr>\n",
       "                    <td>'Criar um mundo do nada. A invenção de uma historiografia da música popular'</td>\n",
       "                </tr>\n",
       "               \n",
       "                <tr>\n",
       "                    <td>'El debate historiografico a fin del siglo - coordenação prof.dr. Carlos Barros'</td>\n",
       "                </tr>\n",
       "               \n",
       "                <tr>\n",
       "                    <td>'Análise de Conjuntura Política'</td>\n",
       "                </tr>\n",
       "               \n",
       "                <tr>\n",
       "                    <td>'A Formação da Indústria da Música Popular em São Paulo (Anos 30/40)'</td>\n",
       "                </tr>\n",
       "               \n",
       "            </tbody>\n",
       "        </table>\n",
       "        "
      ],
      "text/plain": [
       "<IPython.core.display.HTML object>"
      ]
     },
     "metadata": {},
     "output_type": "display_data"
    },
    {
     "data": {
      "text/html": [
       "\n",
       "        <table>\n",
       "            <thead>\n",
       "                <tr>\n",
       "                    <th scope=\"col\">João Paulo Garrido Pimenta </th>\n",
       "                </tr>\n",
       "            </thead>\n",
       "            <tbody>\n",
       "        \n",
       "                <tr>\n",
       "                    <td>'Independência do Brasil'</td>\n",
       "                </tr>\n",
       "               \n",
       "                <tr>\n",
       "                    <td>'Independência da América Espanhola'</td>\n",
       "                </tr>\n",
       "               \n",
       "                <tr>\n",
       "                    <td>'América Portuguesa, Séculos XVIII E XIX'</td>\n",
       "                </tr>\n",
       "               \n",
       "                <tr>\n",
       "                    <td>'Império do Brasil'</td>\n",
       "                </tr>\n",
       "               \n",
       "                <tr>\n",
       "                    <td>'Questão Nacional e Identidades Nacionais'</td>\n",
       "                </tr>\n",
       "               \n",
       "                <tr>\n",
       "                    <td>'História do Tempo Histórico'</td>\n",
       "                </tr>\n",
       "               \n",
       "            </tbody>\n",
       "        </table>\n",
       "        "
      ],
      "text/plain": [
       "<IPython.core.display.HTML object>"
      ]
     },
     "metadata": {},
     "output_type": "display_data"
    },
    {
     "data": {
      "text/html": [
       "\n",
       "        <table>\n",
       "            <thead>\n",
       "                <tr>\n",
       "                    <th scope=\"col\">Julio Cesar Magalhães de Oliveira </th>\n",
       "                </tr>\n",
       "            </thead>\n",
       "            <tbody>\n",
       "        \n",
       "                <tr>\n",
       "                    <td>'História dos Movimentos e das Relações Sociais'</td>\n",
       "                </tr>\n",
       "               \n",
       "            </tbody>\n",
       "        </table>\n",
       "        "
      ],
      "text/plain": [
       "<IPython.core.display.HTML object>"
      ]
     },
     "metadata": {},
     "output_type": "display_data"
    },
    {
     "data": {
      "text/html": [
       "\n",
       "        <table>\n",
       "            <thead>\n",
       "                <tr>\n",
       "                    <th scope=\"col\">Julio Cesar Pimentel Pinto Filho </th>\n",
       "                </tr>\n",
       "            </thead>\n",
       "            <tbody>\n",
       "        \n",
       "                <tr>\n",
       "                    <td>'História da Cultura'</td>\n",
       "                </tr>\n",
       "               \n",
       "            </tbody>\n",
       "        </table>\n",
       "        "
      ],
      "text/plain": [
       "<IPython.core.display.HTML object>"
      ]
     },
     "metadata": {},
     "output_type": "display_data"
    },
    {
     "data": {
      "text/html": [
       "\n",
       "        <table>\n",
       "            <thead>\n",
       "                <tr>\n",
       "                    <th scope=\"col\">Lincoln Ferreira Secco </th>\n",
       "                </tr>\n",
       "            </thead>\n",
       "            <tbody>\n",
       "        \n",
       "                <tr>\n",
       "                    <td>'Coordenador do Grupo Fernand Braudel'</td>\n",
       "                </tr>\n",
       "               \n",
       "            </tbody>\n",
       "        </table>\n",
       "        "
      ],
      "text/plain": [
       "<IPython.core.display.HTML object>"
      ]
     },
     "metadata": {},
     "output_type": "display_data"
    },
    {
     "data": {
      "text/html": [
       "\n",
       "        <table>\n",
       "            <thead>\n",
       "                <tr>\n",
       "                    <th scope=\"col\">Luiz Bernardo Murtinho Pericás </th>\n",
       "                </tr>\n",
       "            </thead>\n",
       "            <tbody>\n",
       "        \n",
       "                <tr>\n",
       "                    <td>'Caio Prado Júnior: pensamento político e socialismo'</td>\n",
       "                </tr>\n",
       "               \n",
       "                <tr>\n",
       "                    <td>'Caminhos da revolução brasileira'</td>\n",
       "                </tr>\n",
       "               \n",
       "            </tbody>\n",
       "        </table>\n",
       "        "
      ],
      "text/plain": [
       "<IPython.core.display.HTML object>"
      ]
     },
     "metadata": {},
     "output_type": "display_data"
    },
    {
     "data": {
      "text/html": [
       "\n",
       "        <table>\n",
       "            <thead>\n",
       "                <tr>\n",
       "                    <th scope=\"col\">Marcelo Aparecido Rede </th>\n",
       "                </tr>\n",
       "            </thead>\n",
       "            <tbody>\n",
       "        \n",
       "                <tr>\n",
       "                    <td>'História Antiga'</td>\n",
       "                </tr>\n",
       "               \n",
       "            </tbody>\n",
       "        </table>\n",
       "        "
      ],
      "text/plain": [
       "<IPython.core.display.HTML object>"
      ]
     },
     "metadata": {},
     "output_type": "display_data"
    },
    {
     "data": {
      "text/html": [
       "\n",
       "        <table>\n",
       "            <thead>\n",
       "                <tr>\n",
       "                    <th scope=\"col\">Marcelo Candido da Silva </th>\n",
       "                </tr>\n",
       "            </thead>\n",
       "            <tbody>\n",
       "        \n",
       "                <tr>\n",
       "                    <td>'História e Culturas Políticas'</td>\n",
       "                </tr>\n",
       "               \n",
       "                <tr>\n",
       "                    <td>'Idade Média'</td>\n",
       "                </tr>\n",
       "               \n",
       "                <tr>\n",
       "                    <td>'Relações entre Igreja e Estado'</td>\n",
       "                </tr>\n",
       "               \n",
       "                <tr>\n",
       "                    <td>'Pouvoir, échange et contrôle social'</td>\n",
       "                </tr>\n",
       "               \n",
       "                <tr>\n",
       "                    <td>'Crise e governança na Alta Idade Média'</td>\n",
       "                </tr>\n",
       "               \n",
       "                <tr>\n",
       "                    <td>'Élites dans le haut Moyen Âge'</td>\n",
       "                </tr>\n",
       "               \n",
       "            </tbody>\n",
       "        </table>\n",
       "        "
      ],
      "text/plain": [
       "<IPython.core.display.HTML object>"
      ]
     },
     "metadata": {},
     "output_type": "display_data"
    },
    {
     "data": {
      "text/html": [
       "\n",
       "        <table>\n",
       "            <thead>\n",
       "                <tr>\n",
       "                    <th scope=\"col\">Marcos Francisco Napolitano de Eugênio </th>\n",
       "                </tr>\n",
       "            </thead>\n",
       "            <tbody>\n",
       "        \n",
       "                <tr>\n",
       "                    <td>'História e audiovisual: circularidades e formas de comunicação'</td>\n",
       "                </tr>\n",
       "               \n",
       "                <tr>\n",
       "                    <td>'História,  Cultura e Poder'</td>\n",
       "                </tr>\n",
       "               \n",
       "            </tbody>\n",
       "        </table>\n",
       "        "
      ],
      "text/plain": [
       "<IPython.core.display.HTML object>"
      ]
     },
     "metadata": {},
     "output_type": "display_data"
    },
    {
     "data": {
      "text/html": [
       "\n",
       "        <table>\n",
       "            <thead>\n",
       "                <tr>\n",
       "                    <th scope=\"col\">Maria Cristina Correia Leandro Pereira </th>\n",
       "                </tr>\n",
       "            </thead>\n",
       "            <tbody>\n",
       "        \n",
       "                <tr>\n",
       "                    <td>'Cultura Material e Visual, Historiografia e Documentação'</td>\n",
       "                </tr>\n",
       "               \n",
       "            </tbody>\n",
       "        </table>\n",
       "        "
      ],
      "text/plain": [
       "<IPython.core.display.HTML object>"
      ]
     },
     "metadata": {},
     "output_type": "display_data"
    },
    {
     "data": {
      "text/html": [
       "\n",
       "        <table>\n",
       "            <thead>\n",
       "                <tr>\n",
       "                    <th scope=\"col\">Maria Cristina Cortez Wissenbach </th>\n",
       "                </tr>\n",
       "            </thead>\n",
       "            <tbody>\n",
       "        \n",
       "                <tr>\n",
       "                    <td>'História da África'</td>\n",
       "                </tr>\n",
       "               \n",
       "                <tr>\n",
       "                    <td>'História Atlântica'</td>\n",
       "                </tr>\n",
       "               \n",
       "                <tr>\n",
       "                    <td>'Escravidão e História Atlântica'</td>\n",
       "                </tr>\n",
       "               \n",
       "            </tbody>\n",
       "        </table>\n",
       "        "
      ],
      "text/plain": [
       "<IPython.core.display.HTML object>"
      ]
     },
     "metadata": {},
     "output_type": "display_data"
    },
    {
     "data": {
      "text/html": [
       "\n",
       "        <table>\n",
       "            <thead>\n",
       "                <tr>\n",
       "                    <th scope=\"col\">Maria Helena Pereira Toledo Machado </th>\n",
       "                </tr>\n",
       "            </thead>\n",
       "            <tbody>\n",
       "        \n",
       "                <tr>\n",
       "                    <td>'História Social da escravidão'</td>\n",
       "                </tr>\n",
       "               \n",
       "                <tr>\n",
       "                    <td>'Diários, Relatos de Viagem e Viajantes Nacionais'</td>\n",
       "                </tr>\n",
       "               \n",
       "                <tr>\n",
       "                    <td>'História das Idéias no Século XIX - Relatos de Viagem e discussões a respeito da origem do homem e da civilização na América'</td>\n",
       "                </tr>\n",
       "               \n",
       "                <tr>\n",
       "                    <td>'História da Escravidão e da Abolição no Brasil'</td>\n",
       "                </tr>\n",
       "               \n",
       "                <tr>\n",
       "                    <td>'Teorias sobre a Origem na América Latina'</td>\n",
       "                </tr>\n",
       "               \n",
       "                <tr>\n",
       "                    <td>'Ciência e Raça na Era das Abolições: A Expedição Thayer de Louis Agassiz'</td>\n",
       "                </tr>\n",
       "               \n",
       "            </tbody>\n",
       "        </table>\n",
       "        "
      ],
      "text/plain": [
       "<IPython.core.display.HTML object>"
      ]
     },
     "metadata": {},
     "output_type": "display_data"
    },
    {
     "data": {
      "text/html": [
       "\n",
       "        <table>\n",
       "            <thead>\n",
       "                <tr>\n",
       "                    <th scope=\"col\">Marilia Bueno de Araujo Ariza </th>\n",
       "                </tr>\n",
       "            </thead>\n",
       "            <tbody>\n",
       "        \n",
       "                <tr>\n",
       "                    <td>'Relações entre trabalho, tutela, emancipação gradual e abolição, com especial atenção às imbricações dessas questões a relações e representações sociais de gênero, maternidade e infância'</td>\n",
       "                </tr>\n",
       "               \n",
       "            </tbody>\n",
       "        </table>\n",
       "        "
      ],
      "text/plain": [
       "<IPython.core.display.HTML object>"
      ]
     },
     "metadata": {},
     "output_type": "display_data"
    },
    {
     "data": {
      "text/html": [
       "\n",
       "        <table>\n",
       "            <thead>\n",
       "                <tr>\n",
       "                    <th scope=\"col\">Marina de Mello e Souza </th>\n",
       "                </tr>\n",
       "            </thead>\n",
       "            <tbody>\n",
       "        \n",
       "                <tr>\n",
       "                    <td>'A África no Brasil e o Brasil na África'</td>\n",
       "                </tr>\n",
       "               \n",
       "                <tr>\n",
       "                    <td>'História da África'</td>\n",
       "                </tr>\n",
       "               \n",
       "                <tr>\n",
       "                    <td>'História Atlântica'</td>\n",
       "                </tr>\n",
       "               \n",
       "                <tr>\n",
       "                    <td>'A Ordem de Cristo no Congo - séculos XVII - XIX.'</td>\n",
       "                </tr>\n",
       "               \n",
       "                <tr>\n",
       "                    <td>'Substituição de antigas alianças pela dominação: o Congo colonial'</td>\n",
       "                </tr>\n",
       "               \n",
       "                <tr>\n",
       "                    <td>'Projeto Temático Dimenões do Império Português'</td>\n",
       "                </tr>\n",
       "               \n",
       "                <tr>\n",
       "                    <td>'Estudos de Folclore'</td>\n",
       "                </tr>\n",
       "               \n",
       "                <tr>\n",
       "                    <td>'Cultura Popular'</td>\n",
       "                </tr>\n",
       "               \n",
       "                <tr>\n",
       "                    <td>'Projeto Artesanato Brasileiro'</td>\n",
       "                </tr>\n",
       "               \n",
       "            </tbody>\n",
       "        </table>\n",
       "        "
      ],
      "text/plain": [
       "<IPython.core.display.HTML object>"
      ]
     },
     "metadata": {},
     "output_type": "display_data"
    },
    {
     "data": {
      "text/html": [
       "\n",
       "        <table>\n",
       "            <thead>\n",
       "                <tr>\n",
       "                    <th scope=\"col\">Mary Anne Junqueira </th>\n",
       "                </tr>\n",
       "            </thead>\n",
       "            <tbody>\n",
       "        \n",
       "                <tr>\n",
       "                    <td>'História, Cultura e Poder'</td>\n",
       "                </tr>\n",
       "               \n",
       "            </tbody>\n",
       "        </table>\n",
       "        "
      ],
      "text/plain": [
       "<IPython.core.display.HTML object>"
      ]
     },
     "metadata": {},
     "output_type": "display_data"
    },
    {
     "data": {
      "text/html": [
       "\n",
       "        <table>\n",
       "            <thead>\n",
       "                <tr>\n",
       "                    <th scope=\"col\">Mauricio Cardoso </th>\n",
       "                </tr>\n",
       "            </thead>\n",
       "            <tbody>\n",
       "        \n",
       "                <tr>\n",
       "                    <td>'Produção Audiovisual Brasileira'</td>\n",
       "                </tr>\n",
       "               \n",
       "                <tr>\n",
       "                    <td>'Indústria Cultural' </td>\n",
       "                </tr>\n",
       "               \n",
       "                <tr>\n",
       "                    <td>'História Pública'</td>\n",
       "                </tr>\n",
       "               \n",
       "            </tbody>\n",
       "        </table>\n",
       "        "
      ],
      "text/plain": [
       "<IPython.core.display.HTML object>"
      ]
     },
     "metadata": {},
     "output_type": "display_data"
    },
    {
     "data": {
      "text/html": [
       "\n",
       "        <table>\n",
       "            <thead>\n",
       "                <tr>\n",
       "                    <th scope=\"col\">Miguel Soares Palmeira</th>\n",
       "                </tr>\n",
       "            </thead>\n",
       "            <tbody>\n",
       "        \n",
       "            </tbody>\n",
       "        </table>\n",
       "        "
      ],
      "text/plain": [
       "<IPython.core.display.HTML object>"
      ]
     },
     "metadata": {},
     "output_type": "display_data"
    },
    {
     "data": {
      "text/html": [
       "\n",
       "        <table>\n",
       "            <thead>\n",
       "                <tr>\n",
       "                    <th scope=\"col\">Miriam Dolhnikoff </th>\n",
       "                </tr>\n",
       "            </thead>\n",
       "            <tbody>\n",
       "        \n",
       "                <tr>\n",
       "                    <td>'História do Brasil no século XIX'</td>\n",
       "                </tr>\n",
       "               \n",
       "                <tr>\n",
       "                    <td>'A construção do Estado brasileiro no século XIX'</td>\n",
       "                </tr>\n",
       "               \n",
       "            </tbody>\n",
       "        </table>\n",
       "        "
      ],
      "text/plain": [
       "<IPython.core.display.HTML object>"
      ]
     },
     "metadata": {},
     "output_type": "display_data"
    },
    {
     "data": {
      "text/html": [
       "\n",
       "        <table>\n",
       "            <thead>\n",
       "                <tr>\n",
       "                    <th scope=\"col\">Márcia Regina Barros da Silva </th>\n",
       "                </tr>\n",
       "            </thead>\n",
       "            <tbody>\n",
       "        \n",
       "                <tr>\n",
       "                    <td>'NECSO - Núcleo de Estudo de Ciência & Tecnologia & Sociedade'</td>\n",
       "                </tr>\n",
       "               \n",
       "                <tr>\n",
       "                    <td>'História da medicina e da saúde:espaços institucionais e atores'</td>\n",
       "                </tr>\n",
       "               \n",
       "                <tr>\n",
       "                    <td>'História das Ciências, Tecnologia e Sociedade'</td>\n",
       "                </tr>\n",
       "               \n",
       "            </tbody>\n",
       "        </table>\n",
       "        "
      ],
      "text/plain": [
       "<IPython.core.display.HTML object>"
      ]
     },
     "metadata": {},
     "output_type": "display_data"
    },
    {
     "data": {
      "text/html": [
       "\n",
       "        <table>\n",
       "            <thead>\n",
       "                <tr>\n",
       "                    <th scope=\"col\">Osvaldo Luis Angel Coggiola </th>\n",
       "                </tr>\n",
       "            </thead>\n",
       "            <tbody>\n",
       "        \n",
       "                <tr>\n",
       "                    <td>'História do Movimento Operário'</td>\n",
       "                </tr>\n",
       "               \n",
       "                <tr>\n",
       "                    <td>'História e Economia Mundial' </td>\n",
       "                </tr>\n",
       "               \n",
       "                <tr>\n",
       "                    <td>'História da América Latina' </td>\n",
       "                </tr>\n",
       "               \n",
       "                <tr>\n",
       "                    <td>'História Contemporânea'</td>\n",
       "                </tr>\n",
       "               \n",
       "            </tbody>\n",
       "        </table>\n",
       "        "
      ],
      "text/plain": [
       "<IPython.core.display.HTML object>"
      ]
     },
     "metadata": {},
     "output_type": "display_data"
    },
    {
     "data": {
      "text/html": [
       "\n",
       "        <table>\n",
       "            <thead>\n",
       "                <tr>\n",
       "                    <th scope=\"col\">Pablo Oller Mont Serrath </th>\n",
       "                </tr>\n",
       "            </thead>\n",
       "            <tbody>\n",
       "        \n",
       "                <tr>\n",
       "                    <td>'Império Português na Época Moderna'</td>\n",
       "                </tr>\n",
       "               \n",
       "                <tr>\n",
       "                    <td>'Brasil Colonial'</td>\n",
       "                </tr>\n",
       "               \n",
       "            </tbody>\n",
       "        </table>\n",
       "        "
      ],
      "text/plain": [
       "<IPython.core.display.HTML object>"
      ]
     },
     "metadata": {},
     "output_type": "display_data"
    },
    {
     "data": {
      "text/html": [
       "\n",
       "        <table>\n",
       "            <thead>\n",
       "                <tr>\n",
       "                    <th scope=\"col\">Pedro Luis Puntoni </th>\n",
       "                </tr>\n",
       "            </thead>\n",
       "            <tbody>\n",
       "        \n",
       "                <tr>\n",
       "                    <td>'Cultura Digital'</td>\n",
       "                </tr>\n",
       "               \n",
       "                <tr>\n",
       "                    <td>'Humanidades Digitais'</td>\n",
       "                </tr>\n",
       "               \n",
       "                <tr>\n",
       "                    <td>'Ciência da Informação'</td>\n",
       "                </tr>\n",
       "               \n",
       "                <tr>\n",
       "                    <td>'Patrimônio e Memória'</td>\n",
       "                </tr>\n",
       "               \n",
       "                <tr>\n",
       "                    <td>'Arquivos Municipais'</td>\n",
       "                </tr>\n",
       "               \n",
       "                <tr>\n",
       "                    <td>'História dos Recenseamentos do século XIX'</td>\n",
       "                </tr>\n",
       "               \n",
       "                <tr>\n",
       "                    <td>'História do Brasil Colonial'</td>\n",
       "                </tr>\n",
       "               \n",
       "            </tbody>\n",
       "        </table>\n",
       "        "
      ],
      "text/plain": [
       "<IPython.core.display.HTML object>"
      ]
     },
     "metadata": {},
     "output_type": "display_data"
    },
    {
     "data": {
      "text/html": [
       "\n",
       "        <table>\n",
       "            <thead>\n",
       "                <tr>\n",
       "                    <th scope=\"col\">Rafael de Bivar Marquese</th>\n",
       "                </tr>\n",
       "            </thead>\n",
       "            <tbody>\n",
       "        \n",
       "                <tr>\n",
       "                    <td>'Laboratório de Estudos sobre o Brasil e o Sistema Mundial'</td>\n",
       "                </tr>\n",
       "               \n",
       "            </tbody>\n",
       "        </table>\n",
       "        "
      ],
      "text/plain": [
       "<IPython.core.display.HTML object>"
      ]
     },
     "metadata": {},
     "output_type": "display_data"
    },
    {
     "data": {
      "text/html": [
       "\n",
       "        <table>\n",
       "            <thead>\n",
       "                <tr>\n",
       "                    <th scope=\"col\">Robert Sean Purdy </th>\n",
       "                </tr>\n",
       "            </thead>\n",
       "            <tbody>\n",
       "        \n",
       "                <tr>\n",
       "                    <td>'História Comparada (Canadá, Brasil e EUA)'</td>\n",
       "                </tr>\n",
       "               \n",
       "                <tr>\n",
       "                    <td>'História Social, Política e Cultural'</td>\n",
       "                </tr>\n",
       "               \n",
       "                <tr>\n",
       "                    <td>'História Comparada das Américas'</td>\n",
       "                </tr>\n",
       "               \n",
       "            </tbody>\n",
       "        </table>\n",
       "        "
      ],
      "text/plain": [
       "<IPython.core.display.HTML object>"
      ]
     },
     "metadata": {},
     "output_type": "display_data"
    },
    {
     "data": {
      "text/html": [
       "\n",
       "        <table>\n",
       "            <thead>\n",
       "                <tr>\n",
       "                    <th scope=\"col\">Rodrigo Monteferrante Ricupero</th>\n",
       "                </tr>\n",
       "            </thead>\n",
       "            <tbody>\n",
       "        \n",
       "            </tbody>\n",
       "        </table>\n",
       "        "
      ],
      "text/plain": [
       "<IPython.core.display.HTML object>"
      ]
     },
     "metadata": {},
     "output_type": "display_data"
    },
    {
     "data": {
      "text/html": [
       "\n",
       "        <table>\n",
       "            <thead>\n",
       "                <tr>\n",
       "                    <th scope=\"col\">Sara Albieri </th>\n",
       "                </tr>\n",
       "            </thead>\n",
       "            <tbody>\n",
       "        \n",
       "                <tr>\n",
       "                    <td>'Ciência Econômica e Economia da Cultura'</td>\n",
       "                </tr>\n",
       "               \n",
       "                <tr>\n",
       "                    <td>'História da Ciência, Epistemologia e Medicina (Grupo de Pesquisa Khronos)'</td>\n",
       "                </tr>\n",
       "               \n",
       "                <tr>\n",
       "                    <td>'História das Ideias Científicas e Filosóficas'</td>\n",
       "                </tr>\n",
       "               \n",
       "            </tbody>\n",
       "        </table>\n",
       "        "
      ],
      "text/plain": [
       "<IPython.core.display.HTML object>"
      ]
     },
     "metadata": {},
     "output_type": "display_data"
    },
    {
     "data": {
      "text/html": [
       "\n",
       "        <table>\n",
       "            <thead>\n",
       "                <tr>\n",
       "                    <th scope=\"col\">Sarah Fernandes Lino de Azevedo </th>\n",
       "                </tr>\n",
       "            </thead>\n",
       "            <tbody>\n",
       "        \n",
       "                <tr>\n",
       "                    <td>'História das Mulheres e das Relações de Gênero na Antiguidade' </td>\n",
       "                </tr>\n",
       "               \n",
       "                <tr>\n",
       "                    <td>'Mulheres e Política Romana' </td>\n",
       "                </tr>\n",
       "               \n",
       "                <tr>\n",
       "                    <td>'Crimes Sexuais na República Romana' </td>\n",
       "                </tr>\n",
       "               \n",
       "                <tr>\n",
       "                    <td>'Adultério em Roma' </td>\n",
       "                </tr>\n",
       "               \n",
       "                <tr>\n",
       "                    <td>'Lei e Sociedade em Roma' </td>\n",
       "                </tr>\n",
       "               \n",
       "                <tr>\n",
       "                    <td>'As Mulheres no Direito Romano' </td>\n",
       "                </tr>\n",
       "               \n",
       "                <tr>\n",
       "                    <td>'Patriarcado Romano' </td>\n",
       "                </tr>\n",
       "               \n",
       "                <tr>\n",
       "                    <td>'Principado Romano' </td>\n",
       "                </tr>\n",
       "               \n",
       "                <tr>\n",
       "                    <td>'Dinastia Júlio-Cláudia' </td>\n",
       "                </tr>\n",
       "               \n",
       "                <tr>\n",
       "                    <td>'Historiografia Latina' </td>\n",
       "                </tr>\n",
       "               \n",
       "                <tr>\n",
       "                    <td>'Tácito' </td>\n",
       "                </tr>\n",
       "               \n",
       "                <tr>\n",
       "                    <td>'Tito Lívio' </td>\n",
       "                </tr>\n",
       "               \n",
       "                <tr>\n",
       "                    <td>'Mulheres na Historiografia Latina'</td>\n",
       "                </tr>\n",
       "               \n",
       "            </tbody>\n",
       "        </table>\n",
       "        "
      ],
      "text/plain": [
       "<IPython.core.display.HTML object>"
      ]
     },
     "metadata": {},
     "output_type": "display_data"
    },
    {
     "data": {
      "text/html": [
       "\n",
       "        <table>\n",
       "            <thead>\n",
       "                <tr>\n",
       "                    <th scope=\"col\">Stella Maris Scatena Franco </th>\n",
       "                </tr>\n",
       "            </thead>\n",
       "            <tbody>\n",
       "        \n",
       "                <tr>\n",
       "                    <td>'História, Cultura e Poder'</td>\n",
       "                </tr>\n",
       "               \n",
       "            </tbody>\n",
       "        </table>\n",
       "        "
      ],
      "text/plain": [
       "<IPython.core.display.HTML object>"
      ]
     },
     "metadata": {},
     "output_type": "display_data"
    },
    {
     "data": {
      "text/html": [
       "\n",
       "        <table>\n",
       "            <thead>\n",
       "                <tr>\n",
       "                    <th scope=\"col\">Beatriz Daruj Gil</th>\n",
       "                </tr>\n",
       "            </thead>\n",
       "            <tbody>\n",
       "        \n",
       "                <tr>\n",
       "                    <td>'Lexicologia' </td>\n",
       "                </tr>\n",
       "               \n",
       "                <tr>\n",
       "                    <td>'Léxico e ensino' </td>\n",
       "                </tr>\n",
       "               \n",
       "                <tr>\n",
       "                    <td>'Ensino de português língua materna' </td>\n",
       "                </tr>\n",
       "               \n",
       "                <tr>\n",
       "                    <td>'Formação de professores de português língua materna'</td>\n",
       "                </tr>\n",
       "               \n",
       "                <tr>\n",
       "                    <td>'Letramento acadêmico'</td>\n",
       "                </tr>\n",
       "               \n",
       "            </tbody>\n",
       "        </table>\n",
       "        "
      ],
      "text/plain": [
       "<IPython.core.display.HTML object>"
      ]
     },
     "metadata": {},
     "output_type": "display_data"
    },
    {
     "data": {
      "text/html": [
       "\n",
       "        <table>\n",
       "            <thead>\n",
       "                <tr>\n",
       "                    <th scope=\"col\">Elis de Almeida Cardoso Caretta</th>\n",
       "                </tr>\n",
       "            </thead>\n",
       "            <tbody>\n",
       "        \n",
       "                <tr>\n",
       "                    <td>'Lexicologia e terminologia do português'</td>\n",
       "                </tr>\n",
       "               \n",
       "            </tbody>\n",
       "        </table>\n",
       "        "
      ],
      "text/plain": [
       "<IPython.core.display.HTML object>"
      ]
     },
     "metadata": {},
     "output_type": "display_data"
    },
    {
     "data": {
      "text/html": [
       "\n",
       "        <table>\n",
       "            <thead>\n",
       "                <tr>\n",
       "                    <th scope=\"col\">Flaviane Romani Fernandes Svartman</th>\n",
       "                </tr>\n",
       "            </thead>\n",
       "            <tbody>\n",
       "        \n",
       "                <tr>\n",
       "                    <td>'Gramática do português e de línguas em contato'</td>\n",
       "                </tr>\n",
       "               \n",
       "            </tbody>\n",
       "        </table>\n",
       "        "
      ],
      "text/plain": [
       "<IPython.core.display.HTML object>"
      ]
     },
     "metadata": {},
     "output_type": "display_data"
    },
    {
     "data": {
      "text/html": [
       "\n",
       "        <table>\n",
       "            <thead>\n",
       "                <tr>\n",
       "                    <th scope=\"col\">Gabriel Antunes de Araujo</th>\n",
       "                </tr>\n",
       "            </thead>\n",
       "            <tbody>\n",
       "        \n",
       "                <tr>\n",
       "                    <td>'Português no Brasil e na África'</td>\n",
       "                </tr>\n",
       "               \n",
       "                <tr>\n",
       "                    <td>Fonologia e morfologia do português' </td>\n",
       "                </tr>\n",
       "               \n",
       "                <tr>\n",
       "                    <td>'Sociolinguística' </td>\n",
       "                </tr>\n",
       "               \n",
       "                <tr>\n",
       "                    <td>'Línguas africanas (línguas crioulas de base portuguesa e makhuwa)'</td>\n",
       "                </tr>\n",
       "               \n",
       "                <tr>\n",
       "                    <td>'Ensino de português como língua estrangeira'</td>\n",
       "                </tr>\n",
       "               \n",
       "                <tr>\n",
       "                    <td>'Línguas indígenas brasileiras'</td>\n",
       "                </tr>\n",
       "               \n",
       "            </tbody>\n",
       "        </table>\n",
       "        "
      ],
      "text/plain": [
       "<IPython.core.display.HTML object>"
      ]
     },
     "metadata": {},
     "output_type": "display_data"
    },
    {
     "data": {
      "text/html": [
       "\n",
       "        <table>\n",
       "            <thead>\n",
       "                <tr>\n",
       "                    <th scope=\"col\">Ieda Maria Alves</th>\n",
       "                </tr>\n",
       "            </thead>\n",
       "            <tbody>\n",
       "        \n",
       "                <tr>\n",
       "                    <td>'Lexicologia e Lexicografia'</td>\n",
       "                </tr>\n",
       "               \n",
       "                <tr>\n",
       "                    <td>'Semestre sabático para o desenvolvimento do Projeto Estudo e divulgação da terminologia da Covid-19'</td>\n",
       "                </tr>\n",
       "               \n",
       "                <tr>\n",
       "                    <td>'Lexicologia e Terminologia do Português'</td>\n",
       "                </tr>\n",
       "               \n",
       "            </tbody>\n",
       "        </table>\n",
       "        "
      ],
      "text/plain": [
       "<IPython.core.display.HTML object>"
      ]
     },
     "metadata": {},
     "output_type": "display_data"
    },
    {
     "data": {
      "text/html": [
       "\n",
       "        <table>\n",
       "            <thead>\n",
       "                <tr>\n",
       "                    <th scope=\"col\">Manoel Mourivaldo Santiago Almeida</th>\n",
       "                </tr>\n",
       "            </thead>\n",
       "            <tbody>\n",
       "        \n",
       "                <tr>\n",
       "                    <td>'História e descrição do português em Mato Grosso'</td>\n",
       "                </tr>\n",
       "               \n",
       "                <tr>\n",
       "                    <td>'Filologia portuguesa'</td>\n",
       "                </tr>\n",
       "               \n",
       "                <tr>\n",
       "                    <td>'Estudos diacrônicos e sincrônicos do português'</td>\n",
       "                </tr>\n",
       "               \n",
       "                <tr>\n",
       "                    <td>'Léxico do português'</td>\n",
       "                </tr>\n",
       "               \n",
       "            </tbody>\n",
       "        </table>\n",
       "        "
      ],
      "text/plain": [
       "<IPython.core.display.HTML object>"
      ]
     },
     "metadata": {},
     "output_type": "display_data"
    },
    {
     "data": {
      "text/html": [
       "\n",
       "        <table>\n",
       "            <thead>\n",
       "                <tr>\n",
       "                    <th scope=\"col\">Marcelo Módolo' </th>\n",
       "                </tr>\n",
       "            </thead>\n",
       "            <tbody>\n",
       "        \n",
       "                <tr>\n",
       "                    <td>'Filologia Portuguesa'</td>\n",
       "                </tr>\n",
       "               \n",
       "                <tr>\n",
       "                    <td>'Gramática do português e de línguas em contato'</td>\n",
       "                </tr>\n",
       "               \n",
       "            </tbody>\n",
       "        </table>\n",
       "        "
      ],
      "text/plain": [
       "<IPython.core.display.HTML object>"
      ]
     },
     "metadata": {},
     "output_type": "display_data"
    },
    {
     "data": {
      "text/html": [
       "\n",
       "        <table>\n",
       "            <thead>\n",
       "                <tr>\n",
       "                    <th scope=\"col\">Márcia Santos Duarte de Oliveira</th>\n",
       "                </tr>\n",
       "            </thead>\n",
       "            <tbody>\n",
       "        \n",
       "                <tr>\n",
       "                    <td>'Gramática do português e de línguas em contato'</td>\n",
       "                </tr>\n",
       "               \n",
       "            </tbody>\n",
       "        </table>\n",
       "        "
      ],
      "text/plain": [
       "<IPython.core.display.HTML object>"
      ]
     },
     "metadata": {},
     "output_type": "display_data"
    },
    {
     "data": {
      "text/html": [
       "\n",
       "        <table>\n",
       "            <thead>\n",
       "                <tr>\n",
       "                    <th scope=\"col\">Maria Célia Pereira Lima-Hernandes</th>\n",
       "                </tr>\n",
       "            </thead>\n",
       "            <tbody>\n",
       "        \n",
       "                <tr>\n",
       "                    <td>'Linguística Histórica e fatores cognitivos'</td>\n",
       "                </tr>\n",
       "               \n",
       "                <tr>\n",
       "                    <td>'Linguagem pragmática e alzheimer - gramática e usos'</td>\n",
       "                </tr>\n",
       "               \n",
       "                <tr>\n",
       "                    <td>'Línguas de Herança e línguas pluricêntricas'</td>\n",
       "                </tr>\n",
       "               \n",
       "                <tr>\n",
       "                    <td>'Gramáticas do Português e Línguas em Contato'</td>\n",
       "                </tr>\n",
       "               \n",
       "            </tbody>\n",
       "        </table>\n",
       "        "
      ],
      "text/plain": [
       "<IPython.core.display.HTML object>"
      ]
     },
     "metadata": {},
     "output_type": "display_data"
    },
    {
     "data": {
      "text/html": [
       "\n",
       "        <table>\n",
       "            <thead>\n",
       "                <tr>\n",
       "                    <th scope=\"col\">Maria Clara Paixão de Sousa </th>\n",
       "                </tr>\n",
       "            </thead>\n",
       "            <tbody>\n",
       "        \n",
       "                <tr>\n",
       "                    <td>'Sintaxe das Línguas Naturais'</td>\n",
       "                </tr>\n",
       "               \n",
       "                <tr>\n",
       "                    <td>'Estudos Diacrônicos e Sincrônicos do Português'</td>\n",
       "                </tr>\n",
       "               \n",
       "            </tbody>\n",
       "        </table>\n",
       "        "
      ],
      "text/plain": [
       "<IPython.core.display.HTML object>"
      ]
     },
     "metadata": {},
     "output_type": "display_data"
    },
    {
     "data": {
      "text/html": [
       "\n",
       "        <table>\n",
       "            <thead>\n",
       "                <tr>\n",
       "                    <th scope=\"col\">Maria Inês Batista Campos Noel Ribeiro</th>\n",
       "                </tr>\n",
       "            </thead>\n",
       "            <tbody>\n",
       "        \n",
       "                <tr>\n",
       "                    <td>'Análise dialógica do discurso'</td>\n",
       "                </tr>\n",
       "               \n",
       "                <tr>\n",
       "                    <td>'Linguística Textual e Teorias do Discurso no Português'</td>\n",
       "                </tr>\n",
       "               \n",
       "            </tbody>\n",
       "        </table>\n",
       "        "
      ],
      "text/plain": [
       "<IPython.core.display.HTML object>"
      ]
     },
     "metadata": {},
     "output_type": "display_data"
    },
    {
     "data": {
      "text/html": [
       "\n",
       "        <table>\n",
       "            <thead>\n",
       "                <tr>\n",
       "                    <th scope=\"col\">Maria Lúcia da Cunha Victório de Oliveira Andrade</th>\n",
       "                </tr>\n",
       "            </thead>\n",
       "            <tbody>\n",
       "        \n",
       "                <tr>\n",
       "                    <td>'Estudos do Discurso em Língua Portuguesa'</td>\n",
       "                </tr>\n",
       "               \n",
       "            </tbody>\n",
       "        </table>\n",
       "        "
      ],
      "text/plain": [
       "<IPython.core.display.HTML object>"
      ]
     },
     "metadata": {},
     "output_type": "display_data"
    },
    {
     "data": {
      "text/html": [
       "\n",
       "        <table>\n",
       "            <thead>\n",
       "                <tr>\n",
       "                    <th scope=\"col\">Mariangela de Araujo </th>\n",
       "                </tr>\n",
       "            </thead>\n",
       "            <tbody>\n",
       "        \n",
       "                <tr>\n",
       "                    <td>'Léxico do Português'</td>\n",
       "                </tr>\n",
       "               \n",
       "            </tbody>\n",
       "        </table>\n",
       "        "
      ],
      "text/plain": [
       "<IPython.core.display.HTML object>"
      ]
     },
     "metadata": {},
     "output_type": "display_data"
    },
    {
     "data": {
      "text/html": [
       "\n",
       "        <table>\n",
       "            <thead>\n",
       "                <tr>\n",
       "                    <th scope=\"col\">Marilza de Oliveira</th>\n",
       "                </tr>\n",
       "            </thead>\n",
       "            <tbody>\n",
       "        \n",
       "                <tr>\n",
       "                    <td>'Linguística histórica'</td>\n",
       "                </tr>\n",
       "               \n",
       "                <tr>\n",
       "                    <td>'Sintaxe'</td>\n",
       "                </tr>\n",
       "               \n",
       "                <tr>\n",
       "                    <td>'História social'</td>\n",
       "                </tr>\n",
       "               \n",
       "                <tr>\n",
       "                    <td>'Morfologia lexical'</td>\n",
       "                </tr>\n",
       "               \n",
       "            </tbody>\n",
       "        </table>\n",
       "        "
      ],
      "text/plain": [
       "<IPython.core.display.HTML object>"
      ]
     },
     "metadata": {},
     "output_type": "display_data"
    },
    {
     "data": {
      "text/html": [
       "\n",
       "        <table>\n",
       "            <thead>\n",
       "                <tr>\n",
       "                    <th scope=\"col\">Mário Eduardo Viaro</th>\n",
       "                </tr>\n",
       "            </thead>\n",
       "            <tbody>\n",
       "        \n",
       "                <tr>\n",
       "                    <td>'Estudos diacrônicos e sincrônicos do português',</td>\n",
       "                </tr>\n",
       "               \n",
       "                <tr>\n",
       "                    <td>'Léxico do português'</td>\n",
       "                </tr>\n",
       "               \n",
       "            </tbody>\n",
       "        </table>\n",
       "        "
      ],
      "text/plain": [
       "<IPython.core.display.HTML object>"
      ]
     },
     "metadata": {},
     "output_type": "display_data"
    },
    {
     "data": {
      "text/html": [
       "\n",
       "        <table>\n",
       "            <thead>\n",
       "                <tr>\n",
       "                    <th scope=\"col\">Marli Quadros Leite</th>\n",
       "                </tr>\n",
       "            </thead>\n",
       "            <tbody>\n",
       "        \n",
       "                <tr>\n",
       "                    <td>'História e historiografia do português',</td>\n",
       "                </tr>\n",
       "               \n",
       "                <tr>\n",
       "                    <td>'Linguística textual e teorias do discurso no português'</td>\n",
       "                </tr>\n",
       "               \n",
       "            </tbody>\n",
       "        </table>\n",
       "        "
      ],
      "text/plain": [
       "<IPython.core.display.HTML object>"
      ]
     },
     "metadata": {},
     "output_type": "display_data"
    },
    {
     "data": {
      "text/html": [
       "\n",
       "        <table>\n",
       "            <thead>\n",
       "                <tr>\n",
       "                    <th scope=\"col\">Paulo Roberto Gonçalves Segundo </th>\n",
       "                </tr>\n",
       "            </thead>\n",
       "            <tbody>\n",
       "        \n",
       "                <tr>\n",
       "                    <td>'Linguística Textual e Teorias do Discurso no Português'</td>\n",
       "                </tr>\n",
       "               \n",
       "            </tbody>\n",
       "        </table>\n",
       "        "
      ],
      "text/plain": [
       "<IPython.core.display.HTML object>"
      ]
     },
     "metadata": {},
     "output_type": "display_data"
    },
    {
     "data": {
      "text/html": [
       "\n",
       "        <table>\n",
       "            <thead>\n",
       "                <tr>\n",
       "                    <th scope=\"col\">Phablo Roberto Marchis Fachin </th>\n",
       "                </tr>\n",
       "            </thead>\n",
       "            <tbody>\n",
       "        \n",
       "                <tr>\n",
       "                    <td>'Filologia Portuguesa'</td>\n",
       "                </tr>\n",
       "               \n",
       "                <tr>\n",
       "                    <td>'Linguística Histórica'</td>\n",
       "                </tr>\n",
       "               \n",
       "                <tr>\n",
       "                    <td>'Paleografia'</td>\n",
       "                </tr>\n",
       "               \n",
       "                <tr>\n",
       "                    <td>'História da Língua Portuguesa'</td>\n",
       "                </tr>\n",
       "               \n",
       "            </tbody>\n",
       "        </table>\n",
       "        "
      ],
      "text/plain": [
       "<IPython.core.display.HTML object>"
      ]
     },
     "metadata": {},
     "output_type": "display_data"
    },
    {
     "data": {
      "text/html": [
       "\n",
       "        <table>\n",
       "            <thead>\n",
       "                <tr>\n",
       "                    <th scope=\"col\">Priscila Loyde Gomes Figueiredo </th>\n",
       "                </tr>\n",
       "            </thead>\n",
       "            <tbody>\n",
       "        \n",
       "                <tr>\n",
       "                    <td>'Literatura e escravidão'</td>\n",
       "                </tr>\n",
       "               \n",
       "            </tbody>\n",
       "        </table>\n",
       "        "
      ],
      "text/plain": [
       "<IPython.core.display.HTML object>"
      ]
     },
     "metadata": {},
     "output_type": "display_data"
    },
    {
     "data": {
      "text/html": [
       "\n",
       "        <table>\n",
       "            <thead>\n",
       "                <tr>\n",
       "                    <th scope=\"col\">Ricardo Souza de Carvalho' </th>\n",
       "                </tr>\n",
       "            </thead>\n",
       "            <tbody>\n",
       "        \n",
       "                <tr>\n",
       "                    <td>'Poesia brasileira do século XX'</td>\n",
       "                </tr>\n",
       "               \n",
       "                <tr>\n",
       "                    <td>'Literatura Brasileira na passagem dos séculos XIX-XX'</td>\n",
       "                </tr>\n",
       "               \n",
       "                <tr>\n",
       "                    <td>'Literatura e Historiografia'</td>\n",
       "                </tr>\n",
       "               \n",
       "            </tbody>\n",
       "        </table>\n",
       "        "
      ],
      "text/plain": [
       "<IPython.core.display.HTML object>"
      ]
     },
     "metadata": {},
     "output_type": "display_data"
    },
    {
     "data": {
      "text/html": [
       "\n",
       "        <table>\n",
       "            <thead>\n",
       "                <tr>\n",
       "                    <th scope=\"col\">Rosane de Sá Amado</th>\n",
       "                </tr>\n",
       "            </thead>\n",
       "            <tbody>\n",
       "        \n",
       "                <tr>\n",
       "                    <td>'Estudos de Linguística Aplicada do Português'</td>\n",
       "                </tr>\n",
       "               \n",
       "            </tbody>\n",
       "        </table>\n",
       "        "
      ],
      "text/plain": [
       "<IPython.core.display.HTML object>"
      ]
     },
     "metadata": {},
     "output_type": "display_data"
    },
    {
     "data": {
      "text/html": [
       "\n",
       "        <table>\n",
       "            <thead>\n",
       "                <tr>\n",
       "                    <th scope=\"col\">Sheila Vieira de Camargo Grillo</th>\n",
       "                </tr>\n",
       "            </thead>\n",
       "            <tbody>\n",
       "        \n",
       "                <tr>\n",
       "                    <td>'Linguística Textual e Teorias do Discurso no Português'</td>\n",
       "                </tr>\n",
       "               \n",
       "            </tbody>\n",
       "        </table>\n",
       "        "
      ],
      "text/plain": [
       "<IPython.core.display.HTML object>"
      ]
     },
     "metadata": {},
     "output_type": "display_data"
    },
    {
     "data": {
      "text/html": [
       "\n",
       "        <table>\n",
       "            <thead>\n",
       "                <tr>\n",
       "                    <th scope=\"col\">Sílvio de Almeida Toledo Neto</th>\n",
       "                </tr>\n",
       "            </thead>\n",
       "            <tbody>\n",
       "        \n",
       "                <tr>\n",
       "                    <td>'Filologia do Português'</td>\n",
       "                </tr>\n",
       "               \n",
       "            </tbody>\n",
       "        </table>\n",
       "        "
      ],
      "text/plain": [
       "<IPython.core.display.HTML object>"
      ]
     },
     "metadata": {},
     "output_type": "display_data"
    },
    {
     "data": {
      "text/html": [
       "\n",
       "        <table>\n",
       "            <thead>\n",
       "                <tr>\n",
       "                    <th scope=\"col\">Vanessa Martins do Monte </th>\n",
       "                </tr>\n",
       "            </thead>\n",
       "            <tbody>\n",
       "        \n",
       "                <tr>\n",
       "                    <td>'Filologia Portuguesa'</td>\n",
       "                </tr>\n",
       "               \n",
       "                <tr>\n",
       "                    <td>'Estudos sincrônicos e diacrônicos do português'</td>\n",
       "                </tr>\n",
       "               \n",
       "                <tr>\n",
       "                    <td>'Fontes para a História da Língua Portuguesa: edição de manuscritos dos períodos médio e clássico (2011-2018)'</td>\n",
       "                </tr>\n",
       "               \n",
       "                <tr>\n",
       "                    <td>'Etimologia e História da Língua Portuguesa (vinculada ao NEHiLP)'</td>\n",
       "                </tr>\n",
       "               \n",
       "            </tbody>\n",
       "        </table>\n",
       "        "
      ],
      "text/plain": [
       "<IPython.core.display.HTML object>"
      ]
     },
     "metadata": {},
     "output_type": "display_data"
    },
    {
     "data": {
      "text/html": [
       "\n",
       "        <table>\n",
       "            <thead>\n",
       "                <tr>\n",
       "                    <th scope=\"col\">Verena Kewitz </th>\n",
       "                </tr>\n",
       "            </thead>\n",
       "            <tbody>\n",
       "        \n",
       "                <tr>\n",
       "                    <td>'História e Historiografia do Português'</td>\n",
       "                </tr>\n",
       "               \n",
       "                <tr>\n",
       "                    <td>'Filologia do Português'</td>\n",
       "                </tr>\n",
       "               \n",
       "            </tbody>\n",
       "        </table>\n",
       "        "
      ],
      "text/plain": [
       "<IPython.core.display.HTML object>"
      ]
     },
     "metadata": {},
     "output_type": "display_data"
    },
    {
     "data": {
      "text/html": [
       "\n",
       "        <table>\n",
       "            <thead>\n",
       "                <tr>\n",
       "                    <th scope=\"col\">Waldemar Ferreira Netto</th>\n",
       "                </tr>\n",
       "            </thead>\n",
       "            <tbody>\n",
       "        \n",
       "                <tr>\n",
       "                    <td>'Estudos de linguística aplicada ao português'</td>\n",
       "                </tr>\n",
       "               \n",
       "            </tbody>\n",
       "        </table>\n",
       "        "
      ],
      "text/plain": [
       "<IPython.core.display.HTML object>"
      ]
     },
     "metadata": {},
     "output_type": "display_data"
    },
    {
     "data": {
      "text/html": [
       "\n",
       "        <table>\n",
       "            <thead>\n",
       "                <tr>\n",
       "                    <th scope=\"col\">Luiz Antônio Lindo</th>\n",
       "                </tr>\n",
       "            </thead>\n",
       "            <tbody>\n",
       "        \n",
       "                <tr>\n",
       "                    <td>'Interpretação de textos e contextos culturais americanos'</td>\n",
       "                </tr>\n",
       "               \n",
       "                <tr>\n",
       "                    <td>'Filologia e tradução'</td>\n",
       "                </tr>\n",
       "               \n",
       "                <tr>\n",
       "                    <td>'Filologia italiana'</td>\n",
       "                </tr>\n",
       "               \n",
       "                <tr>\n",
       "                    <td>'Cultura e linguagem no espaço e tempo italiano'</td>\n",
       "                </tr>\n",
       "               \n",
       "                <tr>\n",
       "                    <td>'Cultura e linguagem latino-americana'</td>\n",
       "                </tr>\n",
       "               \n",
       "            </tbody>\n",
       "        </table>\n",
       "        "
      ],
      "text/plain": [
       "<IPython.core.display.HTML object>"
      ]
     },
     "metadata": {},
     "output_type": "display_data"
    },
    {
     "data": {
      "text/html": [
       "\n",
       "        <table>\n",
       "            <thead>\n",
       "                <tr>\n",
       "                    <th scope=\"col\">Valéria Gil Condé</th>\n",
       "                </tr>\n",
       "            </thead>\n",
       "            <tbody>\n",
       "        \n",
       "                <tr>\n",
       "                    <td>'Estudos sincrônicos e diacrônicos do português `comparados às línguas iberorromânicas'</td>\n",
       "                </tr>\n",
       "               \n",
       "            </tbody>\n",
       "        </table>\n",
       "        "
      ],
      "text/plain": [
       "<IPython.core.display.HTML object>"
      ]
     },
     "metadata": {},
     "output_type": "display_data"
    },
    {
     "data": {
      "text/html": [
       "\n",
       "        <table>\n",
       "            <thead>\n",
       "                <tr>\n",
       "                    <th scope=\"col\">Adriane da Silva Duarte</th>\n",
       "                </tr>\n",
       "            </thead>\n",
       "            <tbody>\n",
       "        \n",
       "                <tr>\n",
       "                    <td>'Literatura Grega'</td>\n",
       "                </tr>\n",
       "               \n",
       "                <tr>\n",
       "                    <td>'Língua Grega'</td>\n",
       "                </tr>\n",
       "               \n",
       "                <tr>\n",
       "                    <td>'Poesia e prosa greco-latina'</td>\n",
       "                </tr>\n",
       "               \n",
       "                <tr>\n",
       "                    <td>'Teatro greco-latino'</td>\n",
       "                </tr>\n",
       "               \n",
       "            </tbody>\n",
       "        </table>\n",
       "        "
      ],
      "text/plain": [
       "<IPython.core.display.HTML object>"
      ]
     },
     "metadata": {},
     "output_type": "display_data"
    },
    {
     "data": {
      "text/html": [
       "\n",
       "        <table>\n",
       "            <thead>\n",
       "                <tr>\n",
       "                    <th scope=\"col\">Adriano Machado Ribeiro' </th>\n",
       "                </tr>\n",
       "            </thead>\n",
       "            <tbody>\n",
       "        \n",
       "                <tr>\n",
       "                    <td>'Platão e a dialética'</td>\n",
       "                </tr>\n",
       "               \n",
       "                <tr>\n",
       "                    <td>'A retórica latina'</td>\n",
       "                </tr>\n",
       "               \n",
       "                <tr>\n",
       "                    <td>'Sofística e Retórica'</td>\n",
       "                </tr>\n",
       "               \n",
       "            </tbody>\n",
       "        </table>\n",
       "        "
      ],
      "text/plain": [
       "<IPython.core.display.HTML object>"
      ]
     },
     "metadata": {},
     "output_type": "display_data"
    },
    {
     "data": {
      "text/html": [
       "\n",
       "        <table>\n",
       "            <thead>\n",
       "                <tr>\n",
       "                    <th scope=\"col\">Andre Malta Campos</th>\n",
       "                </tr>\n",
       "            </thead>\n",
       "            <tbody>\n",
       "        \n",
       "            </tbody>\n",
       "        </table>\n",
       "        "
      ],
      "text/plain": [
       "<IPython.core.display.HTML object>"
      ]
     },
     "metadata": {},
     "output_type": "display_data"
    },
    {
     "data": {
      "text/html": [
       "\n",
       "        <table>\n",
       "            <thead>\n",
       "                <tr>\n",
       "                    <th scope=\"col\">Breno Battistin Sebastiani</th>\n",
       "                </tr>\n",
       "            </thead>\n",
       "            <tbody>\n",
       "        \n",
       "                <tr>\n",
       "                    <td>'Poesia e prosa greco-latina'</td>\n",
       "                </tr>\n",
       "               \n",
       "                <tr>\n",
       "                    <td>'Libertad, imperio y civilización. Una aproximación conceptual a la construcción occidental de la historia antigua clásica'</td>\n",
       "                </tr>\n",
       "               \n",
       "                <tr>\n",
       "                    <td>'Arti, linguaggi e media: tradurre e transcodificare'</td>\n",
       "                </tr>\n",
       "               \n",
       "                <tr>\n",
       "                    <td>'Estudos gregos'</td>\n",
       "                </tr>\n",
       "               \n",
       "            </tbody>\n",
       "        </table>\n",
       "        "
      ],
      "text/plain": [
       "<IPython.core.display.HTML object>"
      ]
     },
     "metadata": {},
     "output_type": "display_data"
    },
    {
     "data": {
      "text/html": [
       "\n",
       "        <table>\n",
       "            <thead>\n",
       "                <tr>\n",
       "                    <th scope=\"col\">Christian Werner</th>\n",
       "                </tr>\n",
       "            </thead>\n",
       "            <tbody>\n",
       "        \n",
       "                <tr>\n",
       "                    <td>'Poesia e prosa greco-latina'</td>\n",
       "                </tr>\n",
       "               \n",
       "            </tbody>\n",
       "        </table>\n",
       "        "
      ],
      "text/plain": [
       "<IPython.core.display.HTML object>"
      ]
     },
     "metadata": {},
     "output_type": "display_data"
    },
    {
     "data": {
      "text/html": [
       "\n",
       "        <table>\n",
       "            <thead>\n",
       "                <tr>\n",
       "                    <th scope=\"col\">Daniel Rossi Nunes Lopes</th>\n",
       "                </tr>\n",
       "            </thead>\n",
       "            <tbody>\n",
       "        \n",
       "                <tr>\n",
       "                    <td>'Filosofia antiga'</td>\n",
       "                </tr>\n",
       "               \n",
       "                <tr>\n",
       "                    <td>'Oratória grega'</td>\n",
       "                </tr>\n",
       "               \n",
       "                <tr>\n",
       "                    <td>'Historiografia grega'</td>\n",
       "                </tr>\n",
       "               \n",
       "                <tr>\n",
       "                    <td>'História do pensamento político grego'</td>\n",
       "                </tr>\n",
       "               \n",
       "                <tr>\n",
       "                    <td>'Tradução'</td>\n",
       "                </tr>\n",
       "               \n",
       "            </tbody>\n",
       "        </table>\n",
       "        "
      ],
      "text/plain": [
       "<IPython.core.display.HTML object>"
      ]
     },
     "metadata": {},
     "output_type": "display_data"
    },
    {
     "data": {
      "text/html": [
       "\n",
       "        <table>\n",
       "            <thead>\n",
       "                <tr>\n",
       "                    <th scope=\"col\">Fernando Rodrigues Junior</th>\n",
       "                </tr>\n",
       "            </thead>\n",
       "            <tbody>\n",
       "        \n",
       "                <tr>\n",
       "                    <td>'Literatura Helenística'</td>\n",
       "                </tr>\n",
       "               \n",
       "                <tr>\n",
       "                    <td>'Epopéia'</td>\n",
       "                </tr>\n",
       "               \n",
       "                <tr>\n",
       "                    <td>'Calímaco'</td>\n",
       "                </tr>\n",
       "               \n",
       "                <tr>\n",
       "                    <td>'Apolônio de Rodes'</td>\n",
       "                </tr>\n",
       "               \n",
       "                <tr>\n",
       "                    <td>'Teócrito'</td>\n",
       "                </tr>\n",
       "               \n",
       "                <tr>\n",
       "                    <td>'Poesia Bucólica'</td>\n",
       "                </tr>\n",
       "               \n",
       "                <tr>\n",
       "                    <td>'Epigrama'</td>\n",
       "                </tr>\n",
       "               \n",
       "            </tbody>\n",
       "        </table>\n",
       "        "
      ],
      "text/plain": [
       "<IPython.core.display.HTML object>"
      ]
     },
     "metadata": {},
     "output_type": "display_data"
    },
    {
     "data": {
      "text/html": [
       "\n",
       "        <table>\n",
       "            <thead>\n",
       "                <tr>\n",
       "                    <th scope=\"col\">Giuliana Ragusa de Faria</th>\n",
       "                </tr>\n",
       "            </thead>\n",
       "            <tbody>\n",
       "        \n",
       "                <tr>\n",
       "                    <td>'Poesia grega antiga' </td>\n",
       "                </tr>\n",
       "               \n",
       "                <tr>\n",
       "                    <td>'Recepção dos clássicos'</td>\n",
       "                </tr>\n",
       "               \n",
       "            </tbody>\n",
       "        </table>\n",
       "        "
      ],
      "text/plain": [
       "<IPython.core.display.HTML object>"
      ]
     },
     "metadata": {},
     "output_type": "display_data"
    },
    {
     "data": {
      "text/html": [
       "\n",
       "        <table>\n",
       "            <thead>\n",
       "                <tr>\n",
       "                    <th scope=\"col\">José Antonio Alves Torrano</th>\n",
       "                </tr>\n",
       "            </thead>\n",
       "            <tbody>\n",
       "        \n",
       "                <tr>\n",
       "                    <td>'Poesia e prosa greco-latina'</td>\n",
       "                </tr>\n",
       "               \n",
       "                <tr>\n",
       "                    <td>'O discurso teórico greco-latino'</td>\n",
       "                </tr>\n",
       "               \n",
       "            </tbody>\n",
       "        </table>\n",
       "        "
      ],
      "text/plain": [
       "<IPython.core.display.HTML object>"
      ]
     },
     "metadata": {},
     "output_type": "display_data"
    },
    {
     "data": {
      "text/html": [
       "\n",
       "        <table>\n",
       "            <thead>\n",
       "                <tr>\n",
       "                    <th scope=\"col\">José Marcos Mariani de Macedo</th>\n",
       "                </tr>\n",
       "            </thead>\n",
       "            <tbody>\n",
       "        \n",
       "                <tr>\n",
       "                    <td>'Língua e literatura grega'</td>\n",
       "                </tr>\n",
       "               \n",
       "                <tr>\n",
       "                    <td>'Linguística indo-europeia'</td>\n",
       "                </tr>\n",
       "               \n",
       "            </tbody>\n",
       "        </table>\n",
       "        "
      ],
      "text/plain": [
       "<IPython.core.display.HTML object>"
      ]
     },
     "metadata": {},
     "output_type": "display_data"
    },
    {
     "data": {
      "text/html": [
       "\n",
       "        <table>\n",
       "            <thead>\n",
       "                <tr>\n",
       "                    <th scope=\"col\">Luise Marion Frenkel </th>\n",
       "                </tr>\n",
       "            </thead>\n",
       "            <tbody>\n",
       "        \n",
       "                <tr>\n",
       "                    <td>'Antiguidade Tardia: historiografia e polêmica em contexto'</td>\n",
       "                </tr>\n",
       "               \n",
       "                <tr>\n",
       "                    <td>'Literatura Patrística e Bizantina'</td>\n",
       "                </tr>\n",
       "               \n",
       "                <tr>\n",
       "                    <td>'Recepção de obras gregas em siríaco'</td>\n",
       "                </tr>\n",
       "               \n",
       "            </tbody>\n",
       "        </table>\n",
       "        "
      ],
      "text/plain": [
       "<IPython.core.display.HTML object>"
      ]
     },
     "metadata": {},
     "output_type": "display_data"
    },
    {
     "data": {
      "text/html": [
       "\n",
       "        <table>\n",
       "            <thead>\n",
       "                <tr>\n",
       "                    <th scope=\"col\">Mary Macedo de Camargo Neves Lafer</th>\n",
       "                </tr>\n",
       "            </thead>\n",
       "            <tbody>\n",
       "        \n",
       "            </tbody>\n",
       "        </table>\n",
       "        "
      ],
      "text/plain": [
       "<IPython.core.display.HTML object>"
      ]
     },
     "metadata": {},
     "output_type": "display_data"
    },
    {
     "data": {
      "text/html": [
       "\n",
       "        <table>\n",
       "            <thead>\n",
       "                <tr>\n",
       "                    <th scope=\"col\">Paula da Cunha Corrêa</th>\n",
       "                </tr>\n",
       "            </thead>\n",
       "            <tbody>\n",
       "        \n",
       "                <tr>\n",
       "                    <td>'A lírica marcial de Arquíloco'</td>\n",
       "                </tr>\n",
       "               \n",
       "                <tr>\n",
       "                    <td>'A Fábula Arcaica: Arquíloco de Paros'</td>\n",
       "                </tr>\n",
       "               \n",
       "                <tr>\n",
       "                    <td>'Líder de Grupo de Pesquisa CNPq: Estudos sobre jambo, elegia, mélica e música na Antiguidade Clássica'</td>\n",
       "                </tr>\n",
       "               \n",
       "                <tr>\n",
       "                    <td>'A fábula: a teoria do gênero e a ética e a moralidade na Grécia arcaica'</td>\n",
       "                </tr>\n",
       "               \n",
       "                <tr>\n",
       "                    <td>'Narrativas e imagens eróticas nos fragmentos de Arquíloco'</td>\n",
       "                </tr>\n",
       "               \n",
       "                <tr>\n",
       "                    <td>'Bolsa de Pós-doutorado (Fapesp): Arquíloco de Paros e a fábula arcaica'</td>\n",
       "                </tr>\n",
       "               \n",
       "                <tr>\n",
       "                    <td>'Bolsa SWE CNPq: Os poemas marciais de Arquíloco'</td>\n",
       "                </tr>\n",
       "               \n",
       "                <tr>\n",
       "                    <td>'Poesia grega arcaica'</td>\n",
       "                </tr>\n",
       "               \n",
       "                <tr>\n",
       "                    <td>'Lírica grega: Arquíloco e a fábula arcaica'</td>\n",
       "                </tr>\n",
       "               \n",
       "            </tbody>\n",
       "        </table>\n",
       "        "
      ],
      "text/plain": [
       "<IPython.core.display.HTML object>"
      ]
     },
     "metadata": {},
     "output_type": "display_data"
    },
    {
     "data": {
      "text/html": [
       "\n",
       "        <table>\n",
       "            <thead>\n",
       "                <tr>\n",
       "                    <th scope=\"col\">Adriano Aprigliano</th>\n",
       "                </tr>\n",
       "            </thead>\n",
       "            <tbody>\n",
       "        \n",
       "                <tr>\n",
       "                    <td>'Poesia e gramática sânscrita'</td>\n",
       "                </tr>\n",
       "               \n",
       "            </tbody>\n",
       "        </table>\n",
       "        "
      ],
      "text/plain": [
       "<IPython.core.display.HTML object>"
      ]
     },
     "metadata": {},
     "output_type": "display_data"
    },
    {
     "data": {
      "text/html": [
       "\n",
       "        <table>\n",
       "            <thead>\n",
       "                <tr>\n",
       "                    <th scope=\"col\">Alexandre Pinheiro Hasegawa</th>\n",
       "                </tr>\n",
       "            </thead>\n",
       "            <tbody>\n",
       "        \n",
       "                <tr>\n",
       "                    <td>'Discurso teórico greco-latino'</td>\n",
       "                </tr>\n",
       "               \n",
       "            </tbody>\n",
       "        </table>\n",
       "        "
      ],
      "text/plain": [
       "<IPython.core.display.HTML object>"
      ]
     },
     "metadata": {},
     "output_type": "display_data"
    },
    {
     "data": {
      "text/html": [
       "\n",
       "        <table>\n",
       "            <thead>\n",
       "                <tr>\n",
       "                    <th scope=\"col\">Adriano Scatolin</th>\n",
       "                </tr>\n",
       "            </thead>\n",
       "            <tbody>\n",
       "        \n",
       "                <tr>\n",
       "                    <td>'Retórica Antiga'</td>\n",
       "                </tr>\n",
       "               \n",
       "                <tr>\n",
       "                    <td>'Marco Túlio Cícero'</td>\n",
       "                </tr>\n",
       "               \n",
       "            </tbody>\n",
       "        </table>\n",
       "        "
      ],
      "text/plain": [
       "<IPython.core.display.HTML object>"
      ]
     },
     "metadata": {},
     "output_type": "display_data"
    },
    {
     "data": {
      "text/html": [
       "\n",
       "        <table>\n",
       "            <thead>\n",
       "                <tr>\n",
       "                    <th scope=\"col\">Elaine Cristine Sartorelli</th>\n",
       "                </tr>\n",
       "            </thead>\n",
       "            <tbody>\n",
       "        \n",
       "                <tr>\n",
       "                    <td>'O discurso teórico greco-latino'</td>\n",
       "                </tr>\n",
       "               \n",
       "            </tbody>\n",
       "        </table>\n",
       "        "
      ],
      "text/plain": [
       "<IPython.core.display.HTML object>"
      ]
     },
     "metadata": {},
     "output_type": "display_data"
    },
    {
     "data": {
      "text/html": [
       "\n",
       "        <table>\n",
       "            <thead>\n",
       "                <tr>\n",
       "                    <th scope=\"col\">João Angelo Oliva Neto</th>\n",
       "                </tr>\n",
       "            </thead>\n",
       "            <tbody>\n",
       "        \n",
       "                <tr>\n",
       "                    <td>'Poesia clássica'</td>\n",
       "                </tr>\n",
       "               \n",
       "                <tr>\n",
       "                    <td>'Gêneros literários'</td>\n",
       "                </tr>\n",
       "               \n",
       "                <tr>\n",
       "                    <td>'Grupo de Estudos de Poesia, Poética e Tradução de Textos Latinos e Gregos. Este grupo de pesquisa é o cadastrado no CNPQ'</td>\n",
       "                </tr>\n",
       "               \n",
       "            </tbody>\n",
       "        </table>\n",
       "        "
      ],
      "text/plain": [
       "<IPython.core.display.HTML object>"
      ]
     },
     "metadata": {},
     "output_type": "display_data"
    },
    {
     "data": {
      "text/html": [
       "\n",
       "        <table>\n",
       "            <thead>\n",
       "                <tr>\n",
       "                    <th scope=\"col\">José Eduardo dos Santos Lohner</th>\n",
       "                </tr>\n",
       "            </thead>\n",
       "            <tbody>\n",
       "        \n",
       "                <tr>\n",
       "                    <td>'Poesia e prosa greco-latina'</td>\n",
       "                </tr>\n",
       "               \n",
       "            </tbody>\n",
       "        </table>\n",
       "        "
      ],
      "text/plain": [
       "<IPython.core.display.HTML object>"
      ]
     },
     "metadata": {},
     "output_type": "display_data"
    },
    {
     "data": {
      "text/html": [
       "\n",
       "        <table>\n",
       "            <thead>\n",
       "                <tr>\n",
       "                    <th scope=\"col\">José Rodrigues Seabra Filho</th>\n",
       "                </tr>\n",
       "            </thead>\n",
       "            <tbody>\n",
       "        \n",
       "                <tr>\n",
       "                    <td>'Gramática Latina' </td>\n",
       "                </tr>\n",
       "               \n",
       "                <tr>\n",
       "                    <td>'Tradução de textos do latim clássico'</td>\n",
       "                </tr>\n",
       "               \n",
       "            </tbody>\n",
       "        </table>\n",
       "        "
      ],
      "text/plain": [
       "<IPython.core.display.HTML object>"
      ]
     },
     "metadata": {},
     "output_type": "display_data"
    },
    {
     "data": {
      "text/html": [
       "\n",
       "        <table>\n",
       "            <thead>\n",
       "                <tr>\n",
       "                    <th scope=\"col\">Marcelo Vieira Fernandes</th>\n",
       "                </tr>\n",
       "            </thead>\n",
       "            <tbody>\n",
       "        \n",
       "                <tr>\n",
       "                    <td>'Poesia e prosa técnica antiga, grega e latina' </td>\n",
       "                </tr>\n",
       "               \n",
       "                <tr>\n",
       "                    <td>'Poética e estilística antiga, grega e latina'</td>\n",
       "                </tr>\n",
       "               \n",
       "            </tbody>\n",
       "        </table>\n",
       "        "
      ],
      "text/plain": [
       "<IPython.core.display.HTML object>"
      ]
     },
     "metadata": {},
     "output_type": "display_data"
    },
    {
     "data": {
      "text/html": [
       "\n",
       "        <table>\n",
       "            <thead>\n",
       "                <tr>\n",
       "                    <th scope=\"col\">Marcos Martinho dos Santos</th>\n",
       "                </tr>\n",
       "            </thead>\n",
       "            <tbody>\n",
       "        \n",
       "                <tr>\n",
       "                    <td>'Retórica'</td>\n",
       "                </tr>\n",
       "               \n",
       "                <tr>\n",
       "                    <td>'Poética'</td>\n",
       "                </tr>\n",
       "               \n",
       "                <tr>\n",
       "                    <td>'História das doutrinas gramaticais'</td>\n",
       "                </tr>\n",
       "               \n",
       "                <tr>\n",
       "                    <td>'Mitografia'</td>\n",
       "                </tr>\n",
       "               \n",
       "            </tbody>\n",
       "        </table>\n",
       "        "
      ],
      "text/plain": [
       "<IPython.core.display.HTML object>"
      ]
     },
     "metadata": {},
     "output_type": "display_data"
    },
    {
     "data": {
      "text/html": [
       "\n",
       "        <table>\n",
       "            <thead>\n",
       "                <tr>\n",
       "                    <th scope=\"col\">Marly de Bari Matos</th>\n",
       "                </tr>\n",
       "            </thead>\n",
       "            <tbody>\n",
       "        \n",
       "                <tr>\n",
       "                    <td>'Discurso teórico greco-latino'</td>\n",
       "                </tr>\n",
       "               \n",
       "                <tr>\n",
       "                    <td>'Modelos discursivos clássicos'</td>\n",
       "                </tr>\n",
       "               \n",
       "            </tbody>\n",
       "        </table>\n",
       "        "
      ],
      "text/plain": [
       "<IPython.core.display.HTML object>"
      ]
     },
     "metadata": {},
     "output_type": "display_data"
    },
    {
     "data": {
      "text/html": [
       "\n",
       "        <table>\n",
       "            <thead>\n",
       "                <tr>\n",
       "                    <th scope=\"col\">Pablo Schwartz Frydman</th>\n",
       "                </tr>\n",
       "            </thead>\n",
       "            <tbody>\n",
       "        \n",
       "                <tr>\n",
       "                    <td>'Discurso Teórico Grecolatino'</td>\n",
       "                </tr>\n",
       "               \n",
       "            </tbody>\n",
       "        </table>\n",
       "        "
      ],
      "text/plain": [
       "<IPython.core.display.HTML object>"
      ]
     },
     "metadata": {},
     "output_type": "display_data"
    },
    {
     "data": {
      "text/html": [
       "\n",
       "        <table>\n",
       "            <thead>\n",
       "                <tr>\n",
       "                    <th scope=\"col\">Paulo Martins</th>\n",
       "                </tr>\n",
       "            </thead>\n",
       "            <tbody>\n",
       "        \n",
       "                <tr>\n",
       "                    <td>'Discurso Teórico Greco-Latino'</td>\n",
       "                </tr>\n",
       "               \n",
       "                <tr>\n",
       "                    <td>'Poesia lírica, satírica e didática'</td>\n",
       "                </tr>\n",
       "               \n",
       "                <tr>\n",
       "                    <td>'A Elegia Romana'</td>\n",
       "                </tr>\n",
       "               \n",
       "            </tbody>\n",
       "        </table>\n",
       "        "
      ],
      "text/plain": [
       "<IPython.core.display.HTML object>"
      ]
     },
     "metadata": {},
     "output_type": "display_data"
    },
    {
     "data": {
      "text/html": [
       "\n",
       "        <table>\n",
       "            <thead>\n",
       "                <tr>\n",
       "                    <th scope=\"col\">Ricardo da Cunha Lima</th>\n",
       "                </tr>\n",
       "            </thead>\n",
       "            <tbody>\n",
       "        \n",
       "                <tr>\n",
       "                    <td>'Discurso teórico greco-latino'</td>\n",
       "                </tr>\n",
       "               \n",
       "                <tr>\n",
       "                    <td>'Poesia e prosa greco-latina'   </td>\n",
       "                </tr>\n",
       "               \n",
       "            </tbody>\n",
       "        </table>\n",
       "        "
      ],
      "text/plain": [
       "<IPython.core.display.HTML object>"
      ]
     },
     "metadata": {},
     "output_type": "display_data"
    },
    {
     "data": {
      "text/html": [
       "\n",
       "        <table>\n",
       "            <thead>\n",
       "                <tr>\n",
       "                    <th scope=\"col\">Robson Tadeu Cesila</th>\n",
       "                </tr>\n",
       "            </thead>\n",
       "            <tbody>\n",
       "        \n",
       "                <tr>\n",
       "                    <td>'Poesia e prosa greco-latina'</td>\n",
       "                </tr>\n",
       "               \n",
       "            </tbody>\n",
       "        </table>\n",
       "        "
      ],
      "text/plain": [
       "<IPython.core.display.HTML object>"
      ]
     },
     "metadata": {},
     "output_type": "display_data"
    },
    {
     "data": {
      "text/html": [
       "\n",
       "        <table>\n",
       "            <thead>\n",
       "                <tr>\n",
       "                    <th scope=\"col\">Sidney Calheiros de Lima</th>\n",
       "                </tr>\n",
       "            </thead>\n",
       "            <tbody>\n",
       "        \n",
       "                <tr>\n",
       "                    <td>'Relações entre retórica e filosofia no mundo romano'</td>\n",
       "                </tr>\n",
       "               \n",
       "                <tr>\n",
       "                    <td>'Estudo das línguas e dos textos clássicos'</td>\n",
       "                </tr>\n",
       "               \n",
       "            </tbody>\n",
       "        </table>\n",
       "        "
      ],
      "text/plain": [
       "<IPython.core.display.HTML object>"
      ]
     },
     "metadata": {},
     "output_type": "display_data"
    },
    {
     "data": {
      "text/html": [
       "\n",
       "        <table>\n",
       "            <thead>\n",
       "                <tr>\n",
       "                    <th scope=\"col\">Adriano Aprigliano</th>\n",
       "                </tr>\n",
       "            </thead>\n",
       "            <tbody>\n",
       "        \n",
       "                <tr>\n",
       "                    <td>'Poesia e gramática sânscrita'</td>\n",
       "                </tr>\n",
       "               \n",
       "            </tbody>\n",
       "        </table>\n",
       "        "
      ],
      "text/plain": [
       "<IPython.core.display.HTML object>"
      ]
     },
     "metadata": {},
     "output_type": "display_data"
    },
    {
     "data": {
      "text/html": [
       "\n",
       "        <table>\n",
       "            <thead>\n",
       "                <tr>\n",
       "                    <th scope=\"col\">Eduardo de Almeida Navarro</th>\n",
       "                </tr>\n",
       "            </thead>\n",
       "            <tbody>\n",
       "        \n",
       "            </tbody>\n",
       "        </table>\n",
       "        "
      ],
      "text/plain": [
       "<IPython.core.display.HTML object>"
      ]
     },
     "metadata": {},
     "output_type": "display_data"
    },
    {
     "data": {
      "text/html": [
       "\n",
       "        <table>\n",
       "            <thead>\n",
       "                <tr>\n",
       "                    <th scope=\"col\">Patricia de Jesus Carvalhinhos</th>\n",
       "                </tr>\n",
       "            </thead>\n",
       "            <tbody>\n",
       "        \n",
       "                <tr>\n",
       "                    <td>'Léxico do Português'</td>\n",
       "                </tr>\n",
       "               \n",
       "                <tr>\n",
       "                    <td>'Lexicologia e terminologia do português'</td>\n",
       "                </tr>\n",
       "               \n",
       "                <tr>\n",
       "                    <td>'Estudos Diacrônicos e Sincrônicos do Português'</td>\n",
       "                </tr>\n",
       "               \n",
       "            </tbody>\n",
       "        </table>\n",
       "        "
      ],
      "text/plain": [
       "<IPython.core.display.HTML object>"
      ]
     },
     "metadata": {},
     "output_type": "display_data"
    },
    {
     "data": {
      "text/html": [
       "\n",
       "        <table>\n",
       "            <thead>\n",
       "                <tr>\n",
       "                    <th scope=\"col\">André Luís Rodrigues</th>\n",
       "                </tr>\n",
       "            </thead>\n",
       "            <tbody>\n",
       "        \n",
       "                <tr>\n",
       "                    <td>'A prosa no Brasil'</td>\n",
       "                </tr>\n",
       "               \n",
       "            </tbody>\n",
       "        </table>\n",
       "        "
      ],
      "text/plain": [
       "<IPython.core.display.HTML object>"
      ]
     },
     "metadata": {},
     "output_type": "display_data"
    },
    {
     "data": {
      "text/html": [
       "\n",
       "        <table>\n",
       "            <thead>\n",
       "                <tr>\n",
       "                    <th scope=\"col\">Augusto Massi</th>\n",
       "                </tr>\n",
       "            </thead>\n",
       "            <tbody>\n",
       "        \n",
       "                <tr>\n",
       "                    <td>'A poesia no Brasil'</td>\n",
       "                </tr>\n",
       "               \n",
       "                <tr>\n",
       "                    <td>'A prosa no Brasil'</td>\n",
       "                </tr>\n",
       "               \n",
       "            </tbody>\n",
       "        </table>\n",
       "        "
      ],
      "text/plain": [
       "<IPython.core.display.HTML object>"
      ]
     },
     "metadata": {},
     "output_type": "display_data"
    },
    {
     "data": {
      "text/html": [
       "\n",
       "        <table>\n",
       "            <thead>\n",
       "                <tr>\n",
       "                    <th scope=\"col\">Cilaine Alves Cunha</th>\n",
       "                </tr>\n",
       "            </thead>\n",
       "            <tbody>\n",
       "        \n",
       "                <tr>\n",
       "                    <td>'A Poesia no Brasil'</td>\n",
       "                </tr>\n",
       "               \n",
       "                <tr>\n",
       "                    <td>'A prosa no Brasil'</td>\n",
       "                </tr>\n",
       "               \n",
       "            </tbody>\n",
       "        </table>\n",
       "        "
      ],
      "text/plain": [
       "<IPython.core.display.HTML object>"
      ]
     },
     "metadata": {},
     "output_type": "display_data"
    },
    {
     "data": {
      "text/html": [
       "\n",
       "        <table>\n",
       "            <thead>\n",
       "                <tr>\n",
       "                    <th scope=\"col\">Eliane Robert Moraes</th>\n",
       "                </tr>\n",
       "            </thead>\n",
       "            <tbody>\n",
       "        \n",
       "                <tr>\n",
       "                    <td>'Estética e Cultura'</td>\n",
       "                </tr>\n",
       "               \n",
       "                <tr>\n",
       "                    <td>'A Prosa no Brasil'</td>\n",
       "                </tr>\n",
       "               \n",
       "                <tr>\n",
       "                    <td>'Literatura, as Demais Artes e Outras Áreas de Conhecimento'</td>\n",
       "                </tr>\n",
       "               \n",
       "                <tr>\n",
       "                    <td>'A Poesia no Brasil'</td>\n",
       "                </tr>\n",
       "               \n",
       "                <tr>\n",
       "                    <td>'Sexe, sexualité - De la pratique sociale à la représentation littéraire'</td>\n",
       "                </tr>\n",
       "               \n",
       "            </tbody>\n",
       "        </table>\n",
       "        "
      ],
      "text/plain": [
       "<IPython.core.display.HTML object>"
      ]
     },
     "metadata": {},
     "output_type": "display_data"
    },
    {
     "data": {
      "text/html": [
       "\n",
       "        <table>\n",
       "            <thead>\n",
       "                <tr>\n",
       "                    <th scope=\"col\">Erwin Torralbo Gimenez</th>\n",
       "                </tr>\n",
       "            </thead>\n",
       "            <tbody>\n",
       "        \n",
       "            </tbody>\n",
       "        </table>\n",
       "        "
      ],
      "text/plain": [
       "<IPython.core.display.HTML object>"
      ]
     },
     "metadata": {},
     "output_type": "display_data"
    },
    {
     "data": {
      "text/html": [
       "\n",
       "        <table>\n",
       "            <thead>\n",
       "                <tr>\n",
       "                    <th scope=\"col\">Hélio de Seixas Guimarães</th>\n",
       "                </tr>\n",
       "            </thead>\n",
       "            <tbody>\n",
       "        \n",
       "                <tr>\n",
       "                    <td>'Historiografia e crítica literárias'</td>\n",
       "                </tr>\n",
       "               \n",
       "                <tr>\n",
       "                    <td>'A prosa no Brasil'</td>\n",
       "                </tr>\n",
       "               \n",
       "            </tbody>\n",
       "        </table>\n",
       "        "
      ],
      "text/plain": [
       "<IPython.core.display.HTML object>"
      ]
     },
     "metadata": {},
     "output_type": "display_data"
    },
    {
     "data": {
      "text/html": [
       "\n",
       "        <table>\n",
       "            <thead>\n",
       "                <tr>\n",
       "                    <th scope=\"col\">Ivan Francisco Marques</th>\n",
       "                </tr>\n",
       "            </thead>\n",
       "            <tbody>\n",
       "        \n",
       "                <tr>\n",
       "                    <td>'Literatura, as demais artes e outras áreas de conhecimento'</td>\n",
       "                </tr>\n",
       "               \n",
       "                <tr>\n",
       "                    <td>'A poesia no Brasil'</td>\n",
       "                </tr>\n",
       "               \n",
       "            </tbody>\n",
       "        </table>\n",
       "        "
      ],
      "text/plain": [
       "<IPython.core.display.HTML object>"
      ]
     },
     "metadata": {},
     "output_type": "display_data"
    },
    {
     "data": {
      "text/html": [
       "\n",
       "        <table>\n",
       "            <thead>\n",
       "                <tr>\n",
       "                    <th scope=\"col\">Jaime Ginzburg</th>\n",
       "                </tr>\n",
       "            </thead>\n",
       "            <tbody>\n",
       "        \n",
       "                <tr>\n",
       "                    <td>'Ensino de Literatura Brasileira'</td>\n",
       "                </tr>\n",
       "               \n",
       "                <tr>\n",
       "                    <td>'Literatura e autoritarismo'</td>\n",
       "                </tr>\n",
       "               \n",
       "                <tr>\n",
       "                    <td>'Literatura e outros sistemas'</td>\n",
       "                </tr>\n",
       "               \n",
       "                <tr>\n",
       "                    <td>'Literatura e Violência'</td>\n",
       "                </tr>\n",
       "               \n",
       "                <tr>\n",
       "                    <td>'Sociologia da Literatura'</td>\n",
       "                </tr>\n",
       "               \n",
       "                <tr>\n",
       "                    <td>'Literatura e História'</td>\n",
       "                </tr>\n",
       "               \n",
       "                <tr>\n",
       "                    <td>'Literatura e outros sistemas'</td>\n",
       "                </tr>\n",
       "               \n",
       "                <tr>\n",
       "                    <td>'Latin American Literary and Cultural Studies'</td>\n",
       "                </tr>\n",
       "               \n",
       "                <tr>\n",
       "                    <td>'Violência e cultura'</td>\n",
       "                </tr>\n",
       "               \n",
       "                <tr>\n",
       "                    <td>'Cinema contemporaneo'</td>\n",
       "                </tr>\n",
       "               \n",
       "            </tbody>\n",
       "        </table>\n",
       "        "
      ],
      "text/plain": [
       "<IPython.core.display.HTML object>"
      ]
     },
     "metadata": {},
     "output_type": "display_data"
    },
    {
     "data": {
      "text/html": [
       "\n",
       "        <table>\n",
       "            <thead>\n",
       "                <tr>\n",
       "                    <th scope=\"col\">Marcos Roberto Flamínio Peres</th>\n",
       "                </tr>\n",
       "            </thead>\n",
       "            <tbody>\n",
       "        \n",
       "                <tr>\n",
       "                    <td>'Romantismo'</td>\n",
       "                </tr>\n",
       "               \n",
       "                <tr>\n",
       "                    <td>'José de Alencar'</td>\n",
       "                </tr>\n",
       "               \n",
       "                <tr>\n",
       "                    <td>'Machado de Assis'</td>\n",
       "                </tr>\n",
       "               \n",
       "                <tr>\n",
       "                    <td>'Walter Scott'</td>\n",
       "                </tr>\n",
       "               \n",
       "                <tr>\n",
       "                    <td>'Século XIX'</td>\n",
       "                </tr>\n",
       "               \n",
       "                <tr>\n",
       "                    <td>'Teoria da literatura'</td>\n",
       "                </tr>\n",
       "               \n",
       "            </tbody>\n",
       "        </table>\n",
       "        "
      ],
      "text/plain": [
       "<IPython.core.display.HTML object>"
      ]
     },
     "metadata": {},
     "output_type": "display_data"
    },
    {
     "data": {
      "text/html": [
       "\n",
       "        <table>\n",
       "            <thead>\n",
       "                <tr>\n",
       "                    <th scope=\"col\">Marise Soares Hansen</th>\n",
       "                </tr>\n",
       "            </thead>\n",
       "            <tbody>\n",
       "        \n",
       "                <tr>\n",
       "                    <td>'Crítica literária'</td>\n",
       "                </tr>\n",
       "               \n",
       "            </tbody>\n",
       "        </table>\n",
       "        "
      ],
      "text/plain": [
       "<IPython.core.display.HTML object>"
      ]
     },
     "metadata": {},
     "output_type": "display_data"
    },
    {
     "data": {
      "text/html": [
       "\n",
       "        <table>\n",
       "            <thead>\n",
       "                <tr>\n",
       "                    <th scope=\"col\">Murilo Marcondes de Moura</th>\n",
       "                </tr>\n",
       "            </thead>\n",
       "            <tbody>\n",
       "        \n",
       "                <tr>\n",
       "                    <td>'Relações entre literatura e história'</td>\n",
       "                </tr>\n",
       "               \n",
       "                <tr>\n",
       "                    <td>'Trabalhos comparativos entre poesia brasileira e francesa'</td>\n",
       "                </tr>\n",
       "               \n",
       "            </tbody>\n",
       "        </table>\n",
       "        "
      ],
      "text/plain": [
       "<IPython.core.display.HTML object>"
      ]
     },
     "metadata": {},
     "output_type": "display_data"
    },
    {
     "data": {
      "text/html": [
       "\n",
       "        <table>\n",
       "            <thead>\n",
       "                <tr>\n",
       "                    <th scope=\"col\">Simone Rossinetti Rufinoni' </th>\n",
       "                </tr>\n",
       "            </thead>\n",
       "            <tbody>\n",
       "        \n",
       "                <tr>\n",
       "                    <td>'Prosa no Brasil'</td>\n",
       "                </tr>\n",
       "               \n",
       "                <tr>\n",
       "                    <td>'Poesia no Brasil'</td>\n",
       "                </tr>\n",
       "               \n",
       "            </tbody>\n",
       "        </table>\n",
       "        "
      ],
      "text/plain": [
       "<IPython.core.display.HTML object>"
      ]
     },
     "metadata": {},
     "output_type": "display_data"
    },
    {
     "data": {
      "text/html": [
       "\n",
       "        <table>\n",
       "            <thead>\n",
       "                <tr>\n",
       "                    <th scope=\"col\">Vagner Camilo</th>\n",
       "                </tr>\n",
       "            </thead>\n",
       "            <tbody>\n",
       "        \n",
       "                <tr>\n",
       "                    <td>'Vertentes da lírica moderna no Brasil'</td>\n",
       "                </tr>\n",
       "               \n",
       "                <tr>\n",
       "                    <td>'Vertentes da lírica romântica no Brasil'</td>\n",
       "                </tr>\n",
       "               \n",
       "                <tr>\n",
       "                    <td>'Recepção das Idéias Críticas no Brasil'</td>\n",
       "                </tr>\n",
       "               \n",
       "            </tbody>\n",
       "        </table>\n",
       "        "
      ],
      "text/plain": [
       "<IPython.core.display.HTML object>"
      ]
     },
     "metadata": {},
     "output_type": "display_data"
    },
    {
     "data": {
      "text/html": [
       "\n",
       "        <table>\n",
       "            <thead>\n",
       "                <tr>\n",
       "                    <th scope=\"col\">Yudith Rosenbaum</th>\n",
       "                </tr>\n",
       "            </thead>\n",
       "            <tbody>\n",
       "        \n",
       "                <tr>\n",
       "                    <td>'A prosa no Brasil'</td>\n",
       "                </tr>\n",
       "               \n",
       "                <tr>\n",
       "                    <td>'Literatura, as demais artes e áreas do conhecimento'</td>\n",
       "                </tr>\n",
       "               \n",
       "            </tbody>\n",
       "        </table>\n",
       "        "
      ],
      "text/plain": [
       "<IPython.core.display.HTML object>"
      ]
     },
     "metadata": {},
     "output_type": "display_data"
    },
    {
     "data": {
      "text/html": [
       "\n",
       "        <table>\n",
       "            <thead>\n",
       "                <tr>\n",
       "                    <th scope=\"col\">Emerson da Cruz Inácio</th>\n",
       "                </tr>\n",
       "            </thead>\n",
       "            <tbody>\n",
       "        \n",
       "                <tr>\n",
       "                    <td>'Literatura e outras formas do saber'</td>\n",
       "                </tr>\n",
       "               \n",
       "            </tbody>\n",
       "        </table>\n",
       "        "
      ],
      "text/plain": [
       "<IPython.core.display.HTML object>"
      ]
     },
     "metadata": {},
     "output_type": "display_data"
    },
    {
     "data": {
      "text/html": [
       "\n",
       "        <table>\n",
       "            <thead>\n",
       "                <tr>\n",
       "                    <th scope=\"col\">Fabiana Buitor Carelli Marquezini</th>\n",
       "                </tr>\n",
       "            </thead>\n",
       "            <tbody>\n",
       "        \n",
       "                <tr>\n",
       "                    <td>'Post-colonial literatures in Portuguese'</td>\n",
       "                </tr>\n",
       "               \n",
       "                <tr>\n",
       "                    <td>'Cinema Africano de Língua Portuguesa'</td>\n",
       "                </tr>\n",
       "               \n",
       "                <tr>\n",
       "                    <td>'Literatura e outras formas do saber'</td>\n",
       "                </tr>\n",
       "               \n",
       "                <tr>\n",
       "                    <td>'Escrita Criativa'</td>\n",
       "                </tr>\n",
       "               \n",
       "            </tbody>\n",
       "        </table>\n",
       "        "
      ],
      "text/plain": [
       "<IPython.core.display.HTML object>"
      ]
     },
     "metadata": {},
     "output_type": "display_data"
    },
    {
     "data": {
      "text/html": [
       "\n",
       "        <table>\n",
       "            <thead>\n",
       "                <tr>\n",
       "                    <th scope=\"col\">Vima Lia de Rossi Martin</th>\n",
       "                </tr>\n",
       "            </thead>\n",
       "            <tbody>\n",
       "        \n",
       "                <tr>\n",
       "                    <td>'Literatura e outras formas do saber'</td>\n",
       "                </tr>\n",
       "               \n",
       "                <tr>\n",
       "                    <td>'Literatura e experiência histórica nos países de língua portuguesa'</td>\n",
       "                </tr>\n",
       "               \n",
       "            </tbody>\n",
       "        </table>\n",
       "        "
      ],
      "text/plain": [
       "<IPython.core.display.HTML object>"
      ]
     },
     "metadata": {},
     "output_type": "display_data"
    },
    {
     "data": {
      "text/html": [
       "\n",
       "        <table>\n",
       "            <thead>\n",
       "                <tr>\n",
       "                    <th scope=\"col\">José Nicolau Gregorin Filho</th>\n",
       "                </tr>\n",
       "            </thead>\n",
       "            <tbody>\n",
       "        \n",
       "                <tr>\n",
       "                    <td>'Literatura Infantil/Juvenil em língua portuguesa'</td>\n",
       "                </tr>\n",
       "               \n",
       "            </tbody>\n",
       "        </table>\n",
       "        "
      ],
      "text/plain": [
       "<IPython.core.display.HTML object>"
      ]
     },
     "metadata": {},
     "output_type": "display_data"
    },
    {
     "data": {
      "text/html": [
       "\n",
       "        <table>\n",
       "            <thead>\n",
       "                <tr>\n",
       "                    <th scope=\"col\">Maria dos Prazeres Santos Mendes</th>\n",
       "                </tr>\n",
       "            </thead>\n",
       "            <tbody>\n",
       "        \n",
       "                <tr>\n",
       "                    <td>'A literatura e outras formas do saber'</td>\n",
       "                </tr>\n",
       "               \n",
       "            </tbody>\n",
       "        </table>\n",
       "        "
      ],
      "text/plain": [
       "<IPython.core.display.HTML object>"
      ]
     },
     "metadata": {},
     "output_type": "display_data"
    },
    {
     "data": {
      "text/html": [
       "\n",
       "        <table>\n",
       "            <thead>\n",
       "                <tr>\n",
       "                    <th scope=\"col\">Maria Zilda da Cunha</th>\n",
       "                </tr>\n",
       "            </thead>\n",
       "            <tbody>\n",
       "        \n",
       "                <tr>\n",
       "                    <td>'A literatura e outras formas do saber'</td>\n",
       "                </tr>\n",
       "               \n",
       "            </tbody>\n",
       "        </table>\n",
       "        "
      ],
      "text/plain": [
       "<IPython.core.display.HTML object>"
      ]
     },
     "metadata": {},
     "output_type": "display_data"
    },
    {
     "data": {
      "text/html": [
       "\n",
       "        <table>\n",
       "            <thead>\n",
       "                <tr>\n",
       "                    <th scope=\"col\">Rejane Vecchia</th>\n",
       "                </tr>\n",
       "            </thead>\n",
       "            <tbody>\n",
       "        \n",
       "                <tr>\n",
       "                    <td>'Literatura, Cultura e Sociedade'</td>\n",
       "                </tr>\n",
       "               \n",
       "                <tr>\n",
       "                    <td>'Literatura e experiência histórica nos países de língua portuguesa'</td>\n",
       "                </tr>\n",
       "               \n",
       "                <tr>\n",
       "                    <td>'A África no Brasil e o Brasil na África: novos horizontes'</td>\n",
       "                </tr>\n",
       "               \n",
       "            </tbody>\n",
       "        </table>\n",
       "        "
      ],
      "text/plain": [
       "<IPython.core.display.HTML object>"
      ]
     },
     "metadata": {},
     "output_type": "display_data"
    },
    {
     "data": {
      "text/html": [
       "\n",
       "        <table>\n",
       "            <thead>\n",
       "                <tr>\n",
       "                    <th scope=\"col\">Mário César Lugarinho' </th>\n",
       "                </tr>\n",
       "            </thead>\n",
       "            <tbody>\n",
       "        \n",
       "                <tr>\n",
       "                    <td>'Literatura e vida cultural'</td>\n",
       "                </tr>\n",
       "               \n",
       "                <tr>\n",
       "                    <td>'Literatura, outras artes e indústria cultural'</td>\n",
       "                </tr>\n",
       "               \n",
       "                <tr>\n",
       "                    <td>'Literatura e sociedade nos países de Língua Portuguesa'</td>\n",
       "                </tr>\n",
       "               \n",
       "                <tr>\n",
       "                    <td>'Literatura e experiência histórica nos países de língua portuguesa'</td>\n",
       "                </tr>\n",
       "               \n",
       "                <tr>\n",
       "                    <td>'Gender, Normativity, Representations (GENORE)'</td>\n",
       "                </tr>\n",
       "               \n",
       "                <tr>\n",
       "                    <td>'Intersexualidades'</td>\n",
       "                </tr>\n",
       "               \n",
       "            </tbody>\n",
       "        </table>\n",
       "        "
      ],
      "text/plain": [
       "<IPython.core.display.HTML object>"
      ]
     },
     "metadata": {},
     "output_type": "display_data"
    },
    {
     "data": {
      "text/html": [
       "\n",
       "        <table>\n",
       "            <thead>\n",
       "                <tr>\n",
       "                    <th scope=\"col\">Fabiana Buitor Carelli Marquezini</th>\n",
       "                </tr>\n",
       "            </thead>\n",
       "            <tbody>\n",
       "        \n",
       "                <tr>\n",
       "                    <td>'Post-colonial literatures in Portuguese'</td>\n",
       "                </tr>\n",
       "               \n",
       "                <tr>\n",
       "                    <td>'Cinema Africano de Língua Portuguesa'</td>\n",
       "                </tr>\n",
       "               \n",
       "                <tr>\n",
       "                    <td>'Literatura e outras formas do saber'</td>\n",
       "                </tr>\n",
       "               \n",
       "                <tr>\n",
       "                    <td>'Escrita Criativa'</td>\n",
       "                </tr>\n",
       "               \n",
       "                <tr>\n",
       "                    <td>  </td>\n",
       "                </tr>\n",
       "               \n",
       "            </tbody>\n",
       "        </table>\n",
       "        "
      ],
      "text/plain": [
       "<IPython.core.display.HTML object>"
      ]
     },
     "metadata": {},
     "output_type": "display_data"
    },
    {
     "data": {
      "text/html": [
       "\n",
       "        <table>\n",
       "            <thead>\n",
       "                <tr>\n",
       "                    <th scope=\"col\">Helder Garmes</th>\n",
       "                </tr>\n",
       "            </thead>\n",
       "            <tbody>\n",
       "        \n",
       "                <tr>\n",
       "                    <td>'Cânone: tradições / reconfigurações'</td>\n",
       "                </tr>\n",
       "               \n",
       "                <tr>\n",
       "                    <td>'Literatura e experiência histórica nos países de língua portuguesa'</td>\n",
       "                </tr>\n",
       "               \n",
       "            </tbody>\n",
       "        </table>\n",
       "        "
      ],
      "text/plain": [
       "<IPython.core.display.HTML object>"
      ]
     },
     "metadata": {},
     "output_type": "display_data"
    },
    {
     "data": {
      "text/html": [
       "\n",
       "        <table>\n",
       "            <thead>\n",
       "                <tr>\n",
       "                    <th scope=\"col\">José Horácio de Almeida Nascimento Costa</th>\n",
       "                </tr>\n",
       "            </thead>\n",
       "            <tbody>\n",
       "        \n",
       "                <tr>\n",
       "                    <td>'Criação literária e crítica criativa'</td>\n",
       "                </tr>\n",
       "               \n",
       "                <tr>\n",
       "                    <td>'Diálogos e conexões: outras artes, saberes e cenários'</td>\n",
       "                </tr>\n",
       "               \n",
       "                <tr>\n",
       "                    <td>'Estudos de Gênero: vozes emergentes'</td>\n",
       "                </tr>\n",
       "               \n",
       "            </tbody>\n",
       "        </table>\n",
       "        "
      ],
      "text/plain": [
       "<IPython.core.display.HTML object>"
      ]
     },
     "metadata": {},
     "output_type": "display_data"
    },
    {
     "data": {
      "text/html": [
       "\n",
       "        <table>\n",
       "            <thead>\n",
       "                <tr>\n",
       "                    <th scope=\"col\">José Nicolau Gregorin Filho</th>\n",
       "                </tr>\n",
       "            </thead>\n",
       "            <tbody>\n",
       "        \n",
       "                <tr>\n",
       "                    <td>'Literatura e Experiência Histórica nos países de Língua Portuguesa'</td>\n",
       "                </tr>\n",
       "               \n",
       "            </tbody>\n",
       "        </table>\n",
       "        "
      ],
      "text/plain": [
       "<IPython.core.display.HTML object>"
      ]
     },
     "metadata": {},
     "output_type": "display_data"
    },
    {
     "data": {
      "text/html": [
       "\n",
       "        <table>\n",
       "            <thead>\n",
       "                <tr>\n",
       "                    <th scope=\"col\">Maria dos Prazeres Santos Mendes</th>\n",
       "                </tr>\n",
       "            </thead>\n",
       "            <tbody>\n",
       "        \n",
       "                <tr>\n",
       "                    <td>'Literatura e outras formas do saber'</td>\n",
       "                </tr>\n",
       "               \n",
       "            </tbody>\n",
       "        </table>\n",
       "        "
      ],
      "text/plain": [
       "<IPython.core.display.HTML object>"
      ]
     },
     "metadata": {},
     "output_type": "display_data"
    },
    {
     "data": {
      "text/html": [
       "\n",
       "        <table>\n",
       "            <thead>\n",
       "                <tr>\n",
       "                    <th scope=\"col\">Maria Zilda da Cunha</th>\n",
       "                </tr>\n",
       "            </thead>\n",
       "            <tbody>\n",
       "        \n",
       "                <tr>\n",
       "                    <td>'Literatura e outras formas do saber'</td>\n",
       "                </tr>\n",
       "               \n",
       "            </tbody>\n",
       "        </table>\n",
       "        "
      ],
      "text/plain": [
       "<IPython.core.display.HTML object>"
      ]
     },
     "metadata": {},
     "output_type": "display_data"
    },
    {
     "data": {
      "text/html": [
       "\n",
       "        <table>\n",
       "            <thead>\n",
       "                <tr>\n",
       "                    <th scope=\"col\">Paulo Fernando da Motta de Oliveira</th>\n",
       "                </tr>\n",
       "            </thead>\n",
       "            <tbody>\n",
       "        \n",
       "                <tr>\n",
       "                    <td>'Literatura, História e Memória Cultural'</td>\n",
       "                </tr>\n",
       "               \n",
       "                <tr>\n",
       "                    <td>'Poéticas da Modernidade'</td>\n",
       "                </tr>\n",
       "               \n",
       "                <tr>\n",
       "                    <td>'Polifonia e diacronia na prosa, na poesia e no teatro de expressão portuguesa'</td>\n",
       "                </tr>\n",
       "               \n",
       "                <tr>\n",
       "                    <td>'Literatura e experiência histórica nos países de língua portuguesa'</td>\n",
       "                </tr>\n",
       "               \n",
       "            </tbody>\n",
       "        </table>\n",
       "        "
      ],
      "text/plain": [
       "<IPython.core.display.HTML object>"
      ]
     },
     "metadata": {},
     "output_type": "display_data"
    },
    {
     "data": {
      "text/html": [
       "\n",
       "        <table>\n",
       "            <thead>\n",
       "                <tr>\n",
       "                    <th scope=\"col\">Rosangela Sarteschi </th>\n",
       "                </tr>\n",
       "            </thead>\n",
       "            <tbody>\n",
       "        \n",
       "                <tr>\n",
       "                    <td>'Literatura e experiência histórica nos países de língua portuguesa'</td>\n",
       "                </tr>\n",
       "               \n",
       "                <tr>\n",
       "                    <td>'Literatura e ensino: a Lei 11.645/08 em perspectiva'</td>\n",
       "                </tr>\n",
       "               \n",
       "                <tr>\n",
       "                    <td>'Literatura e vida social nos países de língua portuguesa'</td>\n",
       "                </tr>\n",
       "               \n",
       "                <tr>\n",
       "                    <td>'A África no Brasil e o Brasil na África: novos horizontes'</td>\n",
       "                </tr>\n",
       "               \n",
       "            </tbody>\n",
       "        </table>\n",
       "        "
      ],
      "text/plain": [
       "<IPython.core.display.HTML object>"
      ]
     },
     "metadata": {},
     "output_type": "display_data"
    },
    {
     "data": {
      "text/html": [
       "\n",
       "        <table>\n",
       "            <thead>\n",
       "                <tr>\n",
       "                    <th scope=\"col\">Vima Lia de Rossi Martin</th>\n",
       "                </tr>\n",
       "            </thead>\n",
       "            <tbody>\n",
       "        \n",
       "                <tr>\n",
       "                    <td>'Literatura e outras formas do saber'</td>\n",
       "                </tr>\n",
       "               \n",
       "                <tr>\n",
       "                    <td>'Literatura e experiência histórica nos países de língua portuguesa'</td>\n",
       "                </tr>\n",
       "               \n",
       "            </tbody>\n",
       "        </table>\n",
       "        "
      ],
      "text/plain": [
       "<IPython.core.display.HTML object>"
      ]
     },
     "metadata": {},
     "output_type": "display_data"
    },
    {
     "data": {
      "text/html": [
       "\n",
       "        <table>\n",
       "            <thead>\n",
       "                <tr>\n",
       "                    <th scope=\"col\">Adma Fadul Muhana</th>\n",
       "                </tr>\n",
       "            </thead>\n",
       "            <tbody>\n",
       "        \n",
       "                <tr>\n",
       "                    <td>'Diálogos e conexões: outras artes, saberes e cenários:'</td>\n",
       "                </tr>\n",
       "               \n",
       "                <tr>\n",
       "                    <td>'Cânones: tradições/reconfigurações'</td>\n",
       "                </tr>\n",
       "               \n",
       "                <tr>\n",
       "                    <td>'Criação literária e Crítica criativa'</td>\n",
       "                </tr>\n",
       "               \n",
       "            </tbody>\n",
       "        </table>\n",
       "        "
      ],
      "text/plain": [
       "<IPython.core.display.HTML object>"
      ]
     },
     "metadata": {},
     "output_type": "display_data"
    },
    {
     "data": {
      "text/html": [
       "\n",
       "        <table>\n",
       "            <thead>\n",
       "                <tr>\n",
       "                    <th scope=\"col\">Annie Gisele Fernandes</th>\n",
       "                </tr>\n",
       "            </thead>\n",
       "            <tbody>\n",
       "        \n",
       "                <tr>\n",
       "                    <td>'Coordenação Acadêmica da LInha de Pesquisa Estudios Hispano-Portugueses.',</td>\n",
       "                </tr>\n",
       "               \n",
       "                <tr>\n",
       "                    <td>'Cânones: tradições/reconfigurações'</td>\n",
       "                </tr>\n",
       "               \n",
       "                <tr>\n",
       "                    <td>'Diálogos e conexões: outras artes, saberes e cenários'</td>\n",
       "                </tr>\n",
       "               \n",
       "            </tbody>\n",
       "        </table>\n",
       "        "
      ],
      "text/plain": [
       "<IPython.core.display.HTML object>"
      ]
     },
     "metadata": {},
     "output_type": "display_data"
    },
    {
     "data": {
      "text/html": [
       "\n",
       "        <table>\n",
       "            <thead>\n",
       "                <tr>\n",
       "                    <th scope=\"col\">Aparecida de Fátima Bueno</th>\n",
       "                </tr>\n",
       "            </thead>\n",
       "            <tbody>\n",
       "        \n",
       "                <tr>\n",
       "                    <td>'Estudos Culturais'</td>\n",
       "                </tr>\n",
       "               \n",
       "                <tr>\n",
       "                    <td>'Literatura e religião'</td>\n",
       "                </tr>\n",
       "               \n",
       "                <tr>\n",
       "                    <td>'Literatura e Outras Formas de Saber'</td>\n",
       "                </tr>\n",
       "               \n",
       "                <tr>\n",
       "                    <td>'Cânones: tradições/reconfigurações'</td>\n",
       "                </tr>\n",
       "               \n",
       "                <tr>\n",
       "                    <td>'Diálogos e conexões: outras artes, saberes e cenários'</td>\n",
       "                </tr>\n",
       "               \n",
       "                <tr>\n",
       "                    <td>  </td>\n",
       "                </tr>\n",
       "               \n",
       "            </tbody>\n",
       "        </table>\n",
       "        "
      ],
      "text/plain": [
       "<IPython.core.display.HTML object>"
      ]
     },
     "metadata": {},
     "output_type": "display_data"
    },
    {
     "data": {
      "text/html": [
       "\n",
       "        <table>\n",
       "            <thead>\n",
       "                <tr>\n",
       "                    <th scope=\"col\">Caio Márcio Poletti Lui Gagliardi</th>\n",
       "                </tr>\n",
       "            </thead>\n",
       "            <tbody>\n",
       "        \n",
       "                <tr>\n",
       "                    <td>'Cânones: tradições/reconfigurações'</td>\n",
       "                </tr>\n",
       "               \n",
       "                <tr>\n",
       "                    <td>'Diálogos e conexões: outras artes, saberes e cenários'</td>\n",
       "                </tr>\n",
       "               \n",
       "                <tr>\n",
       "                    <td>  </td>\n",
       "                </tr>\n",
       "               \n",
       "            </tbody>\n",
       "        </table>\n",
       "        "
      ],
      "text/plain": [
       "<IPython.core.display.HTML object>"
      ]
     },
     "metadata": {},
     "output_type": "display_data"
    },
    {
     "data": {
      "text/html": [
       "\n",
       "        <table>\n",
       "            <thead>\n",
       "                <tr>\n",
       "                    <th scope=\"col\">Flavia Maria Ferraz Sampaio Corradin</th>\n",
       "                </tr>\n",
       "            </thead>\n",
       "            <tbody>\n",
       "        \n",
       "                <tr>\n",
       "                    <td>'Cânones: tradições/reconfigurações: Estudos da história da Literatura Portuguesa, a partir de suas tradições, com ênfase em releituras e reconfigurações do cânone, com a finalidade de augurar novas possibilidades historiográficas e interpretativas'</td>\n",
       "                </tr>\n",
       "               \n",
       "                <tr>\n",
       "                    <td>'Diálogos e conexões: outras artes, saberes e cenários'</td>\n",
       "                </tr>\n",
       "               \n",
       "            </tbody>\n",
       "        </table>\n",
       "        "
      ],
      "text/plain": [
       "<IPython.core.display.HTML object>"
      ]
     },
     "metadata": {},
     "output_type": "display_data"
    },
    {
     "data": {
      "text/html": [
       "\n",
       "        <table>\n",
       "            <thead>\n",
       "                <tr>\n",
       "                    <th scope=\"col\">Helder Garmes</th>\n",
       "                </tr>\n",
       "            </thead>\n",
       "            <tbody>\n",
       "        \n",
       "                <tr>\n",
       "                    <td>'Cânone: tradições / reconfigurações'</td>\n",
       "                </tr>\n",
       "               \n",
       "                <tr>\n",
       "                    <td>'Literatura e experiência histórica nos países de língua portuguesa'</td>\n",
       "                </tr>\n",
       "               \n",
       "            </tbody>\n",
       "        </table>\n",
       "        "
      ],
      "text/plain": [
       "<IPython.core.display.HTML object>"
      ]
     },
     "metadata": {},
     "output_type": "display_data"
    },
    {
     "data": {
      "text/html": [
       "\n",
       "        <table>\n",
       "            <thead>\n",
       "                <tr>\n",
       "                    <th scope=\"col\">José Horácio de Almeida Nascimento Costa</th>\n",
       "                </tr>\n",
       "            </thead>\n",
       "            <tbody>\n",
       "        \n",
       "                <tr>\n",
       "                    <td>'Criação literária e crítica criativa'</td>\n",
       "                </tr>\n",
       "               \n",
       "                <tr>\n",
       "                    <td>'Diálogos e conexões: outras artes, saberes e cenários'</td>\n",
       "                </tr>\n",
       "               \n",
       "                <tr>\n",
       "                    <td>'Estudos de Gênero: vozes emergentes'</td>\n",
       "                </tr>\n",
       "               \n",
       "            </tbody>\n",
       "        </table>\n",
       "        "
      ],
      "text/plain": [
       "<IPython.core.display.HTML object>"
      ]
     },
     "metadata": {},
     "output_type": "display_data"
    },
    {
     "data": {
      "text/html": [
       "\n",
       "        <table>\n",
       "            <thead>\n",
       "                <tr>\n",
       "                    <th scope=\"col\">Lilian Jacoto</th>\n",
       "                </tr>\n",
       "            </thead>\n",
       "            <tbody>\n",
       "        \n",
       "                <tr>\n",
       "                    <td>'Criação literária e crítica criativa'</td>\n",
       "                </tr>\n",
       "               \n",
       "                <tr>\n",
       "                    <td>'Group 4 ? Literature and Culture in InterArts'</td>\n",
       "                </tr>\n",
       "               \n",
       "            </tbody>\n",
       "        </table>\n",
       "        "
      ],
      "text/plain": [
       "<IPython.core.display.HTML object>"
      ]
     },
     "metadata": {},
     "output_type": "display_data"
    },
    {
     "data": {
      "text/html": [
       "\n",
       "        <table>\n",
       "            <thead>\n",
       "                <tr>\n",
       "                    <th scope=\"col\">Marcia Maria de Arruda Franco</th>\n",
       "                </tr>\n",
       "            </thead>\n",
       "            <tbody>\n",
       "        \n",
       "                <tr>\n",
       "                    <td>'Cânones: tradições/reconfigurações'</td>\n",
       "                </tr>\n",
       "               \n",
       "                <tr>\n",
       "                    <td>'Diálogos e conexões: outras artes, saberes e cenários.'</td>\n",
       "                </tr>\n",
       "               \n",
       "                <tr>\n",
       "                    <td>'Estudos de gênero: vozes emergentes'</td>\n",
       "                </tr>\n",
       "               \n",
       "                <tr>\n",
       "                    <td>'Poemas herói-cômicos'</td>\n",
       "                </tr>\n",
       "               \n",
       "            </tbody>\n",
       "        </table>\n",
       "        "
      ],
      "text/plain": [
       "<IPython.core.display.HTML object>"
      ]
     },
     "metadata": {},
     "output_type": "display_data"
    },
    {
     "data": {
      "text/html": [
       "\n",
       "        <table>\n",
       "            <thead>\n",
       "                <tr>\n",
       "                    <th scope=\"col\">Marlise Vaz Bridi</th>\n",
       "                </tr>\n",
       "            </thead>\n",
       "            <tbody>\n",
       "        \n",
       "                <tr>\n",
       "                    <td>'Estudos de Gêneros: vozes emergentes'</td>\n",
       "                </tr>\n",
       "               \n",
       "            </tbody>\n",
       "        </table>\n",
       "        "
      ],
      "text/plain": [
       "<IPython.core.display.HTML object>"
      ]
     },
     "metadata": {},
     "output_type": "display_data"
    },
    {
     "data": {
      "text/html": [
       "\n",
       "        <table>\n",
       "            <thead>\n",
       "                <tr>\n",
       "                    <th scope=\"col\">Mônica Muniz de Souza Simas</th>\n",
       "                </tr>\n",
       "            </thead>\n",
       "            <tbody>\n",
       "        \n",
       "                <tr>\n",
       "                    <td>'Cânones e Margens (2001-2003 PUC - RJ)'</td>\n",
       "                </tr>\n",
       "               \n",
       "                <tr>\n",
       "                    <td>'Tradição e Ruptura (2001-2003 PUC-RJ)'</td>\n",
       "                </tr>\n",
       "               \n",
       "                <tr>\n",
       "                    <td>'Poéticas de Expressão Portuguesa (2003-2010)'</td>\n",
       "                </tr>\n",
       "               \n",
       "                <tr>\n",
       "                    <td>'Diálogos e conexões: outras artes, saberes e cenários'</td>\n",
       "                </tr>\n",
       "               \n",
       "            </tbody>\n",
       "        </table>\n",
       "        "
      ],
      "text/plain": [
       "<IPython.core.display.HTML object>"
      ]
     },
     "metadata": {},
     "output_type": "display_data"
    },
    {
     "data": {
      "text/html": [
       "\n",
       "        <table>\n",
       "            <thead>\n",
       "                <tr>\n",
       "                    <th scope=\"col\">Paola Poma</th>\n",
       "                </tr>\n",
       "            </thead>\n",
       "            <tbody>\n",
       "        \n",
       "                <tr>\n",
       "                    <td>'Estudos de gêneros: vozes emergentes'</td>\n",
       "                </tr>\n",
       "               \n",
       "                <tr>\n",
       "                    <td>'Cânones: tradições /reconfigurações'</td>\n",
       "                </tr>\n",
       "               \n",
       "            </tbody>\n",
       "        </table>\n",
       "        "
      ],
      "text/plain": [
       "<IPython.core.display.HTML object>"
      ]
     },
     "metadata": {},
     "output_type": "display_data"
    },
    {
     "data": {
      "text/html": [
       "\n",
       "        <table>\n",
       "            <thead>\n",
       "                <tr>\n",
       "                    <th scope=\"col\">Paulo Fernando da Motta de Oliveira</th>\n",
       "                </tr>\n",
       "            </thead>\n",
       "            <tbody>\n",
       "        \n",
       "                <tr>\n",
       "                    <td>'Literatura, História e Memória Cultural'</td>\n",
       "                </tr>\n",
       "               \n",
       "                <tr>\n",
       "                    <td>'Poéticas da Modernidade'</td>\n",
       "                </tr>\n",
       "               \n",
       "                <tr>\n",
       "                    <td>'Polifonia e diacronia na prosa, na poesia e no teatro de expressão portuguesa'</td>\n",
       "                </tr>\n",
       "               \n",
       "                <tr>\n",
       "                    <td>'Literatura e experiência histórica nos países de língua portuguesa'</td>\n",
       "                </tr>\n",
       "               \n",
       "            </tbody>\n",
       "        </table>\n",
       "        "
      ],
      "text/plain": [
       "<IPython.core.display.HTML object>"
      ]
     },
     "metadata": {},
     "output_type": "display_data"
    },
    {
     "data": {
      "text/html": [
       "\n",
       "        <table>\n",
       "            <thead>\n",
       "                <tr>\n",
       "                    <th scope=\"col\">Dorthe Uphoff </th>\n",
       "                </tr>\n",
       "            </thead>\n",
       "            <tbody>\n",
       "        \n",
       "                <tr>\n",
       "                    <td>'Ensino/Aprendizagem de Alemão como Língua Estrangeira'</td>\n",
       "                </tr>\n",
       "               \n",
       "                <tr>\n",
       "                    <td>'Zeitgeist: Língua Alemã em Contextos Universitários'</td>\n",
       "                </tr>\n",
       "               \n",
       "            </tbody>\n",
       "        </table>\n",
       "        "
      ],
      "text/plain": [
       "<IPython.core.display.HTML object>"
      ]
     },
     "metadata": {},
     "output_type": "display_data"
    },
    {
     "data": {
      "text/html": [
       "\n",
       "        <table>\n",
       "            <thead>\n",
       "                <tr>\n",
       "                    <th scope=\"col\">Helmut Paul Erich Galle </th>\n",
       "                </tr>\n",
       "            </thead>\n",
       "            <tbody>\n",
       "        \n",
       "                <tr>\n",
       "                    <td>'GT ANPOLL Literaturas Estrangeiras'</td>\n",
       "                </tr>\n",
       "               \n",
       "                <tr>\n",
       "                    <td>'Germanística interdisciplinar'</td>\n",
       "                </tr>\n",
       "               \n",
       "            </tbody>\n",
       "        </table>\n",
       "        "
      ],
      "text/plain": [
       "<IPython.core.display.HTML object>"
      ]
     },
     "metadata": {},
     "output_type": "display_data"
    },
    {
     "data": {
      "text/html": [
       "\n",
       "        <table>\n",
       "            <thead>\n",
       "                <tr>\n",
       "                    <th scope=\"col\">Jose da Silva Simões </th>\n",
       "                </tr>\n",
       "            </thead>\n",
       "            <tbody>\n",
       "        \n",
       "                <tr>\n",
       "                    <td>'Formação de Corpora do Português Paulista'</td>\n",
       "                </tr>\n",
       "               \n",
       "                <tr>\n",
       "                    <td>'Estudos contrastivos português/alemão: classes de palavras textos e história'</td>\n",
       "                </tr>\n",
       "               \n",
       "                <tr>\n",
       "                    <td>'Aquisição de alemão como língua estrangeira: aprendizagem e ensino'</td>\n",
       "                </tr>\n",
       "               \n",
       "                <tr>\n",
       "                    <td>'O ensino de alemão no Brasil: passado, presente e futuro'</td>\n",
       "                </tr>\n",
       "               \n",
       "                <tr>\n",
       "                    <td>'Aquisição de alemão como língua estrangeira: aprendizagem e ensino'</td>\n",
       "                </tr>\n",
       "               \n",
       "            </tbody>\n",
       "        </table>\n",
       "        "
      ],
      "text/plain": [
       "<IPython.core.display.HTML object>"
      ]
     },
     "metadata": {},
     "output_type": "display_data"
    },
    {
     "data": {
      "text/html": [
       "\n",
       "        <table>\n",
       "            <thead>\n",
       "                <tr>\n",
       "                    <th scope=\"col\">Juliana Pasquarelli Perez </th>\n",
       "                </tr>\n",
       "            </thead>\n",
       "            <tbody>\n",
       "        \n",
       "                <tr>\n",
       "                    <td>'Estudos de Literatura, Cultura e Tradução (Pós-Graduação em Língua e Literatura Alemã/FFLCH/USP)'</td>\n",
       "                </tr>\n",
       "               \n",
       "                <tr>\n",
       "                    <td>'Discurso e transculturalidade (Programa Interdisciplinar em Linguística Aplicada/UFRJ)'</td>\n",
       "                </tr>\n",
       "               \n",
       "                <tr>\n",
       "                    <td>'Projeto - Chiaroscuro: Configurações do drama da razão na poesia de Bruno Tolentino'</td>\n",
       "                </tr>\n",
       "               \n",
       "            </tbody>\n",
       "        </table>\n",
       "        "
      ],
      "text/plain": [
       "<IPython.core.display.HTML object>"
      ]
     },
     "metadata": {},
     "output_type": "display_data"
    },
    {
     "data": {
      "text/html": [
       "\n",
       "        <table>\n",
       "            <thead>\n",
       "                <tr>\n",
       "                    <th scope=\"col\">Lucas Takeo Shimoda</th>\n",
       "                </tr>\n",
       "            </thead>\n",
       "            <tbody>\n",
       "        \n",
       "            </tbody>\n",
       "        </table>\n",
       "        "
      ],
      "text/plain": [
       "<IPython.core.display.HTML object>"
      ]
     },
     "metadata": {},
     "output_type": "display_data"
    },
    {
     "data": {
      "text/html": [
       "\n",
       "        <table>\n",
       "            <thead>\n",
       "                <tr>\n",
       "                    <th scope=\"col\">Magdalena Nowinska </th>\n",
       "                </tr>\n",
       "            </thead>\n",
       "            <tbody>\n",
       "        \n",
       "                <tr>\n",
       "                    <td>'Estudos de literatura, cultura e tradução'</td>\n",
       "                </tr>\n",
       "               \n",
       "            </tbody>\n",
       "        </table>\n",
       "        "
      ],
      "text/plain": [
       "<IPython.core.display.HTML object>"
      ]
     },
     "metadata": {},
     "output_type": "display_data"
    },
    {
     "data": {
      "text/html": [
       "\n",
       "        <table>\n",
       "            <thead>\n",
       "                <tr>\n",
       "                    <th scope=\"col\">Marceli Cherchiglia Aquino </th>\n",
       "                </tr>\n",
       "            </thead>\n",
       "            <tbody>\n",
       "        \n",
       "                <tr>\n",
       "                    <td>'Alemão como Língua Adicional'</td>\n",
       "                </tr>\n",
       "               \n",
       "                <tr>\n",
       "                    <td>'Partículas Modais Alemãs'</td>\n",
       "                </tr>\n",
       "               \n",
       "                <tr>\n",
       "                    <td>'Estudos contrastivos Alemão / Português'</td>\n",
       "                </tr>\n",
       "               \n",
       "                <tr>\n",
       "                    <td>'Modalidade em língua alemã e portuguesa'</td>\n",
       "                </tr>\n",
       "               \n",
       "                <tr>\n",
       "                    <td>'Linguística Aplicada'</td>\n",
       "                </tr>\n",
       "               \n",
       "                <tr>\n",
       "                    <td>'Pragmática'</td>\n",
       "                </tr>\n",
       "               \n",
       "                <tr>\n",
       "                    <td>'Centro interdepartamental de Línguas: Interações Teletandem para o desenvolvimento linguístico e cultural dos estudantes'</td>\n",
       "                </tr>\n",
       "               \n",
       "                <tr>\n",
       "                    <td>'Cooperação com a FU Berlin no programa de Teletandem'</td>\n",
       "                </tr>\n",
       "               \n",
       "            </tbody>\n",
       "        </table>\n",
       "        "
      ],
      "text/plain": [
       "<IPython.core.display.HTML object>"
      ]
     },
     "metadata": {},
     "output_type": "display_data"
    },
    {
     "data": {
      "text/html": [
       "\n",
       "        <table>\n",
       "            <thead>\n",
       "                <tr>\n",
       "                    <th scope=\"col\">Mariana Kuntz de Andrade e Silva </th>\n",
       "                </tr>\n",
       "            </thead>\n",
       "            <tbody>\n",
       "        \n",
       "                <tr>\n",
       "                    <td>'Zeitgeist: Língua Alemã em Contextos Universitários'</td>\n",
       "                </tr>\n",
       "               \n",
       "            </tbody>\n",
       "        </table>\n",
       "        "
      ],
      "text/plain": [
       "<IPython.core.display.HTML object>"
      ]
     },
     "metadata": {},
     "output_type": "display_data"
    },
    {
     "data": {
      "text/html": [
       "\n",
       "        <table>\n",
       "            <thead>\n",
       "                <tr>\n",
       "                    <th scope=\"col\">Adrián Pablo Fanjul</th>\n",
       "                </tr>\n",
       "            </thead>\n",
       "            <tbody>\n",
       "        \n",
       "                <tr>\n",
       "                    <td>'Língua espanhola: descrição, funcionamento e processos interculturais'</td>\n",
       "                </tr>\n",
       "               \n",
       "                <tr>\n",
       "                    <td>'Estudos comparados entre o português brasileiro e o espanhol'</td>\n",
       "                </tr>\n",
       "               \n",
       "            </tbody>\n",
       "        </table>\n",
       "        "
      ],
      "text/plain": [
       "<IPython.core.display.HTML object>"
      ]
     },
     "metadata": {},
     "output_type": "display_data"
    },
    {
     "data": {
      "text/html": [
       "\n",
       "        <table>\n",
       "            <thead>\n",
       "                <tr>\n",
       "                    <th scope=\"col\">Adriana Kanzepolsky</th>\n",
       "                </tr>\n",
       "            </thead>\n",
       "            <tbody>\n",
       "        \n",
       "                <tr>\n",
       "                    <td>'Os romances de artista: uma ficção na modernidade'</td>\n",
       "                </tr>\n",
       "               \n",
       "                <tr>\n",
       "                    <td>'Memórias/Autobiografia'</td>\n",
       "                </tr>\n",
       "               \n",
       "                <tr>\n",
       "                    <td>'Escritores Hispano-Americanos'</td>\n",
       "                </tr>\n",
       "               \n",
       "                <tr>\n",
       "                    <td>'Memória/comida/língua/casa'</td>\n",
       "                </tr>\n",
       "               \n",
       "                <tr>\n",
       "                    <td>'Memória e ficção'</td>\n",
       "                </tr>\n",
       "               \n",
       "                <tr>\n",
       "                    <td>'Romance memorialístico'</td>\n",
       "                </tr>\n",
       "               \n",
       "                <tr>\n",
       "                    <td>'Tununa Mercado, Margo Glantz, Mauricio Rosencof, Milton Hatoum' </td>\n",
       "                </tr>\n",
       "               \n",
       "            </tbody>\n",
       "        </table>\n",
       "        "
      ],
      "text/plain": [
       "<IPython.core.display.HTML object>"
      ]
     },
     "metadata": {},
     "output_type": "display_data"
    },
    {
     "data": {
      "text/html": [
       "\n",
       "        <table>\n",
       "            <thead>\n",
       "                <tr>\n",
       "                    <th scope=\"col\">Ana Cecilia Olmos</th>\n",
       "                </tr>\n",
       "            </thead>\n",
       "            <tbody>\n",
       "        \n",
       "                <tr>\n",
       "                    <td>'Cultura latino-americana'</td>\n",
       "                </tr>\n",
       "               \n",
       "                <tr>\n",
       "                    <td>'Literatura argentina'</td>\n",
       "                </tr>\n",
       "               \n",
       "                <tr>\n",
       "                    <td>'Discurso crítico'</td>\n",
       "                </tr>\n",
       "               \n",
       "                <tr>\n",
       "                    <td>'Ensaio hispano-americano' </td>\n",
       "                </tr>\n",
       "               \n",
       "                <tr>\n",
       "                    <td>'Narrativa hispano-americana'</td>\n",
       "                </tr>\n",
       "               \n",
       "                <tr>\n",
       "                    <td>'Revistas culturais latino-americanas'</td>\n",
       "                </tr>\n",
       "               \n",
       "            </tbody>\n",
       "        </table>\n",
       "        "
      ],
      "text/plain": [
       "<IPython.core.display.HTML object>"
      ]
     },
     "metadata": {},
     "output_type": "display_data"
    },
    {
     "data": {
      "text/html": [
       "\n",
       "        <table>\n",
       "            <thead>\n",
       "                <tr>\n",
       "                    <th scope=\"col\">Benivaldo José de Araújo Júnior</th>\n",
       "                </tr>\n",
       "            </thead>\n",
       "            <tbody>\n",
       "        \n",
       "                <tr>\n",
       "                    <td>'Comparação entre o português brasileiro e o espanhol'</td>\n",
       "                </tr>\n",
       "               \n",
       "            </tbody>\n",
       "        </table>\n",
       "        "
      ],
      "text/plain": [
       "<IPython.core.display.HTML object>"
      ]
     },
     "metadata": {},
     "output_type": "display_data"
    },
    {
     "data": {
      "text/html": [
       "\n",
       "        <table>\n",
       "            <thead>\n",
       "                <tr>\n",
       "                    <th scope=\"col\">Gabriel Adams Castelo Branco Aragão</th>\n",
       "                </tr>\n",
       "            </thead>\n",
       "            <tbody>\n",
       "        \n",
       "                <tr>\n",
       "                    <td>'Ensino de português e espanhol'</td>\n",
       "                </tr>\n",
       "               \n",
       "            </tbody>\n",
       "        </table>\n",
       "        "
      ],
      "text/plain": [
       "<IPython.core.display.HTML object>"
      ]
     },
     "metadata": {},
     "output_type": "display_data"
    },
    {
     "data": {
      "text/html": [
       "\n",
       "        <table>\n",
       "            <thead>\n",
       "                <tr>\n",
       "                    <th scope=\"col\">Heloísa Pezza Cintrão</th>\n",
       "                </tr>\n",
       "            </thead>\n",
       "            <tbody>\n",
       "        \n",
       "                <tr>\n",
       "                    <td>'Estudos e práticas em tradução'</td>\n",
       "                </tr>\n",
       "               \n",
       "                <tr>\n",
       "                    <td>'Tradução e corpora'</td>\n",
       "                </tr>\n",
       "               \n",
       "                <tr>\n",
       "                    <td>'Estudos tradutológicos, comparados e de processos interculturais'</td>\n",
       "                </tr>\n",
       "               \n",
       "            </tbody>\n",
       "        </table>\n",
       "        "
      ],
      "text/plain": [
       "<IPython.core.display.HTML object>"
      ]
     },
     "metadata": {},
     "output_type": "display_data"
    },
    {
     "data": {
      "text/html": [
       "\n",
       "        <table>\n",
       "            <thead>\n",
       "                <tr>\n",
       "                    <th scope=\"col\">Idalia Morejón Arnaiz</th>\n",
       "                </tr>\n",
       "            </thead>\n",
       "            <tbody>\n",
       "        \n",
       "                <tr>\n",
       "                    <td>'Problemáticas estéticas e debates críticos na literatura latino-americana'</td>\n",
       "                </tr>\n",
       "               \n",
       "            </tbody>\n",
       "        </table>\n",
       "        "
      ],
      "text/plain": [
       "<IPython.core.display.HTML object>"
      ]
     },
     "metadata": {},
     "output_type": "display_data"
    },
    {
     "data": {
      "text/html": [
       "\n",
       "        <table>\n",
       "            <thead>\n",
       "                <tr>\n",
       "                    <th scope=\"col\">John Lionel O'Kuinghttons Rodriguez</th>\n",
       "                </tr>\n",
       "            </thead>\n",
       "            <tbody>\n",
       "        \n",
       "                <tr>\n",
       "                    <td>'Literatura Espanhola e Linguística do Espanhol'</td>\n",
       "                </tr>\n",
       "               \n",
       "                <tr>\n",
       "                    <td>'Ensino de espanhol, literatura, linguística, fonética e gramática'</td>\n",
       "                </tr>\n",
       "               \n",
       "            </tbody>\n",
       "        </table>\n",
       "        "
      ],
      "text/plain": [
       "<IPython.core.display.HTML object>"
      ]
     },
     "metadata": {},
     "output_type": "display_data"
    },
    {
     "data": {
      "text/html": [
       "\n",
       "        <table>\n",
       "            <thead>\n",
       "                <tr>\n",
       "                    <th scope=\"col\">Laura Janina Hosiasson</th>\n",
       "                </tr>\n",
       "            </thead>\n",
       "            <tbody>\n",
       "        \n",
       "                <tr>\n",
       "                    <td>'Problemas ético-estéticos na narrativa hispano-americana'</td>\n",
       "                </tr>\n",
       "               \n",
       "                <tr>\n",
       "                    <td>'A Literatura Hispano-americana como processo: problemáticas estéticas e debates críticos'</td>\n",
       "                </tr>\n",
       "               \n",
       "            </tbody>\n",
       "        </table>\n",
       "        "
      ],
      "text/plain": [
       "<IPython.core.display.HTML object>"
      ]
     },
     "metadata": {},
     "output_type": "display_data"
    },
    {
     "data": {
      "text/html": [
       "\n",
       "        <table>\n",
       "            <thead>\n",
       "                <tr>\n",
       "                    <th scope=\"col\">Margareth dos Santos</th>\n",
       "                </tr>\n",
       "            </thead>\n",
       "            <tbody>\n",
       "        \n",
       "                <tr>\n",
       "                    <td>'Formas e processos na literatura espanhola'</td>\n",
       "                </tr>\n",
       "               \n",
       "            </tbody>\n",
       "        </table>\n",
       "        "
      ],
      "text/plain": [
       "<IPython.core.display.HTML object>"
      ]
     },
     "metadata": {},
     "output_type": "display_data"
    },
    {
     "data": {
      "text/html": [
       "\n",
       "        <table>\n",
       "            <thead>\n",
       "                <tr>\n",
       "                    <th scope=\"col\">Maria Augusta da Costa Vieira</th>\n",
       "                </tr>\n",
       "            </thead>\n",
       "            <tbody>\n",
       "        \n",
       "                <tr>\n",
       "                    <td>'A Literatura Espanhola da Idade Média ao Século XVII'</td>\n",
       "                </tr>\n",
       "               \n",
       "                <tr>\n",
       "                    <td>'Estudo Comparado das produções culturais ibero-americanas'</td>\n",
       "                </tr>\n",
       "               \n",
       "                <tr>\n",
       "                    <td>'Cervantes: poética, retórica e formas discursivas na Espanha dos séculos XVI e XVII'</td>\n",
       "                </tr>\n",
       "               \n",
       "            </tbody>\n",
       "        </table>\n",
       "        "
      ],
      "text/plain": [
       "<IPython.core.display.HTML object>"
      ]
     },
     "metadata": {},
     "output_type": "display_data"
    },
    {
     "data": {
      "text/html": [
       "\n",
       "        <table>\n",
       "            <thead>\n",
       "                <tr>\n",
       "                    <th scope=\"col\">María Teresa Celada</th>\n",
       "                </tr>\n",
       "            </thead>\n",
       "            <tbody>\n",
       "        \n",
       "                <tr>\n",
       "                    <td>'Aquisição/aprendizagem do espanhol como língua estrangeira'</td>\n",
       "                </tr>\n",
       "               \n",
       "                <tr>\n",
       "                    <td>'Subjetividade e Estado'</td>\n",
       "                </tr>\n",
       "               \n",
       "            </tbody>\n",
       "        </table>\n",
       "        "
      ],
      "text/plain": [
       "<IPython.core.display.HTML object>"
      ]
     },
     "metadata": {},
     "output_type": "display_data"
    },
    {
     "data": {
      "text/html": [
       "\n",
       "        <table>\n",
       "            <thead>\n",
       "                <tr>\n",
       "                    <th scope=\"col\">Mônica Ferreira Mayrink O'Kuinghttons</th>\n",
       "                </tr>\n",
       "            </thead>\n",
       "            <tbody>\n",
       "        \n",
       "                <tr>\n",
       "                    <td>'Estudos sobre funcionamento linguístico, aquisição, ensino e aprendizagem'</td>\n",
       "                </tr>\n",
       "               \n",
       "            </tbody>\n",
       "        </table>\n",
       "        "
      ],
      "text/plain": [
       "<IPython.core.display.HTML object>"
      ]
     },
     "metadata": {},
     "output_type": "display_data"
    },
    {
     "data": {
      "text/html": [
       "\n",
       "        <table>\n",
       "            <thead>\n",
       "                <tr>\n",
       "                    <th scope=\"col\">Pablo Fernando Gasparini</th>\n",
       "                </tr>\n",
       "            </thead>\n",
       "            <tbody>\n",
       "        \n",
       "                <tr>\n",
       "                    <td>'Exílio'</td>\n",
       "                </tr>\n",
       "               \n",
       "                <tr>\n",
       "                    <td>'Imigração'</td>\n",
       "                </tr>\n",
       "               \n",
       "                <tr>\n",
       "                    <td>'Efeitos simbólicos e materiais do deslocamento linguístico/literário'</td>\n",
       "                </tr>\n",
       "               \n",
       "            </tbody>\n",
       "        </table>\n",
       "        "
      ],
      "text/plain": [
       "<IPython.core.display.HTML object>"
      ]
     },
     "metadata": {},
     "output_type": "display_data"
    },
    {
     "data": {
      "text/html": [
       "\n",
       "        <table>\n",
       "            <thead>\n",
       "                <tr>\n",
       "                    <th scope=\"col\">Adriana Zavaglia </th>\n",
       "                </tr>\n",
       "            </thead>\n",
       "            <tbody>\n",
       "        \n",
       "                <tr>\n",
       "                    <td>'Lexicologia e Lexicografia'</td>\n",
       "                </tr>\n",
       "               \n",
       "                <tr>\n",
       "                    <td>'Terminologia'</td>\n",
       "                </tr>\n",
       "               \n",
       "                <tr>\n",
       "                    <td>'Teoria das Operações Enunciativas'</td>\n",
       "                </tr>\n",
       "               \n",
       "                <tr>\n",
       "                    <td>'Tradução e condicionantes culturais'</td>\n",
       "                </tr>\n",
       "               \n",
       "            </tbody>\n",
       "        </table>\n",
       "        "
      ],
      "text/plain": [
       "<IPython.core.display.HTML object>"
      ]
     },
     "metadata": {},
     "output_type": "display_data"
    },
    {
     "data": {
      "text/html": [
       "\n",
       "        <table>\n",
       "            <thead>\n",
       "                <tr>\n",
       "                    <th scope=\"col\">Alexandre Bebiano de Almeida </th>\n",
       "                </tr>\n",
       "            </thead>\n",
       "            <tbody>\n",
       "        \n",
       "                <tr>\n",
       "                    <td>'Brépols franco-brasileiro - Projeto temático financiado pela FAPESP'</td>\n",
       "                </tr>\n",
       "               \n",
       "                <tr>\n",
       "                    <td>'Laboratório do Manuscrito Literário - grupo de pesquisa'</td>\n",
       "                </tr>\n",
       "               \n",
       "                <tr>\n",
       "                    <td>'Relações França-Brasil'</td>\n",
       "                </tr>\n",
       "               \n",
       "            </tbody>\n",
       "        </table>\n",
       "        "
      ],
      "text/plain": [
       "<IPython.core.display.HTML object>"
      ]
     },
     "metadata": {},
     "output_type": "display_data"
    },
    {
     "data": {
      "text/html": [
       "\n",
       "        <table>\n",
       "            <thead>\n",
       "                <tr>\n",
       "                    <th scope=\"col\">Álvaro Silveira Faleiros </th>\n",
       "                </tr>\n",
       "            </thead>\n",
       "            <tbody>\n",
       "        \n",
       "                <tr>\n",
       "                    <td>'Tradução: produtos e processos em contexto'</td>\n",
       "                </tr>\n",
       "               \n",
       "                <tr>\n",
       "                    <td>'Tradução e poética'</td>\n",
       "                </tr>\n",
       "               \n",
       "            </tbody>\n",
       "        </table>\n",
       "        "
      ],
      "text/plain": [
       "<IPython.core.display.HTML object>"
      ]
     },
     "metadata": {},
     "output_type": "display_data"
    },
    {
     "data": {
      "text/html": [
       "\n",
       "        <table>\n",
       "            <thead>\n",
       "                <tr>\n",
       "                    <th scope=\"col\">Caio Leal Messias</th>\n",
       "                </tr>\n",
       "            </thead>\n",
       "            <tbody>\n",
       "        \n",
       "                <tr>\n",
       "                    <td>'Literatura francesa'</td>\n",
       "                </tr>\n",
       "               \n",
       "            </tbody>\n",
       "        </table>\n",
       "        "
      ],
      "text/plain": [
       "<IPython.core.display.HTML object>"
      ]
     },
     "metadata": {},
     "output_type": "display_data"
    },
    {
     "data": {
      "text/html": [
       "\n",
       "        <table>\n",
       "            <thead>\n",
       "                <tr>\n",
       "                    <th scope=\"col\">Claudia Consuelo Amigo Pino </th>\n",
       "                </tr>\n",
       "            </thead>\n",
       "            <tbody>\n",
       "        \n",
       "                <tr>\n",
       "                    <td>'Estudos literários'</td>\n",
       "                </tr>\n",
       "               \n",
       "            </tbody>\n",
       "        </table>\n",
       "        "
      ],
      "text/plain": [
       "<IPython.core.display.HTML object>"
      ]
     },
     "metadata": {},
     "output_type": "display_data"
    },
    {
     "data": {
      "text/html": [
       "\n",
       "        <table>\n",
       "            <thead>\n",
       "                <tr>\n",
       "                    <th scope=\"col\">Cristina Moerbeck Casadei Pietraroia </th>\n",
       "                </tr>\n",
       "            </thead>\n",
       "            <tbody>\n",
       "        \n",
       "                <tr>\n",
       "                    <td>'Aquisição e didática do Francês Língua Estrangeira'</td>\n",
       "                </tr>\n",
       "               \n",
       "            </tbody>\n",
       "        </table>\n",
       "        "
      ],
      "text/plain": [
       "<IPython.core.display.HTML object>"
      ]
     },
     "metadata": {},
     "output_type": "display_data"
    },
    {
     "data": {
      "text/html": [
       "\n",
       "        <table>\n",
       "            <thead>\n",
       "                <tr>\n",
       "                    <th scope=\"col\">Eliane Gouvêa Lousada </th>\n",
       "                </tr>\n",
       "            </thead>\n",
       "            <tbody>\n",
       "        \n",
       "                <tr>\n",
       "                    <td>'Formação contínua de professores / Formação de novos professores'</td>\n",
       "                </tr>\n",
       "               \n",
       "                <tr>\n",
       "                    <td>'Formação de novos professores'</td>\n",
       "                </tr>\n",
       "               \n",
       "                <tr>\n",
       "                    <td>'Estudos Linguísticos e Didáticos'</td>\n",
       "                </tr>\n",
       "               \n",
       "                <tr>\n",
       "                    <td>'Linguagem e trabalho'</td>\n",
       "                </tr>\n",
       "               \n",
       "            </tbody>\n",
       "        </table>\n",
       "        "
      ],
      "text/plain": [
       "<IPython.core.display.HTML object>"
      ]
     },
     "metadata": {},
     "output_type": "display_data"
    },
    {
     "data": {
      "text/html": [
       "\n",
       "        <table>\n",
       "            <thead>\n",
       "                <tr>\n",
       "                    <th scope=\"col\">Heloisa Brito de Albuquerque Costa </th>\n",
       "                </tr>\n",
       "            </thead>\n",
       "            <tbody>\n",
       "        \n",
       "                <tr>\n",
       "                    <td>'Tecnologias da Informação e da Comunicação e o ensino de línguas (TIC)'</td>\n",
       "                </tr>\n",
       "               \n",
       "                <tr>\n",
       "                    <td>'Línguas estrangeiras, culturas e interculturalidade'</td>\n",
       "                </tr>\n",
       "               \n",
       "                <tr>\n",
       "                    <td>'Ensino da língua francesa para Objetivo Específico (FOS) e Universitário (FOU)'</td>\n",
       "                </tr>\n",
       "               \n",
       "            </tbody>\n",
       "        </table>\n",
       "        "
      ],
      "text/plain": [
       "<IPython.core.display.HTML object>"
      ]
     },
     "metadata": {},
     "output_type": "display_data"
    },
    {
     "data": {
      "text/html": [
       "\n",
       "        <table>\n",
       "            <thead>\n",
       "                <tr>\n",
       "                    <th scope=\"col\">Lívia Miranda de Paulo</th>\n",
       "                </tr>\n",
       "            </thead>\n",
       "            <tbody>\n",
       "        \n",
       "                <tr>\n",
       "                    <td>'Ensino-aprendizagem de línguas aparentadas por meio da abordagem plural da Intercompreensão em contexto universitário'</td>\n",
       "                </tr>\n",
       "               \n",
       "            </tbody>\n",
       "        </table>\n",
       "        "
      ],
      "text/plain": [
       "<IPython.core.display.HTML object>"
      ]
     },
     "metadata": {},
     "output_type": "display_data"
    },
    {
     "data": {
      "text/html": [
       "\n",
       "        <table>\n",
       "            <thead>\n",
       "                <tr>\n",
       "                    <th scope=\"col\">Paulo Roberto Massaro </th>\n",
       "                </tr>\n",
       "            </thead>\n",
       "            <tbody>\n",
       "        \n",
       "                <tr>\n",
       "                    <td>'Estudos linguísticos e didáticos'</td>\n",
       "                </tr>\n",
       "               \n",
       "            </tbody>\n",
       "        </table>\n",
       "        "
      ],
      "text/plain": [
       "<IPython.core.display.HTML object>"
      ]
     },
     "metadata": {},
     "output_type": "display_data"
    },
    {
     "data": {
      "text/html": [
       "\n",
       "        <table>\n",
       "            <thead>\n",
       "                <tr>\n",
       "                    <th scope=\"col\">Véronique Marie Braun Dahlet</th>\n",
       "                </tr>\n",
       "            </thead>\n",
       "            <tbody>\n",
       "        \n",
       "                <tr>\n",
       "                    <td>'Identidade e subjetividade' </td>\n",
       "                </tr>\n",
       "               \n",
       "                <tr>\n",
       "                    <td>'Línguas e percursos de vida'</td>\n",
       "                </tr>\n",
       "               \n",
       "                <tr>\n",
       "                    <td>'Enunciação e subjetividade nos discursos universitários'</td>\n",
       "                </tr>\n",
       "               \n",
       "            </tbody>\n",
       "        </table>\n",
       "        "
      ],
      "text/plain": [
       "<IPython.core.display.HTML object>"
      ]
     },
     "metadata": {},
     "output_type": "display_data"
    },
    {
     "data": {
      "text/html": [
       "\n",
       "        <table>\n",
       "            <thead>\n",
       "                <tr>\n",
       "                    <th scope=\"col\">Daniel de Mello Ferraz </th>\n",
       "                </tr>\n",
       "            </thead>\n",
       "            <tbody>\n",
       "        \n",
       "                <tr>\n",
       "                    <td>'Educação Crítica de Línguas Estrangeiras'</td>\n",
       "                </tr>\n",
       "               \n",
       "                <tr>\n",
       "                    <td>'Letramentos - Letramento Visual'</td>\n",
       "                </tr>\n",
       "               \n",
       "                <tr>\n",
       "                    <td>'Linguística Aplicada Crítica'</td>\n",
       "                </tr>\n",
       "               \n",
       "            </tbody>\n",
       "        </table>\n",
       "        "
      ],
      "text/plain": [
       "<IPython.core.display.HTML object>"
      ]
     },
     "metadata": {},
     "output_type": "display_data"
    },
    {
     "data": {
      "text/html": [
       "\n",
       "        <table>\n",
       "            <thead>\n",
       "                <tr>\n",
       "                    <th scope=\"col\">Daniel Puglia </th>\n",
       "                </tr>\n",
       "            </thead>\n",
       "            <tbody>\n",
       "        \n",
       "                <tr>\n",
       "                    <td>'Relações entre literatura, cultura, história e filosofia'</td>\n",
       "                </tr>\n",
       "               \n",
       "            </tbody>\n",
       "        </table>\n",
       "        "
      ],
      "text/plain": [
       "<IPython.core.display.HTML object>"
      ]
     },
     "metadata": {},
     "output_type": "display_data"
    },
    {
     "data": {
      "text/html": [
       "\n",
       "        <table>\n",
       "            <thead>\n",
       "                <tr>\n",
       "                    <th scope=\"col\">Elizabeth Harkot de La Taille </th>\n",
       "                </tr>\n",
       "            </thead>\n",
       "            <tbody>\n",
       "        \n",
       "                <tr>\n",
       "                    <td>'Linguagem e Cultura'</td>\n",
       "                </tr>\n",
       "               \n",
       "                <tr>\n",
       "                    <td>'Vergonha, honra e orgulho sob a perspectiva da semiótica discursiva'</td>\n",
       "                </tr>\n",
       "               \n",
       "                <tr>\n",
       "                    <td>'Paixões de imagem sob a perspectiva da semiótica discursiva'</td>\n",
       "                </tr>\n",
       "               \n",
       "                <tr>\n",
       "                    <td>'Desenvolvimento Humano e Moralidade'</td>\n",
       "                </tr>\n",
       "               \n",
       "                <tr>\n",
       "                    <td>'Linguagem, educação e sociedade'</td>\n",
       "                </tr>\n",
       "               \n",
       "            </tbody>\n",
       "        </table>\n",
       "        "
      ],
      "text/plain": [
       "<IPython.core.display.HTML object>"
      ]
     },
     "metadata": {},
     "output_type": "display_data"
    },
    {
     "data": {
      "text/html": [
       "\n",
       "        <table>\n",
       "            <thead>\n",
       "                <tr>\n",
       "                    <th scope=\"col\">Fabiana Valeria da Silva Tavares</th>\n",
       "                </tr>\n",
       "            </thead>\n",
       "            <tbody>\n",
       "        \n",
       "                <tr>\n",
       "                    <td>'Estudos de cultura' </td>\n",
       "                </tr>\n",
       "               \n",
       "                <tr>\n",
       "                    <td>'Literatura infantil e juvenil' </td>\n",
       "                </tr>\n",
       "               \n",
       "                <tr>\n",
       "                    <td>'Literaturas de língua inglesa' </td>\n",
       "                </tr>\n",
       "               \n",
       "                <tr>\n",
       "                    <td>'Literatura brasileira' </td>\n",
       "                </tr>\n",
       "               \n",
       "                <tr>\n",
       "                    <td>'Língua inglesa'</td>\n",
       "                </tr>\n",
       "               \n",
       "                <tr>\n",
       "                    <td>'Redação acadêmica em inglês'</td>\n",
       "                </tr>\n",
       "               \n",
       "            </tbody>\n",
       "        </table>\n",
       "        "
      ],
      "text/plain": [
       "<IPython.core.display.HTML object>"
      ]
     },
     "metadata": {},
     "output_type": "display_data"
    },
    {
     "data": {
      "text/html": [
       "\n",
       "        <table>\n",
       "            <thead>\n",
       "                <tr>\n",
       "                    <th scope=\"col\">Laura Patricia Zuntini de Izarra </th>\n",
       "                </tr>\n",
       "            </thead>\n",
       "            <tbody>\n",
       "        \n",
       "                <tr>\n",
       "                    <td>'Literatura e História'</td>\n",
       "                </tr>\n",
       "               \n",
       "                <tr>\n",
       "                    <td>'Literatura e Cultura'</td>\n",
       "                </tr>\n",
       "               \n",
       "                <tr>\n",
       "                    <td>'Estudos de Cultura'</td>\n",
       "                </tr>\n",
       "               \n",
       "                <tr>\n",
       "                    <td>'Ficção e Poesia Irlandesa'</td>\n",
       "                </tr>\n",
       "               \n",
       "                <tr>\n",
       "                    <td>'Literatura e História: As revoluções  na Irlanda e na Índia'</td>\n",
       "                </tr>\n",
       "               \n",
       "                <tr>\n",
       "                    <td>'Diáspora irlandesa'</td>\n",
       "                </tr>\n",
       "               \n",
       "                <tr>\n",
       "                    <td>'Inmigração irlandesa na América do Sul'</td>\n",
       "                </tr>\n",
       "               \n",
       "                <tr>\n",
       "                    <td>'Roger Casement'</td>\n",
       "                </tr>\n",
       "               \n",
       "                <tr>\n",
       "                    <td>'Diáspora Irlandesa'</td>\n",
       "                </tr>\n",
       "               \n",
       "                <tr>\n",
       "                    <td>'William Bulfin'</td>\n",
       "                </tr>\n",
       "               \n",
       "            </tbody>\n",
       "        </table>\n",
       "        "
      ],
      "text/plain": [
       "<IPython.core.display.HTML object>"
      ]
     },
     "metadata": {},
     "output_type": "display_data"
    },
    {
     "data": {
      "text/html": [
       "\n",
       "        <table>\n",
       "            <thead>\n",
       "                <tr>\n",
       "                    <th scope=\"col\">Lenita Maria Rimoli Pisetta</th>\n",
       "                </tr>\n",
       "            </thead>\n",
       "            <tbody>\n",
       "        \n",
       "                <tr>\n",
       "                    <td>'Tradução e Ética'</td>\n",
       "                </tr>\n",
       "               \n",
       "                <tr>\n",
       "                    <td>'Historiografia da Tradução'</td>\n",
       "                </tr>\n",
       "               \n",
       "                <tr>\n",
       "                    <td>'Tradução Literária'</td>\n",
       "                </tr>\n",
       "               \n",
       "                <tr>\n",
       "                    <td>'Literatura Brasileira Traduzida para o Inglês'</td>\n",
       "                </tr>\n",
       "               \n",
       "            </tbody>\n",
       "        </table>\n",
       "        "
      ],
      "text/plain": [
       "<IPython.core.display.HTML object>"
      ]
     },
     "metadata": {},
     "output_type": "display_data"
    },
    {
     "data": {
      "text/html": [
       "\n",
       "        <table>\n",
       "            <thead>\n",
       "                <tr>\n",
       "                    <th scope=\"col\">Luciana Carvalho Fonseca</th>\n",
       "                </tr>\n",
       "            </thead>\n",
       "            <tbody>\n",
       "        \n",
       "                <tr>\n",
       "                    <td>'Tradução na intersecção entre poder e ativismo'</td>\n",
       "                </tr>\n",
       "               \n",
       "                <tr>\n",
       "                    <td>'Tradução feminista decolonial'</td>\n",
       "                </tr>\n",
       "               \n",
       "                <tr>\n",
       "                    <td>'Historiografia da tradução'</td>\n",
       "                </tr>\n",
       "               \n",
       "                <tr>\n",
       "                    <td>'Tradução jurídica, escrita acadêmica em inglês'  </td>\n",
       "                </tr>\n",
       "               \n",
       "                <tr>\n",
       "                    <td>'Língua inglesa nas instituições de ensino superior'</td>\n",
       "                </tr>\n",
       "               \n",
       "            </tbody>\n",
       "        </table>\n",
       "        "
      ],
      "text/plain": [
       "<IPython.core.display.HTML object>"
      ]
     },
     "metadata": {},
     "output_type": "display_data"
    },
    {
     "data": {
      "text/html": [
       "\n",
       "        <table>\n",
       "            <thead>\n",
       "                <tr>\n",
       "                    <th scope=\"col\">Marcos Cesar de Paula Soares </th>\n",
       "                </tr>\n",
       "            </thead>\n",
       "            <tbody>\n",
       "        \n",
       "                <tr>\n",
       "                    <td>'Literatura e outras artes'</td>\n",
       "                </tr>\n",
       "               \n",
       "                <tr>\n",
       "                    <td>'Narrativa e capital financeiro'</td>\n",
       "                </tr>\n",
       "               \n",
       "                <tr>\n",
       "                    <td>'Literatura e Cinema'</td>\n",
       "                </tr>\n",
       "               \n",
       "            </tbody>\n",
       "        </table>\n",
       "        "
      ],
      "text/plain": [
       "<IPython.core.display.HTML object>"
      ]
     },
     "metadata": {},
     "output_type": "display_data"
    },
    {
     "data": {
      "text/html": [
       "\n",
       "        <table>\n",
       "            <thead>\n",
       "                <tr>\n",
       "                    <th scope=\"col\">Maria Elisa Burgos Pereira da Silva Cevasco </th>\n",
       "                </tr>\n",
       "            </thead>\n",
       "            <tbody>\n",
       "        \n",
       "                <tr>\n",
       "                    <td>'Viagens teóricas'</td>\n",
       "                </tr>\n",
       "               \n",
       "                <tr>\n",
       "                    <td>'Ficção e história'</td>\n",
       "                </tr>\n",
       "               \n",
       "                <tr>\n",
       "                    <td>'Estudos de cultura'</td>\n",
       "                </tr>\n",
       "               \n",
       "            </tbody>\n",
       "        </table>\n",
       "        "
      ],
      "text/plain": [
       "<IPython.core.display.HTML object>"
      ]
     },
     "metadata": {},
     "output_type": "display_data"
    },
    {
     "data": {
      "text/html": [
       "\n",
       "        <table>\n",
       "            <thead>\n",
       "                <tr>\n",
       "                    <th scope=\"col\">Marilia Mendes Ferreira </th>\n",
       "                </tr>\n",
       "            </thead>\n",
       "            <tbody>\n",
       "        \n",
       "                <tr>\n",
       "                    <td>'Ensino-aprendizagem de língua estrangeira sob a ótica sócio-cultural'</td>\n",
       "                </tr>\n",
       "               \n",
       "                <tr>\n",
       "                    <td>'Letramento Acadêmico em seus múltiplos aspectos'</td>\n",
       "                </tr>\n",
       "               \n",
       "            </tbody>\n",
       "        </table>\n",
       "        "
      ],
      "text/plain": [
       "<IPython.core.display.HTML object>"
      ]
     },
     "metadata": {},
     "output_type": "display_data"
    },
    {
     "data": {
      "text/html": [
       "\n",
       "        <table>\n",
       "            <thead>\n",
       "                <tr>\n",
       "                    <th scope=\"col\">Mayumi Denise Senoi Ilari </th>\n",
       "                </tr>\n",
       "            </thead>\n",
       "            <tbody>\n",
       "        \n",
       "                <tr>\n",
       "                    <td>'Pesquisas socioeconômicas e educacionais (1997-2003)'</td>\n",
       "                </tr>\n",
       "               \n",
       "                <tr>\n",
       "                    <td>'Literatura e História (Dramaturgias Britânica e Norte-americana: Formas da História)'</td>\n",
       "                </tr>\n",
       "               \n",
       "                <tr>\n",
       "                    <td>'Literatura e História (Teatro e Sociedade na Cena Contemporânea)'</td>\n",
       "                </tr>\n",
       "               \n",
       "            </tbody>\n",
       "        </table>\n",
       "        "
      ],
      "text/plain": [
       "<IPython.core.display.HTML object>"
      ]
     },
     "metadata": {},
     "output_type": "display_data"
    },
    {
     "data": {
      "text/html": [
       "\n",
       "        <table>\n",
       "            <thead>\n",
       "                <tr>\n",
       "                    <th scope=\"col\">Angela Maria Tenorio Zucchi</th>\n",
       "                </tr>\n",
       "            </thead>\n",
       "            <tbody>\n",
       "        \n",
       "                <tr>\n",
       "                    <td>'Aquisição e aprendizagem do italiano como língua estrangeira'</td>\n",
       "                </tr>\n",
       "               \n",
       "                <tr>\n",
       "                    <td>'Tradução e corpora, PPG Estudos da Tradução'</td>\n",
       "                </tr>\n",
       "               \n",
       "                <tr>\n",
       "                    <td>'O italiano falado e escrito sob a perspectiva brasileira'</td>\n",
       "                </tr>\n",
       "               \n",
       "            </tbody>\n",
       "        </table>\n",
       "        "
      ],
      "text/plain": [
       "<IPython.core.display.HTML object>"
      ]
     },
     "metadata": {},
     "output_type": "display_data"
    },
    {
     "data": {
      "text/html": [
       "\n",
       "        <table>\n",
       "            <thead>\n",
       "                <tr>\n",
       "                    <th scope=\"col\">Adriana Iozzi Klein </th>\n",
       "                </tr>\n",
       "            </thead>\n",
       "            <tbody>\n",
       "        \n",
       "                <tr>\n",
       "                    <td>'Narrativas Estrangeiras Modernas'</td>\n",
       "                </tr>\n",
       "               \n",
       "                <tr>\n",
       "                    <td>'Ensino de Língua e Literatura Italiana'</td>\n",
       "                </tr>\n",
       "               \n",
       "                <tr>\n",
       "                    <td>'Literatura e Cultura Italianas'</td>\n",
       "                </tr>\n",
       "               \n",
       "            </tbody>\n",
       "        </table>\n",
       "        "
      ],
      "text/plain": [
       "<IPython.core.display.HTML object>"
      ]
     },
     "metadata": {},
     "output_type": "display_data"
    },
    {
     "data": {
      "text/html": [
       "\n",
       "        <table>\n",
       "            <thead>\n",
       "                <tr>\n",
       "                    <th scope=\"col\">Maria Cecilia Casini </th>\n",
       "                </tr>\n",
       "            </thead>\n",
       "            <tbody>\n",
       "        \n",
       "                <tr>\n",
       "                    <td>'Aquisição e aprendizagem do italiano como língua estrangeira'</td>\n",
       "                </tr>\n",
       "               \n",
       "                <tr>\n",
       "                    <td>'Literatura e cultura italianas'</td>\n",
       "                </tr>\n",
       "               \n",
       "            </tbody>\n",
       "        </table>\n",
       "        "
      ],
      "text/plain": [
       "<IPython.core.display.HTML object>"
      ]
     },
     "metadata": {},
     "output_type": "display_data"
    },
    {
     "data": {
      "text/html": [
       "\n",
       "        <table>\n",
       "            <thead>\n",
       "                <tr>\n",
       "                    <th scope=\"col\">Elisabetta Antonietta Rita Maria Carmela Santoro </th>\n",
       "                </tr>\n",
       "            </thead>\n",
       "            <tbody>\n",
       "        \n",
       "                <tr>\n",
       "                    <td>'O italiano falado e escrito sob a perspectiva brasileira'</td>\n",
       "                </tr>\n",
       "               \n",
       "                <tr>\n",
       "                    <td>'Aquisição e aprendizagem do italiano como língua estrangeira'</td>\n",
       "                </tr>\n",
       "               \n",
       "            </tbody>\n",
       "        </table>\n",
       "        "
      ],
      "text/plain": [
       "<IPython.core.display.HTML object>"
      ]
     },
     "metadata": {},
     "output_type": "display_data"
    },
    {
     "data": {
      "text/html": [
       "\n",
       "        <table>\n",
       "            <thead>\n",
       "                <tr>\n",
       "                    <th scope=\"col\">Fernanda Landucci Ortale </th>\n",
       "                </tr>\n",
       "            </thead>\n",
       "            <tbody>\n",
       "        \n",
       "                <tr>\n",
       "                    <td>'Novas Metodologias na Formação Inicial de Professores de Língua Estrangeira'</td>\n",
       "                </tr>\n",
       "               \n",
       "                <tr>\n",
       "                    <td>'Discurso e interação em sala de aula de língua estrangeira'</td>\n",
       "                </tr>\n",
       "               \n",
       "            </tbody>\n",
       "        </table>\n",
       "        "
      ],
      "text/plain": [
       "<IPython.core.display.HTML object>"
      ]
     },
     "metadata": {},
     "output_type": "display_data"
    },
    {
     "data": {
      "text/html": [
       "\n",
       "        <table>\n",
       "            <thead>\n",
       "                <tr>\n",
       "                    <th scope=\"col\">Giliola Maggio </th>\n",
       "                </tr>\n",
       "            </thead>\n",
       "            <tbody>\n",
       "        \n",
       "                <tr>\n",
       "                    <td>'O italiano falado e escrito no Brasil'</td>\n",
       "                </tr>\n",
       "               \n",
       "            </tbody>\n",
       "        </table>\n",
       "        "
      ],
      "text/plain": [
       "<IPython.core.display.HTML object>"
      ]
     },
     "metadata": {},
     "output_type": "display_data"
    },
    {
     "data": {
      "text/html": [
       "\n",
       "        <table>\n",
       "            <thead>\n",
       "                <tr>\n",
       "                    <th scope=\"col\">Lucia Wataghin </th>\n",
       "                </tr>\n",
       "            </thead>\n",
       "            <tbody>\n",
       "        \n",
       "                <tr>\n",
       "                    <td>'Literatura Italiana Traduzida'</td>\n",
       "                </tr>\n",
       "               \n",
       "            </tbody>\n",
       "        </table>\n",
       "        "
      ],
      "text/plain": [
       "<IPython.core.display.HTML object>"
      ]
     },
     "metadata": {},
     "output_type": "display_data"
    },
    {
     "data": {
      "text/html": [
       "\n",
       "        <table>\n",
       "            <thead>\n",
       "                <tr>\n",
       "                    <th scope=\"col\">Mauricio Santana Dias</th>\n",
       "                </tr>\n",
       "            </thead>\n",
       "            <tbody>\n",
       "        \n",
       "                <tr>\n",
       "                    <td>'Literatura Comparada' </td>\n",
       "                </tr>\n",
       "               \n",
       "                <tr>\n",
       "                    <td>'Teoria Literária'  </td>\n",
       "                </tr>\n",
       "               \n",
       "                <tr>\n",
       "                    <td>'Estudos da Tradução'</td>\n",
       "                </tr>\n",
       "               \n",
       "            </tbody>\n",
       "        </table>\n",
       "        "
      ],
      "text/plain": [
       "<IPython.core.display.HTML object>"
      ]
     },
     "metadata": {},
     "output_type": "display_data"
    },
    {
     "data": {
      "text/html": [
       "\n",
       "        <table>\n",
       "            <thead>\n",
       "                <tr>\n",
       "                    <th scope=\"col\">Roberta Barni </th>\n",
       "                </tr>\n",
       "            </thead>\n",
       "            <tbody>\n",
       "        \n",
       "                <tr>\n",
       "                    <td>'Literatura e Cultura Italianas'</td>\n",
       "                </tr>\n",
       "               \n",
       "                <tr>\n",
       "                    <td>'Tradução e poética'</td>\n",
       "                </tr>\n",
       "               \n",
       "            </tbody>\n",
       "        </table>\n",
       "        "
      ],
      "text/plain": [
       "<IPython.core.display.HTML object>"
      ]
     },
     "metadata": {},
     "output_type": "display_data"
    },
    {
     "data": {
      "text/html": [
       "\n",
       "        <table>\n",
       "            <thead>\n",
       "                <tr>\n",
       "                    <th scope=\"col\">Arlene Elizabeth Clemesha </th>\n",
       "                </tr>\n",
       "            </thead>\n",
       "            <tbody>\n",
       "        \n",
       "                <tr>\n",
       "                    <td>'Edward Said e o Orientalismo'</td>\n",
       "                </tr>\n",
       "               \n",
       "                <tr>\n",
       "                    <td>'História da Palestina Moderna'</td>\n",
       "                </tr>\n",
       "               \n",
       "                <tr>\n",
       "                    <td>'Relações Brasil - Oriente Médio'</td>\n",
       "                </tr>\n",
       "               \n",
       "                <tr>\n",
       "                    <td>'História Árabe Contemporânea'</td>\n",
       "                </tr>\n",
       "               \n",
       "            </tbody>\n",
       "        </table>\n",
       "        "
      ],
      "text/plain": [
       "<IPython.core.display.HTML object>"
      ]
     },
     "metadata": {},
     "output_type": "display_data"
    },
    {
     "data": {
      "text/html": [
       "\n",
       "        <table>\n",
       "            <thead>\n",
       "                <tr>\n",
       "                    <th scope=\"col\">Mamede Mustafa Jarouche</th>\n",
       "                </tr>\n",
       "            </thead>\n",
       "            <tbody>\n",
       "        \n",
       "                <tr>\n",
       "                    <td>'Antologia de Textos Árabes com Elementos de Gramática'</td>\n",
       "                </tr>\n",
       "               \n",
       "                <tr>\n",
       "                    <td>'Literatura Árabe'</td>\n",
       "                </tr>\n",
       "               \n",
       "                <tr>\n",
       "                    <td>'Língua Árabe'</td>\n",
       "                </tr>\n",
       "               \n",
       "                <tr>\n",
       "                    <td>'Tradução Árabe/Português'</td>\n",
       "                </tr>\n",
       "               \n",
       "            </tbody>\n",
       "        </table>\n",
       "        "
      ],
      "text/plain": [
       "<IPython.core.display.HTML object>"
      ]
     },
     "metadata": {},
     "output_type": "display_data"
    },
    {
     "data": {
      "text/html": [
       "\n",
       "        <table>\n",
       "            <thead>\n",
       "                <tr>\n",
       "                    <th scope=\"col\">Michel Sleiman </th>\n",
       "                </tr>\n",
       "            </thead>\n",
       "            <tbody>\n",
       "        \n",
       "                <tr>\n",
       "                    <td>'Estudos corânicos: tradução e crítica'</td>\n",
       "                </tr>\n",
       "               \n",
       "                <tr>\n",
       "                    <td>'Poética Árabe Medieval'</td>\n",
       "                </tr>\n",
       "               \n",
       "                <tr>\n",
       "                    <td>'Estudos e Tradução da Poesia Árabe'</td>\n",
       "                </tr>\n",
       "               \n",
       "            </tbody>\n",
       "        </table>\n",
       "        "
      ],
      "text/plain": [
       "<IPython.core.display.HTML object>"
      ]
     },
     "metadata": {},
     "output_type": "display_data"
    },
    {
     "data": {
      "text/html": [
       "\n",
       "        <table>\n",
       "            <thead>\n",
       "                <tr>\n",
       "                    <th scope=\"col\">Miguel Attie Filho </th>\n",
       "                </tr>\n",
       "            </thead>\n",
       "            <tbody>\n",
       "        \n",
       "                <tr>\n",
       "                    <td>'Tradução e Pesquisa : Filosofia  e Ciências Árabes'</td>\n",
       "                </tr>\n",
       "               \n",
       "                <tr>\n",
       "                    <td>'Tradução e Pesquisa : Estudos sobre o Pensamento'</td>\n",
       "                </tr>\n",
       "               \n",
       "            </tbody>\n",
       "        </table>\n",
       "        "
      ],
      "text/plain": [
       "<IPython.core.display.HTML object>"
      ]
     },
     "metadata": {},
     "output_type": "display_data"
    },
    {
     "data": {
      "text/html": [
       "\n",
       "        <table>\n",
       "            <thead>\n",
       "                <tr>\n",
       "                    <th scope=\"col\">Mona Mohamad Hawi </th>\n",
       "                </tr>\n",
       "            </thead>\n",
       "            <tbody>\n",
       "        \n",
       "                <tr>\n",
       "                    <td>'Ensino -aprendizagem/ Aquisição de Línguas'</td>\n",
       "                </tr>\n",
       "               \n",
       "                <tr>\n",
       "                    <td>'Ideias bakhtinianas em diálogo'</td>\n",
       "                </tr>\n",
       "               \n",
       "                <tr>\n",
       "                    <td>'Ensino/aprendizagem/avaliação e formação de professores de línguas estrangeiras'</td>\n",
       "                </tr>\n",
       "               \n",
       "            </tbody>\n",
       "        </table>\n",
       "        "
      ],
      "text/plain": [
       "<IPython.core.display.HTML object>"
      ]
     },
     "metadata": {},
     "output_type": "display_data"
    },
    {
     "data": {
      "text/html": [
       "\n",
       "        <table>\n",
       "            <thead>\n",
       "                <tr>\n",
       "                    <th scope=\"col\">Paulo Daniel Elias Farah </th>\n",
       "                </tr>\n",
       "            </thead>\n",
       "            <tbody>\n",
       "        \n",
       "                <tr>\n",
       "                    <td>'Tradução da literatura árabe para o português e análise crítica'</td>\n",
       "                </tr>\n",
       "               \n",
       "                <tr>\n",
       "                    <td>'A imigração árabe no Brasil: integração, assimilação e aculturação'</td>\n",
       "                </tr>\n",
       "               \n",
       "                <tr>\n",
       "                    <td>'A prosa e a poesia árabe contemporânea'</td>\n",
       "                </tr>\n",
       "               \n",
       "                <tr>\n",
       "                    <td>'Língua Árabe'</td>\n",
       "                </tr>\n",
       "               \n",
       "                <tr>\n",
       "                    <td>'Imigrantes e refugiados árabes e africanos no Brasil e no mundo'</td>\n",
       "                </tr>\n",
       "               \n",
       "                <tr>\n",
       "                    <td>'Muçulmanos e árabes na África e a África no Brasil e o Brasil na África'</td>\n",
       "                </tr>\n",
       "               \n",
       "            </tbody>\n",
       "        </table>\n",
       "        "
      ],
      "text/plain": [
       "<IPython.core.display.HTML object>"
      ]
     },
     "metadata": {},
     "output_type": "display_data"
    },
    {
     "data": {
      "text/html": [
       "\n",
       "        <table>\n",
       "            <thead>\n",
       "                <tr>\n",
       "                    <th scope=\"col\">Safa Alferd Abou Chahla Jubran </th>\n",
       "                </tr>\n",
       "            </thead>\n",
       "            <tbody>\n",
       "        \n",
       "                <tr>\n",
       "                    <td>'Estudos linguísticos do árabe'</td>\n",
       "                </tr>\n",
       "               \n",
       "                <tr>\n",
       "                    <td>'Árabe e Hebraico no  Contexto das Línguas semíticas'</td>\n",
       "                </tr>\n",
       "               \n",
       "                <tr>\n",
       "                    <td>'Estudos literários e culturais'</td>\n",
       "                </tr>\n",
       "               \n",
       "                <tr>\n",
       "                    <td>'Estudos da Tradução'</td>\n",
       "                </tr>\n",
       "               \n",
       "                <tr>\n",
       "                    <td>'Tradução e estudos críticos das fontes árabes'</td>\n",
       "                </tr>\n",
       "               \n",
       "            </tbody>\n",
       "        </table>\n",
       "        "
      ],
      "text/plain": [
       "<IPython.core.display.HTML object>"
      ]
     },
     "metadata": {},
     "output_type": "display_data"
    },
    {
     "data": {
      "text/html": [
       "\n",
       "        <table>\n",
       "            <thead>\n",
       "                <tr>\n",
       "                    <th scope=\"col\">Deize Crespim Pereira</th>\n",
       "                </tr>\n",
       "            </thead>\n",
       "            <tbody>\n",
       "        \n",
       "                <tr>\n",
       "                    <td>'Sociolinguística' </td>\n",
       "                </tr>\n",
       "               \n",
       "                <tr>\n",
       "                    <td>'Linguística Funcional' </td>\n",
       "                </tr>\n",
       "               \n",
       "                <tr>\n",
       "                    <td>'Semântica Cognitiva' </td>\n",
       "                </tr>\n",
       "               \n",
       "                <tr>\n",
       "                    <td>'Sintaxe do Português Popular Oral' </td>\n",
       "                </tr>\n",
       "               \n",
       "                <tr>\n",
       "                    <td>'Identidade Cultural' </td>\n",
       "                </tr>\n",
       "               \n",
       "                <tr>\n",
       "                    <td>'Tradução Literária (Armênio-Português)' </td>\n",
       "                </tr>\n",
       "               \n",
       "                <tr>\n",
       "                    <td>'História, Cultura e Literatura Armênia'</td>\n",
       "                </tr>\n",
       "               \n",
       "            </tbody>\n",
       "        </table>\n",
       "        "
      ],
      "text/plain": [
       "<IPython.core.display.HTML object>"
      ]
     },
     "metadata": {},
     "output_type": "display_data"
    },
    {
     "data": {
      "text/html": [
       "\n",
       "        <table>\n",
       "            <thead>\n",
       "                <tr>\n",
       "                    <th scope=\"col\">Lusine Yeghiazaryan </th>\n",
       "                </tr>\n",
       "            </thead>\n",
       "            <tbody>\n",
       "        \n",
       "                <tr>\n",
       "                    <td>'A História da Tipografia nos países da Diáspora Armênia'</td>\n",
       "                </tr>\n",
       "               \n",
       "                <tr>\n",
       "                    <td>'Língua e cultura armênia'</td>\n",
       "                </tr>\n",
       "               \n",
       "                <tr>\n",
       "                    <td>'Gramática gerativa'</td>\n",
       "                </tr>\n",
       "               \n",
       "            </tbody>\n",
       "        </table>\n",
       "        "
      ],
      "text/plain": [
       "<IPython.core.display.HTML object>"
      ]
     },
     "metadata": {},
     "output_type": "display_data"
    },
    {
     "data": {
      "text/html": [
       "\n",
       "        <table>\n",
       "            <thead>\n",
       "                <tr>\n",
       "                    <th scope=\"col\">Antonio José Bezerra de Menezes Junior </th>\n",
       "                </tr>\n",
       "            </thead>\n",
       "            <tbody>\n",
       "        \n",
       "                <tr>\n",
       "                    <td>'Poesia Chinesa'</td>\n",
       "                </tr>\n",
       "               \n",
       "                <tr>\n",
       "                    <td>'História da China Moderna'</td>\n",
       "                </tr>\n",
       "               \n",
       "                <tr>\n",
       "                    <td>'Filosofia Chinesa Antiga'</td>\n",
       "                </tr>\n",
       "               \n",
       "            </tbody>\n",
       "        </table>\n",
       "        "
      ],
      "text/plain": [
       "<IPython.core.display.HTML object>"
      ]
     },
     "metadata": {},
     "output_type": "display_data"
    },
    {
     "data": {
      "text/html": [
       "\n",
       "        <table>\n",
       "            <thead>\n",
       "                <tr>\n",
       "                    <th scope=\"col\">Ho Yeh Chia </th>\n",
       "                </tr>\n",
       "            </thead>\n",
       "            <tbody>\n",
       "        \n",
       "                <tr>\n",
       "                    <td>'Literatura e Filosofia Chinesa'</td>\n",
       "                </tr>\n",
       "               \n",
       "            </tbody>\n",
       "        </table>\n",
       "        "
      ],
      "text/plain": [
       "<IPython.core.display.HTML object>"
      ]
     },
     "metadata": {},
     "output_type": "display_data"
    },
    {
     "data": {
      "text/html": [
       "\n",
       "        <table>\n",
       "            <thead>\n",
       "                <tr>\n",
       "                    <th scope=\"col\">Shu Changsheng </th>\n",
       "                </tr>\n",
       "            </thead>\n",
       "            <tbody>\n",
       "        \n",
       "                <tr>\n",
       "                    <td>'História comparada, história do tempo presente'</td>\n",
       "                </tr>\n",
       "               \n",
       "                <tr>\n",
       "                    <td>'Relações Internacionais Brasil-China'</td>\n",
       "                </tr>\n",
       "               \n",
       "                <tr>\n",
       "                    <td>'Petróleo e a Segurança Energética da China'</td>\n",
       "                </tr>\n",
       "               \n",
       "                <tr>\n",
       "                    <td>'Estratégia e Defesa (Brasil-China)'</td>\n",
       "                </tr>\n",
       "               \n",
       "                <tr>\n",
       "                    <td>'A Geopolítica do Petróleo'</td>\n",
       "                </tr>\n",
       "               \n",
       "                <tr>\n",
       "                    <td>'História da China'</td>\n",
       "                </tr>\n",
       "               \n",
       "                <tr>\n",
       "                    <td>'Relações Brasil-China'</td>\n",
       "                </tr>\n",
       "               \n",
       "                <tr>\n",
       "                    <td>'Relações internacionais China e Ásia Pacífica'</td>\n",
       "                </tr>\n",
       "               \n",
       "            </tbody>\n",
       "        </table>\n",
       "        "
      ],
      "text/plain": [
       "<IPython.core.display.HTML object>"
      ]
     },
     "metadata": {},
     "output_type": "display_data"
    },
    {
     "data": {
      "text/html": [
       "\n",
       "        <table>\n",
       "            <thead>\n",
       "                <tr>\n",
       "                    <th scope=\"col\">Sylvio Roque de Guimarães Horta' </th>\n",
       "                </tr>\n",
       "            </thead>\n",
       "            <tbody>\n",
       "        \n",
       "                <tr>\n",
       "                    <td>'Relação pensamento/língua chinesa e o papel do corpo no conhecimento'</td>\n",
       "                </tr>\n",
       "               \n",
       "                <tr>\n",
       "                    <td>'Conceitos Fundamentais na Filosofia de Tomás de Aquino / A Teoria de David Keirsey'</td>\n",
       "                </tr>\n",
       "               \n",
       "            </tbody>\n",
       "        </table>\n",
       "        "
      ],
      "text/plain": [
       "<IPython.core.display.HTML object>"
      ]
     },
     "metadata": {},
     "output_type": "display_data"
    },
    {
     "data": {
      "text/html": [
       "\n",
       "        <table>\n",
       "            <thead>\n",
       "                <tr>\n",
       "                    <th scope=\"col\">Yun Jung Im Park</th>\n",
       "                </tr>\n",
       "            </thead>\n",
       "            <tbody>\n",
       "        \n",
       "            </tbody>\n",
       "        </table>\n",
       "        "
      ],
      "text/plain": [
       "<IPython.core.display.HTML object>"
      ]
     },
     "metadata": {},
     "output_type": "display_data"
    },
    {
     "data": {
      "text/html": [
       "\n",
       "        <table>\n",
       "            <thead>\n",
       "                <tr>\n",
       "                    <th scope=\"col\">Gabriel Steinberg Schvartzman </th>\n",
       "                </tr>\n",
       "            </thead>\n",
       "            <tbody>\n",
       "        \n",
       "                <tr>\n",
       "                    <td>'De língua ancestral à língua nacional: Um percurso histórico da Língua Hebraica'.</td>\n",
       "                </tr>\n",
       "               \n",
       "            </tbody>\n",
       "        </table>\n",
       "        "
      ],
      "text/plain": [
       "<IPython.core.display.HTML object>"
      ]
     },
     "metadata": {},
     "output_type": "display_data"
    },
    {
     "data": {
      "text/html": [
       "\n",
       "        <table>\n",
       "            <thead>\n",
       "                <tr>\n",
       "                    <th scope=\"col\">Luis Sergio Krausz</th>\n",
       "                </tr>\n",
       "            </thead>\n",
       "            <tbody>\n",
       "        \n",
       "                <tr>\n",
       "                    <td>'Literatura Hebraica e Judaica'</td>\n",
       "                </tr>\n",
       "               \n",
       "                <tr>\n",
       "                    <td>'Cultura Judaica'</td>\n",
       "                </tr>\n",
       "               \n",
       "            </tbody>\n",
       "        </table>\n",
       "        "
      ],
      "text/plain": [
       "<IPython.core.display.HTML object>"
      ]
     },
     "metadata": {},
     "output_type": "display_data"
    },
    {
     "data": {
      "text/html": [
       "\n",
       "        <table>\n",
       "            <thead>\n",
       "                <tr>\n",
       "                    <th scope=\"col\">Marta Francisca Topel </th>\n",
       "                </tr>\n",
       "            </thead>\n",
       "            <tbody>\n",
       "        \n",
       "                <tr>\n",
       "                    <td>'Antropologia Israelense'</td>\n",
       "                </tr>\n",
       "               \n",
       "                <tr>\n",
       "                    <td>'Cultura Judaica e Judaísmo Paulistano'</td>\n",
       "                </tr>\n",
       "               \n",
       "                <tr>\n",
       "                    <td>'Judaísmo Contemporâneo'</td>\n",
       "                </tr>\n",
       "               \n",
       "                <tr>\n",
       "                    <td>'Identidade étnica'</td>\n",
       "                </tr>\n",
       "               \n",
       "                <tr>\n",
       "                    <td>'A dissidência religiosa no judaísmo e no catolicismo contemporâneas'</td>\n",
       "                </tr>\n",
       "               \n",
       "                <tr>\n",
       "                    <td>'Fundamentalismos Religiosos'</td>\n",
       "                </tr>\n",
       "               \n",
       "                <tr>\n",
       "                    <td>'Estudos étnico-raciais'</td>\n",
       "                </tr>\n",
       "               \n",
       "            </tbody>\n",
       "        </table>\n",
       "        "
      ],
      "text/plain": [
       "<IPython.core.display.HTML object>"
      ]
     },
     "metadata": {},
     "output_type": "display_data"
    },
    {
     "data": {
      "text/html": [
       "\n",
       "        <table>\n",
       "            <thead>\n",
       "                <tr>\n",
       "                    <th scope=\"col\">Moacir Aparecido Amâncio</th>\n",
       "                </tr>\n",
       "            </thead>\n",
       "            <tbody>\n",
       "        \n",
       "                <tr>\n",
       "                    <td>'Língua Hebraica, Literatura e Cultura Judaica'</td>\n",
       "                </tr>\n",
       "               \n",
       "            </tbody>\n",
       "        </table>\n",
       "        "
      ],
      "text/plain": [
       "<IPython.core.display.HTML object>"
      ]
     },
     "metadata": {},
     "output_type": "display_data"
    },
    {
     "data": {
      "text/html": [
       "\n",
       "        <table>\n",
       "            <thead>\n",
       "                <tr>\n",
       "                    <th scope=\"col\">Reginaldo Gomes de Araújo </th>\n",
       "                </tr>\n",
       "            </thead>\n",
       "            <tbody>\n",
       "        \n",
       "                <tr>\n",
       "                    <td>'Estudos targúmicos'</td>\n",
       "                </tr>\n",
       "               \n",
       "                <tr>\n",
       "                    <td>'Estudos de Bíblia Hebraica'</td>\n",
       "                </tr>\n",
       "               \n",
       "                <tr>\n",
       "                    <td>'Gramática de aramaico e dialetologia'</td>\n",
       "                </tr>\n",
       "               \n",
       "                <tr>\n",
       "                    <td>'Gramática histórica do hebraico bíblico e moderno'</td>\n",
       "                </tr>\n",
       "               \n",
       "                <tr>\n",
       "                    <td>'Lingüística semítica comparada'</td>\n",
       "                </tr>\n",
       "               \n",
       "            </tbody>\n",
       "        </table>\n",
       "        "
      ],
      "text/plain": [
       "<IPython.core.display.HTML object>"
      ]
     },
     "metadata": {},
     "output_type": "display_data"
    },
    {
     "data": {
      "text/html": [
       "\n",
       "        <table>\n",
       "            <thead>\n",
       "                <tr>\n",
       "                    <th scope=\"col\">Suzana Chwarts </th>\n",
       "                </tr>\n",
       "            </thead>\n",
       "            <tbody>\n",
       "        \n",
       "                <tr>\n",
       "                    <td>'Participação das escavações arqueológicas da cidade portuária de Dor como membro da equipe do Prof. Efraim Stern'</td>\n",
       "                </tr>\n",
       "               \n",
       "                <tr>\n",
       "                    <td>'Estudos Interdisciplinares da Bíblia Hebraica'</td>\n",
       "                </tr>\n",
       "               \n",
       "                <tr>\n",
       "                    <td>'Estudos  da Bíblia Hebraica e do Judaísmo na Antiguidade'</td>\n",
       "                </tr>\n",
       "               \n",
       "                <tr>\n",
       "                    <td>'Projeto Tiberíades- Arqueologia e Multiculturalismo na Galiléia'</td>\n",
       "                </tr>\n",
       "               \n",
       "            </tbody>\n",
       "        </table>\n",
       "        "
      ],
      "text/plain": [
       "<IPython.core.display.HTML object>"
      ]
     },
     "metadata": {},
     "output_type": "display_data"
    },
    {
     "data": {
      "text/html": [
       "\n",
       "        <table>\n",
       "            <thead>\n",
       "                <tr>\n",
       "                    <th scope=\"col\">Eliza Atsuko Tashiro Perez </th>\n",
       "                </tr>\n",
       "            </thead>\n",
       "            <tbody>\n",
       "        \n",
       "                <tr>\n",
       "                    <td>'Língua Japonesa e Ensino'</td>\n",
       "                </tr>\n",
       "               \n",
       "                <tr>\n",
       "                    <td>'Historiografia da Linguística Japonesa'</td>\n",
       "                </tr>\n",
       "               \n",
       "                <tr>\n",
       "                    <td>'Teoria e Análise Linguística em suas Dimensões Diacrônica e Sincrônica'</td>\n",
       "                </tr>\n",
       "               \n",
       "                <tr>\n",
       "                    <td>'Culturas em Contato: Inserção e Decodificação'</td>\n",
       "                </tr>\n",
       "               \n",
       "                <tr>\n",
       "                    <td>'Historiografia da Linguística Japonesa'</td>\n",
       "                </tr>\n",
       "               \n",
       "            </tbody>\n",
       "        </table>\n",
       "        "
      ],
      "text/plain": [
       "<IPython.core.display.HTML object>"
      ]
     },
     "metadata": {},
     "output_type": "display_data"
    },
    {
     "data": {
      "text/html": [
       "\n",
       "        <table>\n",
       "            <thead>\n",
       "                <tr>\n",
       "                    <th scope=\"col\">Junko Ota </th>\n",
       "                </tr>\n",
       "            </thead>\n",
       "            <tbody>\n",
       "        \n",
       "                <tr>\n",
       "                    <td>'Teoria e análise linguística em suas dimensões diacrônica e sincrônica da língua japonesa'</td>\n",
       "                </tr>\n",
       "               \n",
       "            </tbody>\n",
       "        </table>\n",
       "        "
      ],
      "text/plain": [
       "<IPython.core.display.HTML object>"
      ]
     },
     "metadata": {},
     "output_type": "display_data"
    },
    {
     "data": {
      "text/html": [
       "\n",
       "        <table>\n",
       "            <thead>\n",
       "                <tr>\n",
       "                    <th scope=\"col\">Leiko Matsubara Morales </th>\n",
       "                </tr>\n",
       "            </thead>\n",
       "            <tbody>\n",
       "        \n",
       "                <tr>\n",
       "                    <td>'Culturas em contato: Inserção e decodificação'</td>\n",
       "                </tr>\n",
       "               \n",
       "                <tr>\n",
       "                    <td>'Teoria de análise linguística em suas dimensões diacrônica e sincrônica'</td>\n",
       "                </tr>\n",
       "               \n",
       "            </tbody>\n",
       "        </table>\n",
       "        "
      ],
      "text/plain": [
       "<IPython.core.display.HTML object>"
      ]
     },
     "metadata": {},
     "output_type": "display_data"
    },
    {
     "data": {
      "text/html": [
       "\n",
       "        <table>\n",
       "            <thead>\n",
       "                <tr>\n",
       "                    <th scope=\"col\">Lilian Mitsuko Yamamoto</th>\n",
       "                </tr>\n",
       "            </thead>\n",
       "            <tbody>\n",
       "        \n",
       "                <tr>\n",
       "                    <td>'Direitos humanos'</td>\n",
       "                </tr>\n",
       "               \n",
       "                <tr>\n",
       "                    <td>'Migrações' </td>\n",
       "                </tr>\n",
       "               \n",
       "                <tr>\n",
       "                    <td>'Direito penal internacional'</td>\n",
       "                </tr>\n",
       "               \n",
       "                <tr>\n",
       "                    <td>'Direito do mar'</td>\n",
       "                </tr>\n",
       "               \n",
       "            </tbody>\n",
       "        </table>\n",
       "        "
      ],
      "text/plain": [
       "<IPython.core.display.HTML object>"
      ]
     },
     "metadata": {},
     "output_type": "display_data"
    },
    {
     "data": {
      "text/html": [
       "\n",
       "        <table>\n",
       "            <thead>\n",
       "                <tr>\n",
       "                    <th scope=\"col\">Neide Hissae Nagae </th>\n",
       "                </tr>\n",
       "            </thead>\n",
       "            <tbody>\n",
       "        \n",
       "                <tr>\n",
       "                    <td>'Literatura Japonesa'</td>\n",
       "                </tr>\n",
       "               \n",
       "                <tr>\n",
       "                    <td>'Língua Instrumental'</td>\n",
       "                </tr>\n",
       "               \n",
       "                <tr>\n",
       "                    <td>'Pensamento japonês: visões históricas e comparativas'</td>\n",
       "                </tr>\n",
       "               \n",
       "                <tr>\n",
       "                    <td>'Tradução Linguística e Cultural Japonês-Português'</td>\n",
       "                </tr>\n",
       "               \n",
       "                <tr>\n",
       "                    <td>'Texto Literário: tradução e estudos críticos'</td>\n",
       "                </tr>\n",
       "               \n",
       "                <tr>\n",
       "                    <td>'Culturas em Contato: inserção e codificação'</td>\n",
       "                </tr>\n",
       "               \n",
       "            </tbody>\n",
       "        </table>\n",
       "        "
      ],
      "text/plain": [
       "<IPython.core.display.HTML object>"
      ]
     },
     "metadata": {},
     "output_type": "display_data"
    },
    {
     "data": {
      "text/html": [
       "\n",
       "        <table>\n",
       "            <thead>\n",
       "                <tr>\n",
       "                    <th scope=\"col\">Shirlei Lica Ichisato Hashimoto </th>\n",
       "                </tr>\n",
       "            </thead>\n",
       "            <tbody>\n",
       "        \n",
       "                <tr>\n",
       "                    <td>'Texto Literário: Tradução e/ou Estudos Críticos'</td>\n",
       "                </tr>\n",
       "               \n",
       "            </tbody>\n",
       "        </table>\n",
       "        "
      ],
      "text/plain": [
       "<IPython.core.display.HTML object>"
      ]
     },
     "metadata": {},
     "output_type": "display_data"
    },
    {
     "data": {
      "text/html": [
       "\n",
       "        <table>\n",
       "            <thead>\n",
       "                <tr>\n",
       "                    <th scope=\"col\">Wataru Kikuchi </th>\n",
       "                </tr>\n",
       "            </thead>\n",
       "            <tbody>\n",
       "        \n",
       "                <tr>\n",
       "                    <td>'Culturas em Contato: Inserção e Decodificação'</td>\n",
       "                </tr>\n",
       "               \n",
       "                <tr>\n",
       "                    <td>'Teoria e análise linguística em suas dimensões diacrônica e sincrônica da língua japonesa'</td>\n",
       "                </tr>\n",
       "               \n",
       "            </tbody>\n",
       "        </table>\n",
       "        "
      ],
      "text/plain": [
       "<IPython.core.display.HTML object>"
      ]
     },
     "metadata": {},
     "output_type": "display_data"
    },
    {
     "data": {
      "text/html": [
       "\n",
       "        <table>\n",
       "            <thead>\n",
       "                <tr>\n",
       "                    <th scope=\"col\">Arlete Orlando Cavaliere Ruesch </th>\n",
       "                </tr>\n",
       "            </thead>\n",
       "            <tbody>\n",
       "        \n",
       "                <tr>\n",
       "                    <td>'Estética Teatral e Crítica do Teatro Russo e Soviético'</td>\n",
       "                </tr>\n",
       "               \n",
       "                <tr>\n",
       "                    <td>'Semiótica da Cultura Russa'</td>\n",
       "                </tr>\n",
       "               \n",
       "                <tr>\n",
       "                    <td>'Literatura Russa'</td>\n",
       "                </tr>\n",
       "               \n",
       "            </tbody>\n",
       "        </table>\n",
       "        "
      ],
      "text/plain": [
       "<IPython.core.display.HTML object>"
      ]
     },
     "metadata": {},
     "output_type": "display_data"
    },
    {
     "data": {
      "text/html": [
       "\n",
       "        <table>\n",
       "            <thead>\n",
       "                <tr>\n",
       "                    <th scope=\"col\">Bruno Barretto Gomide </th>\n",
       "                </tr>\n",
       "            </thead>\n",
       "            <tbody>\n",
       "        \n",
       "                <tr>\n",
       "                    <td>'Crítica Literária russa'</td>\n",
       "                </tr>\n",
       "               \n",
       "                <tr>\n",
       "                    <td>'A Era de Prata da Cultura Russa'</td>\n",
       "                </tr>\n",
       "               \n",
       "                <tr>\n",
       "                    <td>'A Circulação Transnacional da Literatura Russa'</td>\n",
       "                </tr>\n",
       "               \n",
       "                <tr>\n",
       "                    <td>'A Emigração Russa'</td>\n",
       "                </tr>\n",
       "               \n",
       "            </tbody>\n",
       "        </table>\n",
       "        "
      ],
      "text/plain": [
       "<IPython.core.display.HTML object>"
      ]
     },
     "metadata": {},
     "output_type": "display_data"
    },
    {
     "data": {
      "text/html": [
       "\n",
       "        <table>\n",
       "            <thead>\n",
       "                <tr>\n",
       "                    <th scope=\"col\">Elena Vassina </th>\n",
       "                </tr>\n",
       "            </thead>\n",
       "            <tbody>\n",
       "        \n",
       "                <tr>\n",
       "                    <td>'Teoria e Crítica da Literatura e Cultura Russa',</td>\n",
       "                </tr>\n",
       "               \n",
       "                <tr>\n",
       "                    <td>'Semiótica da Cultura Russa'</td>\n",
       "                </tr>\n",
       "               \n",
       "            </tbody>\n",
       "        </table>\n",
       "        "
      ],
      "text/plain": [
       "<IPython.core.display.HTML object>"
      ]
     },
     "metadata": {},
     "output_type": "display_data"
    },
    {
     "data": {
      "text/html": [
       "\n",
       "        <table>\n",
       "            <thead>\n",
       "                <tr>\n",
       "                    <th scope=\"col\">Maria de Fátima Bianchi </th>\n",
       "                </tr>\n",
       "            </thead>\n",
       "            <tbody>\n",
       "        \n",
       "                <tr>\n",
       "                    <td>'Teoria e Crítica da Literatura Russa'</td>\n",
       "                </tr>\n",
       "               \n",
       "            </tbody>\n",
       "        </table>\n",
       "        "
      ],
      "text/plain": [
       "<IPython.core.display.HTML object>"
      ]
     },
     "metadata": {},
     "output_type": "display_data"
    },
    {
     "data": {
      "text/html": [
       "\n",
       "        <table>\n",
       "            <thead>\n",
       "                <tr>\n",
       "                    <th scope=\"col\">Mario Ramos Francisco Junior</th>\n",
       "                </tr>\n",
       "            </thead>\n",
       "            <tbody>\n",
       "        \n",
       "                <tr>\n",
       "                    <td>'Literatura e Cultura Russa'</td>\n",
       "                </tr>\n",
       "               \n",
       "            </tbody>\n",
       "        </table>\n",
       "        "
      ],
      "text/plain": [
       "<IPython.core.display.HTML object>"
      ]
     },
     "metadata": {},
     "output_type": "display_data"
    },
    {
     "data": {
      "text/html": [
       "\n",
       "        <table>\n",
       "            <thead>\n",
       "                <tr>\n",
       "                    <th scope=\"col\">Noé Silva de Oliveira Queiroz Policarpo Polli</th>\n",
       "                </tr>\n",
       "            </thead>\n",
       "            <tbody>\n",
       "        \n",
       "                <tr>\n",
       "                    <td>'Estudos Comparados de Português e Russo'</td>\n",
       "                </tr>\n",
       "               \n",
       "                <tr>\n",
       "                    <td>'Tradução'</td>\n",
       "                </tr>\n",
       "               \n",
       "                <tr>\n",
       "                    <td>'Literatura e Cultura Russa'  </td>\n",
       "                </tr>\n",
       "               \n",
       "                <tr>\n",
       "                    <td>'Crítica Literária'</td>\n",
       "                </tr>\n",
       "               \n",
       "            </tbody>\n",
       "        </table>\n",
       "        "
      ],
      "text/plain": [
       "<IPython.core.display.HTML object>"
      ]
     },
     "metadata": {},
     "output_type": "display_data"
    },
    {
     "data": {
      "text/html": [
       "\n",
       "        <table>\n",
       "            <thead>\n",
       "                <tr>\n",
       "                    <th scope=\"col\">Alexander Yao Cobbinah </th>\n",
       "                </tr>\n",
       "            </thead>\n",
       "            <tbody>\n",
       "        \n",
       "                <tr>\n",
       "                    <td>'Descrição de Línguas não Indo-europeias'</td>\n",
       "                </tr>\n",
       "               \n",
       "                <tr>\n",
       "                    <td>'Estudo do uso, da variação, do contato e da mudança linguística'</td>\n",
       "                </tr>\n",
       "               \n",
       "            </tbody>\n",
       "        </table>\n",
       "        "
      ],
      "text/plain": [
       "<IPython.core.display.HTML object>"
      ]
     },
     "metadata": {},
     "output_type": "display_data"
    },
    {
     "data": {
      "text/html": [
       "\n",
       "        <table>\n",
       "            <thead>\n",
       "                <tr>\n",
       "                    <th scope=\"col\">Ana Lucia de Paula Muller </th>\n",
       "                </tr>\n",
       "            </thead>\n",
       "            <tbody>\n",
       "        \n",
       "                <tr>\n",
       "                    <td>'Estudos dos processos de aquisição e aprendizagem de línguas'</td>\n",
       "                </tr>\n",
       "               \n",
       "                <tr>\n",
       "                    <td>'Descrição e análise das línguas não indo-européias'</td>\n",
       "                </tr>\n",
       "               \n",
       "                <tr>\n",
       "                    <td>'Descrição e análise das línguas indo-europeias'</td>\n",
       "                </tr>\n",
       "               \n",
       "            </tbody>\n",
       "        </table>\n",
       "        "
      ],
      "text/plain": [
       "<IPython.core.display.HTML object>"
      ]
     },
     "metadata": {},
     "output_type": "display_data"
    },
    {
     "data": {
      "text/html": [
       "\n",
       "        <table>\n",
       "            <thead>\n",
       "                <tr>\n",
       "                    <th scope=\"col\"> </th>\n",
       "                </tr>\n",
       "            </thead>\n",
       "            <tbody>\n",
       "        \n",
       "            </tbody>\n",
       "        </table>\n",
       "        "
      ],
      "text/plain": [
       "<IPython.core.display.HTML object>"
      ]
     },
     "metadata": {},
     "output_type": "display_data"
    },
    {
     "data": {
      "text/html": [
       "\n",
       "        <table>\n",
       "            <thead>\n",
       "                <tr>\n",
       "                    <th scope=\"col\">Ana Paula Scher </th>\n",
       "                </tr>\n",
       "            </thead>\n",
       "            <tbody>\n",
       "        \n",
       "                <tr>\n",
       "                    <td>'Descrição e análise de línguas indo-europeias'</td>\n",
       "                </tr>\n",
       "               \n",
       "            </tbody>\n",
       "        </table>\n",
       "        "
      ],
      "text/plain": [
       "<IPython.core.display.HTML object>"
      ]
     },
     "metadata": {},
     "output_type": "display_data"
    },
    {
     "data": {
      "text/html": [
       "\n",
       "        <table>\n",
       "            <thead>\n",
       "                <tr>\n",
       "                    <th scope=\"col\">Antonio Vicente Seraphim Pietroforte </th>\n",
       "                </tr>\n",
       "            </thead>\n",
       "            <tbody>\n",
       "        \n",
       "                <tr>\n",
       "                    <td>'Descrição e análise dos discursos e dos textos verbais e não verbais'</td>\n",
       "                </tr>\n",
       "               \n",
       "            </tbody>\n",
       "        </table>\n",
       "        "
      ],
      "text/plain": [
       "<IPython.core.display.HTML object>"
      ]
     },
     "metadata": {},
     "output_type": "display_data"
    },
    {
     "data": {
      "text/html": [
       "\n",
       "        <table>\n",
       "            <thead>\n",
       "                <tr>\n",
       "                    <th scope=\"col\">Beatriz Raposo de Medeiros </th>\n",
       "                </tr>\n",
       "            </thead>\n",
       "            <tbody>\n",
       "        \n",
       "                <tr>\n",
       "                    <td>'Descrição e análise das línguas indo-europeias'</td>\n",
       "                </tr>\n",
       "               \n",
       "            </tbody>\n",
       "        </table>\n",
       "        "
      ],
      "text/plain": [
       "<IPython.core.display.HTML object>"
      ]
     },
     "metadata": {},
     "output_type": "display_data"
    },
    {
     "data": {
      "text/html": [
       "\n",
       "        <table>\n",
       "            <thead>\n",
       "                <tr>\n",
       "                    <th scope=\"col\">Elaine Bicudo Grolla </th>\n",
       "                </tr>\n",
       "            </thead>\n",
       "            <tbody>\n",
       "        \n",
       "                <tr>\n",
       "                    <td>'Estudos dos processos de aquisição e aprendizagem de línguas'</td>\n",
       "                </tr>\n",
       "               \n",
       "            </tbody>\n",
       "        </table>\n",
       "        "
      ],
      "text/plain": [
       "<IPython.core.display.HTML object>"
      ]
     },
     "metadata": {},
     "output_type": "display_data"
    },
    {
     "data": {
      "text/html": [
       "\n",
       "        <table>\n",
       "            <thead>\n",
       "                <tr>\n",
       "                    <th scope=\"col\">Esmeralda Vailati Negrão </th>\n",
       "                </tr>\n",
       "            </thead>\n",
       "            <tbody>\n",
       "        \n",
       "                <tr>\n",
       "                    <td>'Descrição de Línguas não indo-europeias'</td>\n",
       "                </tr>\n",
       "               \n",
       "                <tr>\n",
       "                    <td>'Estudo do uso, da variação, do contato e da mudança linguística'</td>\n",
       "                </tr>\n",
       "               \n",
       "                <tr>\n",
       "                    <td>'A sintaxe gerativa do português brasileiro'</td>\n",
       "                </tr>\n",
       "               \n",
       "                <tr>\n",
       "                    <td>'Estudos de Princípios e Parâmetros Linguísticos'</td>\n",
       "                </tr>\n",
       "               \n",
       "            </tbody>\n",
       "        </table>\n",
       "        "
      ],
      "text/plain": [
       "<IPython.core.display.HTML object>"
      ]
     },
     "metadata": {},
     "output_type": "display_data"
    },
    {
     "data": {
      "text/html": [
       "\n",
       "        <table>\n",
       "            <thead>\n",
       "                <tr>\n",
       "                    <th scope=\"col\">Evani de Carvalho Viotti </th>\n",
       "                </tr>\n",
       "            </thead>\n",
       "            <tbody>\n",
       "        \n",
       "                <tr>\n",
       "                    <td>'Descrição de línguas não indo-europeias'</td>\n",
       "                </tr>\n",
       "               \n",
       "                <tr>\n",
       "                    <td>'Estudos do uso, da variação, do contato e da mudança linguística'</td>\n",
       "                </tr>\n",
       "               \n",
       "            </tbody>\n",
       "        </table>\n",
       "        "
      ],
      "text/plain": [
       "<IPython.core.display.HTML object>"
      ]
     },
     "metadata": {},
     "output_type": "display_data"
    },
    {
     "data": {
      "text/html": [
       "\n",
       "        <table>\n",
       "            <thead>\n",
       "                <tr>\n",
       "                    <th scope=\"col\">Felipe Venâncio Barbosa </th>\n",
       "                </tr>\n",
       "            </thead>\n",
       "            <tbody>\n",
       "        \n",
       "                <tr>\n",
       "                    <td>'Surdez'</td>\n",
       "                </tr>\n",
       "               \n",
       "                <tr>\n",
       "                    <td>'Linguagem'</td>\n",
       "                </tr>\n",
       "               \n",
       "                <tr>\n",
       "                    <td>'Produção atípica das línguas de sinais'</td>\n",
       "                </tr>\n",
       "               \n",
       "                <tr>\n",
       "                    <td>'Linguagem e Cognição'</td>\n",
       "                </tr>\n",
       "               \n",
       "                <tr>\n",
       "                    <td>'Descrição da Língua de Sinais Brasileira'</td>\n",
       "                </tr>\n",
       "               \n",
       "                <tr>\n",
       "                    <td> </td>\n",
       "                </tr>\n",
       "               \n",
       "            </tbody>\n",
       "        </table>\n",
       "        "
      ],
      "text/plain": [
       "<IPython.core.display.HTML object>"
      ]
     },
     "metadata": {},
     "output_type": "display_data"
    },
    {
     "data": {
      "text/html": [
       "\n",
       "        <table>\n",
       "            <thead>\n",
       "                <tr>\n",
       "                    <th scope=\"col\">Ivã Carlos Lopes </th>\n",
       "                </tr>\n",
       "            </thead>\n",
       "            <tbody>\n",
       "        \n",
       "                <tr>\n",
       "                    <td>'Teoria e análise linguística'</td>\n",
       "                </tr>\n",
       "               \n",
       "                <tr>\n",
       "                    <td> </td>\n",
       "                </tr>\n",
       "               \n",
       "            </tbody>\n",
       "        </table>\n",
       "        "
      ],
      "text/plain": [
       "<IPython.core.display.HTML object>"
      ]
     },
     "metadata": {},
     "output_type": "display_data"
    },
    {
     "data": {
      "text/html": [
       "\n",
       "        <table>\n",
       "            <thead>\n",
       "                <tr>\n",
       "                    <th scope=\"col\">Jairo Morais Nunes </th>\n",
       "                </tr>\n",
       "            </thead>\n",
       "            <tbody>\n",
       "        \n",
       "                <tr>\n",
       "                    <td>'Estudo das Estruturas Gramaticais nas Línguas Naturais'</td>\n",
       "                </tr>\n",
       "               \n",
       "                <tr>\n",
       "                    <td>'Estudo de princípios e parâmetros linguísticos'</td>\n",
       "                </tr>\n",
       "               \n",
       "                <tr>\n",
       "                    <td>'Descrição e análise das línguas indo-europeias'</td>\n",
       "                </tr>\n",
       "               \n",
       "                <tr>\n",
       "                    <td>'Estudo dos processos de aquisição e aprendizagem de línguas'</td>\n",
       "                </tr>\n",
       "               \n",
       "                <tr>\n",
       "                    <td> </td>\n",
       "                </tr>\n",
       "               \n",
       "            </tbody>\n",
       "        </table>\n",
       "        "
      ],
      "text/plain": [
       "<IPython.core.display.HTML object>"
      ]
     },
     "metadata": {},
     "output_type": "display_data"
    },
    {
     "data": {
      "text/html": [
       "\n",
       "        <table>\n",
       "            <thead>\n",
       "                <tr>\n",
       "                    <th scope=\"col\">Luciana Raccanello Storto </th>\n",
       "                </tr>\n",
       "            </thead>\n",
       "            <tbody>\n",
       "        \n",
       "                <tr>\n",
       "                    <td>'Estrutura Argumental'</td>\n",
       "                </tr>\n",
       "               \n",
       "                <tr>\n",
       "                    <td>'Teoria de Traços'</td>\n",
       "                </tr>\n",
       "               \n",
       "                <tr>\n",
       "                    <td>'Descrição e Análise de Línguas Indígenas'</td>\n",
       "                </tr>\n",
       "               \n",
       "                <tr>\n",
       "                    <td>'Teoria da gramática'</td>\n",
       "                </tr>\n",
       "               \n",
       "                <tr>\n",
       "                    <td>'Linguística Histórica'</td>\n",
       "                </tr>\n",
       "               \n",
       "                <tr>\n",
       "                    <td> </td>\n",
       "                </tr>\n",
       "               \n",
       "            </tbody>\n",
       "        </table>\n",
       "        "
      ],
      "text/plain": [
       "<IPython.core.display.HTML object>"
      ]
     },
     "metadata": {},
     "output_type": "display_data"
    },
    {
     "data": {
      "text/html": [
       "\n",
       "        <table>\n",
       "            <thead>\n",
       "                <tr>\n",
       "                    <th scope=\"col\">Marcello Modesto dos Santos </th>\n",
       "                </tr>\n",
       "            </thead>\n",
       "            <tbody>\n",
       "        \n",
       "                <tr>\n",
       "                    <td>'Processamento de Língua Natural'</td>\n",
       "                </tr>\n",
       "               \n",
       "                <tr>\n",
       "                    <td>'A linguística e sua interface com outras ciências, teóricas e aplicadas'</td>\n",
       "                </tr>\n",
       "               \n",
       "                <tr>\n",
       "                    <td>'Estudo de princípios e parâmetros linguísticos'</td>\n",
       "                </tr>\n",
       "               \n",
       "                <tr>\n",
       "                    <td>'A linguística e sua interface com outras ciências, teóricas e aplicadas'</td>\n",
       "                </tr>\n",
       "               \n",
       "                <tr>\n",
       "                    <td> </td>\n",
       "                </tr>\n",
       "               \n",
       "            </tbody>\n",
       "        </table>\n",
       "        "
      ],
      "text/plain": [
       "<IPython.core.display.HTML object>"
      ]
     },
     "metadata": {},
     "output_type": "display_data"
    },
    {
     "data": {
      "text/html": [
       "\n",
       "        <table>\n",
       "            <thead>\n",
       "                <tr>\n",
       "                    <th scope=\"col\">Marcelo Barra Ferreira </th>\n",
       "                </tr>\n",
       "            </thead>\n",
       "            <tbody>\n",
       "        \n",
       "                <tr>\n",
       "                    <td>'Descrição e Análise das Línguas Indo-europeias'</td>\n",
       "                </tr>\n",
       "               \n",
       "                <tr>\n",
       "                    <td>'Processamento Computacional de Linguagem Natural'</td>\n",
       "                </tr>\n",
       "               \n",
       "            </tbody>\n",
       "        </table>\n",
       "        "
      ],
      "text/plain": [
       "<IPython.core.display.HTML object>"
      ]
     },
     "metadata": {},
     "output_type": "display_data"
    },
    {
     "data": {
      "text/html": [
       "\n",
       "        <table>\n",
       "            <thead>\n",
       "                <tr>\n",
       "                    <th scope=\"col\">Marcos Fernando Lopes </th>\n",
       "                </tr>\n",
       "            </thead>\n",
       "            <tbody>\n",
       "        \n",
       "                <tr>\n",
       "                    <td>'Linguística Computacional'</td>\n",
       "                </tr>\n",
       "               \n",
       "                <tr>\n",
       "                    <td>'Semântica'</td>\n",
       "                </tr>\n",
       "               \n",
       "                <tr>\n",
       "                    <td> </td>\n",
       "                </tr>\n",
       "               \n",
       "            </tbody>\n",
       "        </table>\n",
       "        "
      ],
      "text/plain": [
       "<IPython.core.display.HTML object>"
      ]
     },
     "metadata": {},
     "output_type": "display_data"
    },
    {
     "data": {
      "text/html": [
       "\n",
       "        <table>\n",
       "            <thead>\n",
       "                <tr>\n",
       "                    <th scope=\"col\">Olga Ferreira Coelho Sansone </th>\n",
       "                </tr>\n",
       "            </thead>\n",
       "            <tbody>\n",
       "        \n",
       "                <tr>\n",
       "                    <td>'Historiografia e documentação das teorias, descrições e análises linguísticas'</td>\n",
       "                </tr>\n",
       "               \n",
       "            </tbody>\n",
       "        </table>\n",
       "        "
      ],
      "text/plain": [
       "<IPython.core.display.HTML object>"
      ]
     },
     "metadata": {},
     "output_type": "display_data"
    },
    {
     "data": {
      "text/html": [
       "\n",
       "        <table>\n",
       "            <thead>\n",
       "                <tr>\n",
       "                    <th scope=\"col\">Paulo Chagas de Souza </th>\n",
       "                </tr>\n",
       "            </thead>\n",
       "            <tbody>\n",
       "        \n",
       "                <tr>\n",
       "                    <td>'A Mudança Linguística e a Palavra'</td>\n",
       "                </tr>\n",
       "               \n",
       "                <tr>\n",
       "                    <td>'A Gramática da Palavra'</td>\n",
       "                </tr>\n",
       "               \n",
       "                <tr>\n",
       "                    <td> </td>\n",
       "                </tr>\n",
       "               \n",
       "            </tbody>\n",
       "        </table>\n",
       "        "
      ],
      "text/plain": [
       "<IPython.core.display.HTML object>"
      ]
     },
     "metadata": {},
     "output_type": "display_data"
    },
    {
     "data": {
      "text/html": [
       "\n",
       "        <table>\n",
       "            <thead>\n",
       "                <tr>\n",
       "                    <th scope=\"col\">Raquel Santana Santos </th>\n",
       "                </tr>\n",
       "            </thead>\n",
       "            <tbody>\n",
       "        \n",
       "                <tr>\n",
       "                    <td>'Estudos dos processos de aquisição e aprendizagem de línguas'</td>\n",
       "                </tr>\n",
       "               \n",
       "                <tr>\n",
       "                    <td>'Descrição e Análise de línguas indo-europeias'</td>\n",
       "                </tr>\n",
       "               \n",
       "                <tr>\n",
       "                    <td>'Estudo de princípios e parâmetros linguísticos'</td>\n",
       "                </tr>\n",
       "               \n",
       "                <tr>\n",
       "                    <td>'Análise dos sistemas fonético e fonológico'</td>\n",
       "                </tr>\n",
       "               \n",
       "            </tbody>\n",
       "        </table>\n",
       "        "
      ],
      "text/plain": [
       "<IPython.core.display.HTML object>"
      ]
     },
     "metadata": {},
     "output_type": "display_data"
    },
    {
     "data": {
      "text/html": [
       "\n",
       "        <table>\n",
       "            <thead>\n",
       "                <tr>\n",
       "                    <th scope=\"col\">Ronald Beline Mendes </th>\n",
       "                </tr>\n",
       "            </thead>\n",
       "            <tbody>\n",
       "        \n",
       "                <tr>\n",
       "                    <td>'Sociolinguística Variacionista Quantitativa'</td>\n",
       "                </tr>\n",
       "               \n",
       "            </tbody>\n",
       "        </table>\n",
       "        "
      ],
      "text/plain": [
       "<IPython.core.display.HTML object>"
      ]
     },
     "metadata": {},
     "output_type": "display_data"
    },
    {
     "data": {
      "text/html": [
       "\n",
       "        <table>\n",
       "            <thead>\n",
       "                <tr>\n",
       "                    <th scope=\"col\">Thomas Daniel Finbow </th>\n",
       "                </tr>\n",
       "            </thead>\n",
       "            <tbody>\n",
       "        \n",
       "                <tr>\n",
       "                    <td>'Descrição e análise das línguas não indo-europeias'</td>\n",
       "                </tr>\n",
       "               \n",
       "                <tr>\n",
       "                    <td>'Estudo do uso, da variação, do contato e da mudança linguística'</td>\n",
       "                </tr>\n",
       "               \n",
       "            </tbody>\n",
       "        </table>\n",
       "        "
      ],
      "text/plain": [
       "<IPython.core.display.HTML object>"
      ]
     },
     "metadata": {},
     "output_type": "display_data"
    },
    {
     "data": {
      "text/html": [
       "\n",
       "        <table>\n",
       "            <thead>\n",
       "                <tr>\n",
       "                    <th scope=\"col\">Waldir Beividas </th>\n",
       "                </tr>\n",
       "            </thead>\n",
       "            <tbody>\n",
       "        \n",
       "                <tr>\n",
       "                    <td>'Fundamentos Históricos e Teóricos da Psicanálise'</td>\n",
       "                </tr>\n",
       "               \n",
       "                <tr>\n",
       "                    <td>'A linguística e sua interface com outras ciências'</td>\n",
       "                </tr>\n",
       "               \n",
       "                <tr>\n",
       "                    <td>'Análise dos discursos e dos textos verbais expressos na modalidade oral e escrita, e dos textos não verbais'</td>\n",
       "                </tr>\n",
       "               \n",
       "                <tr>\n",
       "                    <td>'Análise de textos verbais e não verbais'</td>\n",
       "                </tr>\n",
       "               \n",
       "            </tbody>\n",
       "        </table>\n",
       "        "
      ],
      "text/plain": [
       "<IPython.core.display.HTML object>"
      ]
     },
     "metadata": {},
     "output_type": "display_data"
    },
    {
     "data": {
      "text/html": [
       "\n",
       "        <table>\n",
       "            <thead>\n",
       "                <tr>\n",
       "                    <th scope=\"col\">Alexandre Braga Massella </th>\n",
       "                </tr>\n",
       "            </thead>\n",
       "            <tbody>\n",
       "        \n",
       "                <tr>\n",
       "                    <td>'Metodologia das Ciências Sociais'</td>\n",
       "                </tr>\n",
       "               \n",
       "                <tr>\n",
       "                    <td>'Teoria social'</td>\n",
       "                </tr>\n",
       "               \n",
       "                <tr>\n",
       "                    <td>'Sociologia: teoria e história'</td>\n",
       "                </tr>\n",
       "               \n",
       "            </tbody>\n",
       "        </table>\n",
       "        "
      ],
      "text/plain": [
       "<IPython.core.display.HTML object>"
      ]
     },
     "metadata": {},
     "output_type": "display_data"
    },
    {
     "data": {
      "text/html": [
       "\n",
       "        <table>\n",
       "            <thead>\n",
       "                <tr>\n",
       "                    <th scope=\"col\">Alvaro Augusto Comin </th>\n",
       "                </tr>\n",
       "            </thead>\n",
       "            <tbody>\n",
       "        \n",
       "                <tr>\n",
       "                    <td>'Sociologia do Desenvolvimento'</td>\n",
       "                </tr>\n",
       "               \n",
       "                <tr>\n",
       "                    <td>'Mercado de trabalho'</td>\n",
       "                </tr>\n",
       "               \n",
       "                <tr>\n",
       "                    <td>'Trabalho Digital'</td>\n",
       "                </tr>\n",
       "               \n",
       "                <tr>\n",
       "                    <td>'Mercado, trabalho e oportunidades (INCT/CEM)'</td>\n",
       "                </tr>\n",
       "               \n",
       "                <tr>\n",
       "                    <td>'Economia, trabalho e sociedade' </td>\n",
       "                </tr>\n",
       "               \n",
       "                <tr>\n",
       "                    <td>'Estado, política e ações coletivas'</td>\n",
       "                </tr>\n",
       "               \n",
       "            </tbody>\n",
       "        </table>\n",
       "        "
      ],
      "text/plain": [
       "<IPython.core.display.HTML object>"
      ]
     },
     "metadata": {},
     "output_type": "display_data"
    },
    {
     "data": {
      "text/html": [
       "\n",
       "        <table>\n",
       "            <thead>\n",
       "                <tr>\n",
       "                    <th scope=\"col\">Ana Paula Belém Hey </th>\n",
       "                </tr>\n",
       "            </thead>\n",
       "            <tbody>\n",
       "        \n",
       "                <tr>\n",
       "                    <td>'Formação de quadros dirigentes'</td>\n",
       "                </tr>\n",
       "               \n",
       "                <tr>\n",
       "                    <td>'Circulação Internacional de Universitários'</td>\n",
       "                </tr>\n",
       "               \n",
       "                <tr>\n",
       "                    <td>'Elites acadêmicas'</td>\n",
       "                </tr>\n",
       "               \n",
       "                <tr>\n",
       "                    <td>'Campo do poder brasileiro'</td>\n",
       "                </tr>\n",
       "               \n",
       "                <tr>\n",
       "                    <td>'Sociologia das Elites'</td>\n",
       "                </tr>\n",
       "               \n",
       "                <tr>\n",
       "                    <td>'Sociologia da Educação'</td>\n",
       "                </tr>\n",
       "               \n",
       "                <tr>\n",
       "                    <td>'Políticas Educacionais'</td>\n",
       "                </tr>\n",
       "               \n",
       "                <tr>\n",
       "                    <td>'Educação e Cultura'</td>\n",
       "                </tr>\n",
       "               \n",
       "                <tr>\n",
       "                    <td>'Sociologia do Poder'</td>\n",
       "                </tr>\n",
       "               \n",
       "                <tr>\n",
       "                    <td>'Campo Acadêmico Brasileiro'</td>\n",
       "                </tr>\n",
       "               \n",
       "                <tr>\n",
       "                    <td>'Elites no Brasil'</td>\n",
       "                </tr>\n",
       "               \n",
       "                <tr>\n",
       "                    <td>'Cultura e poder simbólico'</td>\n",
       "                </tr>\n",
       "               \n",
       "                <tr>\n",
       "                    <td>'Estado, política e ações coletivas'</td>\n",
       "                </tr>\n",
       "               \n",
       "            </tbody>\n",
       "        </table>\n",
       "        "
      ],
      "text/plain": [
       "<IPython.core.display.HTML object>"
      ]
     },
     "metadata": {},
     "output_type": "display_data"
    },
    {
     "data": {
      "text/html": [
       "\n",
       "        <table>\n",
       "            <thead>\n",
       "                <tr>\n",
       "                    <th scope=\"col\">André Vereta Nahoum </th>\n",
       "                </tr>\n",
       "            </thead>\n",
       "            <tbody>\n",
       "        \n",
       "                <tr>\n",
       "                    <td>'Crises as modes of constitution and government of markets: what do crises produce?'</td>\n",
       "                </tr>\n",
       "               \n",
       "                <tr>\n",
       "                    <td>'Sociology of Markets - valuation as a problem of market orders'</td>\n",
       "                </tr>\n",
       "               \n",
       "                <tr>\n",
       "                    <td>'Commodification of cultures: the traffic of cultural representations of the Yawanawa'</td>\n",
       "                </tr>\n",
       "               \n",
       "                <tr>\n",
       "                    <td>'Identidades em fluxo nos circuitos de comércio popular da metrópole: comerciantes na Feira da Madrugada'</td>\n",
       "                </tr>\n",
       "               \n",
       "                <tr>\n",
       "                    <td>'Economia, trabalho e sociedade' </td>\n",
       "                </tr>\n",
       "               \n",
       "                <tr>\n",
       "                    <td>'Sociologia: teoria e história'</td>\n",
       "                </tr>\n",
       "               \n",
       "            </tbody>\n",
       "        </table>\n",
       "        "
      ],
      "text/plain": [
       "<IPython.core.display.HTML object>"
      ]
     },
     "metadata": {},
     "output_type": "display_data"
    },
    {
     "data": {
      "text/html": [
       "\n",
       "        <table>\n",
       "            <thead>\n",
       "                <tr>\n",
       "                    <th scope=\"col\">Angela Maria Alonso </th>\n",
       "                </tr>\n",
       "            </thead>\n",
       "            <tbody>\n",
       "        \n",
       "                <tr>\n",
       "                    <td>'Movimentos intelectuais, políticos e sociais'</td>\n",
       "                </tr>\n",
       "               \n",
       "                <tr>\n",
       "                    <td>'Cultura e Ação Política'</td>\n",
       "                </tr>\n",
       "               \n",
       "                <tr>\n",
       "                    <td>'Estado, política e ações coletivas'</td>\n",
       "                </tr>\n",
       "               \n",
       "            </tbody>\n",
       "        </table>\n",
       "        "
      ],
      "text/plain": [
       "<IPython.core.display.HTML object>"
      ]
     },
     "metadata": {},
     "output_type": "display_data"
    },
    {
     "data": {
      "text/html": [
       "\n",
       "        <table>\n",
       "            <thead>\n",
       "                <tr>\n",
       "                    <th scope=\"col\">Bianca Stella Pinheiro de Freire-Medeiros </th>\n",
       "                </tr>\n",
       "            </thead>\n",
       "            <tbody>\n",
       "        \n",
       "                <tr>\n",
       "                    <td>'Arte, Cultura e Poder (Grupo de Pesquisa do CNPq)'</td>\n",
       "                </tr>\n",
       "               \n",
       "                <tr>\n",
       "                    <td>'Livro Didático de Sociologia para o Ensino Médio: TEMPOS MODERNOS, TEMPOS DE SOCIOLOGIA'</td>\n",
       "                </tr>\n",
       "               \n",
       "                <tr>\n",
       "                    <td>'História do Turismo no Rio de Janeiro (Gupo de Pesquisa do CNPq)'</td>\n",
       "                </tr>\n",
       "               \n",
       "                <tr>\n",
       "                    <td>'MOBILIDADES: Teorias, Temas e Métodos (MTTM)'</td>\n",
       "                </tr>\n",
       "               \n",
       "                <tr>\n",
       "                    <td>'UrbanData-Brasil: Banco de dados bibliográficos sobre o Brasil urbano'</td>\n",
       "                </tr>\n",
       "               \n",
       "                <tr>\n",
       "                    <td>'Cidades: interações, desigualdades e (i)mobilidades socioespaciais'</td>\n",
       "                </tr>\n",
       "               \n",
       "            </tbody>\n",
       "        </table>\n",
       "        "
      ],
      "text/plain": [
       "<IPython.core.display.HTML object>"
      ]
     },
     "metadata": {},
     "output_type": "display_data"
    },
    {
     "data": {
      "text/html": [
       "\n",
       "        <table>\n",
       "            <thead>\n",
       "                <tr>\n",
       "                    <th scope=\"col\">Bruna Gisi Martins de Almeida </th>\n",
       "                </tr>\n",
       "            </thead>\n",
       "            <tbody>\n",
       "        \n",
       "                <tr>\n",
       "                    <td>'Elites Políticas'</td>\n",
       "                </tr>\n",
       "               \n",
       "                <tr>\n",
       "                    <td>'Violência, direitos e cidadania'</td>\n",
       "                </tr>\n",
       "               \n",
       "            </tbody>\n",
       "        </table>\n",
       "        "
      ],
      "text/plain": [
       "<IPython.core.display.HTML object>"
      ]
     },
     "metadata": {},
     "output_type": "display_data"
    },
    {
     "data": {
      "text/html": [
       "\n",
       "        <table>\n",
       "            <thead>\n",
       "                <tr>\n",
       "                    <th scope=\"col\">Edison Ricardo Emiliano Bertoncelo </th>\n",
       "                </tr>\n",
       "            </thead>\n",
       "            <tbody>\n",
       "        \n",
       "                <tr>\n",
       "                    <td>'Dinâmicas de classe, raça, gênero e geração'</td>\n",
       "                </tr>\n",
       "               \n",
       "            </tbody>\n",
       "        </table>\n",
       "        "
      ],
      "text/plain": [
       "<IPython.core.display.HTML object>"
      ]
     },
     "metadata": {},
     "output_type": "display_data"
    },
    {
     "data": {
      "text/html": [
       "\n",
       "        <table>\n",
       "            <thead>\n",
       "                <tr>\n",
       "                    <th scope=\"col\">Fernando Antonio Pinheiro Filho </th>\n",
       "                </tr>\n",
       "            </thead>\n",
       "            <tbody>\n",
       "        \n",
       "                <tr>\n",
       "                    <td>'Sociologia da Cultura'</td>\n",
       "                </tr>\n",
       "               \n",
       "                <tr>\n",
       "                    <td>'História social dos intelectuais Latino-americanos'</td>\n",
       "                </tr>\n",
       "               \n",
       "                <tr>\n",
       "                    <td>'Teoria Sociológica'</td>\n",
       "                </tr>\n",
       "               \n",
       "                <tr>\n",
       "                    <td>'Cultura e poder simbólico' </td>\n",
       "                </tr>\n",
       "               \n",
       "                <tr>\n",
       "                    <td>'Sociologia: teoria e história'</td>\n",
       "                </tr>\n",
       "               \n",
       "            </tbody>\n",
       "        </table>\n",
       "        "
      ],
      "text/plain": [
       "<IPython.core.display.HTML object>"
      ]
     },
     "metadata": {},
     "output_type": "display_data"
    },
    {
     "data": {
      "text/html": [
       "\n",
       "        <table>\n",
       "            <thead>\n",
       "                <tr>\n",
       "                    <th scope=\"col\">Fraya Frehse </th>\n",
       "                </tr>\n",
       "            </thead>\n",
       "            <tbody>\n",
       "        \n",
       "                <tr>\n",
       "                    <td>'Sociologia do espaço e do tempo'</td>\n",
       "                </tr>\n",
       "               \n",
       "                <tr>\n",
       "                    <td>'A produção corporal do espaço urbano na São Paulo do século XXI'</td>\n",
       "                </tr>\n",
       "               \n",
       "                <tr>\n",
       "                    <td>'Spatial Methods for Urban Sustainability'</td>\n",
       "                </tr>\n",
       "               \n",
       "                <tr>\n",
       "                    <td>'Sociologia Espaço-Temporalmente Enraizada (SETE)'</td>\n",
       "                </tr>\n",
       "               \n",
       "                <tr>\n",
       "                    <td>'Sociologia do Espaço e do Tempo'</td>\n",
       "                </tr>\n",
       "               \n",
       "                <tr>\n",
       "                    <td>'Sociologia da Cidade, do Espaço e da Vida Cotidiana'</td>\n",
       "                </tr>\n",
       "               \n",
       "                <tr>\n",
       "                    <td>'Sociologia do Espaço'</td>\n",
       "                </tr>\n",
       "               \n",
       "                <tr>\n",
       "                    <td>'Sustentabilidade em Espaços Públicos Urbanos'</td>\n",
       "                </tr>\n",
       "               \n",
       "                <tr>\n",
       "                    <td>'Sociologia: teoria e história'</td>\n",
       "                </tr>\n",
       "               \n",
       "                <tr>\n",
       "                    <td>'Cidades: interações, desigualdades e (i)mobilidades socioespaciais'</td>\n",
       "                </tr>\n",
       "               \n",
       "            </tbody>\n",
       "        </table>\n",
       "        "
      ],
      "text/plain": [
       "<IPython.core.display.HTML object>"
      ]
     },
     "metadata": {},
     "output_type": "display_data"
    },
    {
     "data": {
      "text/html": [
       "\n",
       "        <table>\n",
       "            <thead>\n",
       "                <tr>\n",
       "                    <th scope=\"col\">Glauco Antonio Truzzi Arbix </th>\n",
       "                </tr>\n",
       "            </thead>\n",
       "            <tbody>\n",
       "        \n",
       "                <tr>\n",
       "                    <td>'Políticas Públicas de Inovação'</td>\n",
       "                </tr>\n",
       "               \n",
       "                <tr>\n",
       "                    <td>'Ergonomia'</td>\n",
       "                </tr>\n",
       "               \n",
       "                <tr>\n",
       "                    <td>'Competição Interestadual e Desenvolvimento Regional'</td>\n",
       "                </tr>\n",
       "               \n",
       "                <tr>\n",
       "                    <td>'Dinâmicas de Inovação e Instituições Transnacionais'</td>\n",
       "                </tr>\n",
       "               \n",
       "                <tr>\n",
       "                    <td>'Sociologia dos Processos Políticos e das Instituições Públicas'</td>\n",
       "                </tr>\n",
       "               \n",
       "                <tr>\n",
       "                    <td>'Inovação, Tecnologia e Competitividade'</td>\n",
       "                </tr>\n",
       "               \n",
       "                <tr>\n",
       "                    <td>'Estratégias Transnacionais no Mercosul'</td>\n",
       "                </tr>\n",
       "               \n",
       "                <tr>\n",
       "                    <td>'Trabalho e Reestruturação Produtiva'</td>\n",
       "                </tr>\n",
       "               \n",
       "                <tr>\n",
       "                    <td>'Inovações, Padrões Tecnológicos e Desempenho das Firmas Brasileiras'</td>\n",
       "                </tr>\n",
       "               \n",
       "                <tr>\n",
       "                    <td>'Economia, trabalho e sociedade' </td>\n",
       "                </tr>\n",
       "               \n",
       "                <tr>\n",
       "                    <td>'Estado, política e ações coletivas'</td>\n",
       "                </tr>\n",
       "               \n",
       "            </tbody>\n",
       "        </table>\n",
       "        "
      ],
      "text/plain": [
       "<IPython.core.display.HTML object>"
      ]
     },
     "metadata": {},
     "output_type": "display_data"
    },
    {
     "data": {
      "text/html": [
       "\n",
       "        <table>\n",
       "            <thead>\n",
       "                <tr>\n",
       "                    <th scope=\"col\">Laurindo Dias Minhoto </th>\n",
       "                </tr>\n",
       "            </thead>\n",
       "            <tbody>\n",
       "        \n",
       "                <tr>\n",
       "                    <td>'Direito Sanitário: advogue-saúde'</td>\n",
       "                </tr>\n",
       "               \n",
       "                <tr>\n",
       "                    <td>'Direito Sanitário: responsabilidade pela saúde'</td>\n",
       "                </tr>\n",
       "               \n",
       "                <tr>\n",
       "                    <td>'Direito Sanitário: sistema legal de saúde'</td>\n",
       "                </tr>\n",
       "               \n",
       "                <tr>\n",
       "                    <td>'Produção de espaço, forma de controle e conflito urbano'</td>\n",
       "                </tr>\n",
       "               \n",
       "                <tr>\n",
       "                    <td>'Direito à Saúde e Democracia Sanitária'</td>\n",
       "                </tr>\n",
       "               \n",
       "                <tr>\n",
       "                    <td>'Violência, direitos e cidadania' </td>\n",
       "                </tr>\n",
       "               \n",
       "                <tr>\n",
       "                    <td>'Sociologia: teoria e história'</td>\n",
       "                </tr>\n",
       "               \n",
       "            </tbody>\n",
       "        </table>\n",
       "        "
      ],
      "text/plain": [
       "<IPython.core.display.HTML object>"
      ]
     },
     "metadata": {},
     "output_type": "display_data"
    },
    {
     "data": {
      "text/html": [
       "\n",
       "        <table>\n",
       "            <thead>\n",
       "                <tr>\n",
       "                    <th scope=\"col\">Leonardo Gomes Mello e Silva </th>\n",
       "                </tr>\n",
       "            </thead>\n",
       "            <tbody>\n",
       "        \n",
       "                <tr>\n",
       "                    <td>'Economia, trabalho e sociedade'</td>\n",
       "                </tr>\n",
       "               \n",
       "            </tbody>\n",
       "        </table>\n",
       "        "
      ],
      "text/plain": [
       "<IPython.core.display.HTML object>"
      ]
     },
     "metadata": {},
     "output_type": "display_data"
    },
    {
     "data": {
      "text/html": [
       "\n",
       "        <table>\n",
       "            <thead>\n",
       "                <tr>\n",
       "                    <th scope=\"col\">Leopoldo Garcia Pinto Waizbort </th>\n",
       "                </tr>\n",
       "            </thead>\n",
       "            <tbody>\n",
       "        \n",
       "                <tr>\n",
       "                    <td>'Sociologia da cultura'</td>\n",
       "                </tr>\n",
       "               \n",
       "                <tr>\n",
       "                    <td>'História da arte'</td>\n",
       "                </tr>\n",
       "               \n",
       "                <tr>\n",
       "                    <td>'Crítica de arte'</td>\n",
       "                </tr>\n",
       "               \n",
       "                <tr>\n",
       "                    <td>'Etnologia indígena'</td>\n",
       "                </tr>\n",
       "               \n",
       "                <tr>\n",
       "                    <td>'Cultura material'</td>\n",
       "                </tr>\n",
       "               \n",
       "                <tr>\n",
       "                    <td>'Teoria sociológica'</td>\n",
       "                </tr>\n",
       "               \n",
       "                <tr>\n",
       "                    <td>'Sociologia da cultura'  </td>\n",
       "                </tr>\n",
       "               \n",
       "                <tr>\n",
       "                    <td>'Sociologia da literatura'</td>\n",
       "                </tr>\n",
       "               \n",
       "                <tr>\n",
       "                    <td>'Antropologia histórica'</td>\n",
       "                </tr>\n",
       "               \n",
       "                <tr>\n",
       "                    <td>'Mimese'</td>\n",
       "                </tr>\n",
       "               \n",
       "                <tr>\n",
       "                    <td>'Música'</td>\n",
       "                </tr>\n",
       "               \n",
       "                <tr>\n",
       "                    <td>'Literatura e sociedade'</td>\n",
       "                </tr>\n",
       "               \n",
       "                <tr>\n",
       "                    <td>'Sociologia da cultura'</td>\n",
       "                </tr>\n",
       "               \n",
       "                <tr>\n",
       "                    <td>'Cultura e poder simbólico'</td>\n",
       "                </tr>\n",
       "               \n",
       "                <tr>\n",
       "                    <td>'Sociologia: teoria e história'</td>\n",
       "                </tr>\n",
       "               \n",
       "            </tbody>\n",
       "        </table>\n",
       "        "
      ],
      "text/plain": [
       "<IPython.core.display.HTML object>"
      ]
     },
     "metadata": {},
     "output_type": "display_data"
    },
    {
     "data": {
      "text/html": [
       "\n",
       "        <table>\n",
       "            <thead>\n",
       "                <tr>\n",
       "                    <th scope=\"col\">Luiz Carlos Jackson </th>\n",
       "                </tr>\n",
       "            </thead>\n",
       "            <tbody>\n",
       "        \n",
       "                <tr>\n",
       "                    <td>'Cultura e poder simbólico' </td>\n",
       "                </tr>\n",
       "               \n",
       "                <tr>\n",
       "                    <td>'Sociologia: teoria e história'</td>\n",
       "                </tr>\n",
       "               \n",
       "            </tbody>\n",
       "        </table>\n",
       "        "
      ],
      "text/plain": [
       "<IPython.core.display.HTML object>"
      ]
     },
     "metadata": {},
     "output_type": "display_data"
    },
    {
     "data": {
      "text/html": [
       "\n",
       "        <table>\n",
       "            <thead>\n",
       "                <tr>\n",
       "                    <th scope=\"col\">Marcia Regina de Lima Silva </th>\n",
       "                </tr>\n",
       "            </thead>\n",
       "            <tbody>\n",
       "        \n",
       "                <tr>\n",
       "                    <td>'População e Sociedade'</td>\n",
       "                </tr>\n",
       "               \n",
       "                <tr>\n",
       "                    <td>'Identidades, diferença, distinção e desigualdade'</td>\n",
       "                </tr>\n",
       "               \n",
       "                <tr>\n",
       "                    <td>'Desigualdade, Condições Sociais e Políticas Públicas no Brasil contemporâneo'</td>\n",
       "                </tr>\n",
       "               \n",
       "                <tr>\n",
       "                    <td>'Mercado, Trabalho e oportunidades  (INCT/CEM)'</td>\n",
       "                </tr>\n",
       "               \n",
       "                <tr>\n",
       "                    <td>'Dinâmicas de classe, raça, gênero e geração'</td>\n",
       "                </tr>\n",
       "               \n",
       "            </tbody>\n",
       "        </table>\n",
       "        "
      ],
      "text/plain": [
       "<IPython.core.display.HTML object>"
      ]
     },
     "metadata": {},
     "output_type": "display_data"
    },
    {
     "data": {
      "text/html": [
       "\n",
       "        <table>\n",
       "            <thead>\n",
       "                <tr>\n",
       "                    <th scope=\"col\">Marcos Cesar Alvarez </th>\n",
       "                </tr>\n",
       "            </thead>\n",
       "            <tbody>\n",
       "        \n",
       "                <tr>\n",
       "                    <td>'Sociedade, cultura e Estado'</td>\n",
       "                </tr>\n",
       "               \n",
       "                <tr>\n",
       "                    <td>'Pensamento político e social brasileiro'</td>\n",
       "                </tr>\n",
       "               \n",
       "                <tr>\n",
       "                    <td>'Processos políticos e instituições públicas: violência, direitos e cidadania'</td>\n",
       "                </tr>\n",
       "               \n",
       "            </tbody>\n",
       "        </table>\n",
       "        "
      ],
      "text/plain": [
       "<IPython.core.display.HTML object>"
      ]
     },
     "metadata": {},
     "output_type": "display_data"
    },
    {
     "data": {
      "text/html": [
       "\n",
       "        <table>\n",
       "            <thead>\n",
       "                <tr>\n",
       "                    <th scope=\"col\">Maria Arminda do Nascimento Arruda </th>\n",
       "                </tr>\n",
       "            </thead>\n",
       "            <tbody>\n",
       "        \n",
       "                <tr>\n",
       "                    <td>'Cultura, Simbolização e Representações Sociais'</td>\n",
       "                </tr>\n",
       "               \n",
       "                <tr>\n",
       "                    <td>'Teoria e metodologia em Sociologia'</td>\n",
       "                </tr>\n",
       "               \n",
       "                <tr>\n",
       "                    <td>'Sociologia'</td>\n",
       "                </tr>\n",
       "               \n",
       "            </tbody>\n",
       "        </table>\n",
       "        "
      ],
      "text/plain": [
       "<IPython.core.display.HTML object>"
      ]
     },
     "metadata": {},
     "output_type": "display_data"
    },
    {
     "data": {
      "text/html": [
       "\n",
       "        <table>\n",
       "            <thead>\n",
       "                <tr>\n",
       "                    <th scope=\"col\">Murillo Marschner Alves de Brito </th>\n",
       "                </tr>\n",
       "            </thead>\n",
       "            <tbody>\n",
       "        \n",
       "                <tr>\n",
       "                    <td>'Educação, Relações Sociais e Construção Democrática'</td>\n",
       "                </tr>\n",
       "               \n",
       "                <tr>\n",
       "                    <td>'Dinâmicas de classe, raça, gênero e geração'</td>\n",
       "                </tr>\n",
       "               \n",
       "                <tr>\n",
       "                    <td>'Estado, política e ações coletivas'</td>\n",
       "                </tr>\n",
       "               \n",
       "            </tbody>\n",
       "        </table>\n",
       "        "
      ],
      "text/plain": [
       "<IPython.core.display.HTML object>"
      ]
     },
     "metadata": {},
     "output_type": "display_data"
    },
    {
     "data": {
      "text/html": [
       "\n",
       "        <table>\n",
       "            <thead>\n",
       "                <tr>\n",
       "                    <th scope=\"col\">Paula Regina Pereira Marcelino </th>\n",
       "                </tr>\n",
       "            </thead>\n",
       "            <tbody>\n",
       "        \n",
       "                <tr>\n",
       "                    <td>'Sociologia: teoria e história'</td>\n",
       "                </tr>\n",
       "               \n",
       "                <tr>\n",
       "                    <td>'Dinâmicas de classe, raça, gênero e geração' </td>\n",
       "                </tr>\n",
       "               \n",
       "                <tr>\n",
       "                    <td>'Economia, trabalho e sociedade'</td>\n",
       "                </tr>\n",
       "               \n",
       "            </tbody>\n",
       "        </table>\n",
       "        "
      ],
      "text/plain": [
       "<IPython.core.display.HTML object>"
      ]
     },
     "metadata": {},
     "output_type": "display_data"
    },
    {
     "data": {
      "text/html": [
       "\n",
       "        <table>\n",
       "            <thead>\n",
       "                <tr>\n",
       "                    <th scope=\"col\">Ricardo Mariano </th>\n",
       "                </tr>\n",
       "            </thead>\n",
       "            <tbody>\n",
       "        \n",
       "                <tr>\n",
       "                    <td>'Sociologia da religião'</td>\n",
       "                </tr>\n",
       "               \n",
       "                <tr>\n",
       "                    <td>'Sociologia dos meios de comunicação'</td>\n",
       "                </tr>\n",
       "               \n",
       "                <tr>\n",
       "                    <td>'Sociologia política'</td>\n",
       "                </tr>\n",
       "               \n",
       "                <tr>\n",
       "                    <td>'Estado, política e ações coletivas'</td>\n",
       "                </tr>\n",
       "               \n",
       "            </tbody>\n",
       "        </table>\n",
       "        "
      ],
      "text/plain": [
       "<IPython.core.display.HTML object>"
      ]
     },
     "metadata": {},
     "output_type": "display_data"
    },
    {
     "data": {
      "text/html": [
       "\n",
       "        <table>\n",
       "            <thead>\n",
       "                <tr>\n",
       "                    <th scope=\"col\">Ricardo Musse </th>\n",
       "                </tr>\n",
       "            </thead>\n",
       "            <tbody>\n",
       "        \n",
       "                <tr>\n",
       "                    <td>'Cultura e poder simbólico' </td>\n",
       "                </tr>\n",
       "               \n",
       "                <tr>\n",
       "                    <td>'Sociologia: teoria e história'</td>\n",
       "                </tr>\n",
       "               \n",
       "            </tbody>\n",
       "        </table>\n",
       "        "
      ],
      "text/plain": [
       "<IPython.core.display.HTML object>"
      ]
     },
     "metadata": {},
     "output_type": "display_data"
    },
    {
     "data": {
      "text/html": [
       "\n",
       "        <table>\n",
       "            <thead>\n",
       "                <tr>\n",
       "                    <th scope=\"col\">Ruy Gomes Braga Neto </th>\n",
       "                </tr>\n",
       "            </thead>\n",
       "            <tbody>\n",
       "        \n",
       "                <tr>\n",
       "                    <td>'Classes, Conflito e Movimentos Sociais'</td>\n",
       "                </tr>\n",
       "               \n",
       "                <tr>\n",
       "                    <td>'Economia, trabalho e sociedade'</td>\n",
       "                </tr>\n",
       "               \n",
       "            </tbody>\n",
       "        </table>\n",
       "        "
      ],
      "text/plain": [
       "<IPython.core.display.HTML object>"
      ]
     },
     "metadata": {},
     "output_type": "display_data"
    },
    {
     "data": {
      "text/html": [
       "\n",
       "        <table>\n",
       "            <thead>\n",
       "                <tr>\n",
       "                    <th scope=\"col\">Sylvia Gemignani Garcia </th>\n",
       "                </tr>\n",
       "            </thead>\n",
       "            <tbody>\n",
       "        \n",
       "                <tr>\n",
       "                    <td>'A transição para a democracia: análise estrutural e conjunturas políticas'</td>\n",
       "                </tr>\n",
       "               \n",
       "                <tr>\n",
       "                    <td>'Inventário da vida política brasileira: 1964-1985'</td>\n",
       "                </tr>\n",
       "               \n",
       "                <tr>\n",
       "                    <td>'Retrato da USP aos 50 anos'</td>\n",
       "                </tr>\n",
       "               \n",
       "                <tr>\n",
       "                    <td>'Censo dos Estudantes de Ciências Sociais da USP 2016'</td>\n",
       "                </tr>\n",
       "               \n",
       "                <tr>\n",
       "                    <td>'Juventude universitária e participação política: o caso da greve estudantil da FFLCH em 2002'</td>\n",
       "                </tr>\n",
       "               \n",
       "                <tr>\n",
       "                    <td>'Entre a universidade e o mercado de trabalho: formação, emprego e carreira entre profissionais de P&D em empresas de São Paulo'</td>\n",
       "                </tr>\n",
       "               \n",
       "                <tr>\n",
       "                    <td>'A formação de Florestan Fernandes e a constituição da sociologia no Brasil'</td>\n",
       "                </tr>\n",
       "               \n",
       "                <tr>\n",
       "                    <td>'Disputas institucionais e a expansão do ensino superior no Brasil contemporâneo: educação, trabalho e conhecimento'</td>\n",
       "                </tr>\n",
       "               \n",
       "                <tr>\n",
       "                    <td>'Estado, política e ações coletivas'</td>\n",
       "                </tr>\n",
       "               \n",
       "                <tr>\n",
       "                    <td>'Cultura e poder simbólico'</td>\n",
       "                </tr>\n",
       "               \n",
       "            </tbody>\n",
       "        </table>\n",
       "        "
      ],
      "text/plain": [
       "<IPython.core.display.HTML object>"
      ]
     },
     "metadata": {},
     "output_type": "display_data"
    },
    {
     "data": {
      "text/html": [
       "\n",
       "        <table>\n",
       "            <thead>\n",
       "                <tr>\n",
       "                    <th scope=\"col\">Ana Paula Sá e Souza Pacheco </th>\n",
       "                </tr>\n",
       "            </thead>\n",
       "            <tbody>\n",
       "        \n",
       "                <tr>\n",
       "                    <td>'Literatura e sociedade'</td>\n",
       "                </tr>\n",
       "               \n",
       "                <tr>\n",
       "                    <td>'Literatura e outras artes'</td>\n",
       "                </tr>\n",
       "               \n",
       "            </tbody>\n",
       "        </table>\n",
       "        "
      ],
      "text/plain": [
       "<IPython.core.display.HTML object>"
      ]
     },
     "metadata": {},
     "output_type": "display_data"
    },
    {
     "data": {
      "text/html": [
       "\n",
       "        <table>\n",
       "            <thead>\n",
       "                <tr>\n",
       "                    <th scope=\"col\">Anderson Gonçalves da Silva </th>\n",
       "                </tr>\n",
       "            </thead>\n",
       "            <tbody>\n",
       "        \n",
       "                <tr>\n",
       "                    <td>'Literatura e sociedade'</td>\n",
       "                </tr>\n",
       "               \n",
       "                <tr>\n",
       "                    <td>'Estética teoria do drama e dramaturgia moderna'</td>\n",
       "                </tr>\n",
       "               \n",
       "            </tbody>\n",
       "        </table>\n",
       "        "
      ],
      "text/plain": [
       "<IPython.core.display.HTML object>"
      ]
     },
     "metadata": {},
     "output_type": "display_data"
    },
    {
     "data": {
      "text/html": [
       "\n",
       "        <table>\n",
       "            <thead>\n",
       "                <tr>\n",
       "                    <th scope=\"col\">Andrea Saad Hossne </th>\n",
       "                </tr>\n",
       "            </thead>\n",
       "            <tbody>\n",
       "        \n",
       "                <tr>\n",
       "                    <td>'Membro suplente do Comitê de Ética em Pesquisa com Seres Humanos (CEPH - FFLCH)'</td>\n",
       "                </tr>\n",
       "               \n",
       "                <tr>\n",
       "                    <td>'Literatura e Sociedade' </td>\n",
       "                </tr>\n",
       "               \n",
       "                <tr>\n",
       "                    <td>'Formas e Gêneros Literários' </td>\n",
       "                </tr>\n",
       "               \n",
       "                <tr>\n",
       "                    <td>'Estudos Comparatistas da Literatura'</td>\n",
       "                </tr>\n",
       "               \n",
       "            </tbody>\n",
       "        </table>\n",
       "        "
      ],
      "text/plain": [
       "<IPython.core.display.HTML object>"
      ]
     },
     "metadata": {},
     "output_type": "display_data"
    },
    {
     "data": {
      "text/html": [
       "\n",
       "        <table>\n",
       "            <thead>\n",
       "                <tr>\n",
       "                    <th scope=\"col\">Ariovaldo José Vidal </th>\n",
       "                </tr>\n",
       "            </thead>\n",
       "            <tbody>\n",
       "        \n",
       "                <tr>\n",
       "                    <td>'Teoria dos gêneros: prosa moderna no Brasil',</td>\n",
       "                </tr>\n",
       "               \n",
       "                <tr>\n",
       "                    <td>'Teoria literária'</td>\n",
       "                </tr>\n",
       "               \n",
       "                <tr>\n",
       "                    <td>'Teoria da narrativa'</td>\n",
       "                </tr>\n",
       "               \n",
       "            </tbody>\n",
       "        </table>\n",
       "        "
      ],
      "text/plain": [
       "<IPython.core.display.HTML object>"
      ]
     },
     "metadata": {},
     "output_type": "display_data"
    },
    {
     "data": {
      "text/html": [
       "\n",
       "        <table>\n",
       "            <thead>\n",
       "                <tr>\n",
       "                    <th scope=\"col\">Betina Bischof </th>\n",
       "                </tr>\n",
       "            </thead>\n",
       "            <tbody>\n",
       "        \n",
       "                <tr>\n",
       "                    <td>'Literatura Comparada (Literatura e outras artes)'</td>\n",
       "                </tr>\n",
       "               \n",
       "                <tr>\n",
       "                    <td>'Teoria dos gêneros literários'</td>\n",
       "                </tr>\n",
       "               \n",
       "                <tr>\n",
       "                    <td>'Lírica moderna'</td>\n",
       "                </tr>\n",
       "               \n",
       "                <tr>\n",
       "                    <td>'Literatura e sociedade'</td>\n",
       "                </tr>\n",
       "               \n",
       "            </tbody>\n",
       "        </table>\n",
       "        "
      ],
      "text/plain": [
       "<IPython.core.display.HTML object>"
      ]
     },
     "metadata": {},
     "output_type": "display_data"
    },
    {
     "data": {
      "text/html": [
       "\n",
       "        <table>\n",
       "            <thead>\n",
       "                <tr>\n",
       "                    <th scope=\"col\">Cláudia Maria de Vasconcellos </th>\n",
       "                </tr>\n",
       "            </thead>\n",
       "            <tbody>\n",
       "        \n",
       "                <tr>\n",
       "                    <td>'Literatura comparada'</td>\n",
       "                </tr>\n",
       "               \n",
       "                <tr>\n",
       "                    <td>'Literatura dramática'</td>\n",
       "                </tr>\n",
       "               \n",
       "                <tr>\n",
       "                    <td>'Literatura e outros saberes'</td>\n",
       "                </tr>\n",
       "               \n",
       "            </tbody>\n",
       "        </table>\n",
       "        "
      ],
      "text/plain": [
       "<IPython.core.display.HTML object>"
      ]
     },
     "metadata": {},
     "output_type": "display_data"
    },
    {
     "data": {
      "text/html": [
       "\n",
       "        <table>\n",
       "            <thead>\n",
       "                <tr>\n",
       "                    <th scope=\"col\">Edu Teruki Otsuka </th>\n",
       "                </tr>\n",
       "            </thead>\n",
       "            <tbody>\n",
       "        \n",
       "                <tr>\n",
       "                    <td>'Crítica e História Literária'</td>\n",
       "                </tr>\n",
       "               \n",
       "                <tr>\n",
       "                    <td>'Literatura e Sociedade'</td>\n",
       "                </tr>\n",
       "               \n",
       "            </tbody>\n",
       "        </table>\n",
       "        "
      ],
      "text/plain": [
       "<IPython.core.display.HTML object>"
      ]
     },
     "metadata": {},
     "output_type": "display_data"
    },
    {
     "data": {
      "text/html": [
       "\n",
       "        <table>\n",
       "            <thead>\n",
       "                <tr>\n",
       "                    <th scope=\"col\">Fabio Rigatto de Souza Andrade </th>\n",
       "                </tr>\n",
       "            </thead>\n",
       "            <tbody>\n",
       "        \n",
       "                <tr>\n",
       "                    <td>'Teoria Literária'</td>\n",
       "                </tr>\n",
       "               \n",
       "                <tr>\n",
       "                    <td>'Literaturas Estrangeiras Modernas'</td>\n",
       "                </tr>\n",
       "               \n",
       "                <tr>\n",
       "                    <td>'Literatura Brasileira Moderna'</td>\n",
       "                </tr>\n",
       "               \n",
       "                <tr>\n",
       "                    <td>'Teoria Literária'</td>\n",
       "                </tr>\n",
       "               \n",
       "                <tr>\n",
       "                    <td>'Poesia Brasileira Moderna'</td>\n",
       "                </tr>\n",
       "               \n",
       "                <tr>\n",
       "                    <td>'Formas e gêneros literários'</td>\n",
       "                </tr>\n",
       "               \n",
       "                <tr>\n",
       "                    <td>'Literatura e sociedade'</td>\n",
       "                </tr>\n",
       "               \n",
       "                <tr>\n",
       "                    <td>'Narrativa e teatro contemporâneo'</td>\n",
       "                </tr>\n",
       "               \n",
       "            </tbody>\n",
       "        </table>\n",
       "        "
      ],
      "text/plain": [
       "<IPython.core.display.HTML object>"
      ]
     },
     "metadata": {},
     "output_type": "display_data"
    },
    {
     "data": {
      "text/html": [
       "\n",
       "        <table>\n",
       "            <thead>\n",
       "                <tr>\n",
       "                    <th scope=\"col\">Jorge Mattos Brito de Almeida </th>\n",
       "                </tr>\n",
       "            </thead>\n",
       "            <tbody>\n",
       "        \n",
       "                <tr>\n",
       "                    <td>'Formas e gêneros literários'</td>\n",
       "                </tr>\n",
       "               \n",
       "                <tr>\n",
       "                    <td>'Correntes teóricas e críticas'</td>\n",
       "                </tr>\n",
       "               \n",
       "                <tr>\n",
       "                    <td>'Literatura comparada'</td>\n",
       "                </tr>\n",
       "               \n",
       "                <tr>\n",
       "                    <td>'Estética'</td>\n",
       "                </tr>\n",
       "               \n",
       "            </tbody>\n",
       "        </table>\n",
       "        "
      ],
      "text/plain": [
       "<IPython.core.display.HTML object>"
      ]
     },
     "metadata": {},
     "output_type": "display_data"
    },
    {
     "data": {
      "text/html": [
       "\n",
       "        <table>\n",
       "            <thead>\n",
       "                <tr>\n",
       "                    <th scope=\"col\">Julio Augusto Xavier Galharte</th>\n",
       "                </tr>\n",
       "            </thead>\n",
       "            <tbody>\n",
       "        \n",
       "            </tbody>\n",
       "        </table>\n",
       "        "
      ],
      "text/plain": [
       "<IPython.core.display.HTML object>"
      ]
     },
     "metadata": {},
     "output_type": "display_data"
    },
    {
     "data": {
      "text/html": [
       "\n",
       "        <table>\n",
       "            <thead>\n",
       "                <tr>\n",
       "                    <th scope=\"col\">Marcelo Pen Parreira </th>\n",
       "                </tr>\n",
       "            </thead>\n",
       "            <tbody>\n",
       "        \n",
       "                <tr>\n",
       "                    <td>'Estudos Comparatistas de Literatura'</td>\n",
       "                </tr>\n",
       "               \n",
       "                <tr>\n",
       "                    <td>'Literatura e Sociedade'</td>\n",
       "                </tr>\n",
       "               \n",
       "                <tr>\n",
       "                    <td>'Literatura anglo-americana'</td>\n",
       "                </tr>\n",
       "               \n",
       "                <tr>\n",
       "                    <td>'Realismo'</td>\n",
       "                </tr>\n",
       "               \n",
       "            </tbody>\n",
       "        </table>\n",
       "        "
      ],
      "text/plain": [
       "<IPython.core.display.HTML object>"
      ]
     },
     "metadata": {},
     "output_type": "display_data"
    },
    {
     "data": {
      "text/html": [
       "\n",
       "        <table>\n",
       "            <thead>\n",
       "                <tr>\n",
       "                    <th scope=\"col\">Marcos Piason Natali </th>\n",
       "                </tr>\n",
       "            </thead>\n",
       "            <tbody>\n",
       "        \n",
       "                <tr>\n",
       "                    <td>'Narrativa latino-americana contemporânea'</td>\n",
       "                </tr>\n",
       "               \n",
       "                <tr>\n",
       "                    <td>'Literatura e ética'</td>\n",
       "                </tr>\n",
       "               \n",
       "                <tr>\n",
       "                    <td>'Desconstrução'</td>\n",
       "                </tr>\n",
       "               \n",
       "                <tr>\n",
       "                    <td>'Literatura comparada'</td>\n",
       "                </tr>\n",
       "               \n",
       "                <tr>\n",
       "                    <td>'Teoria pós-colonial'</td>\n",
       "                </tr>\n",
       "               \n",
       "                <tr>\n",
       "                    <td>'Teorias críticas da raça'</td>\n",
       "                </tr>\n",
       "               \n",
       "                <tr>\n",
       "                    <td>'Estudos comparatistas da literatura'</td>\n",
       "                </tr>\n",
       "               \n",
       "                <tr>\n",
       "                    <td>'Literatura e outros saberes'</td>\n",
       "                </tr>\n",
       "               \n",
       "            </tbody>\n",
       "        </table>\n",
       "        "
      ],
      "text/plain": [
       "<IPython.core.display.HTML object>"
      ]
     },
     "metadata": {},
     "output_type": "display_data"
    },
    {
     "data": {
      "text/html": [
       "\n",
       "        <table>\n",
       "            <thead>\n",
       "                <tr>\n",
       "                    <th scope=\"col\">Marcus Vinicius Mazzari </th>\n",
       "                </tr>\n",
       "            </thead>\n",
       "            <tbody>\n",
       "        \n",
       "                <tr>\n",
       "                    <td>'Estudos comparatistas da literatura'</td>\n",
       "                </tr>\n",
       "               \n",
       "                <tr>\n",
       "                    <td>'Literatura e sociedade'</td>\n",
       "                </tr>\n",
       "               \n",
       "            </tbody>\n",
       "        </table>\n",
       "        "
      ],
      "text/plain": [
       "<IPython.core.display.HTML object>"
      ]
     },
     "metadata": {},
     "output_type": "display_data"
    },
    {
     "data": {
      "text/html": [
       "\n",
       "        <table>\n",
       "            <thead>\n",
       "                <tr>\n",
       "                    <th scope=\"col\">Marta Kawano </th>\n",
       "                </tr>\n",
       "            </thead>\n",
       "            <tbody>\n",
       "        \n",
       "                <tr>\n",
       "                    <td>'Literatura comparada' </td>\n",
       "                </tr>\n",
       "               \n",
       "                <tr>\n",
       "                    <td>'Formas e gêneros literário' </td>\n",
       "                </tr>\n",
       "               \n",
       "                <tr>\n",
       "                    <td>'Literatura e outras artes' 'Crítica literária'</td>\n",
       "                </tr>\n",
       "               \n",
       "                <tr>\n",
       "                    <td>'Romantismo (história)'</td>\n",
       "                </tr>\n",
       "               \n",
       "            </tbody>\n",
       "        </table>\n",
       "        "
      ],
      "text/plain": [
       "<IPython.core.display.HTML object>"
      ]
     },
     "metadata": {},
     "output_type": "display_data"
    },
    {
     "data": {
      "text/html": [
       "\n",
       "        <table>\n",
       "            <thead>\n",
       "                <tr>\n",
       "                    <th scope=\"col\">Roberto Zular </th>\n",
       "                </tr>\n",
       "            </thead>\n",
       "            <tbody>\n",
       "        \n",
       "                <tr>\n",
       "                    <td>'Poesia moderna e contemporânea'</td>\n",
       "                </tr>\n",
       "               \n",
       "                <tr>\n",
       "                    <td>'Crítica genética'</td>\n",
       "                </tr>\n",
       "               \n",
       "            </tbody>\n",
       "        </table>\n",
       "        "
      ],
      "text/plain": [
       "<IPython.core.display.HTML object>"
      ]
     },
     "metadata": {},
     "output_type": "display_data"
    },
    {
     "data": {
      "text/html": [
       "\n",
       "        <table>\n",
       "            <thead>\n",
       "                <tr>\n",
       "                    <th scope=\"col\">Samuel de Vasconcelos Titan Junior </th>\n",
       "                </tr>\n",
       "            </thead>\n",
       "            <tbody>\n",
       "        \n",
       "                <tr>\n",
       "                    <td>'Literatura e sociedade'</td>\n",
       "                </tr>\n",
       "               \n",
       "                <tr>\n",
       "                    <td>'Teoria dos gêneros'</td>\n",
       "                </tr>\n",
       "               \n",
       "                <tr>\n",
       "                    <td>'Tradução literária'</td>\n",
       "                </tr>\n",
       "               \n",
       "            </tbody>\n",
       "        </table>\n",
       "        "
      ],
      "text/plain": [
       "<IPython.core.display.HTML object>"
      ]
     },
     "metadata": {},
     "output_type": "display_data"
    },
    {
     "data": {
      "text/html": [
       "\n",
       "        <table>\n",
       "            <thead>\n",
       "                <tr>\n",
       "                    <th scope=\"col\">Viviana Bosi </th>\n",
       "                </tr>\n",
       "            </thead>\n",
       "            <tbody>\n",
       "        \n",
       "                <tr>\n",
       "                    <td>'Poesia norte-americana contemporânea',</td>\n",
       "                </tr>\n",
       "               \n",
       "                <tr>\n",
       "                    <td>'Literatura e Sociedade - Poesia brasileira à volta dos anos 1960 e 70'</td>\n",
       "                </tr>\n",
       "               \n",
       "            </tbody>\n",
       "        </table>\n",
       "        "
      ],
      "text/plain": [
       "<IPython.core.display.HTML object>"
      ]
     },
     "metadata": {},
     "output_type": "display_data"
    },
    {
     "data": {
      "text/html": [
       "\n",
       "        <table>\n",
       "            <thead>\n",
       "                <tr>\n",
       "                    <th scope=\"col\">Alfredo Pereira de Queiroz Filho </th>\n",
       "                </tr>\n",
       "            </thead>\n",
       "            <tbody>\n",
       "        \n",
       "                <tr>\n",
       "                    <td>'Representação e análise espaço-temporal'</td>\n",
       "                </tr>\n",
       "               \n",
       "                <tr>\n",
       "                    <td>'Representação, análise espacial e modelos'</td>\n",
       "                </tr>\n",
       "               \n",
       "            </tbody>\n",
       "        </table>\n",
       "        "
      ],
      "text/plain": [
       "<IPython.core.display.HTML object>"
      ]
     },
     "metadata": {},
     "output_type": "display_data"
    },
    {
     "data": {
      "text/html": [
       "\n",
       "        <table>\n",
       "            <thead>\n",
       "                <tr>\n",
       "                    <th scope=\"col\">Andre Roberto Martin </th>\n",
       "                </tr>\n",
       "            </thead>\n",
       "            <tbody>\n",
       "        \n",
       "                <tr>\n",
       "                    <td>'Geografia das Fronteiras'</td>\n",
       "                </tr>\n",
       "               \n",
       "                <tr>\n",
       "                    <td>'Pensamento Geopolítico Brasileiro'</td>\n",
       "                </tr>\n",
       "               \n",
       "                <tr>\n",
       "                    <td>'Federalismo e Regionalismo Político no Brasil'</td>\n",
       "                </tr>\n",
       "               \n",
       "                <tr>\n",
       "                    <td>'Geopolítica do Poder Mundial'</td>\n",
       "                </tr>\n",
       "               \n",
       "                <tr>\n",
       "                    <td>'Integração Regional Latino-americana'</td>\n",
       "                </tr>\n",
       "               \n",
       "                <tr>\n",
       "                    <td>'Expressões Territoriais Contemporâneas'</td>\n",
       "                </tr>\n",
       "               \n",
       "                <tr>\n",
       "                    <td>'Geografia Brasileira: História e Política'</td>\n",
       "                </tr>\n",
       "               \n",
       "            </tbody>\n",
       "        </table>\n",
       "        "
      ],
      "text/plain": [
       "<IPython.core.display.HTML object>"
      ]
     },
     "metadata": {},
     "output_type": "display_data"
    },
    {
     "data": {
      "text/html": [
       "\n",
       "        <table>\n",
       "            <thead>\n",
       "                <tr>\n",
       "                    <th scope=\"col\">Andreas Attila de Wolinsk Miklos </th>\n",
       "                </tr>\n",
       "            </thead>\n",
       "            <tbody>\n",
       "        \n",
       "                <tr>\n",
       "                    <td>'Funcionamento biodinâmico da paisagem'</td>\n",
       "                </tr>\n",
       "               \n",
       "                <tr>\n",
       "                    <td>'Funcionamento hidrobiogeoquímico de bacias hidrográficas'</td>\n",
       "                </tr>\n",
       "               \n",
       "                <tr>\n",
       "                    <td>'Agroecologia'</td>\n",
       "                </tr>\n",
       "               \n",
       "                <tr>\n",
       "                    <td>'Agricultura sustentável, ecológica e orgânica'</td>\n",
       "                </tr>\n",
       "               \n",
       "                <tr>\n",
       "                    <td>'Pedologia, Pedobiologia e Análise estrutural da Cobertura Pedológica'</td>\n",
       "                </tr>\n",
       "               \n",
       "                <tr>\n",
       "                    <td>'Agricultura Biodinâmica'</td>\n",
       "                </tr>\n",
       "               \n",
       "                <tr>\n",
       "                    <td>'Percepção da Paisagem, Fenomelogia de Goethe e Antroposofia'</td>\n",
       "                </tr>\n",
       "               \n",
       "            </tbody>\n",
       "        </table>\n",
       "        "
      ],
      "text/plain": [
       "<IPython.core.display.HTML object>"
      ]
     },
     "metadata": {},
     "output_type": "display_data"
    },
    {
     "data": {
      "text/html": [
       "\n",
       "        <table>\n",
       "            <thead>\n",
       "                <tr>\n",
       "                    <th scope=\"col\">Anselmo Alfredo </th>\n",
       "                </tr>\n",
       "            </thead>\n",
       "            <tbody>\n",
       "        \n",
       "                <tr>\n",
       "                    <td>'Modernização e Industrialização Brasileira: estudos e debates na Geografia'</td>\n",
       "                </tr>\n",
       "               \n",
       "                <tr>\n",
       "                    <td>'A Questão Agrária no Brasil'</td>\n",
       "                </tr>\n",
       "               \n",
       "                <tr>\n",
       "                    <td>'Espaço Tempo e Vida Cotidiana no Urbano'</td>\n",
       "                </tr>\n",
       "               \n",
       "            </tbody>\n",
       "        </table>\n",
       "        "
      ],
      "text/plain": [
       "<IPython.core.display.HTML object>"
      ]
     },
     "metadata": {},
     "output_type": "display_data"
    },
    {
     "data": {
      "text/html": [
       "\n",
       "        <table>\n",
       "            <thead>\n",
       "                <tr>\n",
       "                    <th scope=\"col\">Bianca Carvalho Vieira </th>\n",
       "                </tr>\n",
       "            </thead>\n",
       "            <tbody>\n",
       "        \n",
       "                <tr>\n",
       "                    <td>'Diagnóstico e avaliação dos impactos ambientais causados por diferentes tipos de uso do solo no município de Ourinhos (SP): uma ferramenta para planejamento territorial.'</td>\n",
       "                </tr>\n",
       "               \n",
       "                <tr>\n",
       "                    <td>'Avaliação da suscetibilidade a escorregamentos translacionais rasos na Serra do Mar (SP) a partir da aplicação de modelos matemáticos de previsão.'</td>\n",
       "                </tr>\n",
       "               \n",
       "            </tbody>\n",
       "        </table>\n",
       "        "
      ],
      "text/plain": [
       "<IPython.core.display.HTML object>"
      ]
     },
     "metadata": {},
     "output_type": "display_data"
    },
    {
     "data": {
      "text/html": [
       "\n",
       "        <table>\n",
       "            <thead>\n",
       "                <tr>\n",
       "                    <th scope=\"col\">Carlos de Almeida Toledo</th>\n",
       "                </tr>\n",
       "            </thead>\n",
       "            <tbody>\n",
       "        \n",
       "                <tr>\n",
       "                    <td>'Território'</td>\n",
       "                </tr>\n",
       "               \n",
       "                <tr>\n",
       "                    <td>'Região e Estado nacional'</td>\n",
       "                </tr>\n",
       "               \n",
       "                <tr>\n",
       "                    <td>'Migrações'</td>\n",
       "                </tr>\n",
       "               \n",
       "                <tr>\n",
       "                    <td>'Mobilidade do Trabalho'</td>\n",
       "                </tr>\n",
       "               \n",
       "                <tr>\n",
       "                    <td>'Crítica da Economia Política' </td>\n",
       "                </tr>\n",
       "               \n",
       "                <tr>\n",
       "                    <td>'Imperialismo' </td>\n",
       "                </tr>\n",
       "               \n",
       "            </tbody>\n",
       "        </table>\n",
       "        "
      ],
      "text/plain": [
       "<IPython.core.display.HTML object>"
      ]
     },
     "metadata": {},
     "output_type": "display_data"
    },
    {
     "data": {
      "text/html": [
       "\n",
       "        <table>\n",
       "            <thead>\n",
       "                <tr>\n",
       "                    <th scope=\"col\">Cleide Rodrigues' </th>\n",
       "                </tr>\n",
       "            </thead>\n",
       "            <tbody>\n",
       "        \n",
       "                <tr>\n",
       "                    <td>'Geomorfologia'</td>\n",
       "                </tr>\n",
       "               \n",
       "                <tr>\n",
       "                    <td>'Geomorfologia Aplicada'</td>\n",
       "                </tr>\n",
       "               \n",
       "                <tr>\n",
       "                    <td>'Hidrogeografia'</td>\n",
       "                </tr>\n",
       "               \n",
       "                <tr>\n",
       "                    <td>'Geomorfologia Fluvial'</td>\n",
       "                </tr>\n",
       "               \n",
       "            </tbody>\n",
       "        </table>\n",
       "        "
      ],
      "text/plain": [
       "<IPython.core.display.HTML object>"
      ]
     },
     "metadata": {},
     "output_type": "display_data"
    },
    {
     "data": {
      "text/html": [
       "\n",
       "        <table>\n",
       "            <thead>\n",
       "                <tr>\n",
       "                    <th scope=\"col\">César Ricardo Simoni Santos </th>\n",
       "                </tr>\n",
       "            </thead>\n",
       "            <tbody>\n",
       "        \n",
       "                <tr>\n",
       "                    <td>'GESP - Grupo de Geografia Urbana Crítica Radical'</td>\n",
       "                </tr>\n",
       "               \n",
       "                <tr>\n",
       "                    <td>'Grupo de Teoria Urbana Crítica do IEA'</td>\n",
       "                </tr>\n",
       "               \n",
       "                <tr>\n",
       "                    <td>'Coordenação do Grupo LIMIARES - Limites da Acumulação e Reprodução do Espaço'</td>\n",
       "                </tr>\n",
       "               \n",
       "            </tbody>\n",
       "        </table>\n",
       "        "
      ],
      "text/plain": [
       "<IPython.core.display.HTML object>"
      ]
     },
     "metadata": {},
     "output_type": "display_data"
    },
    {
     "data": {
      "text/html": [
       "\n",
       "        <table>\n",
       "            <thead>\n",
       "                <tr>\n",
       "                    <th scope=\"col\">Déborah de Oliveira </th>\n",
       "                </tr>\n",
       "            </thead>\n",
       "            <tbody>\n",
       "        \n",
       "                <tr>\n",
       "                    <td>'Educação em solos na educação básica.'</td>\n",
       "                </tr>\n",
       "               \n",
       "                <tr>\n",
       "                    <td>'As capturas fluviais e sua relação com os solos.'</td>\n",
       "                </tr>\n",
       "               \n",
       "            </tbody>\n",
       "        </table>\n",
       "        "
      ],
      "text/plain": [
       "<IPython.core.display.HTML object>"
      ]
     },
     "metadata": {},
     "output_type": "display_data"
    },
    {
     "data": {
      "text/html": [
       "\n",
       "        <table>\n",
       "            <thead>\n",
       "                <tr>\n",
       "                    <th scope=\"col\">Eduardo Donizeti Girotto </th>\n",
       "                </tr>\n",
       "            </thead>\n",
       "            <tbody>\n",
       "        \n",
       "                <tr>\n",
       "                    <td>'Ensino de Geografia e Formação Docente'</td>\n",
       "                </tr>\n",
       "               \n",
       "                <tr>\n",
       "                    <td>'A relação entre a Geografia escolar e acadêmica em três períodos da história da geografia no Brasil'</td>\n",
       "                </tr>\n",
       "               \n",
       "                <tr>\n",
       "                    <td>'Atlas da Educação Pública do Estado de São Paulo'</td>\n",
       "                </tr>\n",
       "               \n",
       "            </tbody>\n",
       "        </table>\n",
       "        "
      ],
      "text/plain": [
       "<IPython.core.display.HTML object>"
      ]
     },
     "metadata": {},
     "output_type": "display_data"
    },
    {
     "data": {
      "text/html": [
       "\n",
       "        <table>\n",
       "            <thead>\n",
       "                <tr>\n",
       "                    <th scope=\"col\">Elvio Rodrigues Martins </th>\n",
       "                </tr>\n",
       "            </thead>\n",
       "            <tbody>\n",
       "        \n",
       "                <tr>\n",
       "                    <td>'Epistemologia e História do Pensamento Geográfico'</td>\n",
       "                </tr>\n",
       "               \n",
       "                <tr>\n",
       "                    <td>'Geografia  Urbana e Regional'</td>\n",
       "                </tr>\n",
       "               \n",
       "                <tr>\n",
       "                    <td>'Ontologia em Geografia e seus Fundamentos Empíricos'</td>\n",
       "                </tr>\n",
       "               \n",
       "            </tbody>\n",
       "        </table>\n",
       "        "
      ],
      "text/plain": [
       "<IPython.core.display.HTML object>"
      ]
     },
     "metadata": {},
     "output_type": "display_data"
    },
    {
     "data": {
      "text/html": [
       "\n",
       "        <table>\n",
       "            <thead>\n",
       "                <tr>\n",
       "                    <th scope=\"col\">Emerson Galvani </th>\n",
       "                </tr>\n",
       "            </thead>\n",
       "            <tbody>\n",
       "        \n",
       "                <tr>\n",
       "                    <td>'Climatologia Geográfica'</td>\n",
       "                </tr>\n",
       "               \n",
       "                <tr>\n",
       "                    <td>'Microclimatologia'</td>\n",
       "                </tr>\n",
       "               \n",
       "                <tr>\n",
       "                    <td>'Climatologia'</td>\n",
       "                </tr>\n",
       "               \n",
       "                <tr>\n",
       "                    <td>'Bioclimatologia'</td>\n",
       "                </tr>\n",
       "               \n",
       "            </tbody>\n",
       "        </table>\n",
       "        "
      ],
      "text/plain": [
       "<IPython.core.display.HTML object>"
      ]
     },
     "metadata": {},
     "output_type": "display_data"
    },
    {
     "data": {
      "text/html": [
       "\n",
       "        <table>\n",
       "            <thead>\n",
       "                <tr>\n",
       "                    <th scope=\"col\">Fabio Betioli Contel </th>\n",
       "                </tr>\n",
       "            </thead>\n",
       "            <tbody>\n",
       "        \n",
       "                <tr>\n",
       "                    <td>'Geografia econômica'</td>\n",
       "                </tr>\n",
       "               \n",
       "                <tr>\n",
       "                    <td>'Geografia das finanças'</td>\n",
       "                </tr>\n",
       "               \n",
       "                <tr>\n",
       "                    <td>'Geografia Regional'</td>\n",
       "                </tr>\n",
       "               \n",
       "                <tr>\n",
       "                    <td>'Geografia Urbana'</td>\n",
       "                </tr>\n",
       "               \n",
       "            </tbody>\n",
       "        </table>\n",
       "        "
      ],
      "text/plain": [
       "<IPython.core.display.HTML object>"
      ]
     },
     "metadata": {},
     "output_type": "display_data"
    },
    {
     "data": {
      "text/html": [
       "\n",
       "        <table>\n",
       "            <thead>\n",
       "                <tr>\n",
       "                    <th scope=\"col\">Fernanda Padovesi Fonseca </th>\n",
       "                </tr>\n",
       "            </thead>\n",
       "            <tbody>\n",
       "        \n",
       "                <tr>\n",
       "                    <td>'Cartografia'</td>\n",
       "                </tr>\n",
       "               \n",
       "                <tr>\n",
       "                    <td>'Cartografia histórica'</td>\n",
       "                </tr>\n",
       "               \n",
       "                <tr>\n",
       "                    <td>'Ensino de Cartografia'</td>\n",
       "                </tr>\n",
       "               \n",
       "                <tr>\n",
       "                    <td>'Ensino de Geografia'</td>\n",
       "                </tr>\n",
       "               \n",
       "            </tbody>\n",
       "        </table>\n",
       "        "
      ],
      "text/plain": [
       "<IPython.core.display.HTML object>"
      ]
     },
     "metadata": {},
     "output_type": "display_data"
    },
    {
     "data": {
      "text/html": [
       "\n",
       "        <table>\n",
       "            <thead>\n",
       "                <tr>\n",
       "                    <th scope=\"col\">Fernando Nadal Junqueira Villela </th>\n",
       "                </tr>\n",
       "            </thead>\n",
       "            <tbody>\n",
       "        \n",
       "                <tr>\n",
       "                    <td>'Instrumentos de Investigação do Meio Físico'</td>\n",
       "                </tr>\n",
       "               \n",
       "                <tr>\n",
       "                    <td>'Análise Geomorfológica'</td>\n",
       "                </tr>\n",
       "               \n",
       "                <tr>\n",
       "                    <td>'Análise Morfopedológica'</td>\n",
       "                </tr>\n",
       "               \n",
       "                <tr>\n",
       "                    <td>'Análise de Bacias Hidrográficas'</td>\n",
       "                </tr>\n",
       "               \n",
       "                <tr>\n",
       "                    <td>'Análise da Relação Rocha/Solo/Relevo'</td>\n",
       "                </tr>\n",
       "               \n",
       "                <tr>\n",
       "                    <td>'Análise da Relação Solo/Vegetação'</td>\n",
       "                </tr>\n",
       "               \n",
       "            </tbody>\n",
       "        </table>\n",
       "        "
      ],
      "text/plain": [
       "<IPython.core.display.HTML object>"
      ]
     },
     "metadata": {},
     "output_type": "display_data"
    },
    {
     "data": {
      "text/html": [
       "\n",
       "        <table>\n",
       "            <thead>\n",
       "                <tr>\n",
       "                    <th scope=\"col\">Fernando Shinji Kawakubo </th>\n",
       "                </tr>\n",
       "            </thead>\n",
       "            <tbody>\n",
       "        \n",
       "                <tr>\n",
       "                    <td>'Sensoriamento remoto'</td>\n",
       "                </tr>\n",
       "               \n",
       "                <tr>\n",
       "                    <td>'Sistema de Informação Geográfica (SIG)'</td>\n",
       "                </tr>\n",
       "               \n",
       "                <tr>\n",
       "                    <td>'Uso da terra/cobertura vegetal'</td>\n",
       "                </tr>\n",
       "               \n",
       "                <tr>\n",
       "                    <td>'Análise de mistura espectral'</td>\n",
       "                </tr>\n",
       "               \n",
       "                <tr>\n",
       "                    <td>'Floresta aleatória'</td>\n",
       "                </tr>\n",
       "               \n",
       "                <tr>\n",
       "                    <td>'Classificação de imagens e superfícies impermeáveis'</td>\n",
       "                </tr>\n",
       "               \n",
       "            </tbody>\n",
       "        </table>\n",
       "        "
      ],
      "text/plain": [
       "<IPython.core.display.HTML object>"
      ]
     },
     "metadata": {},
     "output_type": "display_data"
    },
    {
     "data": {
      "text/html": [
       "\n",
       "        <table>\n",
       "            <thead>\n",
       "                <tr>\n",
       "                    <th scope=\"col\">Julio Cesar Suzuki </th>\n",
       "                </tr>\n",
       "            </thead>\n",
       "            <tbody>\n",
       "        \n",
       "                <tr>\n",
       "                    <td>'Teoria e Método em Geografia'</td>\n",
       "                </tr>\n",
       "               \n",
       "                <tr>\n",
       "                    <td>'Agricultura e Urbanização na América Latina'</td>\n",
       "                </tr>\n",
       "               \n",
       "                <tr>\n",
       "                    <td>'Espaço, Literatura e Arte'</td>\n",
       "                </tr>\n",
       "               \n",
       "                <tr>\n",
       "                    <td>'Populações Tradicionais na América Latina'</td>\n",
       "                </tr>\n",
       "               \n",
       "            </tbody>\n",
       "        </table>\n",
       "        "
      ],
      "text/plain": [
       "<IPython.core.display.HTML object>"
      ]
     },
     "metadata": {},
     "output_type": "display_data"
    },
    {
     "data": {
      "text/html": [
       "\n",
       "        <table>\n",
       "            <thead>\n",
       "                <tr>\n",
       "                    <th scope=\"col\">Larissa Mies Bombardi </th>\n",
       "                </tr>\n",
       "            </thead>\n",
       "            <tbody>\n",
       "        \n",
       "                <tr>\n",
       "                    <td>'Geografia Agrária'</td>\n",
       "                </tr>\n",
       "               \n",
       "            </tbody>\n",
       "        </table>\n",
       "        "
      ],
      "text/plain": [
       "<IPython.core.display.HTML object>"
      ]
     },
     "metadata": {},
     "output_type": "display_data"
    },
    {
     "data": {
      "text/html": [
       "\n",
       "        <table>\n",
       "            <thead>\n",
       "                <tr>\n",
       "                    <th scope=\"col\">Lea Francesconi </th>\n",
       "                </tr>\n",
       "            </thead>\n",
       "            <tbody>\n",
       "        \n",
       "                <tr>\n",
       "                    <td>'Território, economia e dinâmicas regionais'</td>\n",
       "                </tr>\n",
       "               \n",
       "                <tr>\n",
       "                    <td>'Geografia, educação e ensino'</td>\n",
       "                </tr>\n",
       "               \n",
       "            </tbody>\n",
       "        </table>\n",
       "        "
      ],
      "text/plain": [
       "<IPython.core.display.HTML object>"
      ]
     },
     "metadata": {},
     "output_type": "display_data"
    },
    {
     "data": {
      "text/html": [
       "\n",
       "        <table>\n",
       "            <thead>\n",
       "                <tr>\n",
       "                    <th scope=\"col\">Ligia Vizeu Barrozo </th>\n",
       "                </tr>\n",
       "            </thead>\n",
       "            <tbody>\n",
       "        \n",
       "                <tr>\n",
       "                    <td>'Paisagem e planejamento ambiental - Ambiente e Saúde'</td>\n",
       "                </tr>\n",
       "               \n",
       "                <tr>\n",
       "                    <td>'Informação geográfica: Tratamento, representação e análise - Geocartografia: Temas e Métodos'</td>\n",
       "                </tr>\n",
       "               \n",
       "            </tbody>\n",
       "        </table>\n",
       "        "
      ],
      "text/plain": [
       "<IPython.core.display.HTML object>"
      ]
     },
     "metadata": {},
     "output_type": "display_data"
    },
    {
     "data": {
      "text/html": [
       "\n",
       "        <table>\n",
       "            <thead>\n",
       "                <tr>\n",
       "                    <th scope=\"col\">Luis Antonio Bittar Venturi </th>\n",
       "                </tr>\n",
       "            </thead>\n",
       "            <tbody>\n",
       "        \n",
       "                <tr>\n",
       "                    <td>'Linha Geral - Paisagem e Planejamento Ambiental'</td>\n",
       "                </tr>\n",
       "               \n",
       "                <tr>\n",
       "                    <td>'Geografia Física'</td>\n",
       "                </tr>\n",
       "               \n",
       "            </tbody>\n",
       "        </table>\n",
       "        "
      ],
      "text/plain": [
       "<IPython.core.display.HTML object>"
      ]
     },
     "metadata": {},
     "output_type": "display_data"
    },
    {
     "data": {
      "text/html": [
       "\n",
       "        <table>\n",
       "            <thead>\n",
       "                <tr>\n",
       "                    <th scope=\"col\">Manoel Fernandes de Sousa Neto </th>\n",
       "                </tr>\n",
       "            </thead>\n",
       "            <tbody>\n",
       "        \n",
       "                <tr>\n",
       "                    <td>'Geografia do Brasil'</td>\n",
       "                </tr>\n",
       "               \n",
       "                <tr>\n",
       "                    <td>'Geografia Histórica do Capitalismo'</td>\n",
       "                </tr>\n",
       "               \n",
       "                <tr>\n",
       "                    <td>'História da Cartografia'</td>\n",
       "                </tr>\n",
       "               \n",
       "                <tr>\n",
       "                    <td>'Ensino de Geografia'</td>\n",
       "                </tr>\n",
       "               \n",
       "            </tbody>\n",
       "        </table>\n",
       "        "
      ],
      "text/plain": [
       "<IPython.core.display.HTML object>"
      ]
     },
     "metadata": {},
     "output_type": "display_data"
    },
    {
     "data": {
      "text/html": [
       "\n",
       "        <table>\n",
       "            <thead>\n",
       "                <tr>\n",
       "                    <th scope=\"col\">Maria Elisa Siqueira Silva </th>\n",
       "                </tr>\n",
       "            </thead>\n",
       "            <tbody>\n",
       "        \n",
       "                <tr>\n",
       "                    <td>'Modelagem biosfera-atmosfera' </td>\n",
       "                </tr>\n",
       "               \n",
       "                <tr>\n",
       "                    <td>'Impacto atmosférico' </td>\n",
       "                </tr>\n",
       "               \n",
       "                <tr>\n",
       "                    <td>'Alteração da superfície'</td>\n",
       "                </tr>\n",
       "               \n",
       "            </tbody>\n",
       "        </table>\n",
       "        "
      ],
      "text/plain": [
       "<IPython.core.display.HTML object>"
      ]
     },
     "metadata": {},
     "output_type": "display_data"
    },
    {
     "data": {
      "text/html": [
       "\n",
       "        <table>\n",
       "            <thead>\n",
       "                <tr>\n",
       "                    <th scope=\"col\">Maria Mónica Arroyo </th>\n",
       "                </tr>\n",
       "            </thead>\n",
       "            <tbody>\n",
       "        \n",
       "                <tr>\n",
       "                    <td>'O comércio internacional na redefinição dos usos do território brasileiro: fragmentação e vulnerabilidade territorial'</td>\n",
       "                </tr>\n",
       "               \n",
       "                <tr>\n",
       "                    <td>'Usos do território brasileiro e mercado externo'</td>\n",
       "                </tr>\n",
       "               \n",
       "                <tr>\n",
       "                    <td>'Globalização'</td>\n",
       "                </tr>\n",
       "               \n",
       "                <tr>\n",
       "                    <td>'Regionalização' </td>\n",
       "                </tr>\n",
       "               \n",
       "                <tr>\n",
       "                    <td>'América Latina' </td>\n",
       "                </tr>\n",
       "               \n",
       "                <tr>\n",
       "                    <td>'Mercosul'</td>\n",
       "                </tr>\n",
       "               \n",
       "                <tr>\n",
       "                    <td>'Fronteiras'  </td>\n",
       "                </tr>\n",
       "               \n",
       "            </tbody>\n",
       "        </table>\n",
       "        "
      ],
      "text/plain": [
       "<IPython.core.display.HTML object>"
      ]
     },
     "metadata": {},
     "output_type": "display_data"
    },
    {
     "data": {
      "text/html": [
       "\n",
       "        <table>\n",
       "            <thead>\n",
       "                <tr>\n",
       "                    <th scope=\"col\">Marta Inez Medeiros Marques </th>\n",
       "                </tr>\n",
       "            </thead>\n",
       "            <tbody>\n",
       "        \n",
       "                <tr>\n",
       "                    <td>'Desenvolvimento Geográfico Desigual do Capitalismo no Campo: novas formas de expansão do capital, resistência camponesa, movimentos sociais e experiências alternativas',</td>\n",
       "                </tr>\n",
       "               \n",
       "                <tr>\n",
       "                    <td>'Desenvolvimento Geográfico Desigual do Capitalismo e Cotidiano: formas de trabalho e reprodução social dos trabalhadores no campo e na cidade'</td>\n",
       "                </tr>\n",
       "               \n",
       "            </tbody>\n",
       "        </table>\n",
       "        "
      ],
      "text/plain": [
       "<IPython.core.display.HTML object>"
      ]
     },
     "metadata": {},
     "output_type": "display_data"
    },
    {
     "data": {
      "text/html": [
       "\n",
       "        <table>\n",
       "            <thead>\n",
       "                <tr>\n",
       "                    <th scope=\"col\">Paula Cristiane Strina Juliasz </th>\n",
       "                </tr>\n",
       "            </thead>\n",
       "            <tbody>\n",
       "        \n",
       "                <tr>\n",
       "                    <td>'Geografia, Educação e Ensino'</td>\n",
       "                </tr>\n",
       "               \n",
       "                <tr>\n",
       "                    <td>'Geografia Humana'</td>\n",
       "                </tr>\n",
       "               \n",
       "            </tbody>\n",
       "        </table>\n",
       "        "
      ],
      "text/plain": [
       "<IPython.core.display.HTML object>"
      ]
     },
     "metadata": {},
     "output_type": "display_data"
    },
    {
     "data": {
      "text/html": [
       "\n",
       "        <table>\n",
       "            <thead>\n",
       "                <tr>\n",
       "                    <th scope=\"col\">Reinaldo Paul Pérez Machado </th>\n",
       "                </tr>\n",
       "            </thead>\n",
       "            <tbody>\n",
       "        \n",
       "                <tr>\n",
       "                    <td>'Cartografia de Fenômenos Cársicos'</td>\n",
       "                </tr>\n",
       "               \n",
       "                <tr>\n",
       "                    <td>'Cartografia, Geoprocessamento, Imagens e Representações do Espaço Geográfico'</td>\n",
       "                </tr>\n",
       "               \n",
       "            </tbody>\n",
       "        </table>\n",
       "        "
      ],
      "text/plain": [
       "<IPython.core.display.HTML object>"
      ]
     },
     "metadata": {},
     "output_type": "display_data"
    },
    {
     "data": {
      "text/html": [
       "\n",
       "        <table>\n",
       "            <thead>\n",
       "                <tr>\n",
       "                    <th scope=\"col\">Ricardo Augusto Felicio </th>\n",
       "                </tr>\n",
       "            </thead>\n",
       "            <tbody>\n",
       "        \n",
       "                <tr>\n",
       "                    <td>'Climatologia Geográfica'</td>\n",
       "                </tr>\n",
       "               \n",
       "                <tr>\n",
       "                    <td>'Antártida'</td>\n",
       "                </tr>\n",
       "               \n",
       "                <tr>\n",
       "                    <td>'Meteorologia e ciclones extratropicais que atuam no Brasil e no cinturão polar'</td>\n",
       "                </tr>\n",
       "               \n",
       "            </tbody>\n",
       "        </table>\n",
       "        "
      ],
      "text/plain": [
       "<IPython.core.display.HTML object>"
      ]
     },
     "metadata": {},
     "output_type": "display_data"
    },
    {
     "data": {
      "text/html": [
       "\n",
       "        <table>\n",
       "            <thead>\n",
       "                <tr>\n",
       "                    <th scope=\"col\">Ricardo Mendes Antas Junior </th>\n",
       "                </tr>\n",
       "            </thead>\n",
       "            <tbody>\n",
       "        \n",
       "                <tr>\n",
       "                    <td>'Planejamento territorial brasileiro: o poder soberano e a ação corporativa transnacional'</td>\n",
       "                </tr>\n",
       "               \n",
       "                <tr>\n",
       "                    <td>'Reestruturação urbana e refuncionalizações do espaço: o complexo industrial da saúde no Estado de São Paulo e suas relações com a urbanização contemporânea'</td>\n",
       "                </tr>\n",
       "               \n",
       "                <tr>\n",
       "                    <td>'O espaço geográfico como fonte material e não-formal do direito'</td>\n",
       "                </tr>\n",
       "               \n",
       "                <tr>\n",
       "                    <td>'A presença do complexo industrial da saúde na região metropolitana de São Paulo: uma análise por meio dos circuitos espaciais produtivos da saúde'</td>\n",
       "                </tr>\n",
       "               \n",
       "                <tr>\n",
       "                    <td>'Formação socioespacial, circuitos espaciais produtivos e a regulação híbrida do complexo industrial da saúde no Brasil'</td>\n",
       "                </tr>\n",
       "               \n",
       "            </tbody>\n",
       "        </table>\n",
       "        "
      ],
      "text/plain": [
       "<IPython.core.display.HTML object>"
      ]
     },
     "metadata": {},
     "output_type": "display_data"
    },
    {
     "data": {
      "text/html": [
       "\n",
       "        <table>\n",
       "            <thead>\n",
       "                <tr>\n",
       "                    <th scope=\"col\">Rita de Cassia Ariza da Cruz </th>\n",
       "                </tr>\n",
       "            </thead>\n",
       "            <tbody>\n",
       "        \n",
       "                <tr>\n",
       "                    <td>'Território, Economia e Dinâmicas Regionais'</td>\n",
       "                </tr>\n",
       "               \n",
       "            </tbody>\n",
       "        </table>\n",
       "        "
      ],
      "text/plain": [
       "<IPython.core.display.HTML object>"
      ]
     },
     "metadata": {},
     "output_type": "display_data"
    },
    {
     "data": {
      "text/html": [
       "\n",
       "        <table>\n",
       "            <thead>\n",
       "                <tr>\n",
       "                    <th scope=\"col\">Rodrigo Ramos Hospodar Felippe Valverde </th>\n",
       "                </tr>\n",
       "            </thead>\n",
       "            <tbody>\n",
       "        \n",
       "                <tr>\n",
       "                    <td>'Espaço público'</td>\n",
       "                </tr>\n",
       "               \n",
       "                <tr>\n",
       "                    <td>'Territorialidades'</td>\n",
       "                </tr>\n",
       "               \n",
       "                <tr>\n",
       "                    <td>'Indústrias culturais'</td>\n",
       "                </tr>\n",
       "               \n",
       "                <tr>\n",
       "                    <td>'Heterotopia'</td>\n",
       "                </tr>\n",
       "               \n",
       "                <tr>\n",
       "                    <td>'Guerra cultural'</td>\n",
       "                </tr>\n",
       "               \n",
       "            </tbody>\n",
       "        </table>\n",
       "        "
      ],
      "text/plain": [
       "<IPython.core.display.HTML object>"
      ]
     },
     "metadata": {},
     "output_type": "display_data"
    },
    {
     "data": {
      "text/html": [
       "\n",
       "        <table>\n",
       "            <thead>\n",
       "                <tr>\n",
       "                    <th scope=\"col\">Rubia Gomes Morato </th>\n",
       "                </tr>\n",
       "            </thead>\n",
       "            <tbody>\n",
       "        \n",
       "                <tr>\n",
       "                    <td>'Geoprocessamento aplicado à Avaliação Sócio-Econômica'</td>\n",
       "                </tr>\n",
       "               \n",
       "                <tr>\n",
       "                    <td>'Qualidade Ambiental em Áreas Urbanas'</td>\n",
       "                </tr>\n",
       "               \n",
       "                <tr>\n",
       "                    <td>'Cartografia Temática para a Caracterização Sócio-Econômica e Ambiental'</td>\n",
       "                </tr>\n",
       "               \n",
       "                <tr>\n",
       "                    <td>'Quantificação em Geografia'</td>\n",
       "                </tr>\n",
       "               \n",
       "                <tr>\n",
       "                    <td>'Obtenção de Índices de Qualidade Ambiental Urbana'</td>\n",
       "                </tr>\n",
       "               \n",
       "                <tr>\n",
       "                    <td>'Sensoriamento Remoto'</td>\n",
       "                </tr>\n",
       "               \n",
       "                <tr>\n",
       "                    <td>'Cartografia'</td>\n",
       "                </tr>\n",
       "               \n",
       "                <tr>\n",
       "                    <td>'Geoprocessamento'</td>\n",
       "                </tr>\n",
       "               \n",
       "            </tbody>\n",
       "        </table>\n",
       "        "
      ],
      "text/plain": [
       "<IPython.core.display.HTML object>"
      ]
     },
     "metadata": {},
     "output_type": "display_data"
    },
    {
     "data": {
      "text/html": [
       "\n",
       "        <table>\n",
       "            <thead>\n",
       "                <tr>\n",
       "                    <th scope=\"col\">Sidneide Manfredini </th>\n",
       "                </tr>\n",
       "            </thead>\n",
       "            <tbody>\n",
       "        \n",
       "                <tr>\n",
       "                    <td>'Dinâmica das relações solo-planta atmosfera'</td>\n",
       "                </tr>\n",
       "               \n",
       "                <tr>\n",
       "                    <td>'Grupo de Trabalho ( USP/UNICAMP/ Laboratório de Geologia do Quaternário, CNRS, França) para definição de diretrizes científicas de programas de pesquisa sobre o quaternário'</td>\n",
       "                </tr>\n",
       "               \n",
       "                <tr>\n",
       "                    <td>'Solos Urbanos: Funcionalidades e manejo'</td>\n",
       "                </tr>\n",
       "               \n",
       "                <tr>\n",
       "                    <td>'Sistemas agrícolas e desenvolvimento sócio ambiental'</td>\n",
       "                </tr>\n",
       "               \n",
       "            </tbody>\n",
       "        </table>\n",
       "        "
      ],
      "text/plain": [
       "<IPython.core.display.HTML object>"
      ]
     },
     "metadata": {},
     "output_type": "display_data"
    },
    {
     "data": {
      "text/html": [
       "\n",
       "        <table>\n",
       "            <thead>\n",
       "                <tr>\n",
       "                    <th scope=\"col\">Simone Scifoni </th>\n",
       "                </tr>\n",
       "            </thead>\n",
       "            <tbody>\n",
       "        \n",
       "                <tr>\n",
       "                    <td>'Pesquisadora do Gesp - Grupo de Geografia Urbana Crítica Radical. Coordenadora do Gesp: Profa. Ana Fani Alessandri Carlos. Site do Grupo:.'</td>\n",
       "                </tr>\n",
       "               \n",
       "                <tr>\n",
       "                    <td>'Lugares de memória operária na metrópole de São Paulo'</td>\n",
       "                </tr>\n",
       "               \n",
       "                <tr>\n",
       "                    <td>'Território do Interesse da Cultura e da paisagem (TICP) - Políticas culturais'</td>\n",
       "                </tr>\n",
       "               \n",
       "                <tr>\n",
       "                    <td>'Educação patrimonial'</td>\n",
       "                </tr>\n",
       "               \n",
       "            </tbody>\n",
       "        </table>\n",
       "        "
      ],
      "text/plain": [
       "<IPython.core.display.HTML object>"
      ]
     },
     "metadata": {},
     "output_type": "display_data"
    },
    {
     "data": {
      "text/html": [
       "\n",
       "        <table>\n",
       "            <thead>\n",
       "                <tr>\n",
       "                    <th scope=\"col\">Sueli Angelo Furlan </th>\n",
       "                </tr>\n",
       "            </thead>\n",
       "            <tbody>\n",
       "        \n",
       "                <tr>\n",
       "                    <td>'Paisagem e planejamento ambiental'</td>\n",
       "                </tr>\n",
       "               \n",
       "                <tr>\n",
       "                    <td>'Paisagem e territorialidades - perspectivas socioambientais no Brasil'</td>\n",
       "                </tr>\n",
       "               \n",
       "                <tr>\n",
       "                    <td>'Novas Territorialidades da Conservação Ambiental'</td>\n",
       "                </tr>\n",
       "               \n",
       "            </tbody>\n",
       "        </table>\n",
       "        "
      ],
      "text/plain": [
       "<IPython.core.display.HTML object>"
      ]
     },
     "metadata": {},
     "output_type": "display_data"
    },
    {
     "data": {
      "text/html": [
       "\n",
       "        <table>\n",
       "            <thead>\n",
       "                <tr>\n",
       "                    <th scope=\"col\">Tarik Rezende de Azevedo </th>\n",
       "                </tr>\n",
       "            </thead>\n",
       "            <tbody>\n",
       "        \n",
       "                <tr>\n",
       "                    <td>'Climatologia Urbana em Áreas Tropicais'</td>\n",
       "                </tr>\n",
       "               \n",
       "                <tr>\n",
       "                    <td>'Recomposição de Bancos de Dados Digitais em Climatologia'</td>\n",
       "                </tr>\n",
       "               \n",
       "                <tr>\n",
       "                    <td>'Conforto ambiental e saúde'</td>\n",
       "                </tr>\n",
       "               \n",
       "            </tbody>\n",
       "        </table>\n",
       "        "
      ],
      "text/plain": [
       "<IPython.core.display.HTML object>"
      ]
     },
     "metadata": {},
     "output_type": "display_data"
    },
    {
     "data": {
      "text/html": [
       "\n",
       "        <table>\n",
       "            <thead>\n",
       "                <tr>\n",
       "                    <th scope=\"col\">Valeria de Marcos </th>\n",
       "                </tr>\n",
       "            </thead>\n",
       "            <tbody>\n",
       "        \n",
       "                <tr>\n",
       "                    <td>'Produção camponesa em áreas de assentamentos rurais'</td>\n",
       "                </tr>\n",
       "               \n",
       "                <tr>\n",
       "                    <td>'Alternativas para a produção agrícola camponesa na ótica do desenvolvimento local auto-sustentável'</td>\n",
       "                </tr>\n",
       "               \n",
       "                <tr>\n",
       "                    <td>'Produção coletiva, comunitária e outras formas de cooperação no campo'</td>\n",
       "                </tr>\n",
       "               \n",
       "                <tr>\n",
       "                    <td>'Questão agrária no Brasil'</td>\n",
       "                </tr>\n",
       "               \n",
       "                <tr>\n",
       "                    <td>'Geografia e Anarquismo'</td>\n",
       "                </tr>\n",
       "               \n",
       "                <tr>\n",
       "                    <td>'Questão agrária no Brasil'</td>\n",
       "                </tr>\n",
       "               \n",
       "                <tr>\n",
       "                    <td>'Formas alternativas de organização da produção e da vida camponesa'</td>\n",
       "                </tr>\n",
       "               \n",
       "                <tr>\n",
       "                    <td>'Comunidades Tradicionais'</td>\n",
       "                </tr>\n",
       "               \n",
       "                <tr>\n",
       "                    <td>'O ensino de Geografia Agrária em escolas da rede pública'</td>\n",
       "                </tr>\n",
       "               \n",
       "                <tr>\n",
       "                    <td>'Educação Quilombola'</td>\n",
       "                </tr>\n",
       "               \n",
       "                <tr>\n",
       "                    <td>'Educação Diferenciada de Geografia (educação do campo, indígena e quilombola)'</td>\n",
       "                </tr>\n",
       "               \n",
       "            </tbody>\n",
       "        </table>\n",
       "        "
      ],
      "text/plain": [
       "<IPython.core.display.HTML object>"
      ]
     },
     "metadata": {},
     "output_type": "display_data"
    },
    {
     "data": {
      "text/html": [
       "\n",
       "        <table>\n",
       "            <thead>\n",
       "                <tr>\n",
       "                    <th scope=\"col\">Wagner Costa Ribeiro </th>\n",
       "                </tr>\n",
       "            </thead>\n",
       "            <tbody>\n",
       "        \n",
       "                <tr>\n",
       "                    <td>'Segurança e gestão de águas transfronteiriças'</td>\n",
       "                </tr>\n",
       "               \n",
       "                <tr>\n",
       "                    <td>'Ordem ambiental internacional'</td>\n",
       "                </tr>\n",
       "               \n",
       "                <tr>\n",
       "                    <td>'Políticas públicas ambientais'</td>\n",
       "                </tr>\n",
       "               \n",
       "                <tr>\n",
       "                    <td>'Mudanças climáticas'</td>\n",
       "                </tr>\n",
       "               \n",
       "            </tbody>\n",
       "        </table>\n",
       "        "
      ],
      "text/plain": [
       "<IPython.core.display.HTML object>"
      ]
     },
     "metadata": {},
     "output_type": "display_data"
    },
    {
     "data": {
      "text/html": [
       "\n",
       "        <table>\n",
       "            <thead>\n",
       "                <tr>\n",
       "                    <th scope=\"col\">Yuri Tavares Rocha </th>\n",
       "                </tr>\n",
       "            </thead>\n",
       "            <tbody>\n",
       "        \n",
       "                <tr>\n",
       "                    <td>'Paisagismo'</td>\n",
       "                </tr>\n",
       "               \n",
       "                <tr>\n",
       "                    <td>'Jardim botânico'</td>\n",
       "                </tr>\n",
       "               \n",
       "                <tr>\n",
       "                    <td>'Unidades de paisagem'</td>\n",
       "                </tr>\n",
       "               \n",
       "                <tr>\n",
       "                    <td>'Pau-brasil'</td>\n",
       "                </tr>\n",
       "               \n",
       "                <tr>\n",
       "                    <td>'Biogeografia'</td>\n",
       "                </tr>\n",
       "               \n",
       "                <tr>\n",
       "                    <td>'Paisagem e Planejamento'</td>\n",
       "                </tr>\n",
       "               \n",
       "            </tbody>\n",
       "        </table>\n",
       "        "
      ],
      "text/plain": [
       "<IPython.core.display.HTML object>"
      ]
     },
     "metadata": {},
     "output_type": "display_data"
    }
   ],
   "source": [
    "\n",
    "from IPython.display import display, HTML\n",
    "for tabela in tabelas:\n",
    "    display(HTML(tabela))\n"
   ]
  },
  {
   "cell_type": "code",
   "execution_count": 93,
   "id": "f413b108",
   "metadata": {},
   "outputs": [
    {
     "data": {
      "text/plain": [
       "{'DEPARTAMENTO DE ANTROPOLOGIA SOCIAL': {'Ana Claudia Duarte Rocha Marques': [\"'Poder e Diferença'\",\n",
       "   \"'Antropologia da Política'\"],\n",
       "  'Ana Lúcia Pastore Schritzmeyer ': [\"'Direitos Humanos criminalidade urbana',\",\n",
       "   \"'Pesquisadora associada do GSIADI - Grupo Salamanca de Investigación de Antropología del Derecho de Iberoamerica',\"],\n",
       "  'Beatriz Perrone Moisés': [\"'Etnologia Indígena'\"],\n",
       "  'Fernanda Arêas Peixoto ': [\"'História das ciências sociais no Brasil',\",\n",
       "   \"'Cultura e política',\",\n",
       "   \"'História intelectual',\",\n",
       "   \"'Cultura e imaginário urbanos',\",\n",
       "   \"'Antropologia das Formas Expressivas',\",\n",
       "   \"'Teoria, história e método da Antropologia'\"],\n",
       "  'Heitor Frúgoli Júnior': [\"'Estudos da realidade brasileira',\",\n",
       "   \"'Antropologia urbana'\"],\n",
       "  \"Heloisa Buarque de Almeida' \": [\"'Mídia',\",\n",
       "   \"'Marcadores sociais da diferença',\",\n",
       "   \"'Gênero',\",\n",
       "   \"'Cultura e Política\"],\n",
       "  'João Felipe Ferreira Gonçalves': [\"'Antropologia política'\",\n",
       "   \"'Antropologia urbana'\",\n",
       "   \"'Antropologias da história'\",\n",
       "   \"'Antropologia do espaço'\",\n",
       "   \"'Estudos pós-socialistas'\",\n",
       "   \"'Mundo afro-atlântico'\",\n",
       "   \"'América Hispânica e Caribe'\"],\n",
       "  'Júlio Assis Simões ': [\"'Marcadores sociais da diferença'\",\n",
       "   \"'Política, direitos, violência e homossexualidade'\",\n",
       "   \"'NUMAS - Núcleo de Estudo dos Marcadores Sociais da Diferença'\",\n",
       "   \"'Relações entre raça, sexualidade e gênero em diferentes contextos locais e nacionais'\",\n",
       "   \"'Agências públicas e seus usuários'\",\n",
       "   \"'Perspectivas disciplinares e teoria feminista'\",\n",
       "   \"'Sexualidade'\",\n",
       "   \"'Gênero e Envelhecimento'\"],\n",
       "  'Laura Moutinho da Silva ': [\"'Gênero, Sexualidade e Saúde'\",\n",
       "   \"'Populações Afro-Brasileiras e Africanas'\",\n",
       "   \"'Marcadores sociais da diferença'\",\n",
       "   \"'Antropologia das emoções e modos de diferenciação políticos e sociais'\",\n",
       "   \"'Antropologia da política e do direito'\",\n",
       "   \"'Poder e diferença'\"],\n",
       "  'Marcio Ferreira da Silva': [\" 'Estudos ameríndios'\"],\n",
       "  'Marina Vanzolini Figueiredo ': [\"'Etnologia indígena e teoria antropológica'\"],\n",
       "  'Marta Rosa Amoroso ': [\"'Missões Cristãs em Áreas Indígenas'\",\n",
       "   \"'Natureza e sociedade. Estética da produção dos conhecimentos e circuitos de troca dos povos indígenas e tradicionais'\",\n",
       "   \"'Territorialidades Ameríndias e Tradicionais. Estética da Construção dos Lugares'\",\n",
       "   \"'Estudos ameríndios, africanos e afro-diaspóricos'\",\n",
       "   \"'Paisagens Ameríndias. Habilidades, Mobilidade e Socialidade nos Rios e Cidades da Amazônia'\"],\n",
       "  'Pedro de Niemeyer Cesarino ': [\"'Conexões entre antropologia e arte'\",\n",
       "   \"'Estudo e tradução de poéticas verbais ameríndias'\"],\n",
       "  'Renato Sztutman ': [\"'Etnologia e história indígena'\",\n",
       "   \"'Ritual, xamanismo e política nas terras baixas da América do Sul'\",\n",
       "   \"'Teoria antropológica'\",\n",
       "   \"'Etnologia indígena'\",\n",
       "   \"'Formas Expressivas e Regimes de Conhecimento'\",\n",
       "   \"'Poder e diferença'\",\n",
       "   \"'Estudos ameríndios, africanos e afro-diaspóricos'\"],\n",
       "  'Rose Satiko Gitirana Hikiji ': [\"'Antropologia visual'\",\n",
       "   \"'Antropologia da performance'\",\n",
       "   \"'Etnomusicologia'\"],\n",
       "  'Silvana de Souza Nascimento ': [\"'Antropologia urbana'\",\n",
       "   \"'Corpo, cidade, fronteira'\",\n",
       "   \"'Marcadores sociais da diferença'\"],\n",
       "  'Sylvia Maria Caiuby Novaes ': [\"'Etnologia Indígena'\",\n",
       "   \"'Antropologia da Imagem'\",\n",
       "   \"'Projeto temático Imagem em Foco nas Ciências Sociais - Coordenadora Principal'\",\n",
       "   \"'Projeto temático: Alteridade, expressões culturais do mundo sensível, construções da realidade: velhas questões, novas inquietações. Coordenadora principal do projeto temático'\"],\n",
       "  'Vagner Goncalves da Silva ': [\"'Antropologia das populações afro-brasileiras'\",\n",
       "   \"'Teoria antropológica (trabalho de campo e representação etnográfica)'\"]},\n",
       " 'DEPARTAMENTO DE CIÊNCIA POLÍTICA': {'Adrian Gurza Lavalle ': [\"'Sociabilidade e Vida Urbana (INCT/CEM)'\"],\n",
       "  'André Vitor Singer ': [\"'Teoria Política Moderna'\",\n",
       "   \"'Comportamento Eleitoral no Brasil'\"],\n",
       "  'Bernardo Ricupero ': [\"'Relações Internacionais'\",\n",
       "   \"'História do Pensamento Político Latino-americano'\",\n",
       "   \"'História Institucional'\",\n",
       "   \"'Pensamento Político Brasileiro'\"],\n",
       "  'Bruno Wilhelm Speck ': [\"'Accountability e Controle em Sistemas Políticos Modernos'\",\n",
       "   \"'Fraude e Corrupção em Sistemas Políticos Modernos'\",\n",
       "   \"'Pensamento Político Brasileiro'\",\n",
       "   \"'Formação e Mudança de Identidades Nacionais'\",\n",
       "   \"'Representação e Delegação em Sistemas Políticos Modernos'\",\n",
       "   \"'Pesquisas Eleitorais'\",\n",
       "   \"'Corrupção e Combate à Corrupção no Brasil'\",\n",
       "   \"'Diagnóstico de Corrupção'\",\n",
       "   \"'Análise de Riscos Institucionais'\",\n",
       "   \"'Sistemas de Integridade'\"],\n",
       "  'Eduardo Cesar Leão Marques ': [\"'Pesquisas realizadas no Centro de Estudos da Metrópole/Cebrap'\",\n",
       "   \"'Políticas de Habitação e Condições Sociais em Assentamentos Precários'\",\n",
       "   \"'Redes sociais e Políticas Públicas'\",\n",
       "   \"'Segregação, Pobreza e Desigualdades Sociais'\",\n",
       "   \"'Redes sociais, Pobreza e Desigualdades Sociais (INCT/CEM)'\",\n",
       "   \"'Governo e Governança em Grandes Metrópoles (INCT/CEM)'\",\n",
       "   \"'Estrutura Fundiária Urbana da Região Metropolitana do Rio de Janeiro'\",\n",
       "   \"'Produção Imobiliária no Município do Rio de Janeiro'\",\n",
       "   \"'Participou de Pesquisa  sobre  o  Impacto  do  Instrumento do Solo Criado Sobre o Mercado Imobiliário do Município do Rio de Janeiro'\",\n",
       "   '\"Elaboração de Capítulo do Projeto \\'Um projeto de ciência para o Brasil\\' relativo a temas urbanos\"'],\n",
       "  'Elizabeth Balbachevsky ': [\"'Profissão Acadêmica no Brasil: Evolução Recente e Perspectivas Futuras',\",\n",
       "   \"'Políticas de Recursos Humanos para Ciência e Tecnologia'\",\n",
       "   \"'Relações Internacionais - Integração Regional - Atores Domésticos'\",\n",
       "   \"'Política Externa Brasileira - Cooperação Internacional: Ciência e Tecnologia'\",\n",
       "   \"'Comportamento Eleitoral'\",\n",
       "   \"'Eleições e Poder Local'\",\n",
       "   \"'Políticas Públicas - Avaliação de Políticas Públicas'\",\n",
       "   \"'Políticas de Ensino Superior'\",\n",
       "   \"'Governança Universitária'\"],\n",
       "  'Eunice Ostrensky ': [\"'Teoria Política Moderna'\"],\n",
       "  'Fernando Haddad': [],\n",
       "  'Glauco Peres da Silva ': [\"'Geografia Eleitoral' \",\n",
       "   \"'Eleições'\",\n",
       "   \"'Partidos\",\n",
       "   \"'Institucionalismo'\",\n",
       "   \"'Metodologia da Ciência Política'\"],\n",
       "  'Janina Onuki ': [\"'Organizações Internacionais'\",\n",
       "   \"'Integração Regional'\",\n",
       "   \"'Análise de Política Externa'\",\n",
       "   \"'Opinião Pública'\",\n",
       "   \"'Gênero e Relações Internacionais'\",\n",
       "   \"'Organizações e Regimes Internacionais'\"],\n",
       "  'Jean François Germain Tible ': [\"'Marx e Pensamentos Selvagens' \",\n",
       "   \"'Revoltas' \",\n",
       "   \"'Revoluções e Movimentos Políticos'\",\n",
       "   \"'Relações internacionais'\"],\n",
       "  'Jonathan Peter Phillips ': [\"'Economia Política' \",\n",
       "   \"'Política Comparada dos Países em Desenvolvimento, Sobretudo nas Raízes Políticas da Governança Efetiva'\"],\n",
       "  'João Paulo Candia Veiga ': [\"'Teoria das Relações Internacionais'\",\n",
       "   \"'Mercosul e Integração Regional'\",\n",
       "   \"'Economia Política Internacional'\",\n",
       "   \"'Relações Internacionais'\",\n",
       "   \"'Relações de Trabalho e Responsabilidade Social Empresarial'\"],\n",
       "  'Lorena Guadalupe Barberia': [],\n",
       "  'Marta Teresa da Silva Arretche ': [\"'Políticas Públicas'\",\n",
       "   \"'Análise Comparada das Formas de Estado'\",\n",
       "   \"'Condições de Vida, Estado e Políticas Públicas (INCT/CEM)'\"],\n",
       "  'Paolo Ricci ': [\"'A Organização dos Parlamentos do Século XIX aos Dias de Hoje'\",\n",
       "   \"'Partidos e Eleições na Primeira República (1889-1930) e na Era Vargas (1930-1937)'\",\n",
       "   \"'O Poder de Agenda em Perspectiva Comparada'\",\n",
       "   \"'Dados Eleitorais para o Período Anterior a 1945'\",\n",
       "   \"'Relações Executivo-legislativo'\",\n",
       "   \"'A Evolução do Sistema Partidário Brasileiro'\",\n",
       "   \"'Instituições Políticas Estaduais'\"],\n",
       "  'Rafael Antonio Duarte Villa ': [\"'Segurança Internacional'\",\n",
       "   \"'Política Externa'\",\n",
       "   \"'Relações Internacionais da América Latina'\"],\n",
       "  'Rogério Bastos Arantes ': [\"'Instituições de Justiça - Surveys'\",\n",
       "   \"'Custos econômicos do Judiciário'\",\n",
       "   \"'Instituições de Justiça'\",\n",
       "   \"'Elites - surveys'\",\n",
       "   \"'Cidadania e Acesso à Justiça'\",\n",
       "   \"'Reforma do Judiciário'\",\n",
       "   \"'Pesquisa Interdisciplinar. América Latina em 3 D (Política, Economia e Relações Internacionais)'\",\n",
       "   \"'Estudos Políticos do Judiciário e do Ministério Público'\",\n",
       "   \"'Constitucionalismo e Democracia no Brasil e em Perspectiva Comparada'\",\n",
       "   \"'Corrupção Política e Crime Organizado no Brasil'\",\n",
       "   \"'Estudos Políticos do Judiciário, Ministério Público e Polícia Federal'\",\n",
       "   \"'Constitucionalismo e Democracia em Perspectiva Comparada'\",\n",
       "   \"'JUDE - Grupo de Pesquisa Judiciário e Democracia (com alunos de graduação, pós-graduação e pós-doc)'\",\n",
       "   \"'Mare Incognitum: Desafios da Pesquisa sobre o Supremo Tribunal Federal'\"],\n",
       "  'Rúrion Soares Melo ': [\"'Pesquisador do Núcleo Direito e Democracia'\",\n",
       "   \"'Coordenador do Subgrupo Democracia Deliberativa'\",\n",
       "   \"'Coordenador do Subgrupo Autonomia e Teoria Crítica'\",\n",
       "   \"'Pesquisador da Área de Filosofia, Direito e Democracia'\",\n",
       "   \"'Coordenador do Grupo de Estudos de Política e Teoria Crítica'\",\n",
       "   \"'Política e Teoria Crítica: Autonomia, reconhecimento e democracia'\",\n",
       "   \"'Grupo de Estudos de Política e Teoria Crítica'\"]},\n",
       " 'DEPARTAMENTO DE FILOSOFIA': {'Alberto Ribeiro Gonçalves de Barros ': [\"'Epistemologia da Política e do Direito'\",\n",
       "   \"'Ética e Filosofia Política'\",\n",
       "   \"'Matrizes do Republicanismo'\"],\n",
       "  'Alex de Campos Moura ': [\"'Ontologia'\", \"'Temporalidade'\"],\n",
       "  'Caetano Ernesto Plastino ': [\"'A concepção deflacionista da verdade e suas implicações'\",\n",
       "   \"'A dimensão social do conhecimento científico'\"],\n",
       "  'Carlos Eduardo de Oliveira ': [\"'Nominalismo Medieval'\",\n",
       "   \"'Recepção Medieval de Aristóteles'\",\n",
       "   \"'Lógica e Metafísica Medieval'\"],\n",
       "  'Cicero Romao Resende de Araujo ': [\"'Política Brasileira: processos constituintes'\",\n",
       "   \"'Representação Política'\",\n",
       "   \"'Moralidade política'\"],\n",
       "  'Edelcio Gonçalves de Souza ': [\"'Teoria do Conhecimento'\"],\n",
       "  'Eduardo Brandão ': [\"'Idealismo Alemão' \",\n",
       "   \"'História da Filosofia Contemporânea'\"],\n",
       "  'Evan Robert Keeling': [\"'História da Filosofia Antiga'\",\n",
       "   \"'Epistemologia'\",\n",
       "   \"'Psicologia'\",\n",
       "   \"'Metafísica'\"],\n",
       "  'Homero Silveira Santiago ': [\"'História da Filosofia'\",\n",
       "   \"'Servidão'\",\n",
       "   \"'Liberdade'\",\n",
       "   \"'Possível'\",\n",
       "   \"'Determinação'\"],\n",
       "  'Joao Vergilio Gallerani Cuter ': [\"'Wittgenstein em Transição'\"],\n",
       "  'Jose Carlos Estevao ': [\"'Nominalismo Medieval'\",\n",
       "   \"'Ética e Política Medieval'\",\n",
       "   \"'Recepção Medieval de Aristóteles'\",\n",
       "   \"'Recepção Medieval de Agostinho'\"],\n",
       "  'Lorenzo Mammi': [\"'Música'\",\n",
       "   \"'Arte Contemporânea'\",\n",
       "   \"'Filosofia Patrística' \"],\n",
       "  'Luiz Sergio Repa ': [\"'Teoria Crítica'\"],\n",
       "  'Luís César Guimarães Oliva ': [\"'HIstória da Filosofia Moderna'\"],\n",
       "  'Marcio Suzuki ': [\"'Estética do Idealismo e Romantismo Alemão'\"],\n",
       "  'Marco Antonio de Avila Zingano ': [\"'Razão e política em Kant'\",\n",
       "   \"'A filosofia de Aristóteles'\",\n",
       "   \"'Filosofia grega antiga'\"],\n",
       "  'Marco Aurélio Werle ': [\"'História da arte'\",\n",
       "   \"'Estética'\",\n",
       "   \"'Estética e filosofia da arte'\"],\n",
       "  'Marcus Sacrini Ayres Ferraz ': [\"'Fenomenologia'\",\n",
       "   \"'Teoria argumentativa e sua aplicação no ensino'\"],\n",
       "  'Mauricio de Carvalho Ramos ': [\"'Filosofia e História da Ciência'\",\n",
       "   \"'Filosofia e História das Ciências da Vida no Período Moderno'\",\n",
       "   \"'Ética e Biociências Contemporâneas'\"],\n",
       "  'Maurício Cardoso Keinert ': [\"'História da Filosofia Moderna'\",\n",
       "   \"'Kant'\",\n",
       "   \"'Liberdade'\",\n",
       "   \"'Direito'\",\n",
       "   \"'Moral'\",\n",
       "   \"'Conhecimento'\",\n",
       "   \"'Crítica'\"],\n",
       "  'Moacyr Ayres Novaes Filho ': [\"'As duas significações da linguagem'\",\n",
       "   \"'Metafísica e moral nas Confissões de Agostinho'\",\n",
       "   \"'Interioridade e inspeção do espírito na filosofia agostiniana'\",\n",
       "   \"'Lógica e ontologia'\"],\n",
       "  'Oliver Tolle ': [\"'A faculdade de compor na psicologia empírica alemã'\"],\n",
       "  'Osvaldo Frota Pessoa Junior ': [\"'História e Filosofia da Física'\",\n",
       "   \"'História e Filosofia da Ciência'\"],\n",
       "  'Patricio Tierno ': [\"'As noções de esfera pública e esfera privada'\",\n",
       "   \"'Relações entre economia e política'\",\n",
       "   \"'O sujeito antigo'\",\n",
       "   \"'Pensamento Político Antigo'\",\n",
       "   \"'História da Filosofia Antiga e do Pensamento Político'\",\n",
       "   \"'Teoria política clássica e moderna'\",\n",
       "   \"'A teoria política de Aristóteles'\",\n",
       "   \"'Linhagens do pensamento político-social latino-americano'\"],\n",
       "  'Pedro Paulo Garrido Pimenta ': [\"'Filosofia Moderna'\",\n",
       "   \"'Autores do século XVIII'\"],\n",
       "  'Ricardo Nascimento Fabbrini ': [\"'Filosofia das Ciências Humanas'\",\n",
       "   \"'Estética e Filosofia da Arte'\"],\n",
       "  'Roberto Bolzani Filho ': [\"'O Ceticismo Acadêmico e a idéia de subjetividade'\"],\n",
       "  'Rodrigo Bacellar da Costa e Silva ': [\"'Lógica'\", \"'Ontologia'\"],\n",
       "  'Silvana de Souza Ramos ': [\"'Ética e Filosofia Política'\",\n",
       "   \"'Filosofia Francesa Contemporânea'\",\n",
       "   \"'Intersecções entre filosofia e imagem'\"],\n",
       "  'Tessa Moura Lacerda ': [\"'História da Filosofia do Século XVII'\"],\n",
       "  'Valter Alnis Bezerra ': [\"'Teoria da racionalidade'\",\n",
       "   \"'Teoria da justificação epistêmica'\",\n",
       "   \"'Metateoria estruturalista'\",\n",
       "   \"'Estilos de raciocínio científico'\",\n",
       "   \"'História da metodologia científica'\",\n",
       "   \"'Mecanicismo'\",\n",
       "   \"'História da teoria do campo'\",\n",
       "   \"'Fundamentos da mecânica quântica'\"],\n",
       "  'Vladimir Pinheiro Safatle ': [\"'Teoria do reconhecimento'\",\n",
       "   \"'Teoria do sujeito'\",\n",
       "   \"'Experiência estética musical e a reconstrução dos modelos de crítica'\"]},\n",
       " 'DEPARTAMENTO DE HISTÓRIA': {'Adone Agnolin ': [\"'Os Tabus Alimentares na Perspectiva dos Estudos Histórico-Religiosos'\",\n",
       "   \"'História das Religiões'\",\n",
       "   \"'História Moderna'\",\n",
       "   \"'Coordenador do Núcleo Temático Religião e Evangelização'\",\n",
       "   \"'Projeto Temático Dimensões do Império Português'\",\n",
       "   \"'Pesquisa Individual junto ao Departamento'\",\n",
       "   \"'Jesuítas, Humanismo e Evangelização no Oriente - Séculos XVI-XVII'\",\n",
       "   \"'Projeto Temático: Missionários, Índios e Mediação Cultural'\"],\n",
       "  'Ana Paula Tavares Magalhães Tacconi ': [\"'A questão da Plenitudo Potestatis em Guilherme de Ockham: um exame de seus escritos políticos'\"],\n",
       "  'Ana Paula Torres Megiani ': [\"'História da Cultura'\"],\n",
       "  'Angelo de Oliveira Segrillo ': [\"'História da Rússia/URSS'\",\n",
       "   \"'História Política Comparada da Rússia e do Brasil'\",\n",
       "   \"'Relações Internacionais dos Países Socialistas e Ex-socialistas'\"],\n",
       "  'Antonia Terra de Calazans Fernandes ': [\"'Memória do Livro Didático'\",\n",
       "   \"'Ensino de História Indígena'\",\n",
       "   \"'Educação Escolar Indígena'\",\n",
       "   \"'História dos Estudos Sociais'\",\n",
       "   \"'História dos Livros Didáticos'\"],\n",
       "  'Breno Ferraz Leal Ferreira ': [\"'História da Ciência e da Cultura Científica'\",\n",
       "   \"'História Intelectual'\",\n",
       "   \"'História Ambiental'\",\n",
       "   \"'Historiografia'\"],\n",
       "  'Carlos Alberto de Moura Ribeiro Zeron ': [\"'Missions religieuses ibériques modernes'\",\n",
       "   \"'Maîtrise de la nature en Amérique et dans la péninsule ibérique'\",\n",
       "   \"'Empires, sociétés, nations: Amérique latine et Méditerranée occidentale (XVe-XXIe siècle)'\",\n",
       "   \"'Restauration de la Compagnie de Jésus'\",\n",
       "   \"'Américanisation et américanité: dynamiques spatio-temporelles et enjeux multiculturels'\",\n",
       "   '\"Antijésuitismes à l\\'époque moderne\"',\n",
       "   \"'Escravidão e História Atlântica - Programa de Pós-Graduação em História Social'\",\n",
       "   \"'História Política - Programa de Pós-Graduação em História Social'\",\n",
       "   \"'Dicionário Musical de Mário de Andrade'\",\n",
       "   \"'Dimensões do império português: estruturas e dinâmicas do antigo sistema colonial'\",\n",
       "   \"'Quinto Império e beetrias: sobre a conveniência entre as dimensões temporais e a espiritual do Império Português em Antônio Vieira'\",\n",
       "   \"'LABORÍNDIO - Grupo de Pesquisa sobre o Trabalho Indígena nas Américas'\",\n",
       "   \"'3 vezes 22: Independência, Modernismo e Projetos do Futuro'\",\n",
       "   \"'Antônio Vieira Rastela o Direito Natural'\",\n",
       "   \"'Seminários Teóricos e Práticos de Metodologia da Pesquisa Histórica',\",\n",
       "   \"'Tempo, Memória e Pertencimento'\",\n",
       "   \"'Banco de Dados Ernani Silva Bruno: Equipamentos, usos e costumes da Casa Brasileira'\",\n",
       "   \"'Briga de Padres: natureza e sociedade nas disputas da Companhia de Jesus no Brasil (século XVII) (PQ-II)'\",\n",
       "   \"'Bem comum e utilidade pública: o bom governo dos índios nas Américas de colonização portuguesa e espanhola (PQ-II)'\",\n",
       "   \"'Jesuítas nas Américas'\",\n",
       "   \"'Rasteira, Encruzilhada e Corta-capim: usos contraditórios da autoridade de Juan de Solórzano Pereira por Antônio Vieira, Paulo da Silva Nunes e Francisco Xavier de Mendonça Furtado (PQ-II)'\",\n",
       "   \"'Quinto Império e pertencimento nacional (PQ-II)',\",\n",
       "   \"'Fronteras, Misiones e Imperios Coloniales. Red temática de investigación sobre las fronteras de las monarquías ibéricas.'\",\n",
       "   '\"La Traite Négrière Vue par l\\'École de Salamanque : droit, liberté et commerce\"',\n",
       "   \"'Jesuítas na América'\"],\n",
       "  'Carlos de Almeida Prado Bacellar ': [\"'História da População'\",\n",
       "   \"'Demografia Histórica'\",\n",
       "   \"'História do Brasil Colônia'\",\n",
       "   \"'História da Família'\"],\n",
       "  'Daniel Strum ': [\"'Estratégias e Mecanismos Oficiais e Informais que Promoviam a Integração e Expansão dos Mercados no Comércio Transatlântico no Período Colonial e os Condicionamentos Tecnológicos, Políticos, Sociais, Legais e Religiosos a que Estava Sujeito'\"],\n",
       "  'Dario Horácio Gutierrez Gallardo ': [\"'Identidades americanas'\",\n",
       "   \"'História e literatura'\",\n",
       "   \"'História da escravidão'\"],\n",
       "  'Eduardo Holderle Peruzzo ': [\"'Historiografias Atlânticas'\",\n",
       "   \"'Laboratório de Pesquisa em História Moderna'\"],\n",
       "  'Eduardo Natalino dos Santos ': [\"'História indígena: as tradições de pensamento ameríndias e suas transformações na passagem do período pré-hispânico ao colonial',\",\n",
       "   \"'História indígena e interdisciplinaridade (Centro de Estudos Ameríndios da USP)'\",\n",
       "   \"'História, Arqueologia e Antropologia da Mesoamérica e Andes Centrais (Centro de Estudos Mesoamericanos e Andinos da USP)'\"],\n",
       "  'Elias Thomé Saliba ': [\"'História da Cultura'\",\n",
       "   \"'História da Cultura no Brasil'\",\n",
       "   \"'História da Produção Humorística no Brasil'\"],\n",
       "  'Elizabeth Cancelli ': [\"'Novas dinâmicas nas Américas: cultura, política e desenvolvimento'\",\n",
       "   \"'Cidadania e violência nas Américas'\",\n",
       "   \"'Cultura e produção político-cultural'\",\n",
       "   \"'História social e das idéias. Nesta linha foram desenvolvidas as seguintes pesquisas: O mundo da violência: o Estado Policial na Era Vargas A Intentona em Nova Iorque Criminosos e não criminosos na História  A (des)humanização das penas: Histórias de c'\",\n",
       "   \"'Criminosos e não criminosos na História.'\",\n",
       "   \"'Pesquisa sobre conflitos de terra existentes no Brasil e estrutura fundiária'\",\n",
       "   \"'Estrutura Sindical Brasileira'\",\n",
       "   \"'Pesquisa CEDEC /ILDES sobre estrutura sindical brasileira, relativa ao Rio Grande do Sul'\",\n",
       "   \"'Marcha para o Oeste'\",\n",
       "   \"'Projeto Pólo Noroeste - BIRD'\",\n",
       "   \"'PROIN (Laboratório de Estudos Sobre Memória Política Brasileira - USP), financiamento FAPESP, pesquisadora principal'\",\n",
       "   \"'O poder das idéias: a corrente dos inocentes'\",\n",
       "   \"'Diário: a viagem de Alfred Knopf ao Brasil'\",\n",
       "   \"'História e Testemunho'\",\n",
       "   \"'A Questão da Democracia Racial'\"],\n",
       "  \"Everaldo de Oliveira Andrade' \": [\"'História Econômica e Política da América Latina Contemporânea'\",\n",
       "   \"'História e Debates Teóricos Acerca das Economias Planificadas de Propriedade Social no Século XX'\"],\n",
       "  \"Flavio de Campos' \": [\"'História da Cultura'\",\n",
       "   \"'Coordenador Científico do Núcleo LUDENS - Núcleo Interdisciplinar de Pesquisas sobre Futebol e Modalidades Lúdicas'\"],\n",
       "  'Francisco Assis de Queiroz ': [\"'História Econômica e Financeira'\",\n",
       "   \"'Economia Monetária'\",\n",
       "   \"'Desenvolvimento Econômico'\",\n",
       "   \"'História e Economia Chinesa'\"],\n",
       "  'Francisco Cabral Alambert Junior ': [\"'História Contemporânea'\",\n",
       "   \"'História da Arte'\",\n",
       "   \"'História da Cultura'\"],\n",
       "  'Francisco Carlos Palomanes Martinho ': [\"'História Política'\",\n",
       "   \"'História Contemporânea Portuguesa'\"],\n",
       "  'Gabriela Pellegrino Soares ': [\"'Pesquisadora Associada da BBM - Coleções editoriais brasilianas nos anos 1930 aos 1960'\",\n",
       "   \"'História, Cultura e Poder'\",\n",
       "   \"'História Política'\"],\n",
       "  'Gildo Magalhães dos Santos Filho ': [\"'História da eletrificação'\"],\n",
       "  'Henrique Soares Carneiro ': [\"'História da Ciência'\",\n",
       "   \"'História Moderna e Contemporânea'\",\n",
       "   \"'História da Alimentação, das Bebidas e das Drogas'\"],\n",
       "  'Iris Kantor ': [\"'Laboratório de Estudos de Cartografia Histórica'\"],\n",
       "  'Jorge Luis da Silva Grespan ': [\"'O conceito de crise econômica em Marx'\"],\n",
       "  'José Antonio Vasconcelos ': [\"'Saberes e Identidades'\",\n",
       "   \"'Poéticas do Contemporâneo'\",\n",
       "   \"'Políticas da Subjetividade'\",\n",
       "   \"'História da Educação'\"],\n",
       "  'José Geraldo Vinci de Moraes ': [\"'Entre a Memória e a História da Música'\",\n",
       "   \"'Esportes, atividades lúdicas e futebol em São Paulo na primeira metade do século XX'\",\n",
       "   \"'A cultura musical na cidade de São Paulo (primeira metade do século XX)'\",\n",
       "   \"'Escrita e historiografia da música popular brasileira (financiamento CNPq)'\",\n",
       "   \"'Escrituras da memória e da história  da música popular no Brasil (financiamento CNPq)'\",\n",
       "   \"'Dilemas culturais na formação de um  novo território historiográfico: os sons, as sonoridades, as escutas e a música (Financiamento Fapesp)'\",\n",
       "   \"'Os sons, as escutas e a música em São Paulo no início do século XX. Dilemas culturais na formação de um novo território historiográfico.  (Financiamento  Chamada MCTIC/CNPq Nº 28/2018 - Universal)',\",\n",
       "   \"'Criar um mundo do nada. A invenção de uma historiografia da música popular'\",\n",
       "   \"'El debate historiografico a fin del siglo - coordenação prof.dr. Carlos Barros'\",\n",
       "   \"'Análise de Conjuntura Política'\",\n",
       "   \"'A Formação da Indústria da Música Popular em São Paulo (Anos 30/40)'\"],\n",
       "  'João Paulo Garrido Pimenta ': [\"'Independência do Brasil'\",\n",
       "   \"'Independência da América Espanhola'\",\n",
       "   \"'América Portuguesa, Séculos XVIII E XIX'\",\n",
       "   \"'Império do Brasil'\",\n",
       "   \"'Questão Nacional e Identidades Nacionais'\",\n",
       "   \"'História do Tempo Histórico'\"],\n",
       "  'Julio Cesar Magalhães de Oliveira ': [\"'História dos Movimentos e das Relações Sociais'\"],\n",
       "  'Julio Cesar Pimentel Pinto Filho ': [\"'História da Cultura'\"],\n",
       "  'Lincoln Ferreira Secco ': [\"'Coordenador do Grupo Fernand Braudel'\"],\n",
       "  'Luiz Bernardo Murtinho Pericás ': [\"'Caio Prado Júnior: pensamento político e socialismo'\",\n",
       "   \"'Caminhos da revolução brasileira'\"],\n",
       "  'Marcelo Aparecido Rede ': [\"'História Antiga'\"],\n",
       "  'Marcelo Candido da Silva ': [\"'História e Culturas Políticas'\",\n",
       "   \"'Idade Média'\",\n",
       "   \"'Relações entre Igreja e Estado'\",\n",
       "   \"'Pouvoir, échange et contrôle social'\",\n",
       "   \"'Crise e governança na Alta Idade Média'\",\n",
       "   \"'Élites dans le haut Moyen Âge'\"],\n",
       "  'Marcos Francisco Napolitano de Eugênio ': [\"'História e audiovisual: circularidades e formas de comunicação'\",\n",
       "   \"'História,  Cultura e Poder'\"],\n",
       "  'Maria Cristina Correia Leandro Pereira ': [\"'Cultura Material e Visual, Historiografia e Documentação'\"],\n",
       "  'Maria Cristina Cortez Wissenbach ': [\"'História da África'\",\n",
       "   \"'História Atlântica'\",\n",
       "   \"'Escravidão e História Atlântica'\"],\n",
       "  'Maria Helena Pereira Toledo Machado ': [\"'História Social da escravidão'\",\n",
       "   \"'Diários, Relatos de Viagem e Viajantes Nacionais'\",\n",
       "   \"'História das Idéias no Século XIX - Relatos de Viagem e discussões a respeito da origem do homem e da civilização na América'\",\n",
       "   \"'História da Escravidão e da Abolição no Brasil'\",\n",
       "   \"'Teorias sobre a Origem na América Latina'\",\n",
       "   \"'Ciência e Raça na Era das Abolições: A Expedição Thayer de Louis Agassiz'\"],\n",
       "  'Marilia Bueno de Araujo Ariza ': [\"'Relações entre trabalho, tutela, emancipação gradual e abolição, com especial atenção às imbricações dessas questões a relações e representações sociais de gênero, maternidade e infância'\"],\n",
       "  'Marina de Mello e Souza ': [\"'A África no Brasil e o Brasil na África'\",\n",
       "   \"'História da África'\",\n",
       "   \"'História Atlântica'\",\n",
       "   \"'A Ordem de Cristo no Congo - séculos XVII - XIX.'\",\n",
       "   \"'Substituição de antigas alianças pela dominação: o Congo colonial'\",\n",
       "   \"'Projeto Temático Dimenões do Império Português'\",\n",
       "   \"'Estudos de Folclore'\",\n",
       "   \"'Cultura Popular'\",\n",
       "   \"'Projeto Artesanato Brasileiro'\"],\n",
       "  'Mary Anne Junqueira ': [\"'História, Cultura e Poder'\"],\n",
       "  'Mauricio Cardoso ': [\"'Produção Audiovisual Brasileira'\",\n",
       "   \"'Indústria Cultural' \",\n",
       "   \"'História Pública'\"],\n",
       "  'Miguel Soares Palmeira': [],\n",
       "  'Miriam Dolhnikoff ': [\"'História do Brasil no século XIX'\",\n",
       "   \"'A construção do Estado brasileiro no século XIX'\"],\n",
       "  'Márcia Regina Barros da Silva ': [\"'NECSO - Núcleo de Estudo de Ciência & Tecnologia & Sociedade'\",\n",
       "   \"'História da medicina e da saúde:espaços institucionais e atores'\",\n",
       "   \"'História das Ciências, Tecnologia e Sociedade'\"],\n",
       "  'Osvaldo Luis Angel Coggiola ': [\"'História do Movimento Operário'\",\n",
       "   \"'História e Economia Mundial' \",\n",
       "   \"'História da América Latina' \",\n",
       "   \"'História Contemporânea'\"],\n",
       "  'Pablo Oller Mont Serrath ': [\"'Império Português na Época Moderna'\",\n",
       "   \"'Brasil Colonial'\"],\n",
       "  'Pedro Luis Puntoni ': [\"'Cultura Digital'\",\n",
       "   \"'Humanidades Digitais'\",\n",
       "   \"'Ciência da Informação'\",\n",
       "   \"'Patrimônio e Memória'\",\n",
       "   \"'Arquivos Municipais'\",\n",
       "   \"'História dos Recenseamentos do século XIX'\",\n",
       "   \"'História do Brasil Colonial'\"],\n",
       "  'Rafael de Bivar Marquese': [\"'Laboratório de Estudos sobre o Brasil e o Sistema Mundial'\"],\n",
       "  'Robert Sean Purdy ': [\"'História Comparada (Canadá, Brasil e EUA)'\",\n",
       "   \"'História Social, Política e Cultural'\",\n",
       "   \"'História Comparada das Américas'\"],\n",
       "  'Rodrigo Monteferrante Ricupero': [],\n",
       "  'Sara Albieri ': [\"'Ciência Econômica e Economia da Cultura'\",\n",
       "   \"'História da Ciência, Epistemologia e Medicina (Grupo de Pesquisa Khronos)'\",\n",
       "   \"'História das Ideias Científicas e Filosóficas'\"],\n",
       "  'Sarah Fernandes Lino de Azevedo ': [\"'História das Mulheres e das Relações de Gênero na Antiguidade' \",\n",
       "   \"'Mulheres e Política Romana' \",\n",
       "   \"'Crimes Sexuais na República Romana' \",\n",
       "   \"'Adultério em Roma' \",\n",
       "   \"'Lei e Sociedade em Roma' \",\n",
       "   \"'As Mulheres no Direito Romano' \",\n",
       "   \"'Patriarcado Romano' \",\n",
       "   \"'Principado Romano' \",\n",
       "   \"'Dinastia Júlio-Cláudia' \",\n",
       "   \"'Historiografia Latina' \",\n",
       "   \"'Tácito' \",\n",
       "   \"'Tito Lívio' \",\n",
       "   \"'Mulheres na Historiografia Latina'\"],\n",
       "  'Stella Maris Scatena Franco ': [\"'História, Cultura e Poder'\"]},\n",
       " 'DEPARTAMENTO DE LETRAS CLÁSSICAS E VERNÁCULAS': {},\n",
       " 'Áreas:': {},\n",
       " 'FILOLOGIA E LÍNGUA PORTUGUESA:': {'Beatriz Daruj Gil': [\"'Lexicologia' \",\n",
       "   \"'Léxico e ensino' \",\n",
       "   \"'Ensino de português língua materna' \",\n",
       "   \"'Formação de professores de português língua materna'\",\n",
       "   \"'Letramento acadêmico'\"],\n",
       "  'Elis de Almeida Cardoso Caretta': [\"'Lexicologia e terminologia do português'\"],\n",
       "  'Flaviane Romani Fernandes Svartman': [\"'Gramática do português e de línguas em contato'\"],\n",
       "  'Gabriel Antunes de Araujo': [\"'Português no Brasil e na África'\",\n",
       "   \"Fonologia e morfologia do português' \",\n",
       "   \"'Sociolinguística' \",\n",
       "   \"'Línguas africanas (línguas crioulas de base portuguesa e makhuwa)'\",\n",
       "   \"'Ensino de português como língua estrangeira'\",\n",
       "   \"'Línguas indígenas brasileiras'\"],\n",
       "  'Ieda Maria Alves': [\"'Lexicologia e Lexicografia'\",\n",
       "   \"'Semestre sabático para o desenvolvimento do Projeto Estudo e divulgação da terminologia da Covid-19'\",\n",
       "   \"'Lexicologia e Terminologia do Português'\"],\n",
       "  'Manoel Mourivaldo Santiago Almeida': [\"'História e descrição do português em Mato Grosso'\",\n",
       "   \"'Filologia portuguesa'\",\n",
       "   \"'Estudos diacrônicos e sincrônicos do português'\",\n",
       "   \"'Léxico do português'\"],\n",
       "  \"Marcelo Módolo' \": [\"'Filologia Portuguesa'\",\n",
       "   \"'Gramática do português e de línguas em contato'\"],\n",
       "  'Márcia Santos Duarte de Oliveira': [\"'Gramática do português e de línguas em contato'\"],\n",
       "  'Maria Célia Pereira Lima-Hernandes': [\"'Linguística Histórica e fatores cognitivos'\",\n",
       "   \"'Linguagem pragmática e alzheimer - gramática e usos'\",\n",
       "   \"'Línguas de Herança e línguas pluricêntricas'\",\n",
       "   \"'Gramáticas do Português e Línguas em Contato'\"],\n",
       "  'Maria Clara Paixão de Sousa ': [\"'Sintaxe das Línguas Naturais'\",\n",
       "   \"'Estudos Diacrônicos e Sincrônicos do Português'\"],\n",
       "  'Maria Inês Batista Campos Noel Ribeiro': [\"'Análise dialógica do discurso'\",\n",
       "   \"'Linguística Textual e Teorias do Discurso no Português'\"],\n",
       "  'Maria Lúcia da Cunha Victório de Oliveira Andrade': [\"'Estudos do Discurso em Língua Portuguesa'\"],\n",
       "  'Mariangela de Araujo ': [\"'Léxico do Português'\"],\n",
       "  'Marilza de Oliveira': [\"'Linguística histórica'\",\n",
       "   \"'Sintaxe'\",\n",
       "   \"'História social'\",\n",
       "   \"'Morfologia lexical'\"],\n",
       "  'Mário Eduardo Viaro': [\"'Estudos diacrônicos e sincrônicos do português',\",\n",
       "   \"'Léxico do português'\"],\n",
       "  'Marli Quadros Leite': [\"'História e historiografia do português',\",\n",
       "   \"'Linguística textual e teorias do discurso no português'\"],\n",
       "  'Paulo Roberto Gonçalves Segundo ': [\"'Linguística Textual e Teorias do Discurso no Português'\"],\n",
       "  'Phablo Roberto Marchis Fachin ': [\"'Filologia Portuguesa'\",\n",
       "   \"'Linguística Histórica'\",\n",
       "   \"'Paleografia'\",\n",
       "   \"'História da Língua Portuguesa'\"],\n",
       "  'Priscila Loyde Gomes Figueiredo ': [\"'Literatura e escravidão'\"],\n",
       "  \"Ricardo Souza de Carvalho' \": [\"'Poesia brasileira do século XX'\",\n",
       "   \"'Literatura Brasileira na passagem dos séculos XIX-XX'\",\n",
       "   \"'Literatura e Historiografia'\"],\n",
       "  'Rosane de Sá Amado': [\"'Estudos de Linguística Aplicada do Português'\"],\n",
       "  'Sheila Vieira de Camargo Grillo': [\"'Linguística Textual e Teorias do Discurso no Português'\"],\n",
       "  'Sílvio de Almeida Toledo Neto': [\"'Filologia do Português'\"],\n",
       "  'Vanessa Martins do Monte ': [\"'Filologia Portuguesa'\",\n",
       "   \"'Estudos sincrônicos e diacrônicos do português'\",\n",
       "   \"'Fontes para a História da Língua Portuguesa: edição de manuscritos dos períodos médio e clássico (2011-2018)'\",\n",
       "   \"'Etimologia e História da Língua Portuguesa (vinculada ao NEHiLP)'\"],\n",
       "  'Verena Kewitz ': [\"'História e Historiografia do Português'\",\n",
       "   \"'Filologia do Português'\"],\n",
       "  'Waldemar Ferreira Netto': [\"'Estudos de linguística aplicada ao português'\"]},\n",
       " 'FILOLOGIA ROMÂNICA:': {'Luiz Antônio Lindo': [\"'Interpretação de textos e contextos culturais americanos'\",\n",
       "   \"'Filologia e tradução'\",\n",
       "   \"'Filologia italiana'\",\n",
       "   \"'Cultura e linguagem no espaço e tempo italiano'\",\n",
       "   \"'Cultura e linguagem latino-americana'\"],\n",
       "  'Valéria Gil Condé': [\"'Estudos sincrônicos e diacrônicos do português `comparados às línguas iberorromânicas'\"]},\n",
       " 'LETRAS CLÁSSICAS:': {},\n",
       " 'Língua e literatura grega:': {'Adriane da Silva Duarte': [\"'Literatura Grega'\",\n",
       "   \"'Língua Grega'\",\n",
       "   \"'Poesia e prosa greco-latina'\",\n",
       "   \"'Teatro greco-latino'\"],\n",
       "  \"Adriano Machado Ribeiro' \": [\"'Platão e a dialética'\",\n",
       "   \"'A retórica latina'\",\n",
       "   \"'Sofística e Retórica'\"],\n",
       "  'Andre Malta Campos': [],\n",
       "  'Breno Battistin Sebastiani': [\"'Poesia e prosa greco-latina'\",\n",
       "   \"'Libertad, imperio y civilización. Una aproximación conceptual a la construcción occidental de la historia antigua clásica'\",\n",
       "   \"'Arti, linguaggi e media: tradurre e transcodificare'\",\n",
       "   \"'Estudos gregos'\"],\n",
       "  'Christian Werner': [\"'Poesia e prosa greco-latina'\"],\n",
       "  'Daniel Rossi Nunes Lopes': [\"'Filosofia antiga'\",\n",
       "   \"'Oratória grega'\",\n",
       "   \"'Historiografia grega'\",\n",
       "   \"'História do pensamento político grego'\",\n",
       "   \"'Tradução'\"],\n",
       "  'Fernando Rodrigues Junior': [\"'Literatura Helenística'\",\n",
       "   \"'Epopéia'\",\n",
       "   \"'Calímaco'\",\n",
       "   \"'Apolônio de Rodes'\",\n",
       "   \"'Teócrito'\",\n",
       "   \"'Poesia Bucólica'\",\n",
       "   \"'Epigrama'\"],\n",
       "  'Giuliana Ragusa de Faria': [\"'Poesia grega antiga' \",\n",
       "   \"'Recepção dos clássicos'\"],\n",
       "  'José Antonio Alves Torrano': [\"'Poesia e prosa greco-latina'\",\n",
       "   \"'O discurso teórico greco-latino'\"],\n",
       "  'José Marcos Mariani de Macedo': [\"'Língua e literatura grega'\",\n",
       "   \"'Linguística indo-europeia'\"],\n",
       "  'Luise Marion Frenkel ': [\"'Antiguidade Tardia: historiografia e polêmica em contexto'\",\n",
       "   \"'Literatura Patrística e Bizantina'\",\n",
       "   \"'Recepção de obras gregas em siríaco'\"],\n",
       "  'Mary Macedo de Camargo Neves Lafer': [],\n",
       "  'Paula da Cunha Corrêa': [\"'A lírica marcial de Arquíloco'\",\n",
       "   \"'A Fábula Arcaica: Arquíloco de Paros'\",\n",
       "   \"'Líder de Grupo de Pesquisa CNPq: Estudos sobre jambo, elegia, mélica e música na Antiguidade Clássica'\",\n",
       "   \"'A fábula: a teoria do gênero e a ética e a moralidade na Grécia arcaica'\",\n",
       "   \"'Narrativas e imagens eróticas nos fragmentos de Arquíloco'\",\n",
       "   \"'Bolsa de Pós-doutorado (Fapesp): Arquíloco de Paros e a fábula arcaica'\",\n",
       "   \"'Bolsa SWE CNPq: Os poemas marciais de Arquíloco'\",\n",
       "   \"'Poesia grega arcaica'\",\n",
       "   \"'Lírica grega: Arquíloco e a fábula arcaica'\"]},\n",
       " 'Língua e literatura latina:': {'Adriano Aprigliano': [\"'Poesia e gramática sânscrita'\"],\n",
       "  'Alexandre Pinheiro Hasegawa': [\"'Discurso teórico greco-latino'\"],\n",
       "  'Adriano Scatolin': [\"'Retórica Antiga'\", \"'Marco Túlio Cícero'\"],\n",
       "  'Elaine Cristine Sartorelli': [\"'O discurso teórico greco-latino'\"],\n",
       "  'João Angelo Oliva Neto': [\"'Poesia clássica'\",\n",
       "   \"'Gêneros literários'\",\n",
       "   \"'Grupo de Estudos de Poesia, Poética e Tradução de Textos Latinos e Gregos. Este grupo de pesquisa é o cadastrado no CNPQ'\"],\n",
       "  'José Eduardo dos Santos Lohner': [\"'Poesia e prosa greco-latina'\"],\n",
       "  'José Rodrigues Seabra Filho': [\"'Gramática Latina' \",\n",
       "   \"'Tradução de textos do latim clássico'\"],\n",
       "  'Marcelo Vieira Fernandes': [\"'Poesia e prosa técnica antiga, grega e latina' \",\n",
       "   \"'Poética e estilística antiga, grega e latina'\"],\n",
       "  'Marcos Martinho dos Santos': [\"'Retórica'\",\n",
       "   \"'Poética'\",\n",
       "   \"'História das doutrinas gramaticais'\",\n",
       "   \"'Mitografia'\"],\n",
       "  'Marly de Bari Matos': [\"'Discurso teórico greco-latino'\",\n",
       "   \"'Modelos discursivos clássicos'\"],\n",
       "  'Pablo Schwartz Frydman': [\"'Discurso Teórico Grecolatino'\"],\n",
       "  'Paulo Martins': [\"'Discurso Teórico Greco-Latino'\",\n",
       "   \"'Poesia lírica, satírica e didática'\",\n",
       "   \"'A Elegia Romana'\"],\n",
       "  'Ricardo da Cunha Lima': [\"'Discurso teórico greco-latino'\",\n",
       "   \"'Poesia e prosa greco-latina'   \"],\n",
       "  'Robson Tadeu Cesila': [\"'Poesia e prosa greco-latina'\"],\n",
       "  'Sidney Calheiros de Lima': [\"'Relações entre retórica e filosofia no mundo romano'\",\n",
       "   \"'Estudo das línguas e dos textos clássicos'\"]},\n",
       " 'LÍNGUA E LITERATURA SÂNSCRITA:': {'Adriano Aprigliano': [\"'Poesia e gramática sânscrita'\"]},\n",
       " 'LÍNGUAS INDÍGENAS (Toponímia e tupi):': {'Eduardo de Almeida Navarro': [],\n",
       "  'Patricia de Jesus Carvalhinhos': [\"'Léxico do Português'\",\n",
       "   \"'Lexicologia e terminologia do português'\",\n",
       "   \"'Estudos Diacrônicos e Sincrônicos do Português'\"]},\n",
       " 'LITERATURA BRASILEIRA:': {'André Luís Rodrigues': [\"'A prosa no Brasil'\"],\n",
       "  'Augusto Massi': [\"'A poesia no Brasil'\", \"'A prosa no Brasil'\"],\n",
       "  'Cilaine Alves Cunha': [\"'A Poesia no Brasil'\", \"'A prosa no Brasil'\"],\n",
       "  'Eliane Robert Moraes': [\"'Estética e Cultura'\",\n",
       "   \"'A Prosa no Brasil'\",\n",
       "   \"'Literatura, as Demais Artes e Outras Áreas de Conhecimento'\",\n",
       "   \"'A Poesia no Brasil'\",\n",
       "   \"'Sexe, sexualité - De la pratique sociale à la représentation littéraire'\"],\n",
       "  'Erwin Torralbo Gimenez': [],\n",
       "  'Hélio de Seixas Guimarães': [\"'Historiografia e crítica literárias'\",\n",
       "   \"'A prosa no Brasil'\"],\n",
       "  'Ivan Francisco Marques': [\"'Literatura, as demais artes e outras áreas de conhecimento'\",\n",
       "   \"'A poesia no Brasil'\"],\n",
       "  'Jaime Ginzburg': [\"'Ensino de Literatura Brasileira'\",\n",
       "   \"'Literatura e autoritarismo'\",\n",
       "   \"'Literatura e outros sistemas'\",\n",
       "   \"'Literatura e Violência'\",\n",
       "   \"'Sociologia da Literatura'\",\n",
       "   \"'Literatura e História'\",\n",
       "   \"'Literatura e outros sistemas'\",\n",
       "   \"'Latin American Literary and Cultural Studies'\",\n",
       "   \"'Violência e cultura'\",\n",
       "   \"'Cinema contemporaneo'\"],\n",
       "  'Marcos Roberto Flamínio Peres': [\"'Romantismo'\",\n",
       "   \"'José de Alencar'\",\n",
       "   \"'Machado de Assis'\",\n",
       "   \"'Walter Scott'\",\n",
       "   \"'Século XIX'\",\n",
       "   \"'Teoria da literatura'\"],\n",
       "  'Marise Soares Hansen': [\"'Crítica literária'\"],\n",
       "  'Murilo Marcondes de Moura': [\"'Relações entre literatura e história'\",\n",
       "   \"'Trabalhos comparativos entre poesia brasileira e francesa'\"],\n",
       "  \"Simone Rossinetti Rufinoni' \": [\"'Prosa no Brasil'\", \"'Poesia no Brasil'\"],\n",
       "  'Vagner Camilo': [\"'Vertentes da lírica moderna no Brasil'\",\n",
       "   \"'Vertentes da lírica romântica no Brasil'\",\n",
       "   \"'Recepção das Idéias Críticas no Brasil'\"],\n",
       "  'Yudith Rosenbaum': [\"'A prosa no Brasil'\",\n",
       "   \"'Literatura, as demais artes e áreas do conhecimento'\"]},\n",
       " 'LITERATURA COMPARADA EM LÍNGUA PORTUGUESA:': {'Emerson da Cruz Inácio': [\"'Literatura e outras formas do saber'\"],\n",
       "  'Fabiana Buitor Carelli Marquezini': [\"'Post-colonial literatures in Portuguese'\",\n",
       "   \"'Cinema Africano de Língua Portuguesa'\",\n",
       "   \"'Literatura e outras formas do saber'\",\n",
       "   \"'Escrita Criativa'\"],\n",
       "  'Vima Lia de Rossi Martin': [\"'Literatura e outras formas do saber'\",\n",
       "   \"'Literatura e experiência histórica nos países de língua portuguesa'\"]},\n",
       " 'LITERATURA INFANTIL E JUVENIL:': {'José Nicolau Gregorin Filho': [\"'Literatura Infantil/Juvenil em língua portuguesa'\"],\n",
       "  'Maria dos Prazeres Santos Mendes': [\"'A literatura e outras formas do saber'\"],\n",
       "  'Maria Zilda da Cunha': [\"'A literatura e outras formas do saber'\"]},\n",
       " 'LITERATURAS AFRICANAS DE LÍNGUA PORTUGUESA:': {'Rejane Vecchia': [\"'Literatura, Cultura e Sociedade'\",\n",
       "   \"'Literatura e experiência histórica nos países de língua portuguesa'\",\n",
       "   \"'A África no Brasil e o Brasil na África: novos horizontes'\"],\n",
       "  \"Mário César Lugarinho' \": [\"'Literatura e vida cultural'\",\n",
       "   \"'Literatura, outras artes e indústria cultural'\",\n",
       "   \"'Literatura e sociedade nos países de Língua Portuguesa'\",\n",
       "   \"'Literatura e experiência histórica nos países de língua portuguesa'\",\n",
       "   \"'Gender, Normativity, Representations (GENORE)'\",\n",
       "   \"'Intersexualidades'\"]},\n",
       " 'ESTUDOS COMPARADOS DE LITERATURAS DE LÍNGUA PORTUGUESA:': {'Fabiana Buitor Carelli Marquezini': [\"'Post-colonial literatures in Portuguese'\",\n",
       "   \"'Cinema Africano de Língua Portuguesa'\",\n",
       "   \"'Literatura e outras formas do saber'\",\n",
       "   \"'Escrita Criativa'\",\n",
       "   '  '],\n",
       "  'Helder Garmes': [\"'Cânone: tradições / reconfigurações'\",\n",
       "   \"'Literatura e experiência histórica nos países de língua portuguesa'\"],\n",
       "  'José Horácio de Almeida Nascimento Costa': [\"'Criação literária e crítica criativa'\",\n",
       "   \"'Diálogos e conexões: outras artes, saberes e cenários'\",\n",
       "   \"'Estudos de Gênero: vozes emergentes'\"],\n",
       "  'José Nicolau Gregorin Filho': [\"'Literatura e Experiência Histórica nos países de Língua Portuguesa'\"],\n",
       "  'Maria dos Prazeres Santos Mendes': [\"'Literatura e outras formas do saber'\"],\n",
       "  'Maria Zilda da Cunha': [\"'Literatura e outras formas do saber'\"],\n",
       "  'Paulo Fernando da Motta de Oliveira': [\"'Literatura, História e Memória Cultural'\",\n",
       "   \"'Poéticas da Modernidade'\",\n",
       "   \"'Polifonia e diacronia na prosa, na poesia e no teatro de expressão portuguesa'\",\n",
       "   \"'Literatura e experiência histórica nos países de língua portuguesa'\"],\n",
       "  'Rosangela Sarteschi ': [\"'Literatura e experiência histórica nos países de língua portuguesa'\",\n",
       "   \"'Literatura e ensino: a Lei 11.645/08 em perspectiva'\",\n",
       "   \"'Literatura e vida social nos países de língua portuguesa'\",\n",
       "   \"'A África no Brasil e o Brasil na África: novos horizontes'\"],\n",
       "  'Vima Lia de Rossi Martin': [\"'Literatura e outras formas do saber'\",\n",
       "   \"'Literatura e experiência histórica nos países de língua portuguesa'\"]},\n",
       " 'LITERATURA PORTUGUESA:': {'Adma Fadul Muhana': [\"'Diálogos e conexões: outras artes, saberes e cenários:'\",\n",
       "   \"'Cânones: tradições/reconfigurações'\",\n",
       "   \"'Criação literária e Crítica criativa'\"],\n",
       "  'Annie Gisele Fernandes': [\"'Coordenação Acadêmica da LInha de Pesquisa Estudios Hispano-Portugueses.',\",\n",
       "   \"'Cânones: tradições/reconfigurações'\",\n",
       "   \"'Diálogos e conexões: outras artes, saberes e cenários'\"],\n",
       "  'Aparecida de Fátima Bueno': [\"'Estudos Culturais'\",\n",
       "   \"'Literatura e religião'\",\n",
       "   \"'Literatura e Outras Formas de Saber'\",\n",
       "   \"'Cânones: tradições/reconfigurações'\",\n",
       "   \"'Diálogos e conexões: outras artes, saberes e cenários'\",\n",
       "   '  '],\n",
       "  'Caio Márcio Poletti Lui Gagliardi': [\"'Cânones: tradições/reconfigurações'\",\n",
       "   \"'Diálogos e conexões: outras artes, saberes e cenários'\",\n",
       "   '  '],\n",
       "  'Flavia Maria Ferraz Sampaio Corradin': [\"'Cânones: tradições/reconfigurações: Estudos da história da Literatura Portuguesa, a partir de suas tradições, com ênfase em releituras e reconfigurações do cânone, com a finalidade de augurar novas possibilidades historiográficas e interpretativas'\",\n",
       "   \"'Diálogos e conexões: outras artes, saberes e cenários'\"],\n",
       "  'Helder Garmes': [\"'Cânone: tradições / reconfigurações'\",\n",
       "   \"'Literatura e experiência histórica nos países de língua portuguesa'\"],\n",
       "  'José Horácio de Almeida Nascimento Costa': [\"'Criação literária e crítica criativa'\",\n",
       "   \"'Diálogos e conexões: outras artes, saberes e cenários'\",\n",
       "   \"'Estudos de Gênero: vozes emergentes'\"],\n",
       "  'Lilian Jacoto': [\"'Criação literária e crítica criativa'\",\n",
       "   \"'Group 4 ? Literature and Culture in InterArts'\"],\n",
       "  'Marcia Maria de Arruda Franco': [\"'Cânones: tradições/reconfigurações'\",\n",
       "   \"'Diálogos e conexões: outras artes, saberes e cenários.'\",\n",
       "   \"'Estudos de gênero: vozes emergentes'\",\n",
       "   \"'Poemas herói-cômicos'\"],\n",
       "  'Marlise Vaz Bridi': [\"'Estudos de Gêneros: vozes emergentes'\"],\n",
       "  'Mônica Muniz de Souza Simas': [\"'Cânones e Margens (2001-2003 PUC - RJ)'\",\n",
       "   \"'Tradição e Ruptura (2001-2003 PUC-RJ)'\",\n",
       "   \"'Poéticas de Expressão Portuguesa (2003-2010)'\",\n",
       "   \"'Diálogos e conexões: outras artes, saberes e cenários'\"],\n",
       "  'Paola Poma': [\"'Estudos de gêneros: vozes emergentes'\",\n",
       "   \"'Cânones: tradições /reconfigurações'\"],\n",
       "  'Paulo Fernando da Motta de Oliveira': [\"'Literatura, História e Memória Cultural'\",\n",
       "   \"'Poéticas da Modernidade'\",\n",
       "   \"'Polifonia e diacronia na prosa, na poesia e no teatro de expressão portuguesa'\",\n",
       "   \"'Literatura e experiência histórica nos países de língua portuguesa'\"]},\n",
       " 'DEPARTAMENTO DE LETRAS MODERNAS ': {},\n",
       " 'LÍNGUA E LITERATURA ALEMÃ:': {'Dorthe Uphoff ': [\"'Ensino/Aprendizagem de Alemão como Língua Estrangeira'\",\n",
       "   \"'Zeitgeist: Língua Alemã em Contextos Universitários'\"],\n",
       "  'Helmut Paul Erich Galle ': [\"'GT ANPOLL Literaturas Estrangeiras'\",\n",
       "   \"'Germanística interdisciplinar'\"],\n",
       "  'Jose da Silva Simões ': [\"'Formação de Corpora do Português Paulista'\",\n",
       "   \"'Estudos contrastivos português/alemão: classes de palavras textos e história'\",\n",
       "   \"'Aquisição de alemão como língua estrangeira: aprendizagem e ensino'\",\n",
       "   \"'O ensino de alemão no Brasil: passado, presente e futuro'\",\n",
       "   \"'Aquisição de alemão como língua estrangeira: aprendizagem e ensino'\"],\n",
       "  'Juliana Pasquarelli Perez ': [\"'Estudos de Literatura, Cultura e Tradução (Pós-Graduação em Língua e Literatura Alemã/FFLCH/USP)'\",\n",
       "   \"'Discurso e transculturalidade (Programa Interdisciplinar em Linguística Aplicada/UFRJ)'\",\n",
       "   \"'Projeto - Chiaroscuro: Configurações do drama da razão na poesia de Bruno Tolentino'\"],\n",
       "  'Lucas Takeo Shimoda': [],\n",
       "  'Magdalena Nowinska ': [\"'Estudos de literatura, cultura e tradução'\"],\n",
       "  'Marceli Cherchiglia Aquino ': [\"'Alemão como Língua Adicional'\",\n",
       "   \"'Partículas Modais Alemãs'\",\n",
       "   \"'Estudos contrastivos Alemão / Português'\",\n",
       "   \"'Modalidade em língua alemã e portuguesa'\",\n",
       "   \"'Linguística Aplicada'\",\n",
       "   \"'Pragmática'\",\n",
       "   \"'Centro interdepartamental de Línguas: Interações Teletandem para o desenvolvimento linguístico e cultural dos estudantes'\",\n",
       "   \"'Cooperação com a FU Berlin no programa de Teletandem'\"],\n",
       "  'Mariana Kuntz de Andrade e Silva ': [\"'Zeitgeist: Língua Alemã em Contextos Universitários'\"]},\n",
       " 'LÍNGUA ESPANHOLA E LITERATURAS ESPANHOLA E HISPANO-AMERICANA:': {'Adrián Pablo Fanjul': [\"'Língua espanhola: descrição, funcionamento e processos interculturais'\",\n",
       "   \"'Estudos comparados entre o português brasileiro e o espanhol'\"],\n",
       "  'Adriana Kanzepolsky': [\"'Os romances de artista: uma ficção na modernidade'\",\n",
       "   \"'Memórias/Autobiografia'\",\n",
       "   \"'Escritores Hispano-Americanos'\",\n",
       "   \"'Memória/comida/língua/casa'\",\n",
       "   \"'Memória e ficção'\",\n",
       "   \"'Romance memorialístico'\",\n",
       "   \"'Tununa Mercado, Margo Glantz, Mauricio Rosencof, Milton Hatoum' \"],\n",
       "  'Ana Cecilia Olmos': [\"'Cultura latino-americana'\",\n",
       "   \"'Literatura argentina'\",\n",
       "   \"'Discurso crítico'\",\n",
       "   \"'Ensaio hispano-americano' \",\n",
       "   \"'Narrativa hispano-americana'\",\n",
       "   \"'Revistas culturais latino-americanas'\"],\n",
       "  'Benivaldo José de Araújo Júnior': [\"'Comparação entre o português brasileiro e o espanhol'\"],\n",
       "  'Gabriel Adams Castelo Branco Aragão': [\"'Ensino de português e espanhol'\"],\n",
       "  'Heloísa Pezza Cintrão': [\"'Estudos e práticas em tradução'\",\n",
       "   \"'Tradução e corpora'\",\n",
       "   \"'Estudos tradutológicos, comparados e de processos interculturais'\"],\n",
       "  'Idalia Morejón Arnaiz': [\"'Problemáticas estéticas e debates críticos na literatura latino-americana'\"],\n",
       "  \"John Lionel O'Kuinghttons Rodriguez\": [\"'Literatura Espanhola e Linguística do Espanhol'\",\n",
       "   \"'Ensino de espanhol, literatura, linguística, fonética e gramática'\"],\n",
       "  'Laura Janina Hosiasson': [\"'Problemas ético-estéticos na narrativa hispano-americana'\",\n",
       "   \"'A Literatura Hispano-americana como processo: problemáticas estéticas e debates críticos'\"],\n",
       "  'Margareth dos Santos': [\"'Formas e processos na literatura espanhola'\"],\n",
       "  'Maria Augusta da Costa Vieira': [\"'A Literatura Espanhola da Idade Média ao Século XVII'\",\n",
       "   \"'Estudo Comparado das produções culturais ibero-americanas'\",\n",
       "   \"'Cervantes: poética, retórica e formas discursivas na Espanha dos séculos XVI e XVII'\"],\n",
       "  'María Teresa Celada': [\"'Aquisição/aprendizagem do espanhol como língua estrangeira'\",\n",
       "   \"'Subjetividade e Estado'\"],\n",
       "  \"Mônica Ferreira Mayrink O'Kuinghttons\": [\"'Estudos sobre funcionamento linguístico, aquisição, ensino e aprendizagem'\"],\n",
       "  'Pablo Fernando Gasparini': [\"'Exílio'\",\n",
       "   \"'Imigração'\",\n",
       "   \"'Efeitos simbólicos e materiais do deslocamento linguístico/literário'\"]},\n",
       " 'ESTUDOS LINGUÍSTICOS, LITERÁRIOS E TRADUTOLÓGICOS EM FRANCÊS:': {'Adriana Zavaglia ': [\"'Lexicologia e Lexicografia'\",\n",
       "   \"'Terminologia'\",\n",
       "   \"'Teoria das Operações Enunciativas'\",\n",
       "   \"'Tradução e condicionantes culturais'\"],\n",
       "  'Alexandre Bebiano de Almeida ': [\"'Brépols franco-brasileiro - Projeto temático financiado pela FAPESP'\",\n",
       "   \"'Laboratório do Manuscrito Literário - grupo de pesquisa'\",\n",
       "   \"'Relações França-Brasil'\"],\n",
       "  'Álvaro Silveira Faleiros ': [\"'Tradução: produtos e processos em contexto'\",\n",
       "   \"'Tradução e poética'\"],\n",
       "  'Caio Leal Messias': [\"'Literatura francesa'\"],\n",
       "  'Claudia Consuelo Amigo Pino ': [\"'Estudos literários'\"],\n",
       "  'Cristina Moerbeck Casadei Pietraroia ': [\"'Aquisição e didática do Francês Língua Estrangeira'\"],\n",
       "  'Eliane Gouvêa Lousada ': [\"'Formação contínua de professores / Formação de novos professores'\",\n",
       "   \"'Formação de novos professores'\",\n",
       "   \"'Estudos Linguísticos e Didáticos'\",\n",
       "   \"'Linguagem e trabalho'\"],\n",
       "  'Heloisa Brito de Albuquerque Costa ': [\"'Tecnologias da Informação e da Comunicação e o ensino de línguas (TIC)'\",\n",
       "   \"'Línguas estrangeiras, culturas e interculturalidade'\",\n",
       "   \"'Ensino da língua francesa para Objetivo Específico (FOS) e Universitário (FOU)'\"],\n",
       "  'Lívia Miranda de Paulo': [\"'Ensino-aprendizagem de línguas aparentadas por meio da abordagem plural da Intercompreensão em contexto universitário'\"],\n",
       "  'Paulo Roberto Massaro ': [\"'Estudos linguísticos e didáticos'\"],\n",
       "  'Véronique Marie Braun Dahlet': [\"'Identidade e subjetividade' \",\n",
       "   \"'Línguas e percursos de vida'\",\n",
       "   \"'Enunciação e subjetividade nos discursos universitários'\"]},\n",
       " 'ESTUDOS LINGUÍSTICOS E LITERÁRIOS EM INGLÊS:': {'Daniel de Mello Ferraz ': [\"'Educação Crítica de Línguas Estrangeiras'\",\n",
       "   \"'Letramentos - Letramento Visual'\",\n",
       "   \"'Linguística Aplicada Crítica'\"],\n",
       "  'Daniel Puglia ': [\"'Relações entre literatura, cultura, história e filosofia'\"],\n",
       "  'Elizabeth Harkot de La Taille ': [\"'Linguagem e Cultura'\",\n",
       "   \"'Vergonha, honra e orgulho sob a perspectiva da semiótica discursiva'\",\n",
       "   \"'Paixões de imagem sob a perspectiva da semiótica discursiva'\",\n",
       "   \"'Desenvolvimento Humano e Moralidade'\",\n",
       "   \"'Linguagem, educação e sociedade'\"],\n",
       "  'Fabiana Valeria da Silva Tavares': [\"'Estudos de cultura' \",\n",
       "   \"'Literatura infantil e juvenil' \",\n",
       "   \"'Literaturas de língua inglesa' \",\n",
       "   \"'Literatura brasileira' \",\n",
       "   \"'Língua inglesa'\",\n",
       "   \"'Redação acadêmica em inglês'\"],\n",
       "  'Laura Patricia Zuntini de Izarra ': [\"'Literatura e História'\",\n",
       "   \"'Literatura e Cultura'\",\n",
       "   \"'Estudos de Cultura'\",\n",
       "   \"'Ficção e Poesia Irlandesa'\",\n",
       "   \"'Literatura e História: As revoluções  na Irlanda e na Índia'\",\n",
       "   \"'Diáspora irlandesa'\",\n",
       "   \"'Inmigração irlandesa na América do Sul'\",\n",
       "   \"'Roger Casement'\",\n",
       "   \"'Diáspora Irlandesa'\",\n",
       "   \"'William Bulfin'\"],\n",
       "  'Lenita Maria Rimoli Pisetta': [\"'Tradução e Ética'\",\n",
       "   \"'Historiografia da Tradução'\",\n",
       "   \"'Tradução Literária'\",\n",
       "   \"'Literatura Brasileira Traduzida para o Inglês'\"],\n",
       "  'Luciana Carvalho Fonseca': [\"'Tradução na intersecção entre poder e ativismo'\",\n",
       "   \"'Tradução feminista decolonial'\",\n",
       "   \"'Historiografia da tradução'\",\n",
       "   \"'Tradução jurídica, escrita acadêmica em inglês'  \",\n",
       "   \"'Língua inglesa nas instituições de ensino superior'\"],\n",
       "  'Marcos Cesar de Paula Soares ': [\"'Literatura e outras artes'\",\n",
       "   \"'Narrativa e capital financeiro'\",\n",
       "   \"'Literatura e Cinema'\"],\n",
       "  'Maria Elisa Burgos Pereira da Silva Cevasco ': [\"'Viagens teóricas'\",\n",
       "   \"'Ficção e história'\",\n",
       "   \"'Estudos de cultura'\"],\n",
       "  'Marilia Mendes Ferreira ': [\"'Ensino-aprendizagem de língua estrangeira sob a ótica sócio-cultural'\",\n",
       "   \"'Letramento Acadêmico em seus múltiplos aspectos'\"],\n",
       "  'Mayumi Denise Senoi Ilari ': [\"'Pesquisas socioeconômicas e educacionais (1997-2003)'\",\n",
       "   \"'Literatura e História (Dramaturgias Britânica e Norte-americana: Formas da História)'\",\n",
       "   \"'Literatura e História (Teatro e Sociedade na Cena Contemporânea)'\"]},\n",
       " 'LÍNGUA E LITERATURA ITALIANA:': {'Angela Maria Tenorio Zucchi': [\"'Aquisição e aprendizagem do italiano como língua estrangeira'\",\n",
       "   \"'Tradução e corpora, PPG Estudos da Tradução'\",\n",
       "   \"'O italiano falado e escrito sob a perspectiva brasileira'\"],\n",
       "  'Adriana Iozzi Klein ': [\"'Narrativas Estrangeiras Modernas'\",\n",
       "   \"'Ensino de Língua e Literatura Italiana'\",\n",
       "   \"'Literatura e Cultura Italianas'\"],\n",
       "  'Maria Cecilia Casini ': [\"'Aquisição e aprendizagem do italiano como língua estrangeira'\",\n",
       "   \"'Literatura e cultura italianas'\"],\n",
       "  'Elisabetta Antonietta Rita Maria Carmela Santoro ': [\"'O italiano falado e escrito sob a perspectiva brasileira'\",\n",
       "   \"'Aquisição e aprendizagem do italiano como língua estrangeira'\"],\n",
       "  'Fernanda Landucci Ortale ': [\"'Novas Metodologias na Formação Inicial de Professores de Língua Estrangeira'\",\n",
       "   \"'Discurso e interação em sala de aula de língua estrangeira'\"],\n",
       "  'Giliola Maggio ': [\"'O italiano falado e escrito no Brasil'\"],\n",
       "  'Lucia Wataghin ': [\"'Literatura Italiana Traduzida'\"],\n",
       "  'Mauricio Santana Dias': [\"'Literatura Comparada' \",\n",
       "   \"'Teoria Literária'  \",\n",
       "   \"'Estudos da Tradução'\"],\n",
       "  'Roberta Barni ': [\"'Literatura e Cultura Italianas'\",\n",
       "   \"'Tradução e poética'\"]},\n",
       " 'DEPARTAMENTO DE LETRAS ORIENTAIS': {},\n",
       " 'LÍNGUA E LITERATURA ÁRABE:': {'Arlene Elizabeth Clemesha ': [\"'Edward Said e o Orientalismo'\",\n",
       "   \"'História da Palestina Moderna'\",\n",
       "   \"'Relações Brasil - Oriente Médio'\",\n",
       "   \"'História Árabe Contemporânea'\"],\n",
       "  'Mamede Mustafa Jarouche': [\"'Antologia de Textos Árabes com Elementos de Gramática'\",\n",
       "   \"'Literatura Árabe'\",\n",
       "   \"'Língua Árabe'\",\n",
       "   \"'Tradução Árabe/Português'\"],\n",
       "  'Michel Sleiman ': [\"'Estudos corânicos: tradução e crítica'\",\n",
       "   \"'Poética Árabe Medieval'\",\n",
       "   \"'Estudos e Tradução da Poesia Árabe'\"],\n",
       "  'Miguel Attie Filho ': [\"'Tradução e Pesquisa : Filosofia  e Ciências Árabes'\",\n",
       "   \"'Tradução e Pesquisa : Estudos sobre o Pensamento'\"],\n",
       "  'Mona Mohamad Hawi ': [\"'Ensino -aprendizagem/ Aquisição de Línguas'\",\n",
       "   \"'Ideias bakhtinianas em diálogo'\",\n",
       "   \"'Ensino/aprendizagem/avaliação e formação de professores de línguas estrangeiras'\"],\n",
       "  'Paulo Daniel Elias Farah ': [\"'Tradução da literatura árabe para o português e análise crítica'\",\n",
       "   \"'A imigração árabe no Brasil: integração, assimilação e aculturação'\",\n",
       "   \"'A prosa e a poesia árabe contemporânea'\",\n",
       "   \"'Língua Árabe'\",\n",
       "   \"'Imigrantes e refugiados árabes e africanos no Brasil e no mundo'\",\n",
       "   \"'Muçulmanos e árabes na África e a África no Brasil e o Brasil na África'\"],\n",
       "  'Safa Alferd Abou Chahla Jubran ': [\"'Estudos linguísticos do árabe'\",\n",
       "   \"'Árabe e Hebraico no  Contexto das Línguas semíticas'\",\n",
       "   \"'Estudos literários e culturais'\",\n",
       "   \"'Estudos da Tradução'\",\n",
       "   \"'Tradução e estudos críticos das fontes árabes'\"]},\n",
       " 'LÍNGUA E LITERATURA ARMÊNIA:': {'Deize Crespim Pereira': [\"'Sociolinguística' \",\n",
       "   \"'Linguística Funcional' \",\n",
       "   \"'Semântica Cognitiva' \",\n",
       "   \"'Sintaxe do Português Popular Oral' \",\n",
       "   \"'Identidade Cultural' \",\n",
       "   \"'Tradução Literária (Armênio-Português)' \",\n",
       "   \"'História, Cultura e Literatura Armênia'\"],\n",
       "  'Lusine Yeghiazaryan ': [\"'A História da Tipografia nos países da Diáspora Armênia'\",\n",
       "   \"'Língua e cultura armênia'\",\n",
       "   \"'Gramática gerativa'\"]},\n",
       " 'LÍNGUA E LITERATURA CHINESA:': {'Antonio José Bezerra de Menezes Junior ': [\"'Poesia Chinesa'\",\n",
       "   \"'História da China Moderna'\",\n",
       "   \"'Filosofia Chinesa Antiga'\"],\n",
       "  'Ho Yeh Chia ': [\"'Literatura e Filosofia Chinesa'\"],\n",
       "  'Shu Changsheng ': [\"'História comparada, história do tempo presente'\",\n",
       "   \"'Relações Internacionais Brasil-China'\",\n",
       "   \"'Petróleo e a Segurança Energética da China'\",\n",
       "   \"'Estratégia e Defesa (Brasil-China)'\",\n",
       "   \"'A Geopolítica do Petróleo'\",\n",
       "   \"'História da China'\",\n",
       "   \"'Relações Brasil-China'\",\n",
       "   \"'Relações internacionais China e Ásia Pacífica'\"],\n",
       "  \"Sylvio Roque de Guimarães Horta' \": [\"'Relação pensamento/língua chinesa e o papel do corpo no conhecimento'\",\n",
       "   \"'Conceitos Fundamentais na Filosofia de Tomás de Aquino / A Teoria de David Keirsey'\"]},\n",
       " 'LÍNGUA E LITERATURA COREANA:': {'Yun Jung Im Park': []},\n",
       " 'LÍNGUA E LITERATURA HEBRAICA:': {'Gabriel Steinberg Schvartzman ': [\"'De língua ancestral à língua nacional: Um percurso histórico da Língua Hebraica'.\"],\n",
       "  'Luis Sergio Krausz': [\"'Literatura Hebraica e Judaica'\",\n",
       "   \"'Cultura Judaica'\"],\n",
       "  'Marta Francisca Topel ': [\"'Antropologia Israelense'\",\n",
       "   \"'Cultura Judaica e Judaísmo Paulistano'\",\n",
       "   \"'Judaísmo Contemporâneo'\",\n",
       "   \"'Identidade étnica'\",\n",
       "   \"'A dissidência religiosa no judaísmo e no catolicismo contemporâneas'\",\n",
       "   \"'Fundamentalismos Religiosos'\",\n",
       "   \"'Estudos étnico-raciais'\"],\n",
       "  'Moacir Aparecido Amâncio': [\"'Língua Hebraica, Literatura e Cultura Judaica'\"],\n",
       "  'Reginaldo Gomes de Araújo ': [\"'Estudos targúmicos'\",\n",
       "   \"'Estudos de Bíblia Hebraica'\",\n",
       "   \"'Gramática de aramaico e dialetologia'\",\n",
       "   \"'Gramática histórica do hebraico bíblico e moderno'\",\n",
       "   \"'Lingüística semítica comparada'\"],\n",
       "  'Suzana Chwarts ': [\"'Participação das escavações arqueológicas da cidade portuária de Dor como membro da equipe do Prof. Efraim Stern'\",\n",
       "   \"'Estudos Interdisciplinares da Bíblia Hebraica'\",\n",
       "   \"'Estudos  da Bíblia Hebraica e do Judaísmo na Antiguidade'\",\n",
       "   \"'Projeto Tiberíades- Arqueologia e Multiculturalismo na Galiléia'\"]},\n",
       " 'LÍNGUA E LITERATURA JAPONESA:': {'Eliza Atsuko Tashiro Perez ': [\"'Língua Japonesa e Ensino'\",\n",
       "   \"'Historiografia da Linguística Japonesa'\",\n",
       "   \"'Teoria e Análise Linguística em suas Dimensões Diacrônica e Sincrônica'\",\n",
       "   \"'Culturas em Contato: Inserção e Decodificação'\",\n",
       "   \"'Historiografia da Linguística Japonesa'\"],\n",
       "  'Junko Ota ': [\"'Teoria e análise linguística em suas dimensões diacrônica e sincrônica da língua japonesa'\"],\n",
       "  'Leiko Matsubara Morales ': [\"'Culturas em contato: Inserção e decodificação'\",\n",
       "   \"'Teoria de análise linguística em suas dimensões diacrônica e sincrônica'\"],\n",
       "  'Lilian Mitsuko Yamamoto': [\"'Direitos humanos'\",\n",
       "   \"'Migrações' \",\n",
       "   \"'Direito penal internacional'\",\n",
       "   \"'Direito do mar'\"],\n",
       "  'Neide Hissae Nagae ': [\"'Literatura Japonesa'\",\n",
       "   \"'Língua Instrumental'\",\n",
       "   \"'Pensamento japonês: visões históricas e comparativas'\",\n",
       "   \"'Tradução Linguística e Cultural Japonês-Português'\",\n",
       "   \"'Texto Literário: tradução e estudos críticos'\",\n",
       "   \"'Culturas em Contato: inserção e codificação'\"],\n",
       "  'Shirlei Lica Ichisato Hashimoto ': [\"'Texto Literário: Tradução e/ou Estudos Críticos'\"],\n",
       "  'Wataru Kikuchi ': [\"'Culturas em Contato: Inserção e Decodificação'\",\n",
       "   \"'Teoria e análise linguística em suas dimensões diacrônica e sincrônica da língua japonesa'\"]},\n",
       " 'LÍNGUA E LITERATURA RUSSA:': {'Arlete Orlando Cavaliere Ruesch ': [\"'Estética Teatral e Crítica do Teatro Russo e Soviético'\",\n",
       "   \"'Semiótica da Cultura Russa'\",\n",
       "   \"'Literatura Russa'\"],\n",
       "  'Bruno Barretto Gomide ': [\"'Crítica Literária russa'\",\n",
       "   \"'A Era de Prata da Cultura Russa'\",\n",
       "   \"'A Circulação Transnacional da Literatura Russa'\",\n",
       "   \"'A Emigração Russa'\"],\n",
       "  'Elena Vassina ': [\"'Teoria e Crítica da Literatura e Cultura Russa',\",\n",
       "   \"'Semiótica da Cultura Russa'\"],\n",
       "  'Maria de Fátima Bianchi ': [\"'Teoria e Crítica da Literatura Russa'\"],\n",
       "  'Mario Ramos Francisco Junior': [\"'Literatura e Cultura Russa'\"],\n",
       "  'Noé Silva de Oliveira Queiroz Policarpo Polli': [\"'Estudos Comparados de Português e Russo'\",\n",
       "   \"'Tradução'\",\n",
       "   \"'Literatura e Cultura Russa'  \",\n",
       "   \"'Crítica Literária'\"]},\n",
       " 'DEPARTAMENTO DE LINGUÍSTICA': {'Alexander Yao Cobbinah ': [\"'Descrição de Línguas não Indo-europeias'\",\n",
       "   \"'Estudo do uso, da variação, do contato e da mudança linguística'\"],\n",
       "  'Ana Lucia de Paula Muller ': [\"'Estudos dos processos de aquisição e aprendizagem de línguas'\",\n",
       "   \"'Descrição e análise das línguas não indo-européias'\",\n",
       "   \"'Descrição e análise das línguas indo-europeias'\"],\n",
       "  ' ': [],\n",
       "  'Ana Paula Scher ': [\"'Descrição e análise de línguas indo-europeias'\"],\n",
       "  'Antonio Vicente Seraphim Pietroforte ': [\"'Descrição e análise dos discursos e dos textos verbais e não verbais'\"],\n",
       "  'Beatriz Raposo de Medeiros ': [\"'Descrição e análise das línguas indo-europeias'\"],\n",
       "  'Elaine Bicudo Grolla ': [\"'Estudos dos processos de aquisição e aprendizagem de línguas'\"],\n",
       "  'Esmeralda Vailati Negrão ': [\"'Descrição de Línguas não indo-europeias'\",\n",
       "   \"'Estudo do uso, da variação, do contato e da mudança linguística'\",\n",
       "   \"'A sintaxe gerativa do português brasileiro'\",\n",
       "   \"'Estudos de Princípios e Parâmetros Linguísticos'\"],\n",
       "  'Evani de Carvalho Viotti ': [\"'Descrição de línguas não indo-europeias'\",\n",
       "   \"'Estudos do uso, da variação, do contato e da mudança linguística'\"],\n",
       "  'Felipe Venâncio Barbosa ': [\"'Surdez'\",\n",
       "   \"'Linguagem'\",\n",
       "   \"'Produção atípica das línguas de sinais'\",\n",
       "   \"'Linguagem e Cognição'\",\n",
       "   \"'Descrição da Língua de Sinais Brasileira'\",\n",
       "   ' '],\n",
       "  'Ivã Carlos Lopes ': [\"'Teoria e análise linguística'\", ' '],\n",
       "  'Jairo Morais Nunes ': [\"'Estudo das Estruturas Gramaticais nas Línguas Naturais'\",\n",
       "   \"'Estudo de princípios e parâmetros linguísticos'\",\n",
       "   \"'Descrição e análise das línguas indo-europeias'\",\n",
       "   \"'Estudo dos processos de aquisição e aprendizagem de línguas'\",\n",
       "   ' '],\n",
       "  'Luciana Raccanello Storto ': [\"'Estrutura Argumental'\",\n",
       "   \"'Teoria de Traços'\",\n",
       "   \"'Descrição e Análise de Línguas Indígenas'\",\n",
       "   \"'Teoria da gramática'\",\n",
       "   \"'Linguística Histórica'\",\n",
       "   ' '],\n",
       "  'Marcello Modesto dos Santos ': [\"'Processamento de Língua Natural'\",\n",
       "   \"'A linguística e sua interface com outras ciências, teóricas e aplicadas'\",\n",
       "   \"'Estudo de princípios e parâmetros linguísticos'\",\n",
       "   \"'A linguística e sua interface com outras ciências, teóricas e aplicadas'\",\n",
       "   ' '],\n",
       "  'Marcelo Barra Ferreira ': [\"'Descrição e Análise das Línguas Indo-europeias'\",\n",
       "   \"'Processamento Computacional de Linguagem Natural'\"],\n",
       "  'Marcos Fernando Lopes ': [\"'Linguística Computacional'\",\n",
       "   \"'Semântica'\",\n",
       "   ' '],\n",
       "  'Olga Ferreira Coelho Sansone ': [\"'Historiografia e documentação das teorias, descrições e análises linguísticas'\"],\n",
       "  'Paulo Chagas de Souza ': [\"'A Mudança Linguística e a Palavra'\",\n",
       "   \"'A Gramática da Palavra'\",\n",
       "   ' '],\n",
       "  'Raquel Santana Santos ': [\"'Estudos dos processos de aquisição e aprendizagem de línguas'\",\n",
       "   \"'Descrição e Análise de línguas indo-europeias'\",\n",
       "   \"'Estudo de princípios e parâmetros linguísticos'\",\n",
       "   \"'Análise dos sistemas fonético e fonológico'\"],\n",
       "  'Ronald Beline Mendes ': [\"'Sociolinguística Variacionista Quantitativa'\"],\n",
       "  'Thomas Daniel Finbow ': [\"'Descrição e análise das línguas não indo-europeias'\",\n",
       "   \"'Estudo do uso, da variação, do contato e da mudança linguística'\"],\n",
       "  'Waldir Beividas ': [\"'Fundamentos Históricos e Teóricos da Psicanálise'\",\n",
       "   \"'A linguística e sua interface com outras ciências'\",\n",
       "   \"'Análise dos discursos e dos textos verbais expressos na modalidade oral e escrita, e dos textos não verbais'\",\n",
       "   \"'Análise de textos verbais e não verbais'\"]},\n",
       " 'DEPARTAMENTO DE SOCIOLOGIA': {'Alexandre Braga Massella ': [\"'Metodologia das Ciências Sociais'\",\n",
       "   \"'Teoria social'\",\n",
       "   \"'Sociologia: teoria e história'\"],\n",
       "  'Alvaro Augusto Comin ': [\"'Sociologia do Desenvolvimento'\",\n",
       "   \"'Mercado de trabalho'\",\n",
       "   \"'Trabalho Digital'\",\n",
       "   \"'Mercado, trabalho e oportunidades (INCT/CEM)'\",\n",
       "   \"'Economia, trabalho e sociedade' \",\n",
       "   \"'Estado, política e ações coletivas'\"],\n",
       "  'Ana Paula Belém Hey ': [\"'Formação de quadros dirigentes'\",\n",
       "   \"'Circulação Internacional de Universitários'\",\n",
       "   \"'Elites acadêmicas'\",\n",
       "   \"'Campo do poder brasileiro'\",\n",
       "   \"'Sociologia das Elites'\",\n",
       "   \"'Sociologia da Educação'\",\n",
       "   \"'Políticas Educacionais'\",\n",
       "   \"'Educação e Cultura'\",\n",
       "   \"'Sociologia do Poder'\",\n",
       "   \"'Campo Acadêmico Brasileiro'\",\n",
       "   \"'Elites no Brasil'\",\n",
       "   \"'Cultura e poder simbólico'\",\n",
       "   \"'Estado, política e ações coletivas'\"],\n",
       "  'André Vereta Nahoum ': [\"'Crises as modes of constitution and government of markets: what do crises produce?'\",\n",
       "   \"'Sociology of Markets - valuation as a problem of market orders'\",\n",
       "   \"'Commodification of cultures: the traffic of cultural representations of the Yawanawa'\",\n",
       "   \"'Identidades em fluxo nos circuitos de comércio popular da metrópole: comerciantes na Feira da Madrugada'\",\n",
       "   \"'Economia, trabalho e sociedade' \",\n",
       "   \"'Sociologia: teoria e história'\"],\n",
       "  'Angela Maria Alonso ': [\"'Movimentos intelectuais, políticos e sociais'\",\n",
       "   \"'Cultura e Ação Política'\",\n",
       "   \"'Estado, política e ações coletivas'\"],\n",
       "  'Bianca Stella Pinheiro de Freire-Medeiros ': [\"'Arte, Cultura e Poder (Grupo de Pesquisa do CNPq)'\",\n",
       "   \"'Livro Didático de Sociologia para o Ensino Médio: TEMPOS MODERNOS, TEMPOS DE SOCIOLOGIA'\",\n",
       "   \"'História do Turismo no Rio de Janeiro (Gupo de Pesquisa do CNPq)'\",\n",
       "   \"'MOBILIDADES: Teorias, Temas e Métodos (MTTM)'\",\n",
       "   \"'UrbanData-Brasil: Banco de dados bibliográficos sobre o Brasil urbano'\",\n",
       "   \"'Cidades: interações, desigualdades e (i)mobilidades socioespaciais'\"],\n",
       "  'Bruna Gisi Martins de Almeida ': [\"'Elites Políticas'\",\n",
       "   \"'Violência, direitos e cidadania'\"],\n",
       "  'Edison Ricardo Emiliano Bertoncelo ': [\"'Dinâmicas de classe, raça, gênero e geração'\"],\n",
       "  'Fernando Antonio Pinheiro Filho ': [\"'Sociologia da Cultura'\",\n",
       "   \"'História social dos intelectuais Latino-americanos'\",\n",
       "   \"'Teoria Sociológica'\",\n",
       "   \"'Cultura e poder simbólico' \",\n",
       "   \"'Sociologia: teoria e história'\"],\n",
       "  'Fraya Frehse ': [\"'Sociologia do espaço e do tempo'\",\n",
       "   \"'A produção corporal do espaço urbano na São Paulo do século XXI'\",\n",
       "   \"'Spatial Methods for Urban Sustainability'\",\n",
       "   \"'Sociologia Espaço-Temporalmente Enraizada (SETE)'\",\n",
       "   \"'Sociologia do Espaço e do Tempo'\",\n",
       "   \"'Sociologia da Cidade, do Espaço e da Vida Cotidiana'\",\n",
       "   \"'Sociologia do Espaço'\",\n",
       "   \"'Sustentabilidade em Espaços Públicos Urbanos'\",\n",
       "   \"'Sociologia: teoria e história'\",\n",
       "   \"'Cidades: interações, desigualdades e (i)mobilidades socioespaciais'\"],\n",
       "  'Glauco Antonio Truzzi Arbix ': [\"'Políticas Públicas de Inovação'\",\n",
       "   \"'Ergonomia'\",\n",
       "   \"'Competição Interestadual e Desenvolvimento Regional'\",\n",
       "   \"'Dinâmicas de Inovação e Instituições Transnacionais'\",\n",
       "   \"'Sociologia dos Processos Políticos e das Instituições Públicas'\",\n",
       "   \"'Inovação, Tecnologia e Competitividade'\",\n",
       "   \"'Estratégias Transnacionais no Mercosul'\",\n",
       "   \"'Trabalho e Reestruturação Produtiva'\",\n",
       "   \"'Inovações, Padrões Tecnológicos e Desempenho das Firmas Brasileiras'\",\n",
       "   \"'Economia, trabalho e sociedade' \",\n",
       "   \"'Estado, política e ações coletivas'\"],\n",
       "  'Laurindo Dias Minhoto ': [\"'Direito Sanitário: advogue-saúde'\",\n",
       "   \"'Direito Sanitário: responsabilidade pela saúde'\",\n",
       "   \"'Direito Sanitário: sistema legal de saúde'\",\n",
       "   \"'Produção de espaço, forma de controle e conflito urbano'\",\n",
       "   \"'Direito à Saúde e Democracia Sanitária'\",\n",
       "   \"'Violência, direitos e cidadania' \",\n",
       "   \"'Sociologia: teoria e história'\"],\n",
       "  'Leonardo Gomes Mello e Silva ': [\"'Economia, trabalho e sociedade'\"],\n",
       "  'Leopoldo Garcia Pinto Waizbort ': [\"'Sociologia da cultura'\",\n",
       "   \"'História da arte'\",\n",
       "   \"'Crítica de arte'\",\n",
       "   \"'Etnologia indígena'\",\n",
       "   \"'Cultura material'\",\n",
       "   \"'Teoria sociológica'\",\n",
       "   \"'Sociologia da cultura'  \",\n",
       "   \"'Sociologia da literatura'\",\n",
       "   \"'Antropologia histórica'\",\n",
       "   \"'Mimese'\",\n",
       "   \"'Música'\",\n",
       "   \"'Literatura e sociedade'\",\n",
       "   \"'Sociologia da cultura'\",\n",
       "   \"'Cultura e poder simbólico'\",\n",
       "   \"'Sociologia: teoria e história'\"],\n",
       "  'Luiz Carlos Jackson ': [\"'Cultura e poder simbólico' \",\n",
       "   \"'Sociologia: teoria e história'\"],\n",
       "  'Marcia Regina de Lima Silva ': [\"'População e Sociedade'\",\n",
       "   \"'Identidades, diferença, distinção e desigualdade'\",\n",
       "   \"'Desigualdade, Condições Sociais e Políticas Públicas no Brasil contemporâneo'\",\n",
       "   \"'Mercado, Trabalho e oportunidades  (INCT/CEM)'\",\n",
       "   \"'Dinâmicas de classe, raça, gênero e geração'\"],\n",
       "  'Marcos Cesar Alvarez ': [\"'Sociedade, cultura e Estado'\",\n",
       "   \"'Pensamento político e social brasileiro'\",\n",
       "   \"'Processos políticos e instituições públicas: violência, direitos e cidadania'\"],\n",
       "  'Maria Arminda do Nascimento Arruda ': [\"'Cultura, Simbolização e Representações Sociais'\",\n",
       "   \"'Teoria e metodologia em Sociologia'\",\n",
       "   \"'Sociologia'\"],\n",
       "  'Murillo Marschner Alves de Brito ': [\"'Educação, Relações Sociais e Construção Democrática'\",\n",
       "   \"'Dinâmicas de classe, raça, gênero e geração'\",\n",
       "   \"'Estado, política e ações coletivas'\"],\n",
       "  'Paula Regina Pereira Marcelino ': [\"'Sociologia: teoria e história'\",\n",
       "   \"'Dinâmicas de classe, raça, gênero e geração' \",\n",
       "   \"'Economia, trabalho e sociedade'\"],\n",
       "  'Ricardo Mariano ': [\"'Sociologia da religião'\",\n",
       "   \"'Sociologia dos meios de comunicação'\",\n",
       "   \"'Sociologia política'\",\n",
       "   \"'Estado, política e ações coletivas'\"],\n",
       "  'Ricardo Musse ': [\"'Cultura e poder simbólico' \",\n",
       "   \"'Sociologia: teoria e história'\"],\n",
       "  'Ruy Gomes Braga Neto ': [\"'Classes, Conflito e Movimentos Sociais'\",\n",
       "   \"'Economia, trabalho e sociedade'\"],\n",
       "  'Sylvia Gemignani Garcia ': [\"'A transição para a democracia: análise estrutural e conjunturas políticas'\",\n",
       "   \"'Inventário da vida política brasileira: 1964-1985'\",\n",
       "   \"'Retrato da USP aos 50 anos'\",\n",
       "   \"'Censo dos Estudantes de Ciências Sociais da USP 2016'\",\n",
       "   \"'Juventude universitária e participação política: o caso da greve estudantil da FFLCH em 2002'\",\n",
       "   \"'Entre a universidade e o mercado de trabalho: formação, emprego e carreira entre profissionais de P&D em empresas de São Paulo'\",\n",
       "   \"'A formação de Florestan Fernandes e a constituição da sociologia no Brasil'\",\n",
       "   \"'Disputas institucionais e a expansão do ensino superior no Brasil contemporâneo: educação, trabalho e conhecimento'\",\n",
       "   \"'Estado, política e ações coletivas'\",\n",
       "   \"'Cultura e poder simbólico'\"]},\n",
       " 'DEPARTAMENTO DE TEORIA LITERÁRIA E LITERATURA COMPARADA': {'Ana Paula Sá e Souza Pacheco ': [\"'Literatura e sociedade'\",\n",
       "   \"'Literatura e outras artes'\"],\n",
       "  'Anderson Gonçalves da Silva ': [\"'Literatura e sociedade'\",\n",
       "   \"'Estética teoria do drama e dramaturgia moderna'\"],\n",
       "  'Andrea Saad Hossne ': [\"'Membro suplente do Comitê de Ética em Pesquisa com Seres Humanos (CEPH - FFLCH)'\",\n",
       "   \"'Literatura e Sociedade' \",\n",
       "   \"'Formas e Gêneros Literários' \",\n",
       "   \"'Estudos Comparatistas da Literatura'\"],\n",
       "  'Ariovaldo José Vidal ': [\"'Teoria dos gêneros: prosa moderna no Brasil',\",\n",
       "   \"'Teoria literária'\",\n",
       "   \"'Teoria da narrativa'\"],\n",
       "  'Betina Bischof ': [\"'Literatura Comparada (Literatura e outras artes)'\",\n",
       "   \"'Teoria dos gêneros literários'\",\n",
       "   \"'Lírica moderna'\",\n",
       "   \"'Literatura e sociedade'\"],\n",
       "  'Cláudia Maria de Vasconcellos ': [\"'Literatura comparada'\",\n",
       "   \"'Literatura dramática'\",\n",
       "   \"'Literatura e outros saberes'\"],\n",
       "  'Edu Teruki Otsuka ': [\"'Crítica e História Literária'\",\n",
       "   \"'Literatura e Sociedade'\"],\n",
       "  'Fabio Rigatto de Souza Andrade ': [\"'Teoria Literária'\",\n",
       "   \"'Literaturas Estrangeiras Modernas'\",\n",
       "   \"'Literatura Brasileira Moderna'\",\n",
       "   \"'Teoria Literária'\",\n",
       "   \"'Poesia Brasileira Moderna'\",\n",
       "   \"'Formas e gêneros literários'\",\n",
       "   \"'Literatura e sociedade'\",\n",
       "   \"'Narrativa e teatro contemporâneo'\"],\n",
       "  'Jorge Mattos Brito de Almeida ': [\"'Formas e gêneros literários'\",\n",
       "   \"'Correntes teóricas e críticas'\",\n",
       "   \"'Literatura comparada'\",\n",
       "   \"'Estética'\"],\n",
       "  'Julio Augusto Xavier Galharte': [],\n",
       "  'Marcelo Pen Parreira ': [\"'Estudos Comparatistas de Literatura'\",\n",
       "   \"'Literatura e Sociedade'\",\n",
       "   \"'Literatura anglo-americana'\",\n",
       "   \"'Realismo'\"],\n",
       "  'Marcos Piason Natali ': [\"'Narrativa latino-americana contemporânea'\",\n",
       "   \"'Literatura e ética'\",\n",
       "   \"'Desconstrução'\",\n",
       "   \"'Literatura comparada'\",\n",
       "   \"'Teoria pós-colonial'\",\n",
       "   \"'Teorias críticas da raça'\",\n",
       "   \"'Estudos comparatistas da literatura'\",\n",
       "   \"'Literatura e outros saberes'\"],\n",
       "  'Marcus Vinicius Mazzari ': [\"'Estudos comparatistas da literatura'\",\n",
       "   \"'Literatura e sociedade'\"],\n",
       "  'Marta Kawano ': [\"'Literatura comparada' \",\n",
       "   \"'Formas e gêneros literário' \",\n",
       "   \"'Literatura e outras artes' 'Crítica literária'\",\n",
       "   \"'Romantismo (história)'\"],\n",
       "  'Roberto Zular ': [\"'Poesia moderna e contemporânea'\", \"'Crítica genética'\"],\n",
       "  'Samuel de Vasconcelos Titan Junior ': [\"'Literatura e sociedade'\",\n",
       "   \"'Teoria dos gêneros'\",\n",
       "   \"'Tradução literária'\"],\n",
       "  'Viviana Bosi ': [\"'Poesia norte-americana contemporânea',\",\n",
       "   \"'Literatura e Sociedade - Poesia brasileira à volta dos anos 1960 e 70'\"]},\n",
       " 'DEPARTAMENTO DE GEOGRAFIA': {'Alfredo Pereira de Queiroz Filho ': [\"'Representação e análise espaço-temporal'\",\n",
       "   \"'Representação, análise espacial e modelos'\"],\n",
       "  'Andre Roberto Martin ': [\"'Geografia das Fronteiras'\",\n",
       "   \"'Pensamento Geopolítico Brasileiro'\",\n",
       "   \"'Federalismo e Regionalismo Político no Brasil'\",\n",
       "   \"'Geopolítica do Poder Mundial'\",\n",
       "   \"'Integração Regional Latino-americana'\",\n",
       "   \"'Expressões Territoriais Contemporâneas'\",\n",
       "   \"'Geografia Brasileira: História e Política'\"],\n",
       "  'Andreas Attila de Wolinsk Miklos ': [\"'Funcionamento biodinâmico da paisagem'\",\n",
       "   \"'Funcionamento hidrobiogeoquímico de bacias hidrográficas'\",\n",
       "   \"'Agroecologia'\",\n",
       "   \"'Agricultura sustentável, ecológica e orgânica'\",\n",
       "   \"'Pedologia, Pedobiologia e Análise estrutural da Cobertura Pedológica'\",\n",
       "   \"'Agricultura Biodinâmica'\",\n",
       "   \"'Percepção da Paisagem, Fenomelogia de Goethe e Antroposofia'\"],\n",
       "  'Anselmo Alfredo ': [\"'Modernização e Industrialização Brasileira: estudos e debates na Geografia'\",\n",
       "   \"'A Questão Agrária no Brasil'\",\n",
       "   \"'Espaço Tempo e Vida Cotidiana no Urbano'\"],\n",
       "  'Bianca Carvalho Vieira ': [\"'Diagnóstico e avaliação dos impactos ambientais causados por diferentes tipos de uso do solo no município de Ourinhos (SP): uma ferramenta para planejamento territorial.'\",\n",
       "   \"'Avaliação da suscetibilidade a escorregamentos translacionais rasos na Serra do Mar (SP) a partir da aplicação de modelos matemáticos de previsão.'\"],\n",
       "  'Carlos de Almeida Toledo': [\"'Território'\",\n",
       "   \"'Região e Estado nacional'\",\n",
       "   \"'Migrações'\",\n",
       "   \"'Mobilidade do Trabalho'\",\n",
       "   \"'Crítica da Economia Política' \",\n",
       "   \"'Imperialismo' \"],\n",
       "  \"Cleide Rodrigues' \": [\"'Geomorfologia'\",\n",
       "   \"'Geomorfologia Aplicada'\",\n",
       "   \"'Hidrogeografia'\",\n",
       "   \"'Geomorfologia Fluvial'\"],\n",
       "  'César Ricardo Simoni Santos ': [\"'GESP - Grupo de Geografia Urbana Crítica Radical'\",\n",
       "   \"'Grupo de Teoria Urbana Crítica do IEA'\",\n",
       "   \"'Coordenação do Grupo LIMIARES - Limites da Acumulação e Reprodução do Espaço'\"],\n",
       "  'Déborah de Oliveira ': [\"'Educação em solos na educação básica.'\",\n",
       "   \"'As capturas fluviais e sua relação com os solos.'\"],\n",
       "  'Eduardo Donizeti Girotto ': [\"'Ensino de Geografia e Formação Docente'\",\n",
       "   \"'A relação entre a Geografia escolar e acadêmica em três períodos da história da geografia no Brasil'\",\n",
       "   \"'Atlas da Educação Pública do Estado de São Paulo'\"],\n",
       "  'Elvio Rodrigues Martins ': [\"'Epistemologia e História do Pensamento Geográfico'\",\n",
       "   \"'Geografia  Urbana e Regional'\",\n",
       "   \"'Ontologia em Geografia e seus Fundamentos Empíricos'\"],\n",
       "  'Emerson Galvani ': [\"'Climatologia Geográfica'\",\n",
       "   \"'Microclimatologia'\",\n",
       "   \"'Climatologia'\",\n",
       "   \"'Bioclimatologia'\"],\n",
       "  'Fabio Betioli Contel ': [\"'Geografia econômica'\",\n",
       "   \"'Geografia das finanças'\",\n",
       "   \"'Geografia Regional'\",\n",
       "   \"'Geografia Urbana'\"],\n",
       "  'Fernanda Padovesi Fonseca ': [\"'Cartografia'\",\n",
       "   \"'Cartografia histórica'\",\n",
       "   \"'Ensino de Cartografia'\",\n",
       "   \"'Ensino de Geografia'\"],\n",
       "  'Fernando Nadal Junqueira Villela ': [\"'Instrumentos de Investigação do Meio Físico'\",\n",
       "   \"'Análise Geomorfológica'\",\n",
       "   \"'Análise Morfopedológica'\",\n",
       "   \"'Análise de Bacias Hidrográficas'\",\n",
       "   \"'Análise da Relação Rocha/Solo/Relevo'\",\n",
       "   \"'Análise da Relação Solo/Vegetação'\"],\n",
       "  'Fernando Shinji Kawakubo ': [\"'Sensoriamento remoto'\",\n",
       "   \"'Sistema de Informação Geográfica (SIG)'\",\n",
       "   \"'Uso da terra/cobertura vegetal'\",\n",
       "   \"'Análise de mistura espectral'\",\n",
       "   \"'Floresta aleatória'\",\n",
       "   \"'Classificação de imagens e superfícies impermeáveis'\"],\n",
       "  'Julio Cesar Suzuki ': [\"'Teoria e Método em Geografia'\",\n",
       "   \"'Agricultura e Urbanização na América Latina'\",\n",
       "   \"'Espaço, Literatura e Arte'\",\n",
       "   \"'Populações Tradicionais na América Latina'\"],\n",
       "  'Larissa Mies Bombardi ': [\"'Geografia Agrária'\"],\n",
       "  'Lea Francesconi ': [\"'Território, economia e dinâmicas regionais'\",\n",
       "   \"'Geografia, educação e ensino'\"],\n",
       "  'Ligia Vizeu Barrozo ': [\"'Paisagem e planejamento ambiental - Ambiente e Saúde'\",\n",
       "   \"'Informação geográfica: Tratamento, representação e análise - Geocartografia: Temas e Métodos'\"],\n",
       "  'Luis Antonio Bittar Venturi ': [\"'Linha Geral - Paisagem e Planejamento Ambiental'\",\n",
       "   \"'Geografia Física'\"],\n",
       "  'Manoel Fernandes de Sousa Neto ': [\"'Geografia do Brasil'\",\n",
       "   \"'Geografia Histórica do Capitalismo'\",\n",
       "   \"'História da Cartografia'\",\n",
       "   \"'Ensino de Geografia'\"],\n",
       "  'Maria Elisa Siqueira Silva ': [\"'Modelagem biosfera-atmosfera' \",\n",
       "   \"'Impacto atmosférico' \",\n",
       "   \"'Alteração da superfície'\"],\n",
       "  'Maria Mónica Arroyo ': [\"'O comércio internacional na redefinição dos usos do território brasileiro: fragmentação e vulnerabilidade territorial'\",\n",
       "   \"'Usos do território brasileiro e mercado externo'\",\n",
       "   \"'Globalização'\",\n",
       "   \"'Regionalização' \",\n",
       "   \"'América Latina' \",\n",
       "   \"'Mercosul'\",\n",
       "   \"'Fronteiras'  \"],\n",
       "  'Marta Inez Medeiros Marques ': [\"'Desenvolvimento Geográfico Desigual do Capitalismo no Campo: novas formas de expansão do capital, resistência camponesa, movimentos sociais e experiências alternativas',\",\n",
       "   \"'Desenvolvimento Geográfico Desigual do Capitalismo e Cotidiano: formas de trabalho e reprodução social dos trabalhadores no campo e na cidade'\"],\n",
       "  'Paula Cristiane Strina Juliasz ': [\"'Geografia, Educação e Ensino'\",\n",
       "   \"'Geografia Humana'\"],\n",
       "  'Reinaldo Paul Pérez Machado ': [\"'Cartografia de Fenômenos Cársicos'\",\n",
       "   \"'Cartografia, Geoprocessamento, Imagens e Representações do Espaço Geográfico'\"],\n",
       "  'Ricardo Augusto Felicio ': [\"'Climatologia Geográfica'\",\n",
       "   \"'Antártida'\",\n",
       "   \"'Meteorologia e ciclones extratropicais que atuam no Brasil e no cinturão polar'\"],\n",
       "  'Ricardo Mendes Antas Junior ': [\"'Planejamento territorial brasileiro: o poder soberano e a ação corporativa transnacional'\",\n",
       "   \"'Reestruturação urbana e refuncionalizações do espaço: o complexo industrial da saúde no Estado de São Paulo e suas relações com a urbanização contemporânea'\",\n",
       "   \"'O espaço geográfico como fonte material e não-formal do direito'\",\n",
       "   \"'A presença do complexo industrial da saúde na região metropolitana de São Paulo: uma análise por meio dos circuitos espaciais produtivos da saúde'\",\n",
       "   \"'Formação socioespacial, circuitos espaciais produtivos e a regulação híbrida do complexo industrial da saúde no Brasil'\"],\n",
       "  'Rita de Cassia Ariza da Cruz ': [\"'Território, Economia e Dinâmicas Regionais'\"],\n",
       "  'Rodrigo Ramos Hospodar Felippe Valverde ': [\"'Espaço público'\",\n",
       "   \"'Territorialidades'\",\n",
       "   \"'Indústrias culturais'\",\n",
       "   \"'Heterotopia'\",\n",
       "   \"'Guerra cultural'\"],\n",
       "  'Rubia Gomes Morato ': [\"'Geoprocessamento aplicado à Avaliação Sócio-Econômica'\",\n",
       "   \"'Qualidade Ambiental em Áreas Urbanas'\",\n",
       "   \"'Cartografia Temática para a Caracterização Sócio-Econômica e Ambiental'\",\n",
       "   \"'Quantificação em Geografia'\",\n",
       "   \"'Obtenção de Índices de Qualidade Ambiental Urbana'\",\n",
       "   \"'Sensoriamento Remoto'\",\n",
       "   \"'Cartografia'\",\n",
       "   \"'Geoprocessamento'\"],\n",
       "  'Sidneide Manfredini ': [\"'Dinâmica das relações solo-planta atmosfera'\",\n",
       "   \"'Grupo de Trabalho ( USP/UNICAMP/ Laboratório de Geologia do Quaternário, CNRS, França) para definição de diretrizes científicas de programas de pesquisa sobre o quaternário'\",\n",
       "   \"'Solos Urbanos: Funcionalidades e manejo'\",\n",
       "   \"'Sistemas agrícolas e desenvolvimento sócio ambiental'\"],\n",
       "  'Simone Scifoni ': [\"'Pesquisadora do Gesp - Grupo de Geografia Urbana Crítica Radical. Coordenadora do Gesp: Profa. Ana Fani Alessandri Carlos. Site do Grupo:.'\",\n",
       "   \"'Lugares de memória operária na metrópole de São Paulo'\",\n",
       "   \"'Território do Interesse da Cultura e da paisagem (TICP) - Políticas culturais'\",\n",
       "   \"'Educação patrimonial'\"],\n",
       "  'Sueli Angelo Furlan ': [\"'Paisagem e planejamento ambiental'\",\n",
       "   \"'Paisagem e territorialidades - perspectivas socioambientais no Brasil'\",\n",
       "   \"'Novas Territorialidades da Conservação Ambiental'\"],\n",
       "  'Tarik Rezende de Azevedo ': [\"'Climatologia Urbana em Áreas Tropicais'\",\n",
       "   \"'Recomposição de Bancos de Dados Digitais em Climatologia'\",\n",
       "   \"'Conforto ambiental e saúde'\"],\n",
       "  'Valeria de Marcos ': [\"'Produção camponesa em áreas de assentamentos rurais'\",\n",
       "   \"'Alternativas para a produção agrícola camponesa na ótica do desenvolvimento local auto-sustentável'\",\n",
       "   \"'Produção coletiva, comunitária e outras formas de cooperação no campo'\",\n",
       "   \"'Questão agrária no Brasil'\",\n",
       "   \"'Geografia e Anarquismo'\",\n",
       "   \"'Questão agrária no Brasil'\",\n",
       "   \"'Formas alternativas de organização da produção e da vida camponesa'\",\n",
       "   \"'Comunidades Tradicionais'\",\n",
       "   \"'O ensino de Geografia Agrária em escolas da rede pública'\",\n",
       "   \"'Educação Quilombola'\",\n",
       "   \"'Educação Diferenciada de Geografia (educação do campo, indígena e quilombola)'\"],\n",
       "  'Wagner Costa Ribeiro ': [\"'Segurança e gestão de águas transfronteiriças'\",\n",
       "   \"'Ordem ambiental internacional'\",\n",
       "   \"'Políticas públicas ambientais'\",\n",
       "   \"'Mudanças climáticas'\"],\n",
       "  'Yuri Tavares Rocha ': [\"'Paisagismo'\",\n",
       "   \"'Jardim botânico'\",\n",
       "   \"'Unidades de paisagem'\",\n",
       "   \"'Pau-brasil'\",\n",
       "   \"'Biogeografia'\",\n",
       "   \"'Paisagem e Planejamento'\"]}}"
      ]
     },
     "execution_count": 93,
     "metadata": {},
     "output_type": "execute_result"
    }
   ],
   "source": [
    "items"
   ]
  }
 ],
 "metadata": {
  "kernelspec": {
   "display_name": "Python 3 (ipykernel)",
   "language": "python",
   "name": "python3"
  },
  "language_info": {
   "codemirror_mode": {
    "name": "ipython",
    "version": 3
   },
   "file_extension": ".py",
   "mimetype": "text/x-python",
   "name": "python",
   "nbconvert_exporter": "python",
   "pygments_lexer": "ipython3",
   "version": "3.8.10"
  }
 },
 "nbformat": 4,
 "nbformat_minor": 5
}
